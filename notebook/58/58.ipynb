{
 "cells": [
  {
   "cell_type": "markdown",
   "metadata": {},
   "source": [
    "# Train classification"
   ]
  },
  {
   "cell_type": "markdown",
   "metadata": {},
   "source": [
    "Most sharing code train this dataset as a regression task.\n",
    "\n",
    "But in this code, I train as a classification task.\n",
    "\n",
    "I encode the target value pressure to 950 classes and calculate CrossEntropy Loss."
   ]
  },
  {
   "cell_type": "code",
   "execution_count": 1,
   "metadata": {},
   "outputs": [
    {
     "data": {
      "text/html": [
       "<style>.container { width:100% !important; }</style>"
      ],
      "text/plain": [
       "<IPython.core.display.HTML object>"
      ]
     },
     "metadata": {},
     "output_type": "display_data"
    }
   ],
   "source": [
    "from IPython.core.display import display, HTML \n",
    "display(HTML(\"<style>.container { width:100% !important; }</style>\")) "
   ]
  },
  {
   "cell_type": "code",
   "execution_count": 2,
   "metadata": {
    "tags": []
   },
   "outputs": [],
   "source": [
    "import gc\n",
    "import os\n",
    "import sys\n",
    "import copy\n",
    "import random\n",
    "import wandb\n",
    "import math\n",
    "from pathlib import Path\n",
    "from collections import OrderedDict\n",
    "\n",
    "import numpy as np\n",
    "import pandas as pd\n",
    "import scipy.signal\n",
    "from scipy import signal\n",
    "\n",
    "from sklearn.model_selection import GroupKFold\n",
    "from tqdm.notebook import tqdm\n",
    "\n",
    "import torch\n",
    "import torch.nn as nn\n",
    "import torch.optim as optim\n",
    "from torch.nn import functional as F\n",
    "from torch.utils.data import Dataset, DataLoader\n",
    "\n",
    "from transformers import AdamW\n",
    "from transformers import get_cosine_schedule_with_warmup\n",
    "from sklearn.preprocessing import RobustScaler\n",
    "\n",
    "import pytorch_lightning as pl\n",
    "from pytorch_lightning.callbacks import ModelCheckpoint\n",
    "from pytorch_lightning.callbacks import EarlyStopping\n",
    "from pytorch_lightning.loggers import WandbLogger\n",
    "\n",
    "device = torch.device(\"cuda\")"
   ]
  },
  {
   "cell_type": "code",
   "execution_count": 3,
   "metadata": {},
   "outputs": [],
   "source": [
    "sys.path.append('../../src/')\n",
    "import utils as utils\n",
    "from utils import Timer"
   ]
  },
  {
   "cell_type": "code",
   "execution_count": 4,
   "metadata": {
    "tags": []
   },
   "outputs": [],
   "source": [
    "class CFG:\n",
    "    exp_num = 58\n",
    "    n_folds = 5\n",
    "    folds = [0]\n",
    "    seed = 777\n",
    "    local = True\n",
    "    \n",
    "    lr = 0.0015\n",
    "    epochs = 50\n",
    "    emb_dim = 64\n",
    "    hidden_dim = 256\n",
    "    weight_decay = 0.1  \n",
    "    \n",
    "    ######################\n",
    "    # Loaders #\n",
    "    ######################\n",
    "    loader_params = {\n",
    "        \"train\": {\n",
    "            'batch_size': 128,\n",
    "            'shuffle': True,\n",
    "            'num_workers': 8,\n",
    "            'pin_memory': True,\n",
    "            'drop_last': True,\n",
    "        },\n",
    "        \"valid\": {\n",
    "            'batch_size': 32,\n",
    "            'shuffle': False,\n",
    "            'num_workers': 8,\n",
    "            'pin_memory': True,\n",
    "            'drop_last': False,\n",
    "        },\n",
    "        \"test\": {\n",
    "            'batch_size': 32,\n",
    "            'shuffle': False,\n",
    "            'num_workers': 8,\n",
    "            'pin_memory': True,\n",
    "            'drop_last': False,\n",
    "        }\n",
    "    }\n"
   ]
  },
  {
   "cell_type": "code",
   "execution_count": 5,
   "metadata": {
    "tags": []
   },
   "outputs": [],
   "source": [
    "utils.set_seed(CFG.seed)    "
   ]
  },
  {
   "cell_type": "code",
   "execution_count": 6,
   "metadata": {},
   "outputs": [],
   "source": [
    "if CFG.local:\n",
    "    DATA_DIR = Path(\"/home/knikaido/work/Ventilator-Pressure-Prediction/data/ventilator-pressure-prediction\")\n",
    "    OUTPUT_DIR = Path('./output/')\n",
    "else:\n",
    "    DATA_DIR = Path(\"../input/ventilator-pressure-prediction\")\n",
    "    OUTPUT_DIR = Path('')   "
   ]
  },
  {
   "cell_type": "code",
   "execution_count": 7,
   "metadata": {},
   "outputs": [],
   "source": [
    "# def loss_fn(y_pred, y_true, u_outs):\n",
    "# #     loss = nn.L1Loss()(y_pred.reshape(-1), y_true.reshape(-1))\n",
    "#     w = 1 - u_outs.reshape(-1)\n",
    "#     loss = nn.CrossEntropyLoss(reduction = 'none')(y_pred.reshape(-1, 950), y_true.reshape(-1)).reshape(-1)\n",
    "#     loss = loss * w\n",
    "#     loss = loss.sum() / w.sum()\n",
    "#     return loss\n",
    "\n",
    "def loss_fn(y_pred, y_true, u_outs):\n",
    "    w_u = 1 - u_outs.reshape(-1)\n",
    "    criterion = nn.CrossEntropyLoss(reduction = 'none')\n",
    "\n",
    "    loss = criterion(y_pred.reshape(-1, 950), y_true.reshape(-1)).reshape(-1)\n",
    "    loss = loss * w_u\n",
    "    loss = loss.sum() / w_u.sum()\n",
    "\n",
    "    for lag, w in [(1, 0.4), (2, 0.2), (3, 0.1), (4, 0.1)]:\n",
    "        # negative lag loss\n",
    "        # if target < 0, target = 0\n",
    "        neg_lag_target = F.relu(y_true.reshape(-1) - lag)\n",
    "        neg_lag_target = neg_lag_target.long()\n",
    "        neg_lag_loss = criterion(y_pred.reshape(-1, 950), neg_lag_target.reshape(-1)).reshape(-1)\n",
    "        neg_lag_loss = neg_lag_loss * w_u\n",
    "        neg_lag_loss = neg_lag_loss.sum() / w_u.sum()\n",
    "\n",
    "        # positive lag loss\n",
    "        # if target > 949, target = 949\n",
    "        pos_lag_target = 949 - F.relu((949 - (y_true.reshape(-1) + lag)))\n",
    "        pos_lag_target = pos_lag_target.long()\n",
    "        pos_lag_loss = criterion(y_pred.reshape(-1, 950), pos_lag_target.reshape(-1)).reshape(-1)\n",
    "        pos_lag_loss = pos_lag_loss * w_u\n",
    "        pos_lag_loss = pos_lag_loss.sum() / w_u.sum()\n",
    "\n",
    "        loss += (neg_lag_loss + pos_lag_loss) * w\n",
    "\n",
    "    return loss\n",
    "\n",
    "def compute_metric(preds, trues, u_outs):\n",
    "    \"\"\"\n",
    "    Metric for the problem, as I understood it.\n",
    "    \"\"\"\n",
    "    \n",
    "    y = trues\n",
    "    w = 1 - u_outs\n",
    "    \n",
    "    assert y.shape == preds.shape and w.shape == y.shape, (y.shape, preds.shape, w.shape)\n",
    "    \n",
    "    mae = w * np.abs(y - preds)\n",
    "    mae = mae.sum() / w.sum()\n",
    "    \n",
    "    return mae\n",
    "\n",
    "def get_score(y_pred, y_true, u_outs):\n",
    "    return compute_metric(y_pred, y_true, u_outs)"
   ]
  },
  {
   "cell_type": "code",
   "execution_count": 8,
   "metadata": {
    "tags": []
   },
   "outputs": [],
   "source": [
    "class VentilatorDataset(Dataset):\n",
    "    \n",
    "    def __init__(self, df, train_value_col, train_category_col, label_dic=None):\n",
    "        self.dfs = [_df for _, _df in df.groupby(\"breath_id\")]\n",
    "        self.label_dic = label_dic\n",
    "        \n",
    "    def __len__(self):\n",
    "        return len(self.dfs)\n",
    "    \n",
    "    def __getitem__(self, item):\n",
    "        df = self.dfs[item]\n",
    "        X = df[train_category_col + train_value_col].values\n",
    "        u_out = df['u_out'].values\n",
    "        y = df['pressure'].values\n",
    "        if self.label_dic is None:\n",
    "            label = [-1]\n",
    "        else:\n",
    "            label = [self.label_dic[i] for i in y]\n",
    "\n",
    "        d = {\n",
    "            \"X\": torch.tensor(X).float(),\n",
    "            \"u_out\": torch.tensor(u_out).long(),\n",
    "            \"y\" : torch.tensor(label).long(),\n",
    "        }\n",
    "        return d"
   ]
  },
  {
   "cell_type": "code",
   "execution_count": 9,
   "metadata": {
    "tags": []
   },
   "outputs": [],
   "source": [
    "class VentilatorModel(nn.Module):\n",
    "    \n",
    "    def __init__(self, input_dim):\n",
    "        super(VentilatorModel, self).__init__()\n",
    "        self.rc_emb = nn.Embedding(9, 4, padding_idx=0)\n",
    "\n",
    "        self.seq_emb = nn.Sequential(\n",
    "            nn.Linear(4+input_dim, CFG.emb_dim),\n",
    "            nn.LayerNorm(CFG.emb_dim)\n",
    "        )\n",
    "        \n",
    "        self.lstm = nn.LSTM(CFG.emb_dim, CFG.hidden_dim, batch_first=True, bidirectional=True, dropout=0.1, num_layers=4)\n",
    "\n",
    "        self.head = nn.Sequential(\n",
    "            nn.Linear(CFG.hidden_dim * 2, CFG.hidden_dim * 2),\n",
    "            nn.LayerNorm(CFG.hidden_dim * 2),\n",
    "            nn.ReLU(),\n",
    "            nn.Linear(CFG.hidden_dim * 2, 950),\n",
    "        )\n",
    "        \n",
    "        # Encoder\n",
    "        initrange = 0.1\n",
    "        self.rc_emb.weight.data.uniform_(-initrange, initrange)\n",
    "        \n",
    "        # LSTM\n",
    "        for n, m in self.named_modules():\n",
    "            if isinstance(m, nn.LSTM):\n",
    "                print(f'init {m}')\n",
    "                for param in m.parameters():\n",
    "                    if len(param.shape) >= 2:\n",
    "                        nn.init.orthogonal_(param.data)\n",
    "                    else:\n",
    "                        nn.init.normal_(param.data)\n",
    "\n",
    "    def forward(self, X, y=None):\n",
    "        # embed\n",
    "        bs = X.shape[0]\n",
    "        rc_emb = self.rc_emb(X[:,:,0].long()).view(bs, 80, -1)\n",
    "\n",
    "        seq_x = torch.cat((rc_emb, X[:, :, 1:]), 2)\n",
    "        emb_x = self.seq_emb(seq_x)\n",
    "        \n",
    "        out, _ = self.lstm(emb_x, None) \n",
    "        logits = self.head(out)\n",
    "\n",
    "        return logits"
   ]
  },
  {
   "cell_type": "code",
   "execution_count": 10,
   "metadata": {},
   "outputs": [],
   "source": [
    "# Learner class(pytorch-lighting)\n",
    "class Learner(pl.LightningModule):\n",
    "    def __init__(self, model, num_train_steps, num_warmup_steps, target_dic_inv, unique_targets):\n",
    "        super().__init__()\n",
    "        self.model = model\n",
    "        self.criterion = loss_fn\n",
    "        self.num_train_steps = num_train_steps\n",
    "        self.num_warmup_steps = num_warmup_steps\n",
    "        self.target_dic_inv = target_dic_inv\n",
    "        self.unique_targets = unique_targets\n",
    "    \n",
    "    def training_step(self, batch, batch_idx):\n",
    "        d_ = batch\n",
    "        out = self.model(d_['X'])\n",
    "        loss = self.criterion(out, d_['y'], d_['u_out'])\n",
    "        \n",
    "        self.log(f'Loss/train', loss, on_step=False, on_epoch=True, prog_bar=False, logger=True)\n",
    "        sch = self.lr_schedulers()\n",
    "        sch.step()\n",
    "        return loss\n",
    "    \n",
    "    def validation_step(self, batch, batch_idx):\n",
    "        d_ = batch\n",
    "        out = self.model(d_['X'])\n",
    "        loss = self.criterion(out, d_['y'], d_['u_out'])\n",
    "        \n",
    "        self.log(f'Loss/val', loss, on_step=False, on_epoch=True, prog_bar=False, logger=True)\n",
    "        \n",
    "        pred = out.reshape(-1, 950).softmax(1)\n",
    "        pred = torch.sum(torch.tensor(self.unique_targets).to(device) *  pred, axis=1)\n",
    "        target = torch.tensor([[self.target_dic_inv[j.item()] for j in i] for i in d_['y']])\n",
    "        output = OrderedDict({\n",
    "            \"targets\": target.detach(), \"preds\": pred.detach(), \"u_outs\": d_['u_out'].detach(), \"loss\": loss.detach()\n",
    "        })\n",
    "        return output\n",
    "    \n",
    "    def validation_epoch_end(self, outputs):\n",
    "\n",
    "        targets = torch.cat([o[\"targets\"].view(-1) for o in outputs]).cpu().numpy()\n",
    "        preds = torch.cat([o[\"preds\"].view(-1) for o in outputs]).cpu().numpy()\n",
    "        u_outs = torch.cat([o[\"u_outs\"].view(-1) for o in outputs]).cpu().numpy()\n",
    "\n",
    "        score = get_score(preds, targets, u_outs)\n",
    "        self.log(f'custom_mae/val', score, on_step=False, on_epoch=True, prog_bar=True, logger=True)\n",
    "        print(f'epoch = {self.current_epoch}, custom_mae = {score}')\n",
    "\n",
    "    def configure_optimizers(self):\n",
    "#         optimizer = get_optimizer(self.model)\n",
    "#         scheduler = get_scheduler(optimizer)\n",
    "        optimizer = AdamW(self.model.parameters(), lr=CFG.lr, weight_decay=CFG.weight_decay)\n",
    "        scheduler = get_cosine_schedule_with_warmup(optimizer, \n",
    "                                                    num_warmup_steps=self.num_warmup_steps, \n",
    "                                                    num_training_steps=self.num_train_steps)\n",
    "\n",
    "        return {\"optimizer\": optimizer, \"lr_scheduler\": scheduler, \"monitor\": \"Loss/val\"}"
   ]
  },
  {
   "cell_type": "code",
   "execution_count": 11,
   "metadata": {
    "tags": []
   },
   "outputs": [],
   "source": [
    "def valid_loop(model, loader, target_dic_inv):\n",
    "    losses, predicts = [], []\n",
    "    model.eval()\n",
    "    for d in loader:\n",
    "        with torch.no_grad():\n",
    "            out = model(d['X'].to(device))\n",
    "            loss = loss_fn(out, d['y'].to(device), d['u_out'].to(device))\n",
    "        pred = out.reshape(-1, 950).softmax(1)\n",
    "        pred = torch.sum(torch.tensor(unique_targets).to(device) *  pred, axis=1)\n",
    "        losses.append(loss.item())\n",
    "        predicts.append(pred.cpu().numpy())\n",
    "\n",
    "    return np.array(losses).mean(), np.concatenate(predicts)\n",
    "\n",
    "def test_loop(model, loader, target_dic_inv):\n",
    "    predicts = []\n",
    "    model.eval()\n",
    "    for d in loader:\n",
    "        with torch.no_grad():\n",
    "            out = model(d['X'].to(device))\n",
    "        pred = out.reshape(-1, 950).softmax(1)\n",
    "        pred = torch.sum(torch.tensor(unique_targets).to(device) *  pred, axis=1)\n",
    "        predicts.append(pred.cpu().numpy())\n",
    "\n",
    "    return np.concatenate(predicts)"
   ]
  },
  {
   "cell_type": "code",
   "execution_count": null,
   "metadata": {},
   "outputs": [],
   "source": []
  },
  {
   "cell_type": "code",
   "execution_count": 12,
   "metadata": {},
   "outputs": [],
   "source": [
    "train = pd.read_csv(DATA_DIR / 'train.csv')\n",
    "test = pd.read_csv(DATA_DIR / 'test.csv')\n",
    "sub_df = pd.read_csv(DATA_DIR / \"sample_submission.csv\")"
   ]
  },
  {
   "cell_type": "code",
   "execution_count": 13,
   "metadata": {},
   "outputs": [
    {
     "data": {
      "text/html": [
       "<div>\n",
       "<style scoped>\n",
       "    .dataframe tbody tr th:only-of-type {\n",
       "        vertical-align: middle;\n",
       "    }\n",
       "\n",
       "    .dataframe tbody tr th {\n",
       "        vertical-align: top;\n",
       "    }\n",
       "\n",
       "    .dataframe thead th {\n",
       "        text-align: right;\n",
       "    }\n",
       "</style>\n",
       "<table border=\"1\" class=\"dataframe\">\n",
       "  <thead>\n",
       "    <tr style=\"text-align: right;\">\n",
       "      <th></th>\n",
       "      <th>id</th>\n",
       "      <th>breath_id</th>\n",
       "      <th>R</th>\n",
       "      <th>C</th>\n",
       "      <th>time_step</th>\n",
       "      <th>u_in</th>\n",
       "      <th>u_out</th>\n",
       "      <th>pressure</th>\n",
       "    </tr>\n",
       "  </thead>\n",
       "  <tbody>\n",
       "    <tr>\n",
       "      <th>0</th>\n",
       "      <td>1</td>\n",
       "      <td>1</td>\n",
       "      <td>20</td>\n",
       "      <td>50</td>\n",
       "      <td>0.000000</td>\n",
       "      <td>0.083334</td>\n",
       "      <td>0</td>\n",
       "      <td>5.837492</td>\n",
       "    </tr>\n",
       "    <tr>\n",
       "      <th>1</th>\n",
       "      <td>2</td>\n",
       "      <td>1</td>\n",
       "      <td>20</td>\n",
       "      <td>50</td>\n",
       "      <td>0.033652</td>\n",
       "      <td>18.383041</td>\n",
       "      <td>0</td>\n",
       "      <td>5.907794</td>\n",
       "    </tr>\n",
       "    <tr>\n",
       "      <th>2</th>\n",
       "      <td>3</td>\n",
       "      <td>1</td>\n",
       "      <td>20</td>\n",
       "      <td>50</td>\n",
       "      <td>0.067514</td>\n",
       "      <td>22.509278</td>\n",
       "      <td>0</td>\n",
       "      <td>7.876254</td>\n",
       "    </tr>\n",
       "    <tr>\n",
       "      <th>3</th>\n",
       "      <td>4</td>\n",
       "      <td>1</td>\n",
       "      <td>20</td>\n",
       "      <td>50</td>\n",
       "      <td>0.101542</td>\n",
       "      <td>22.808822</td>\n",
       "      <td>0</td>\n",
       "      <td>11.742872</td>\n",
       "    </tr>\n",
       "    <tr>\n",
       "      <th>4</th>\n",
       "      <td>5</td>\n",
       "      <td>1</td>\n",
       "      <td>20</td>\n",
       "      <td>50</td>\n",
       "      <td>0.135756</td>\n",
       "      <td>25.355850</td>\n",
       "      <td>0</td>\n",
       "      <td>12.234987</td>\n",
       "    </tr>\n",
       "    <tr>\n",
       "      <th>...</th>\n",
       "      <td>...</td>\n",
       "      <td>...</td>\n",
       "      <td>...</td>\n",
       "      <td>...</td>\n",
       "      <td>...</td>\n",
       "      <td>...</td>\n",
       "      <td>...</td>\n",
       "      <td>...</td>\n",
       "    </tr>\n",
       "    <tr>\n",
       "      <th>6035995</th>\n",
       "      <td>6035996</td>\n",
       "      <td>125749</td>\n",
       "      <td>50</td>\n",
       "      <td>10</td>\n",
       "      <td>2.504603</td>\n",
       "      <td>1.489714</td>\n",
       "      <td>1</td>\n",
       "      <td>3.869032</td>\n",
       "    </tr>\n",
       "    <tr>\n",
       "      <th>6035996</th>\n",
       "      <td>6035997</td>\n",
       "      <td>125749</td>\n",
       "      <td>50</td>\n",
       "      <td>10</td>\n",
       "      <td>2.537961</td>\n",
       "      <td>1.488497</td>\n",
       "      <td>1</td>\n",
       "      <td>3.869032</td>\n",
       "    </tr>\n",
       "    <tr>\n",
       "      <th>6035997</th>\n",
       "      <td>6035998</td>\n",
       "      <td>125749</td>\n",
       "      <td>50</td>\n",
       "      <td>10</td>\n",
       "      <td>2.571408</td>\n",
       "      <td>1.558978</td>\n",
       "      <td>1</td>\n",
       "      <td>3.798729</td>\n",
       "    </tr>\n",
       "    <tr>\n",
       "      <th>6035998</th>\n",
       "      <td>6035999</td>\n",
       "      <td>125749</td>\n",
       "      <td>50</td>\n",
       "      <td>10</td>\n",
       "      <td>2.604744</td>\n",
       "      <td>1.272663</td>\n",
       "      <td>1</td>\n",
       "      <td>4.079938</td>\n",
       "    </tr>\n",
       "    <tr>\n",
       "      <th>6035999</th>\n",
       "      <td>6036000</td>\n",
       "      <td>125749</td>\n",
       "      <td>50</td>\n",
       "      <td>10</td>\n",
       "      <td>2.638017</td>\n",
       "      <td>1.482739</td>\n",
       "      <td>1</td>\n",
       "      <td>3.869032</td>\n",
       "    </tr>\n",
       "  </tbody>\n",
       "</table>\n",
       "<p>6036000 rows × 8 columns</p>\n",
       "</div>"
      ],
      "text/plain": [
       "              id  breath_id   R   C  time_step       u_in  u_out   pressure\n",
       "0              1          1  20  50   0.000000   0.083334      0   5.837492\n",
       "1              2          1  20  50   0.033652  18.383041      0   5.907794\n",
       "2              3          1  20  50   0.067514  22.509278      0   7.876254\n",
       "3              4          1  20  50   0.101542  22.808822      0  11.742872\n",
       "4              5          1  20  50   0.135756  25.355850      0  12.234987\n",
       "...          ...        ...  ..  ..        ...        ...    ...        ...\n",
       "6035995  6035996     125749  50  10   2.504603   1.489714      1   3.869032\n",
       "6035996  6035997     125749  50  10   2.537961   1.488497      1   3.869032\n",
       "6035997  6035998     125749  50  10   2.571408   1.558978      1   3.798729\n",
       "6035998  6035999     125749  50  10   2.604744   1.272663      1   4.079938\n",
       "6035999  6036000     125749  50  10   2.638017   1.482739      1   3.869032\n",
       "\n",
       "[6036000 rows x 8 columns]"
      ]
     },
     "metadata": {},
     "output_type": "display_data"
    },
    {
     "data": {
      "text/html": [
       "<div>\n",
       "<style scoped>\n",
       "    .dataframe tbody tr th:only-of-type {\n",
       "        vertical-align: middle;\n",
       "    }\n",
       "\n",
       "    .dataframe tbody tr th {\n",
       "        vertical-align: top;\n",
       "    }\n",
       "\n",
       "    .dataframe thead th {\n",
       "        text-align: right;\n",
       "    }\n",
       "</style>\n",
       "<table border=\"1\" class=\"dataframe\">\n",
       "  <thead>\n",
       "    <tr style=\"text-align: right;\">\n",
       "      <th></th>\n",
       "      <th>id</th>\n",
       "      <th>breath_id</th>\n",
       "      <th>R</th>\n",
       "      <th>C</th>\n",
       "      <th>time_step</th>\n",
       "      <th>u_in</th>\n",
       "      <th>u_out</th>\n",
       "    </tr>\n",
       "  </thead>\n",
       "  <tbody>\n",
       "    <tr>\n",
       "      <th>0</th>\n",
       "      <td>1</td>\n",
       "      <td>0</td>\n",
       "      <td>5</td>\n",
       "      <td>20</td>\n",
       "      <td>0.000000</td>\n",
       "      <td>0.000000</td>\n",
       "      <td>0</td>\n",
       "    </tr>\n",
       "    <tr>\n",
       "      <th>1</th>\n",
       "      <td>2</td>\n",
       "      <td>0</td>\n",
       "      <td>5</td>\n",
       "      <td>20</td>\n",
       "      <td>0.031904</td>\n",
       "      <td>7.515046</td>\n",
       "      <td>0</td>\n",
       "    </tr>\n",
       "    <tr>\n",
       "      <th>2</th>\n",
       "      <td>3</td>\n",
       "      <td>0</td>\n",
       "      <td>5</td>\n",
       "      <td>20</td>\n",
       "      <td>0.063827</td>\n",
       "      <td>14.651675</td>\n",
       "      <td>0</td>\n",
       "    </tr>\n",
       "    <tr>\n",
       "      <th>3</th>\n",
       "      <td>4</td>\n",
       "      <td>0</td>\n",
       "      <td>5</td>\n",
       "      <td>20</td>\n",
       "      <td>0.095751</td>\n",
       "      <td>21.230610</td>\n",
       "      <td>0</td>\n",
       "    </tr>\n",
       "    <tr>\n",
       "      <th>4</th>\n",
       "      <td>5</td>\n",
       "      <td>0</td>\n",
       "      <td>5</td>\n",
       "      <td>20</td>\n",
       "      <td>0.127644</td>\n",
       "      <td>26.320956</td>\n",
       "      <td>0</td>\n",
       "    </tr>\n",
       "    <tr>\n",
       "      <th>...</th>\n",
       "      <td>...</td>\n",
       "      <td>...</td>\n",
       "      <td>...</td>\n",
       "      <td>...</td>\n",
       "      <td>...</td>\n",
       "      <td>...</td>\n",
       "      <td>...</td>\n",
       "    </tr>\n",
       "    <tr>\n",
       "      <th>4023995</th>\n",
       "      <td>4023996</td>\n",
       "      <td>125748</td>\n",
       "      <td>20</td>\n",
       "      <td>10</td>\n",
       "      <td>2.530117</td>\n",
       "      <td>4.971245</td>\n",
       "      <td>1</td>\n",
       "    </tr>\n",
       "    <tr>\n",
       "      <th>4023996</th>\n",
       "      <td>4023997</td>\n",
       "      <td>125748</td>\n",
       "      <td>20</td>\n",
       "      <td>10</td>\n",
       "      <td>2.563853</td>\n",
       "      <td>4.975709</td>\n",
       "      <td>1</td>\n",
       "    </tr>\n",
       "    <tr>\n",
       "      <th>4023997</th>\n",
       "      <td>4023998</td>\n",
       "      <td>125748</td>\n",
       "      <td>20</td>\n",
       "      <td>10</td>\n",
       "      <td>2.597475</td>\n",
       "      <td>4.979468</td>\n",
       "      <td>1</td>\n",
       "    </tr>\n",
       "    <tr>\n",
       "      <th>4023998</th>\n",
       "      <td>4023999</td>\n",
       "      <td>125748</td>\n",
       "      <td>20</td>\n",
       "      <td>10</td>\n",
       "      <td>2.631134</td>\n",
       "      <td>4.982648</td>\n",
       "      <td>1</td>\n",
       "    </tr>\n",
       "    <tr>\n",
       "      <th>4023999</th>\n",
       "      <td>4024000</td>\n",
       "      <td>125748</td>\n",
       "      <td>20</td>\n",
       "      <td>10</td>\n",
       "      <td>2.665301</td>\n",
       "      <td>4.985373</td>\n",
       "      <td>1</td>\n",
       "    </tr>\n",
       "  </tbody>\n",
       "</table>\n",
       "<p>4024000 rows × 7 columns</p>\n",
       "</div>"
      ],
      "text/plain": [
       "              id  breath_id   R   C  time_step       u_in  u_out\n",
       "0              1          0   5  20   0.000000   0.000000      0\n",
       "1              2          0   5  20   0.031904   7.515046      0\n",
       "2              3          0   5  20   0.063827  14.651675      0\n",
       "3              4          0   5  20   0.095751  21.230610      0\n",
       "4              5          0   5  20   0.127644  26.320956      0\n",
       "...          ...        ...  ..  ..        ...        ...    ...\n",
       "4023995  4023996     125748  20  10   2.530117   4.971245      1\n",
       "4023996  4023997     125748  20  10   2.563853   4.975709      1\n",
       "4023997  4023998     125748  20  10   2.597475   4.979468      1\n",
       "4023998  4023999     125748  20  10   2.631134   4.982648      1\n",
       "4023999  4024000     125748  20  10   2.665301   4.985373      1\n",
       "\n",
       "[4024000 rows x 7 columns]"
      ]
     },
     "metadata": {},
     "output_type": "display_data"
    },
    {
     "data": {
      "text/plain": [
       "(None, None)"
      ]
     },
     "execution_count": 13,
     "metadata": {},
     "output_type": "execute_result"
    }
   ],
   "source": [
    "display(train), display(test)"
   ]
  },
  {
   "cell_type": "code",
   "execution_count": 14,
   "metadata": {},
   "outputs": [],
   "source": [
    "def get_raw_features(input_df, dataType = 'train'):\n",
    "    colum = ['time_step', 'u_in', 'u_out']\n",
    "\n",
    "    return input_df[colum]"
   ]
  },
  {
   "cell_type": "code",
   "execution_count": 15,
   "metadata": {},
   "outputs": [],
   "source": [
    "def get_category_features(input_df, dataType = 'train'):\n",
    "    output_df = copy.deepcopy(input_df)\n",
    "    colum = ['R_C']\n",
    "    rc_map = {'5_10': 0, '5_20': 1, '5_50': 2, '20_10': 3, '20_20': 4, '20_50': 5, '50_10': 6, '50_20': 7, '50_50': 8}\n",
    "    \n",
    "    output_df['R_C'] = [f'{r}_{c}' for r, c in zip(output_df['R'], output_df['C'])]\n",
    "    output_df['R_C'] = output_df['R_C'].map(rc_map)\n",
    "\n",
    "    return output_df[colum]"
   ]
  },
  {
   "cell_type": "code",
   "execution_count": 16,
   "metadata": {},
   "outputs": [],
   "source": [
    "def get_simple_calc_features(input_df, dataType = 'train'):\n",
    "    output_df = copy.deepcopy(input_df)\n",
    "    c_num = input_df.shape[1]\n",
    "    \n",
    "    output_df['time_delta'] = output_df.groupby('breath_id')['time_step'].diff().fillna(0)\n",
    "    output_df['delta'] = output_df['time_delta'] * output_df['u_in']\n",
    "    output_df['area'] = output_df.groupby('breath_id')['delta'].cumsum()\n",
    "\n",
    "    output_df['cross']= output_df['u_in']*output_df['u_out']\n",
    "    output_df['cross2']= output_df['time_step']*output_df['u_out']\n",
    "    \n",
    "    output_df['u_in_cumsum'] = (output_df['u_in']).groupby(output_df['breath_id']).cumsum()\n",
    "    output_df['one'] = 1\n",
    "    output_df['count'] = (output_df['one']).groupby(output_df['breath_id']).cumsum()\n",
    "    output_df['u_in_cummean'] =output_df['u_in_cumsum'] / output_df['count']\n",
    "\n",
    "    \n",
    "    output_df = output_df.drop(['count','one'], axis=1)\n",
    "    \n",
    "    return output_df.iloc[:, c_num:]"
   ]
  },
  {
   "cell_type": "code",
   "execution_count": 17,
   "metadata": {},
   "outputs": [],
   "source": [
    "def get_diff_shift_features(input_df, dataType = 'train'):\n",
    "    \n",
    "    output_df = copy.deepcopy(input_df)\n",
    "    c_num = input_df.shape[1]\n",
    "    \n",
    "    USE_LAG = [-2, -1, 1, 2, 3, 4]\n",
    "    \n",
    "    for lag in USE_LAG:\n",
    "        output_df[f'breath_id_lag{lag}']=output_df['breath_id'].shift(lag).fillna(0)\n",
    "        output_df[f'breath_id_lag{lag}same']=np.select([output_df[f'breath_id_lag{lag}']==output_df['breath_id']], [1], 0)\n",
    "\n",
    "        # u_in \n",
    "        output_df[f'u_in_lag_{lag}'] = output_df['u_in'].shift(lag).fillna(0) * output_df[f'breath_id_lag{lag}same']\n",
    "        output_df[f'u_in_diff_{lag}'] = output_df['u_in'] - output_df[f'u_in_lag_{lag}']\n",
    "        output_df[f'u_out_lag_{lag}'] = output_df['u_out'].shift(lag).fillna(0) * output_df[f'breath_id_lag{lag}same']\n",
    "\n",
    "        # breath_time\n",
    "    output_df[f'time_step_lag_{1}'] = output_df['time_step'].shift(1).fillna(0) * output_df[f'breath_id_lag{1}same']\n",
    "    output_df[f'time_step_diff_{1}'] = output_df['time_step'] - output_df[f'time_step_lag_{1}']\n",
    "\n",
    "    drop_columns = ['time_step_lag_1']\n",
    "    drop_columns += [f'breath_id_lag{i}' for i in USE_LAG]\n",
    "    drop_columns += [f'breath_id_lag{i}same' for i in USE_LAG]\n",
    "    output_df = output_df.drop(drop_columns, axis=1)\n",
    "\n",
    "    # fill na by zero\n",
    "    output_df = output_df.fillna(0)\n",
    "    \n",
    "    return output_df.iloc[:, c_num:]"
   ]
  },
  {
   "cell_type": "code",
   "execution_count": 18,
   "metadata": {},
   "outputs": [],
   "source": [
    "def get_agg_features(input_df, dataType = 'train'):\n",
    "    \n",
    "    output_df = copy.deepcopy(input_df)\n",
    "    c_num = input_df.shape[1]\n",
    "    \n",
    "    # Dict for aggregations\n",
    "    create_feature_dict = {\n",
    "        'u_in': [np.max, np.mean],\n",
    "    }\n",
    "    \n",
    "    def get_agg_window(start_time=0, end_time=3.0, add_suffix = False):\n",
    "        \n",
    "        df_tgt = output_df[(output_df['time_step'] >= start_time) & (output_df['time_step'] <= end_time)]\n",
    "        df_feature = df_tgt.groupby(['breath_id']).agg(create_feature_dict)\n",
    "        df_feature.columns = ['_'.join(col) for col in df_feature.columns]\n",
    "        \n",
    "        if add_suffix:\n",
    "            df_feature = df_feature.add_suffix('_' + str(start_time) + '_' + str(end_time))\n",
    "            \n",
    "        return df_feature\n",
    "    \n",
    "    df_agg_feature = get_agg_window().reset_index()\n",
    "    \n",
    "#     df_tmp = get_agg_window(start_time = 2, add_suffix = True).reset_index()\n",
    "#     df_agg_feature = df_agg_feature.merge(df_tmp, how = 'left', on = 'breath_id')\n",
    "#     df_tmp = get_agg_window(start_time = 1, add_suffix = True).reset_index()\n",
    "#     df_agg_feature = df_agg_feature.merge(df_tmp, how = 'left', on = 'breath_id')\n",
    "#     df_tmp = get_agg_window(end_time = 1, add_suffix = True).reset_index()\n",
    "#     df_agg_feature = df_agg_feature.merge(df_tmp, how = 'left', on = 'breath_id')\n",
    "#     df_tmp = get_agg_window(end_time = 2, add_suffix = True).reset_index()\n",
    "#     df_agg_feature = df_agg_feature.merge(df_tmp, how = 'left', on = 'breath_id')\n",
    "\n",
    "    output_df = pd.merge(output_df, df_agg_feature, how='left', on='breath_id')\n",
    "    \n",
    "    output_df['u_in_diffmax'] = output_df['u_in_amax'] - output_df['u_in']\n",
    "    output_df['u_in_diffmean'] = output_df['u_in_mean'] - output_df['u_in']\n",
    "    \n",
    "#     output_df = output_df.drop(['u_in_amax','u_in_mean'], axis=1)\n",
    "    \n",
    "    return output_df.iloc[:, c_num:]"
   ]
  },
  {
   "cell_type": "code",
   "execution_count": 19,
   "metadata": {},
   "outputs": [],
   "source": [
    "def lowpass(x, samplerate, fp, fs, gpass, gstop):\n",
    "    fn = samplerate / 2   #ナイキスト周波数\n",
    "    wp = fp / fn  #ナイキスト周波数で通過域端周波数を正規化\n",
    "    ws = fs / fn  #ナイキスト周波数で阻止域端周波数を正規化\n",
    "    N, Wn = signal.buttord(wp, ws, gpass, gstop)  #オーダーとバターワースの正規化周波数を計算\n",
    "    b, a = signal.butter(N, Wn, \"low\")            #フィルタ伝達関数の分子と分母を計算\n",
    "    y = signal.filtfilt(b, a, x)                  #信号に対してフィルタをかける\n",
    "    return y  "
   ]
  },
  {
   "cell_type": "code",
   "execution_count": 20,
   "metadata": {},
   "outputs": [],
   "source": [
    "fp = 5 # 通過域端周波数[Hz]\n",
    "fs = 10 # 阻止域端周波数[Hz]\n",
    "gpass = 3 # 通過域端最大損失[dB]\n",
    "gstop = 40 # 阻止域端最小損失[dB]\n",
    "samplerate = 100\n",
    "def lowpass_filter(series):\n",
    "    return lowpass(series, samplerate, fp, fs, gpass, gstop)"
   ]
  },
  {
   "cell_type": "code",
   "execution_count": 21,
   "metadata": {},
   "outputs": [],
   "source": [
    "def get_filter_features(input_df, dataType = 'train'):\n",
    "    \n",
    "    output_df = copy.deepcopy(input_df)\n",
    "    c_num = input_df.shape[1]\n",
    "    \n",
    "    def get_agg_window(start_time=0, end_time=3.0, add_suffix = False):\n",
    "        \n",
    "        df_tgt = output_df[(output_df['time_step'] >= start_time) & (output_df['time_step'] <= end_time)]\n",
    "        df_feature = df_tgt.groupby(['breath_id'])['u_in'].apply(lowpass_filter)\n",
    "        df_feature.name = 'u_in_filter'\n",
    "                    \n",
    "        return df_feature\n",
    "    \n",
    "    df_agg_feature = get_agg_window().reset_index()\n",
    "    df_agg_feature = df_agg_feature.explode(\"u_in_filter\").reset_index(drop=True)\n",
    "    \n",
    "    USE_LAG = [-2, -1, 1, 2, 3, 4]\n",
    "    \n",
    "    for lag in USE_LAG:\n",
    "        df_agg_feature[f'breath_id_lag{lag}']=df_agg_feature['breath_id'].shift(lag).fillna(0)\n",
    "        df_agg_feature[f'breath_id_lag{lag}same']=np.select([df_agg_feature[f'breath_id_lag{lag}']==df_agg_feature['breath_id']], [1], 0)\n",
    "\n",
    "        # u_in \n",
    "        df_agg_feature[f'u_in_filter_lag_{lag}'] = df_agg_feature['u_in_filter'].shift(lag).fillna(0) * df_agg_feature[f'breath_id_lag{lag}same']\n",
    "        df_agg_feature[f'u_in_filter_diff_{lag}'] = df_agg_feature['u_in_filter'] - df_agg_feature[f'u_in_filter_lag_{lag}']\n",
    "\n",
    "    drop_columns = [f'breath_id_lag{i}' for i in USE_LAG]\n",
    "    drop_columns += [f'breath_id_lag{i}same' for i in USE_LAG]\n",
    "    df_agg_feature = df_agg_feature.drop(drop_columns, axis=1)\n",
    "    df_agg_feature = df_agg_feature.fillna(0)\n",
    "    \n",
    "    return df_agg_feature.iloc[:, 1:]"
   ]
  },
  {
   "cell_type": "code",
   "execution_count": 22,
   "metadata": {},
   "outputs": [],
   "source": [
    "def get_sqrt_features(input_df, dataType = 'train'):\n",
    "    \n",
    "    output_df = copy.deepcopy(input_df)\n",
    "    c_num = input_df.shape[1]\n",
    "    \n",
    "    output_df['u_in_sqrt'] = output_df['u_in'].apply(lambda x: np.sqrt(x))\n",
    "    output_df['u_in_sqrt_cumsum'] = output_df.groupby('breath_id')['u_in_sqrt'].cumsum()\n",
    "    \n",
    "    USE_LAG = [-2, -1, 1, 2, 3, 4]\n",
    "    \n",
    "    for lag in USE_LAG:\n",
    "        output_df[f'breath_id_lag{lag}']=output_df['breath_id'].shift(lag).fillna(0)\n",
    "        output_df[f'breath_id_lag{lag}same']=np.select([output_df[f'breath_id_lag{lag}']==output_df['breath_id']], [1], 0)\n",
    "\n",
    "        # u_in \n",
    "        output_df[f'u_in_sqrt_filter_lag_{lag}'] = output_df['u_in_sqrt'].shift(lag).fillna(0) * output_df[f'breath_id_lag{lag}same']\n",
    "        output_df[f'u_in_sqrt_filter_diff_{lag}'] = output_df['u_in_sqrt'] - output_df[f'u_in_sqrt_filter_lag_{lag}']\n",
    "\n",
    "    drop_columns = [f'breath_id_lag{i}' for i in USE_LAG]\n",
    "    drop_columns += [f'breath_id_lag{i}same' for i in USE_LAG]\n",
    "    output_df = output_df.drop(drop_columns, axis=1)\n",
    "    output_df = output_df.fillna(0)\n",
    "    \n",
    "    return output_df.iloc[:, c_num:]"
   ]
  },
  {
   "cell_type": "code",
   "execution_count": 23,
   "metadata": {},
   "outputs": [],
   "source": [
    "def get_vib_features(input_df, dataType = 'train'):\n",
    "    \n",
    "    output_df = copy.deepcopy(input_df)\n",
    "    c_num = input_df.shape[1]\n",
    "    \n",
    "    output_df['u_out_diff'] = output_df['u_out'].diff()\n",
    "    output_df['u_out_diff'].fillna(0, inplace=True)\n",
    "    output_df['u_out_diff'].replace(-1, 0, inplace=True)\n",
    "    uout1_df = output_df[output_df['u_out_diff']==1]\n",
    "    \n",
    "    first_df = output_df.loc[0::80,:]\n",
    "    first_0_dict = dict(zip(first_df['id'], [0]*len(uout1_df)))\n",
    "\n",
    "    output_df['u_in_diff'] = output_df['u_in'].diff()\n",
    "    output_df['diff_sign'] = np.sign(output_df['u_in_diff'])\n",
    "    output_df['sign_diff'] = output_df['diff_sign'].diff()\n",
    "    output_df['tmp'] = output_df['id'].map(first_0_dict) # put 0, the 80row cycle\n",
    "    output_df.iloc[0::80, output_df.columns.get_loc('sign_diff')] = output_df.iloc[0::80, output_df.columns.get_loc('tmp')]\n",
    "\n",
    "    # Count the number of inversions, so take the absolute value and sum\n",
    "    output_df['sign_diff'] = abs(output_df['sign_diff']) \n",
    "    sign_diff_dict = output_df.groupby('breath_id')['sign_diff'].sum().to_dict()\n",
    "    output_df['diff_vib'] = output_df['breath_id'].map(sign_diff_dict)\n",
    "    \n",
    "    return output_df['diff_vib']"
   ]
  },
  {
   "cell_type": "code",
   "execution_count": 24,
   "metadata": {},
   "outputs": [],
   "source": [
    "def to_feature(input_df, dataType = 'train'):\n",
    "    \"\"\"input_df を特徴量行列に変換した新しいデータフレームを返す.\n",
    "    \"\"\"\n",
    "\n",
    "    processors = [\n",
    "        get_raw_features,\n",
    "        get_simple_calc_features,\n",
    "        get_diff_shift_features,\n",
    "        get_agg_features,\n",
    "        get_category_features,\n",
    "        get_filter_features,\n",
    "        get_sqrt_features\n",
    "    ]\n",
    "\n",
    "    out_df = pd.DataFrame()\n",
    "\n",
    "    for func in tqdm(processors, total=len(processors)):\n",
    "        with Timer(prefix='' + func.__name__ + ' '):\n",
    "            _df = func(input_df, dataType)\n",
    "\n",
    "        # 長さが等しいことをチェック (ずれている場合, func の実装がおかしい)\n",
    "        assert len(_df) == len(input_df), func.__name__\n",
    "        out_df = pd.concat([out_df, _df], axis=1)\n",
    "#     out_df = utils.reduce_mem_usage(out_df)\n",
    "    \n",
    "    return out_df"
   ]
  },
  {
   "cell_type": "code",
   "execution_count": null,
   "metadata": {},
   "outputs": [],
   "source": []
  },
  {
   "cell_type": "code",
   "execution_count": 25,
   "metadata": {},
   "outputs": [
    {
     "data": {
      "application/vnd.jupyter.widget-view+json": {
       "model_id": "7a1f6615941c433d85f6f6c5d3e78d34",
       "version_major": 2,
       "version_minor": 0
      },
      "text/plain": [
       "  0%|          | 0/7 [00:00<?, ?it/s]"
      ]
     },
     "metadata": {},
     "output_type": "display_data"
    },
    {
     "name": "stdout",
     "output_type": "stream",
     "text": [
      "get_raw_features  0.021[s]\n",
      "get_simple_calc_features  12.360[s]\n",
      "get_diff_shift_features  2.152[s]\n",
      "get_agg_features  1.052[s]\n",
      "get_category_features  2.368[s]\n",
      "get_filter_features  41.919[s]\n",
      "get_sqrt_features  5.429[s]\n"
     ]
    },
    {
     "data": {
      "application/vnd.jupyter.widget-view+json": {
       "model_id": "da6fec202a374f1fbc51c23f083e6bb0",
       "version_major": 2,
       "version_minor": 0
      },
      "text/plain": [
       "  0%|          | 0/7 [00:00<?, ?it/s]"
      ]
     },
     "metadata": {},
     "output_type": "display_data"
    },
    {
     "name": "stdout",
     "output_type": "stream",
     "text": [
      "get_raw_features  0.014[s]\n",
      "get_simple_calc_features  8.172[s]\n",
      "get_diff_shift_features  1.266[s]\n",
      "get_agg_features  0.620[s]\n",
      "get_category_features  1.518[s]\n",
      "get_filter_features  27.745[s]\n",
      "get_sqrt_features  3.434[s]\n"
     ]
    }
   ],
   "source": [
    "train_df = to_feature(train, dataType = 'train')\n",
    "test_df = to_feature(test, dataType = 'test')"
   ]
  },
  {
   "cell_type": "code",
   "execution_count": 26,
   "metadata": {},
   "outputs": [],
   "source": [
    "train_category_col = ['R_C']\n",
    "train_value_col = [i for i in train_df.columns.to_list() if i not in train_category_col]"
   ]
  },
  {
   "cell_type": "code",
   "execution_count": 27,
   "metadata": {},
   "outputs": [],
   "source": [
    "norm_features = train_value_col\n",
    "norm_features = sorted(list(set(train_value_col) - set(['u_out'])), key=norm_features.index)\n",
    "def norm_scale(train_df, test_df):\n",
    "    scaler = RobustScaler()\n",
    "    all_u_in = np.vstack([train_df[norm_features].values, test_df[norm_features].values])\n",
    "    scaler.fit(all_u_in)\n",
    "    train_df[norm_features] = scaler.transform(train_df[norm_features].values)\n",
    "    test_df[norm_features] = scaler.transform(test_df[norm_features].values)\n",
    "    return train_df, test_df"
   ]
  },
  {
   "cell_type": "code",
   "execution_count": 28,
   "metadata": {},
   "outputs": [],
   "source": [
    "train_df, test_df = norm_scale(train_df, test_df)"
   ]
  },
  {
   "cell_type": "code",
   "execution_count": 29,
   "metadata": {},
   "outputs": [
    {
     "name": "stdout",
     "output_type": "stream",
     "text": [
      "Mem. usage decreased from 2809.11 Mb to 690.77 Mb (75.4% reduction)\n",
      "Mem. usage decreased from 1872.74 Mb to 460.51 Mb (75.4% reduction)\n"
     ]
    }
   ],
   "source": [
    "train_df = utils.reduce_mem_usage(train_df)\n",
    "test_df = utils.reduce_mem_usage(test_df)"
   ]
  },
  {
   "cell_type": "code",
   "execution_count": 30,
   "metadata": {},
   "outputs": [],
   "source": [
    "train_df = pd.concat([train_df, train[['id', 'breath_id', 'pressure']]], axis=1)\n",
    "test_df = pd.concat([test_df, test[['id', 'breath_id']]], axis=1)\n",
    "test_df['pressure'] = train_df['pressure'].values[-1]"
   ]
  },
  {
   "cell_type": "code",
   "execution_count": 31,
   "metadata": {},
   "outputs": [],
   "source": [
    "unique_targets = sorted(train_df['pressure'].unique().tolist())\n",
    "target_dic = {v:i for i, v in enumerate(sorted(train_df['pressure'].unique().tolist()))}\n",
    "target_dic_inv = {v: k for k, v in target_dic.items()}"
   ]
  },
  {
   "cell_type": "code",
   "execution_count": 32,
   "metadata": {},
   "outputs": [
    {
     "data": {
      "text/html": [
       "<div>\n",
       "<style scoped>\n",
       "    .dataframe tbody tr th:only-of-type {\n",
       "        vertical-align: middle;\n",
       "    }\n",
       "\n",
       "    .dataframe tbody tr th {\n",
       "        vertical-align: top;\n",
       "    }\n",
       "\n",
       "    .dataframe thead th {\n",
       "        text-align: right;\n",
       "    }\n",
       "</style>\n",
       "<table border=\"1\" class=\"dataframe\">\n",
       "  <thead>\n",
       "    <tr style=\"text-align: right;\">\n",
       "      <th></th>\n",
       "      <th>time_step</th>\n",
       "      <th>u_in</th>\n",
       "      <th>u_out</th>\n",
       "      <th>time_delta</th>\n",
       "      <th>delta</th>\n",
       "      <th>area</th>\n",
       "      <th>cross</th>\n",
       "      <th>cross2</th>\n",
       "      <th>u_in_cumsum</th>\n",
       "      <th>u_in_cummean</th>\n",
       "      <th>...</th>\n",
       "      <th>u_in_sqrt_filter_diff_1</th>\n",
       "      <th>u_in_sqrt_filter_lag_2</th>\n",
       "      <th>u_in_sqrt_filter_diff_2</th>\n",
       "      <th>u_in_sqrt_filter_lag_3</th>\n",
       "      <th>u_in_sqrt_filter_diff_3</th>\n",
       "      <th>u_in_sqrt_filter_lag_4</th>\n",
       "      <th>u_in_sqrt_filter_diff_4</th>\n",
       "      <th>id</th>\n",
       "      <th>breath_id</th>\n",
       "      <th>pressure</th>\n",
       "    </tr>\n",
       "  </thead>\n",
       "  <tbody>\n",
       "    <tr>\n",
       "      <th>0</th>\n",
       "      <td>-0.989258</td>\n",
       "      <td>-0.937988</td>\n",
       "      <td>0</td>\n",
       "      <td>-15.476562</td>\n",
       "      <td>-0.861328</td>\n",
       "      <td>-0.734375</td>\n",
       "      <td>0.000000</td>\n",
       "      <td>-0.665527</td>\n",
       "      <td>-0.724121</td>\n",
       "      <td>-0.647461</td>\n",
       "      <td>...</td>\n",
       "      <td>7.164062</td>\n",
       "      <td>-0.917480</td>\n",
       "      <td>3.576172</td>\n",
       "      <td>-0.904785</td>\n",
       "      <td>2.166016</td>\n",
       "      <td>-0.890625</td>\n",
       "      <td>1.424805</td>\n",
       "      <td>1</td>\n",
       "      <td>1</td>\n",
       "      <td>5.837492</td>\n",
       "    </tr>\n",
       "    <tr>\n",
       "      <th>1</th>\n",
       "      <td>-0.963867</td>\n",
       "      <td>3.054688</td>\n",
       "      <td>0</td>\n",
       "      <td>0.104309</td>\n",
       "      <td>2.867188</td>\n",
       "      <td>-0.682617</td>\n",
       "      <td>0.000000</td>\n",
       "      <td>-0.665527</td>\n",
       "      <td>-0.675781</td>\n",
       "      <td>0.162842</td>\n",
       "      <td>...</td>\n",
       "      <td>99.750000</td>\n",
       "      <td>-0.917480</td>\n",
       "      <td>53.718750</td>\n",
       "      <td>-0.904785</td>\n",
       "      <td>32.781250</td>\n",
       "      <td>-0.890625</td>\n",
       "      <td>21.734375</td>\n",
       "      <td>2</td>\n",
       "      <td>1</td>\n",
       "      <td>5.907794</td>\n",
       "    </tr>\n",
       "    <tr>\n",
       "      <th>2</th>\n",
       "      <td>-0.937988</td>\n",
       "      <td>3.955078</td>\n",
       "      <td>0</td>\n",
       "      <td>0.201538</td>\n",
       "      <td>3.732422</td>\n",
       "      <td>-0.619141</td>\n",
       "      <td>0.000000</td>\n",
       "      <td>-0.665527</td>\n",
       "      <td>-0.616699</td>\n",
       "      <td>0.554688</td>\n",
       "      <td>...</td>\n",
       "      <td>11.359375</td>\n",
       "      <td>-0.788086</td>\n",
       "      <td>55.843750</td>\n",
       "      <td>-0.904785</td>\n",
       "      <td>36.281250</td>\n",
       "      <td>-0.890625</td>\n",
       "      <td>24.046875</td>\n",
       "      <td>3</td>\n",
       "      <td>1</td>\n",
       "      <td>7.876254</td>\n",
       "    </tr>\n",
       "    <tr>\n",
       "      <th>3</th>\n",
       "      <td>-0.912109</td>\n",
       "      <td>4.019531</td>\n",
       "      <td>0</td>\n",
       "      <td>0.278320</td>\n",
       "      <td>3.816406</td>\n",
       "      <td>-0.554688</td>\n",
       "      <td>0.000000</td>\n",
       "      <td>-0.665527</td>\n",
       "      <td>-0.556641</td>\n",
       "      <td>0.757324</td>\n",
       "      <td>...</td>\n",
       "      <td>0.743652</td>\n",
       "      <td>1.003906</td>\n",
       "      <td>6.078125</td>\n",
       "      <td>-0.775391</td>\n",
       "      <td>34.312500</td>\n",
       "      <td>-0.890625</td>\n",
       "      <td>24.203125</td>\n",
       "      <td>4</td>\n",
       "      <td>1</td>\n",
       "      <td>11.742872</td>\n",
       "    </tr>\n",
       "    <tr>\n",
       "      <th>4</th>\n",
       "      <td>-0.886230</td>\n",
       "      <td>4.574219</td>\n",
       "      <td>0</td>\n",
       "      <td>0.364258</td>\n",
       "      <td>4.367188</td>\n",
       "      <td>-0.482666</td>\n",
       "      <td>0.000000</td>\n",
       "      <td>-0.665527</td>\n",
       "      <td>-0.489746</td>\n",
       "      <td>0.923828</td>\n",
       "      <td>...</td>\n",
       "      <td>6.437500</td>\n",
       "      <td>1.208984</td>\n",
       "      <td>3.605469</td>\n",
       "      <td>1.017578</td>\n",
       "      <td>5.683594</td>\n",
       "      <td>-0.761230</td>\n",
       "      <td>24.062500</td>\n",
       "      <td>5</td>\n",
       "      <td>1</td>\n",
       "      <td>12.234987</td>\n",
       "    </tr>\n",
       "    <tr>\n",
       "      <th>...</th>\n",
       "      <td>...</td>\n",
       "      <td>...</td>\n",
       "      <td>...</td>\n",
       "      <td>...</td>\n",
       "      <td>...</td>\n",
       "      <td>...</td>\n",
       "      <td>...</td>\n",
       "      <td>...</td>\n",
       "      <td>...</td>\n",
       "      <td>...</td>\n",
       "      <td>...</td>\n",
       "      <td>...</td>\n",
       "      <td>...</td>\n",
       "      <td>...</td>\n",
       "      <td>...</td>\n",
       "      <td>...</td>\n",
       "      <td>...</td>\n",
       "      <td>...</td>\n",
       "      <td>...</td>\n",
       "      <td>...</td>\n",
       "      <td>...</td>\n",
       "    </tr>\n",
       "    <tr>\n",
       "      <th>6035995</th>\n",
       "      <td>0.904785</td>\n",
       "      <td>-0.631348</td>\n",
       "      <td>1</td>\n",
       "      <td>-0.007175</td>\n",
       "      <td>-0.561523</td>\n",
       "      <td>0.322998</td>\n",
       "      <td>0.333008</td>\n",
       "      <td>0.608887</td>\n",
       "      <td>0.293945</td>\n",
       "      <td>-0.203613</td>\n",
       "      <td>...</td>\n",
       "      <td>0.671875</td>\n",
       "      <td>-0.396240</td>\n",
       "      <td>0.674805</td>\n",
       "      <td>-0.382324</td>\n",
       "      <td>0.380371</td>\n",
       "      <td>-0.367188</td>\n",
       "      <td>0.229492</td>\n",
       "      <td>6035996</td>\n",
       "      <td>125749</td>\n",
       "      <td>3.869032</td>\n",
       "    </tr>\n",
       "    <tr>\n",
       "      <th>6035996</th>\n",
       "      <td>0.930176</td>\n",
       "      <td>-0.631348</td>\n",
       "      <td>1</td>\n",
       "      <td>-0.032135</td>\n",
       "      <td>-0.562012</td>\n",
       "      <td>0.327148</td>\n",
       "      <td>0.332764</td>\n",
       "      <td>0.625977</td>\n",
       "      <td>0.297852</td>\n",
       "      <td>-0.207764</td>\n",
       "      <td>...</td>\n",
       "      <td>-0.054352</td>\n",
       "      <td>-0.383301</td>\n",
       "      <td>0.309082</td>\n",
       "      <td>-0.383057</td>\n",
       "      <td>0.390869</td>\n",
       "      <td>-0.367920</td>\n",
       "      <td>0.237183</td>\n",
       "      <td>6035997</td>\n",
       "      <td>125749</td>\n",
       "      <td>3.869032</td>\n",
       "    </tr>\n",
       "    <tr>\n",
       "      <th>6035997</th>\n",
       "      <td>0.955078</td>\n",
       "      <td>-0.616211</td>\n",
       "      <td>1</td>\n",
       "      <td>0.009163</td>\n",
       "      <td>-0.546875</td>\n",
       "      <td>0.331543</td>\n",
       "      <td>0.348389</td>\n",
       "      <td>0.642578</td>\n",
       "      <td>0.301758</td>\n",
       "      <td>-0.211792</td>\n",
       "      <td>...</td>\n",
       "      <td>0.670898</td>\n",
       "      <td>-0.370361</td>\n",
       "      <td>0.308350</td>\n",
       "      <td>-0.370361</td>\n",
       "      <td>0.389893</td>\n",
       "      <td>-0.368896</td>\n",
       "      <td>0.391602</td>\n",
       "      <td>6035998</td>\n",
       "      <td>125749</td>\n",
       "      <td>3.798729</td>\n",
       "    </tr>\n",
       "    <tr>\n",
       "      <th>6035998</th>\n",
       "      <td>0.980469</td>\n",
       "      <td>-0.678711</td>\n",
       "      <td>1</td>\n",
       "      <td>-0.041748</td>\n",
       "      <td>-0.605469</td>\n",
       "      <td>0.334961</td>\n",
       "      <td>0.284424</td>\n",
       "      <td>0.659668</td>\n",
       "      <td>0.305176</td>\n",
       "      <td>-0.215942</td>\n",
       "      <td>...</td>\n",
       "      <td>-3.048828</td>\n",
       "      <td>-0.370605</td>\n",
       "      <td>-1.196289</td>\n",
       "      <td>-0.357422</td>\n",
       "      <td>-0.751465</td>\n",
       "      <td>-0.355957</td>\n",
       "      <td>-0.365479</td>\n",
       "      <td>6035999</td>\n",
       "      <td>125749</td>\n",
       "      <td>4.079938</td>\n",
       "    </tr>\n",
       "    <tr>\n",
       "      <th>6035999</th>\n",
       "      <td>1.005859</td>\n",
       "      <td>-0.632812</td>\n",
       "      <td>1</td>\n",
       "      <td>-0.071350</td>\n",
       "      <td>-0.563965</td>\n",
       "      <td>0.339111</td>\n",
       "      <td>0.331543</td>\n",
       "      <td>0.676758</td>\n",
       "      <td>0.309082</td>\n",
       "      <td>-0.219727</td>\n",
       "      <td>...</td>\n",
       "      <td>2.193359</td>\n",
       "      <td>-0.357910</td>\n",
       "      <td>-0.431152</td>\n",
       "      <td>-0.357666</td>\n",
       "      <td>-0.061920</td>\n",
       "      <td>-0.343262</td>\n",
       "      <td>-0.056061</td>\n",
       "      <td>6036000</td>\n",
       "      <td>125749</td>\n",
       "      <td>3.869032</td>\n",
       "    </tr>\n",
       "  </tbody>\n",
       "</table>\n",
       "<p>6036000 rows × 64 columns</p>\n",
       "</div>"
      ],
      "text/plain": [
       "         time_step      u_in  u_out  time_delta     delta      area     cross  \\\n",
       "0        -0.989258 -0.937988      0  -15.476562 -0.861328 -0.734375  0.000000   \n",
       "1        -0.963867  3.054688      0    0.104309  2.867188 -0.682617  0.000000   \n",
       "2        -0.937988  3.955078      0    0.201538  3.732422 -0.619141  0.000000   \n",
       "3        -0.912109  4.019531      0    0.278320  3.816406 -0.554688  0.000000   \n",
       "4        -0.886230  4.574219      0    0.364258  4.367188 -0.482666  0.000000   \n",
       "...            ...       ...    ...         ...       ...       ...       ...   \n",
       "6035995   0.904785 -0.631348      1   -0.007175 -0.561523  0.322998  0.333008   \n",
       "6035996   0.930176 -0.631348      1   -0.032135 -0.562012  0.327148  0.332764   \n",
       "6035997   0.955078 -0.616211      1    0.009163 -0.546875  0.331543  0.348389   \n",
       "6035998   0.980469 -0.678711      1   -0.041748 -0.605469  0.334961  0.284424   \n",
       "6035999   1.005859 -0.632812      1   -0.071350 -0.563965  0.339111  0.331543   \n",
       "\n",
       "           cross2  u_in_cumsum  u_in_cummean  ...  u_in_sqrt_filter_diff_1  \\\n",
       "0       -0.665527    -0.724121     -0.647461  ...                 7.164062   \n",
       "1       -0.665527    -0.675781      0.162842  ...                99.750000   \n",
       "2       -0.665527    -0.616699      0.554688  ...                11.359375   \n",
       "3       -0.665527    -0.556641      0.757324  ...                 0.743652   \n",
       "4       -0.665527    -0.489746      0.923828  ...                 6.437500   \n",
       "...           ...          ...           ...  ...                      ...   \n",
       "6035995  0.608887     0.293945     -0.203613  ...                 0.671875   \n",
       "6035996  0.625977     0.297852     -0.207764  ...                -0.054352   \n",
       "6035997  0.642578     0.301758     -0.211792  ...                 0.670898   \n",
       "6035998  0.659668     0.305176     -0.215942  ...                -3.048828   \n",
       "6035999  0.676758     0.309082     -0.219727  ...                 2.193359   \n",
       "\n",
       "         u_in_sqrt_filter_lag_2  u_in_sqrt_filter_diff_2  \\\n",
       "0                     -0.917480                 3.576172   \n",
       "1                     -0.917480                53.718750   \n",
       "2                     -0.788086                55.843750   \n",
       "3                      1.003906                 6.078125   \n",
       "4                      1.208984                 3.605469   \n",
       "...                         ...                      ...   \n",
       "6035995               -0.396240                 0.674805   \n",
       "6035996               -0.383301                 0.309082   \n",
       "6035997               -0.370361                 0.308350   \n",
       "6035998               -0.370605                -1.196289   \n",
       "6035999               -0.357910                -0.431152   \n",
       "\n",
       "         u_in_sqrt_filter_lag_3  u_in_sqrt_filter_diff_3  \\\n",
       "0                     -0.904785                 2.166016   \n",
       "1                     -0.904785                32.781250   \n",
       "2                     -0.904785                36.281250   \n",
       "3                     -0.775391                34.312500   \n",
       "4                      1.017578                 5.683594   \n",
       "...                         ...                      ...   \n",
       "6035995               -0.382324                 0.380371   \n",
       "6035996               -0.383057                 0.390869   \n",
       "6035997               -0.370361                 0.389893   \n",
       "6035998               -0.357422                -0.751465   \n",
       "6035999               -0.357666                -0.061920   \n",
       "\n",
       "         u_in_sqrt_filter_lag_4  u_in_sqrt_filter_diff_4       id  breath_id  \\\n",
       "0                     -0.890625                 1.424805        1          1   \n",
       "1                     -0.890625                21.734375        2          1   \n",
       "2                     -0.890625                24.046875        3          1   \n",
       "3                     -0.890625                24.203125        4          1   \n",
       "4                     -0.761230                24.062500        5          1   \n",
       "...                         ...                      ...      ...        ...   \n",
       "6035995               -0.367188                 0.229492  6035996     125749   \n",
       "6035996               -0.367920                 0.237183  6035997     125749   \n",
       "6035997               -0.368896                 0.391602  6035998     125749   \n",
       "6035998               -0.355957                -0.365479  6035999     125749   \n",
       "6035999               -0.343262                -0.056061  6036000     125749   \n",
       "\n",
       "          pressure  \n",
       "0         5.837492  \n",
       "1         5.907794  \n",
       "2         7.876254  \n",
       "3        11.742872  \n",
       "4        12.234987  \n",
       "...            ...  \n",
       "6035995   3.869032  \n",
       "6035996   3.869032  \n",
       "6035997   3.798729  \n",
       "6035998   4.079938  \n",
       "6035999   3.869032  \n",
       "\n",
       "[6036000 rows x 64 columns]"
      ]
     },
     "metadata": {},
     "output_type": "display_data"
    },
    {
     "data": {
      "text/html": [
       "<div>\n",
       "<style scoped>\n",
       "    .dataframe tbody tr th:only-of-type {\n",
       "        vertical-align: middle;\n",
       "    }\n",
       "\n",
       "    .dataframe tbody tr th {\n",
       "        vertical-align: top;\n",
       "    }\n",
       "\n",
       "    .dataframe thead th {\n",
       "        text-align: right;\n",
       "    }\n",
       "</style>\n",
       "<table border=\"1\" class=\"dataframe\">\n",
       "  <thead>\n",
       "    <tr style=\"text-align: right;\">\n",
       "      <th></th>\n",
       "      <th>time_step</th>\n",
       "      <th>u_in</th>\n",
       "      <th>u_out</th>\n",
       "      <th>time_delta</th>\n",
       "      <th>delta</th>\n",
       "      <th>area</th>\n",
       "      <th>cross</th>\n",
       "      <th>cross2</th>\n",
       "      <th>u_in_cumsum</th>\n",
       "      <th>u_in_cummean</th>\n",
       "      <th>...</th>\n",
       "      <th>u_in_sqrt_filter_diff_1</th>\n",
       "      <th>u_in_sqrt_filter_lag_2</th>\n",
       "      <th>u_in_sqrt_filter_diff_2</th>\n",
       "      <th>u_in_sqrt_filter_lag_3</th>\n",
       "      <th>u_in_sqrt_filter_diff_3</th>\n",
       "      <th>u_in_sqrt_filter_lag_4</th>\n",
       "      <th>u_in_sqrt_filter_diff_4</th>\n",
       "      <th>id</th>\n",
       "      <th>breath_id</th>\n",
       "      <th>pressure</th>\n",
       "    </tr>\n",
       "  </thead>\n",
       "  <tbody>\n",
       "    <tr>\n",
       "      <th>0</th>\n",
       "      <td>-0.989258</td>\n",
       "      <td>-0.956055</td>\n",
       "      <td>0</td>\n",
       "      <td>-15.476562</td>\n",
       "      <td>-0.861328</td>\n",
       "      <td>-0.734375</td>\n",
       "      <td>0.000000</td>\n",
       "      <td>-0.665527</td>\n",
       "      <td>-0.724121</td>\n",
       "      <td>-0.654785</td>\n",
       "      <td>...</td>\n",
       "      <td>-0.041901</td>\n",
       "      <td>-0.917480</td>\n",
       "      <td>-0.043427</td>\n",
       "      <td>-0.904785</td>\n",
       "      <td>-0.043823</td>\n",
       "      <td>-0.890625</td>\n",
       "      <td>-0.041534</td>\n",
       "      <td>1</td>\n",
       "      <td>0</td>\n",
       "      <td>3.869032</td>\n",
       "    </tr>\n",
       "    <tr>\n",
       "      <th>1</th>\n",
       "      <td>-0.964844</td>\n",
       "      <td>0.683594</td>\n",
       "      <td>0</td>\n",
       "      <td>-0.705566</td>\n",
       "      <td>0.583984</td>\n",
       "      <td>-0.714355</td>\n",
       "      <td>0.000000</td>\n",
       "      <td>-0.665527</td>\n",
       "      <td>-0.704590</td>\n",
       "      <td>-0.322021</td>\n",
       "      <td>...</td>\n",
       "      <td>68.375000</td>\n",
       "      <td>-0.917480</td>\n",
       "      <td>34.343750</td>\n",
       "      <td>-0.904785</td>\n",
       "      <td>20.953125</td>\n",
       "      <td>-0.890625</td>\n",
       "      <td>13.882812</td>\n",
       "      <td>2</td>\n",
       "      <td>0</td>\n",
       "      <td>3.869032</td>\n",
       "    </tr>\n",
       "    <tr>\n",
       "      <th>2</th>\n",
       "      <td>-0.940918</td>\n",
       "      <td>2.240234</td>\n",
       "      <td>0</td>\n",
       "      <td>-0.696289</td>\n",
       "      <td>1.958008</td>\n",
       "      <td>-0.675293</td>\n",
       "      <td>0.000000</td>\n",
       "      <td>-0.665527</td>\n",
       "      <td>-0.666016</td>\n",
       "      <td>-0.000423</td>\n",
       "      <td>...</td>\n",
       "      <td>27.078125</td>\n",
       "      <td>-0.917480</td>\n",
       "      <td>47.968750</td>\n",
       "      <td>-0.904785</td>\n",
       "      <td>29.265625</td>\n",
       "      <td>-0.890625</td>\n",
       "      <td>19.390625</td>\n",
       "      <td>3</td>\n",
       "      <td>0</td>\n",
       "      <td>3.869032</td>\n",
       "    </tr>\n",
       "    <tr>\n",
       "      <th>3</th>\n",
       "      <td>-0.916504</td>\n",
       "      <td>3.675781</td>\n",
       "      <td>0</td>\n",
       "      <td>-0.696289</td>\n",
       "      <td>3.224609</td>\n",
       "      <td>-0.619141</td>\n",
       "      <td>0.000000</td>\n",
       "      <td>-0.665527</td>\n",
       "      <td>-0.610352</td>\n",
       "      <td>0.305908</td>\n",
       "      <td>...</td>\n",
       "      <td>19.421875</td>\n",
       "      <td>0.311279</td>\n",
       "      <td>23.359375</td>\n",
       "      <td>-0.904785</td>\n",
       "      <td>35.250000</td>\n",
       "      <td>-0.890625</td>\n",
       "      <td>23.359375</td>\n",
       "      <td>4</td>\n",
       "      <td>0</td>\n",
       "      <td>3.869032</td>\n",
       "    </tr>\n",
       "    <tr>\n",
       "      <th>4</th>\n",
       "      <td>-0.892578</td>\n",
       "      <td>4.785156</td>\n",
       "      <td>0</td>\n",
       "      <td>-0.710449</td>\n",
       "      <td>4.199219</td>\n",
       "      <td>-0.549316</td>\n",
       "      <td>0.000000</td>\n",
       "      <td>-0.665527</td>\n",
       "      <td>-0.541016</td>\n",
       "      <td>0.580078</td>\n",
       "      <td>...</td>\n",
       "      <td>13.007812</td>\n",
       "      <td>0.798340</td>\n",
       "      <td>16.296875</td>\n",
       "      <td>0.324463</td>\n",
       "      <td>18.250000</td>\n",
       "      <td>-0.890625</td>\n",
       "      <td>26.015625</td>\n",
       "      <td>5</td>\n",
       "      <td>0</td>\n",
       "      <td>3.869032</td>\n",
       "    </tr>\n",
       "    <tr>\n",
       "      <th>...</th>\n",
       "      <td>...</td>\n",
       "      <td>...</td>\n",
       "      <td>...</td>\n",
       "      <td>...</td>\n",
       "      <td>...</td>\n",
       "      <td>...</td>\n",
       "      <td>...</td>\n",
       "      <td>...</td>\n",
       "      <td>...</td>\n",
       "      <td>...</td>\n",
       "      <td>...</td>\n",
       "      <td>...</td>\n",
       "      <td>...</td>\n",
       "      <td>...</td>\n",
       "      <td>...</td>\n",
       "      <td>...</td>\n",
       "      <td>...</td>\n",
       "      <td>...</td>\n",
       "      <td>...</td>\n",
       "      <td>...</td>\n",
       "      <td>...</td>\n",
       "    </tr>\n",
       "    <tr>\n",
       "      <th>4023995</th>\n",
       "      <td>0.923828</td>\n",
       "      <td>0.128418</td>\n",
       "      <td>1</td>\n",
       "      <td>0.151123</td>\n",
       "      <td>0.150024</td>\n",
       "      <td>-0.216797</td>\n",
       "      <td>1.111328</td>\n",
       "      <td>0.621582</td>\n",
       "      <td>-0.212158</td>\n",
       "      <td>-0.427734</td>\n",
       "      <td>...</td>\n",
       "      <td>-0.012299</td>\n",
       "      <td>0.080688</td>\n",
       "      <td>-0.010803</td>\n",
       "      <td>0.093079</td>\n",
       "      <td>-0.010971</td>\n",
       "      <td>0.106750</td>\n",
       "      <td>-0.009773</td>\n",
       "      <td>4023996</td>\n",
       "      <td>125748</td>\n",
       "      <td>3.869032</td>\n",
       "    </tr>\n",
       "    <tr>\n",
       "      <th>4023996</th>\n",
       "      <td>0.949707</td>\n",
       "      <td>0.129395</td>\n",
       "      <td>1</td>\n",
       "      <td>0.143188</td>\n",
       "      <td>0.150513</td>\n",
       "      <td>-0.202881</td>\n",
       "      <td>1.112305</td>\n",
       "      <td>0.639160</td>\n",
       "      <td>-0.199097</td>\n",
       "      <td>-0.425049</td>\n",
       "      <td>...</td>\n",
       "      <td>-0.016922</td>\n",
       "      <td>0.081299</td>\n",
       "      <td>-0.016006</td>\n",
       "      <td>0.093872</td>\n",
       "      <td>-0.016235</td>\n",
       "      <td>0.107605</td>\n",
       "      <td>-0.014664</td>\n",
       "      <td>4023997</td>\n",
       "      <td>125748</td>\n",
       "      <td>3.869032</td>\n",
       "    </tr>\n",
       "    <tr>\n",
       "      <th>4023997</th>\n",
       "      <td>0.975098</td>\n",
       "      <td>0.130249</td>\n",
       "      <td>1</td>\n",
       "      <td>0.090332</td>\n",
       "      <td>0.147827</td>\n",
       "      <td>-0.188843</td>\n",
       "      <td>1.113281</td>\n",
       "      <td>0.656250</td>\n",
       "      <td>-0.185913</td>\n",
       "      <td>-0.422363</td>\n",
       "      <td>...</td>\n",
       "      <td>-0.020874</td>\n",
       "      <td>0.081848</td>\n",
       "      <td>-0.020309</td>\n",
       "      <td>0.094482</td>\n",
       "      <td>-0.020630</td>\n",
       "      <td>0.108337</td>\n",
       "      <td>-0.018967</td>\n",
       "      <td>4023998</td>\n",
       "      <td>125748</td>\n",
       "      <td>3.869032</td>\n",
       "    </tr>\n",
       "    <tr>\n",
       "      <th>4023998</th>\n",
       "      <td>1.000000</td>\n",
       "      <td>0.130859</td>\n",
       "      <td>1</td>\n",
       "      <td>0.107300</td>\n",
       "      <td>0.149536</td>\n",
       "      <td>-0.174927</td>\n",
       "      <td>1.114258</td>\n",
       "      <td>0.673340</td>\n",
       "      <td>-0.172852</td>\n",
       "      <td>-0.419678</td>\n",
       "      <td>...</td>\n",
       "      <td>-0.024109</td>\n",
       "      <td>0.082275</td>\n",
       "      <td>-0.023926</td>\n",
       "      <td>0.095032</td>\n",
       "      <td>-0.024246</td>\n",
       "      <td>0.109009</td>\n",
       "      <td>-0.022537</td>\n",
       "      <td>4023999</td>\n",
       "      <td>125748</td>\n",
       "      <td>3.869032</td>\n",
       "    </tr>\n",
       "    <tr>\n",
       "      <th>4023999</th>\n",
       "      <td>1.026367</td>\n",
       "      <td>0.131470</td>\n",
       "      <td>1</td>\n",
       "      <td>0.342773</td>\n",
       "      <td>0.165405</td>\n",
       "      <td>-0.160767</td>\n",
       "      <td>1.114258</td>\n",
       "      <td>0.690430</td>\n",
       "      <td>-0.159790</td>\n",
       "      <td>-0.416992</td>\n",
       "      <td>...</td>\n",
       "      <td>-0.026672</td>\n",
       "      <td>0.082642</td>\n",
       "      <td>-0.026840</td>\n",
       "      <td>0.095459</td>\n",
       "      <td>-0.027237</td>\n",
       "      <td>0.109558</td>\n",
       "      <td>-0.025452</td>\n",
       "      <td>4024000</td>\n",
       "      <td>125748</td>\n",
       "      <td>3.869032</td>\n",
       "    </tr>\n",
       "  </tbody>\n",
       "</table>\n",
       "<p>4024000 rows × 64 columns</p>\n",
       "</div>"
      ],
      "text/plain": [
       "         time_step      u_in  u_out  time_delta     delta      area     cross  \\\n",
       "0        -0.989258 -0.956055      0  -15.476562 -0.861328 -0.734375  0.000000   \n",
       "1        -0.964844  0.683594      0   -0.705566  0.583984 -0.714355  0.000000   \n",
       "2        -0.940918  2.240234      0   -0.696289  1.958008 -0.675293  0.000000   \n",
       "3        -0.916504  3.675781      0   -0.696289  3.224609 -0.619141  0.000000   \n",
       "4        -0.892578  4.785156      0   -0.710449  4.199219 -0.549316  0.000000   \n",
       "...            ...       ...    ...         ...       ...       ...       ...   \n",
       "4023995   0.923828  0.128418      1    0.151123  0.150024 -0.216797  1.111328   \n",
       "4023996   0.949707  0.129395      1    0.143188  0.150513 -0.202881  1.112305   \n",
       "4023997   0.975098  0.130249      1    0.090332  0.147827 -0.188843  1.113281   \n",
       "4023998   1.000000  0.130859      1    0.107300  0.149536 -0.174927  1.114258   \n",
       "4023999   1.026367  0.131470      1    0.342773  0.165405 -0.160767  1.114258   \n",
       "\n",
       "           cross2  u_in_cumsum  u_in_cummean  ...  u_in_sqrt_filter_diff_1  \\\n",
       "0       -0.665527    -0.724121     -0.654785  ...                -0.041901   \n",
       "1       -0.665527    -0.704590     -0.322021  ...                68.375000   \n",
       "2       -0.665527    -0.666016     -0.000423  ...                27.078125   \n",
       "3       -0.665527    -0.610352      0.305908  ...                19.421875   \n",
       "4       -0.665527    -0.541016      0.580078  ...                13.007812   \n",
       "...           ...          ...           ...  ...                      ...   \n",
       "4023995  0.621582    -0.212158     -0.427734  ...                -0.012299   \n",
       "4023996  0.639160    -0.199097     -0.425049  ...                -0.016922   \n",
       "4023997  0.656250    -0.185913     -0.422363  ...                -0.020874   \n",
       "4023998  0.673340    -0.172852     -0.419678  ...                -0.024109   \n",
       "4023999  0.690430    -0.159790     -0.416992  ...                -0.026672   \n",
       "\n",
       "         u_in_sqrt_filter_lag_2  u_in_sqrt_filter_diff_2  \\\n",
       "0                     -0.917480                -0.043427   \n",
       "1                     -0.917480                34.343750   \n",
       "2                     -0.917480                47.968750   \n",
       "3                      0.311279                23.359375   \n",
       "4                      0.798340                16.296875   \n",
       "...                         ...                      ...   \n",
       "4023995                0.080688                -0.010803   \n",
       "4023996                0.081299                -0.016006   \n",
       "4023997                0.081848                -0.020309   \n",
       "4023998                0.082275                -0.023926   \n",
       "4023999                0.082642                -0.026840   \n",
       "\n",
       "         u_in_sqrt_filter_lag_3  u_in_sqrt_filter_diff_3  \\\n",
       "0                     -0.904785                -0.043823   \n",
       "1                     -0.904785                20.953125   \n",
       "2                     -0.904785                29.265625   \n",
       "3                     -0.904785                35.250000   \n",
       "4                      0.324463                18.250000   \n",
       "...                         ...                      ...   \n",
       "4023995                0.093079                -0.010971   \n",
       "4023996                0.093872                -0.016235   \n",
       "4023997                0.094482                -0.020630   \n",
       "4023998                0.095032                -0.024246   \n",
       "4023999                0.095459                -0.027237   \n",
       "\n",
       "         u_in_sqrt_filter_lag_4  u_in_sqrt_filter_diff_4       id  breath_id  \\\n",
       "0                     -0.890625                -0.041534        1          0   \n",
       "1                     -0.890625                13.882812        2          0   \n",
       "2                     -0.890625                19.390625        3          0   \n",
       "3                     -0.890625                23.359375        4          0   \n",
       "4                     -0.890625                26.015625        5          0   \n",
       "...                         ...                      ...      ...        ...   \n",
       "4023995                0.106750                -0.009773  4023996     125748   \n",
       "4023996                0.107605                -0.014664  4023997     125748   \n",
       "4023997                0.108337                -0.018967  4023998     125748   \n",
       "4023998                0.109009                -0.022537  4023999     125748   \n",
       "4023999                0.109558                -0.025452  4024000     125748   \n",
       "\n",
       "         pressure  \n",
       "0        3.869032  \n",
       "1        3.869032  \n",
       "2        3.869032  \n",
       "3        3.869032  \n",
       "4        3.869032  \n",
       "...           ...  \n",
       "4023995  3.869032  \n",
       "4023996  3.869032  \n",
       "4023997  3.869032  \n",
       "4023998  3.869032  \n",
       "4023999  3.869032  \n",
       "\n",
       "[4024000 rows x 64 columns]"
      ]
     },
     "metadata": {},
     "output_type": "display_data"
    },
    {
     "data": {
      "text/plain": [
       "(None, None)"
      ]
     },
     "execution_count": 32,
     "metadata": {},
     "output_type": "execute_result"
    }
   ],
   "source": [
    "display(train_df), display(test_df)"
   ]
  },
  {
   "cell_type": "code",
   "execution_count": null,
   "metadata": {},
   "outputs": [],
   "source": []
  },
  {
   "cell_type": "code",
   "execution_count": 33,
   "metadata": {},
   "outputs": [
    {
     "name": "stdout",
     "output_type": "stream",
     "text": [
      "Fold-0\n",
      "init LSTM(64, 256, num_layers=4, batch_first=True, dropout=0.1, bidirectional=True)\n"
     ]
    },
    {
     "name": "stderr",
     "output_type": "stream",
     "text": [
      "\u001b[34m\u001b[1mwandb\u001b[0m: Currently logged in as: \u001b[33msqrt4kaido\u001b[0m (use `wandb login --relogin` to force relogin)\n",
      "\u001b[34m\u001b[1mwandb\u001b[0m: wandb version 0.12.4 is available!  To upgrade, please run:\n",
      "\u001b[34m\u001b[1mwandb\u001b[0m:  $ pip install wandb --upgrade\n"
     ]
    },
    {
     "data": {
      "text/html": [
       "\n",
       "                    Syncing run <strong><a href=\"https://wandb.ai/sqrt4kaido/Ventilator-Pressure-Prediction/runs/2yesms9y\" target=\"_blank\">fresh-smoke-336</a></strong> to <a href=\"https://wandb.ai/sqrt4kaido/Ventilator-Pressure-Prediction\" target=\"_blank\">Weights & Biases</a> (<a href=\"https://docs.wandb.com/integrations/jupyter.html\" target=\"_blank\">docs</a>).<br/>\n",
       "\n",
       "                "
      ],
      "text/plain": [
       "<IPython.core.display.HTML object>"
      ]
     },
     "metadata": {},
     "output_type": "display_data"
    },
    {
     "name": "stderr",
     "output_type": "stream",
     "text": [
      "GPU available: True, used: True\n",
      "TPU available: False, using: 0 TPU cores\n",
      "LOCAL_RANK: 0 - CUDA_VISIBLE_DEVICES: [0]\n",
      "\n",
      "  | Name  | Type            | Params\n",
      "------------------------------------------\n",
      "0 | model | VentilatorModel | 6.1 M \n",
      "------------------------------------------\n",
      "6.1 M     Trainable params\n",
      "0         Non-trainable params\n",
      "6.1 M     Total params\n",
      "24.583    Total estimated model params size (MB)\n"
     ]
    },
    {
     "data": {
      "application/vnd.jupyter.widget-view+json": {
       "model_id": "",
       "version_major": 2,
       "version_minor": 0
      },
      "text/plain": [
       "Validation sanity check: 0it [00:00, ?it/s]"
      ]
     },
     "metadata": {},
     "output_type": "display_data"
    },
    {
     "name": "stdout",
     "output_type": "stream",
     "text": [
      "epoch = 0, custom_mae = 14.739411641493831\n"
     ]
    },
    {
     "data": {
      "application/vnd.jupyter.widget-view+json": {
       "model_id": "309f86e09ddc4d29b48158fe162f0bd2",
       "version_major": 2,
       "version_minor": 0
      },
      "text/plain": [
       "Training: 0it [00:00, ?it/s]"
      ]
     },
     "metadata": {},
     "output_type": "display_data"
    },
    {
     "data": {
      "application/vnd.jupyter.widget-view+json": {
       "model_id": "",
       "version_major": 2,
       "version_minor": 0
      },
      "text/plain": [
       "Validating: 0it [00:00, ?it/s]"
      ]
     },
     "metadata": {},
     "output_type": "display_data"
    },
    {
     "name": "stdout",
     "output_type": "stream",
     "text": [
      "epoch = 0, custom_mae = 2.221566189016836\n"
     ]
    },
    {
     "data": {
      "application/vnd.jupyter.widget-view+json": {
       "model_id": "",
       "version_major": 2,
       "version_minor": 0
      },
      "text/plain": [
       "Validating: 0it [00:00, ?it/s]"
      ]
     },
     "metadata": {},
     "output_type": "display_data"
    },
    {
     "name": "stdout",
     "output_type": "stream",
     "text": [
      "epoch = 1, custom_mae = 1.2025770139741159\n"
     ]
    },
    {
     "data": {
      "application/vnd.jupyter.widget-view+json": {
       "model_id": "",
       "version_major": 2,
       "version_minor": 0
      },
      "text/plain": [
       "Validating: 0it [00:00, ?it/s]"
      ]
     },
     "metadata": {},
     "output_type": "display_data"
    },
    {
     "name": "stdout",
     "output_type": "stream",
     "text": [
      "epoch = 2, custom_mae = 0.9667622976052598\n"
     ]
    },
    {
     "data": {
      "application/vnd.jupyter.widget-view+json": {
       "model_id": "",
       "version_major": 2,
       "version_minor": 0
      },
      "text/plain": [
       "Validating: 0it [00:00, ?it/s]"
      ]
     },
     "metadata": {},
     "output_type": "display_data"
    },
    {
     "name": "stdout",
     "output_type": "stream",
     "text": [
      "epoch = 3, custom_mae = 0.7126672709998579\n"
     ]
    },
    {
     "data": {
      "application/vnd.jupyter.widget-view+json": {
       "model_id": "",
       "version_major": 2,
       "version_minor": 0
      },
      "text/plain": [
       "Validating: 0it [00:00, ?it/s]"
      ]
     },
     "metadata": {},
     "output_type": "display_data"
    },
    {
     "name": "stdout",
     "output_type": "stream",
     "text": [
      "epoch = 4, custom_mae = 0.6625520111546959\n"
     ]
    },
    {
     "data": {
      "application/vnd.jupyter.widget-view+json": {
       "model_id": "",
       "version_major": 2,
       "version_minor": 0
      },
      "text/plain": [
       "Validating: 0it [00:00, ?it/s]"
      ]
     },
     "metadata": {},
     "output_type": "display_data"
    },
    {
     "name": "stdout",
     "output_type": "stream",
     "text": [
      "epoch = 5, custom_mae = 0.7214557601561143\n"
     ]
    },
    {
     "data": {
      "application/vnd.jupyter.widget-view+json": {
       "model_id": "",
       "version_major": 2,
       "version_minor": 0
      },
      "text/plain": [
       "Validating: 0it [00:00, ?it/s]"
      ]
     },
     "metadata": {},
     "output_type": "display_data"
    },
    {
     "name": "stdout",
     "output_type": "stream",
     "text": [
      "epoch = 6, custom_mae = 0.5963646318422815\n"
     ]
    },
    {
     "data": {
      "application/vnd.jupyter.widget-view+json": {
       "model_id": "",
       "version_major": 2,
       "version_minor": 0
      },
      "text/plain": [
       "Validating: 0it [00:00, ?it/s]"
      ]
     },
     "metadata": {},
     "output_type": "display_data"
    },
    {
     "name": "stdout",
     "output_type": "stream",
     "text": [
      "epoch = 7, custom_mae = 0.4267273050333238\n"
     ]
    },
    {
     "data": {
      "application/vnd.jupyter.widget-view+json": {
       "model_id": "",
       "version_major": 2,
       "version_minor": 0
      },
      "text/plain": [
       "Validating: 0it [00:00, ?it/s]"
      ]
     },
     "metadata": {},
     "output_type": "display_data"
    },
    {
     "name": "stdout",
     "output_type": "stream",
     "text": [
      "epoch = 8, custom_mae = 0.43359823007767084\n"
     ]
    },
    {
     "data": {
      "application/vnd.jupyter.widget-view+json": {
       "model_id": "",
       "version_major": 2,
       "version_minor": 0
      },
      "text/plain": [
       "Validating: 0it [00:00, ?it/s]"
      ]
     },
     "metadata": {},
     "output_type": "display_data"
    },
    {
     "name": "stdout",
     "output_type": "stream",
     "text": [
      "epoch = 9, custom_mae = 0.5370787462097909\n"
     ]
    },
    {
     "data": {
      "application/vnd.jupyter.widget-view+json": {
       "model_id": "",
       "version_major": 2,
       "version_minor": 0
      },
      "text/plain": [
       "Validating: 0it [00:00, ?it/s]"
      ]
     },
     "metadata": {},
     "output_type": "display_data"
    },
    {
     "name": "stdout",
     "output_type": "stream",
     "text": [
      "epoch = 10, custom_mae = 0.39254666023388635\n"
     ]
    },
    {
     "data": {
      "application/vnd.jupyter.widget-view+json": {
       "model_id": "",
       "version_major": 2,
       "version_minor": 0
      },
      "text/plain": [
       "Validating: 0it [00:00, ?it/s]"
      ]
     },
     "metadata": {},
     "output_type": "display_data"
    },
    {
     "name": "stdout",
     "output_type": "stream",
     "text": [
      "epoch = 11, custom_mae = 0.3729148334219691\n"
     ]
    },
    {
     "data": {
      "application/vnd.jupyter.widget-view+json": {
       "model_id": "",
       "version_major": 2,
       "version_minor": 0
      },
      "text/plain": [
       "Validating: 0it [00:00, ?it/s]"
      ]
     },
     "metadata": {},
     "output_type": "display_data"
    },
    {
     "name": "stdout",
     "output_type": "stream",
     "text": [
      "epoch = 12, custom_mae = 0.3384493610940964\n"
     ]
    },
    {
     "data": {
      "application/vnd.jupyter.widget-view+json": {
       "model_id": "",
       "version_major": 2,
       "version_minor": 0
      },
      "text/plain": [
       "Validating: 0it [00:00, ?it/s]"
      ]
     },
     "metadata": {},
     "output_type": "display_data"
    },
    {
     "name": "stdout",
     "output_type": "stream",
     "text": [
      "epoch = 13, custom_mae = 0.33728239312577696\n"
     ]
    },
    {
     "data": {
      "application/vnd.jupyter.widget-view+json": {
       "model_id": "",
       "version_major": 2,
       "version_minor": 0
      },
      "text/plain": [
       "Validating: 0it [00:00, ?it/s]"
      ]
     },
     "metadata": {},
     "output_type": "display_data"
    },
    {
     "name": "stdout",
     "output_type": "stream",
     "text": [
      "epoch = 14, custom_mae = 0.30834499636685536\n"
     ]
    },
    {
     "data": {
      "application/vnd.jupyter.widget-view+json": {
       "model_id": "",
       "version_major": 2,
       "version_minor": 0
      },
      "text/plain": [
       "Validating: 0it [00:00, ?it/s]"
      ]
     },
     "metadata": {},
     "output_type": "display_data"
    },
    {
     "name": "stdout",
     "output_type": "stream",
     "text": [
      "epoch = 15, custom_mae = 0.34667494609500293\n"
     ]
    },
    {
     "data": {
      "application/vnd.jupyter.widget-view+json": {
       "model_id": "",
       "version_major": 2,
       "version_minor": 0
      },
      "text/plain": [
       "Validating: 0it [00:00, ?it/s]"
      ]
     },
     "metadata": {},
     "output_type": "display_data"
    },
    {
     "name": "stdout",
     "output_type": "stream",
     "text": [
      "epoch = 16, custom_mae = 0.32483014664285015\n"
     ]
    },
    {
     "data": {
      "application/vnd.jupyter.widget-view+json": {
       "model_id": "",
       "version_major": 2,
       "version_minor": 0
      },
      "text/plain": [
       "Validating: 0it [00:00, ?it/s]"
      ]
     },
     "metadata": {},
     "output_type": "display_data"
    },
    {
     "name": "stdout",
     "output_type": "stream",
     "text": [
      "epoch = 17, custom_mae = 0.31323749595819694\n"
     ]
    },
    {
     "data": {
      "application/vnd.jupyter.widget-view+json": {
       "model_id": "",
       "version_major": 2,
       "version_minor": 0
      },
      "text/plain": [
       "Validating: 0it [00:00, ?it/s]"
      ]
     },
     "metadata": {},
     "output_type": "display_data"
    },
    {
     "name": "stdout",
     "output_type": "stream",
     "text": [
      "epoch = 18, custom_mae = 0.32601232519867274\n"
     ]
    },
    {
     "data": {
      "application/vnd.jupyter.widget-view+json": {
       "model_id": "",
       "version_major": 2,
       "version_minor": 0
      },
      "text/plain": [
       "Validating: 0it [00:00, ?it/s]"
      ]
     },
     "metadata": {},
     "output_type": "display_data"
    },
    {
     "name": "stdout",
     "output_type": "stream",
     "text": [
      "epoch = 19, custom_mae = 0.29755490949375474\n"
     ]
    },
    {
     "data": {
      "application/vnd.jupyter.widget-view+json": {
       "model_id": "",
       "version_major": 2,
       "version_minor": 0
      },
      "text/plain": [
       "Validating: 0it [00:00, ?it/s]"
      ]
     },
     "metadata": {},
     "output_type": "display_data"
    },
    {
     "name": "stdout",
     "output_type": "stream",
     "text": [
      "epoch = 20, custom_mae = 0.31279791140246666\n"
     ]
    },
    {
     "data": {
      "application/vnd.jupyter.widget-view+json": {
       "model_id": "",
       "version_major": 2,
       "version_minor": 0
      },
      "text/plain": [
       "Validating: 0it [00:00, ?it/s]"
      ]
     },
     "metadata": {},
     "output_type": "display_data"
    },
    {
     "name": "stdout",
     "output_type": "stream",
     "text": [
      "epoch = 21, custom_mae = 0.2810360948072041\n"
     ]
    },
    {
     "data": {
      "application/vnd.jupyter.widget-view+json": {
       "model_id": "",
       "version_major": 2,
       "version_minor": 0
      },
      "text/plain": [
       "Validating: 0it [00:00, ?it/s]"
      ]
     },
     "metadata": {},
     "output_type": "display_data"
    },
    {
     "name": "stdout",
     "output_type": "stream",
     "text": [
      "epoch = 22, custom_mae = 0.2746545936435392\n"
     ]
    },
    {
     "data": {
      "application/vnd.jupyter.widget-view+json": {
       "model_id": "",
       "version_major": 2,
       "version_minor": 0
      },
      "text/plain": [
       "Validating: 0it [00:00, ?it/s]"
      ]
     },
     "metadata": {},
     "output_type": "display_data"
    },
    {
     "name": "stdout",
     "output_type": "stream",
     "text": [
      "epoch = 23, custom_mae = 0.2531910009373669\n"
     ]
    },
    {
     "data": {
      "application/vnd.jupyter.widget-view+json": {
       "model_id": "",
       "version_major": 2,
       "version_minor": 0
      },
      "text/plain": [
       "Validating: 0it [00:00, ?it/s]"
      ]
     },
     "metadata": {},
     "output_type": "display_data"
    },
    {
     "name": "stdout",
     "output_type": "stream",
     "text": [
      "epoch = 24, custom_mae = 0.2791622004951589\n"
     ]
    },
    {
     "data": {
      "application/vnd.jupyter.widget-view+json": {
       "model_id": "",
       "version_major": 2,
       "version_minor": 0
      },
      "text/plain": [
       "Validating: 0it [00:00, ?it/s]"
      ]
     },
     "metadata": {},
     "output_type": "display_data"
    },
    {
     "name": "stdout",
     "output_type": "stream",
     "text": [
      "epoch = 25, custom_mae = 0.23703058193467164\n"
     ]
    },
    {
     "data": {
      "application/vnd.jupyter.widget-view+json": {
       "model_id": "",
       "version_major": 2,
       "version_minor": 0
      },
      "text/plain": [
       "Validating: 0it [00:00, ?it/s]"
      ]
     },
     "metadata": {},
     "output_type": "display_data"
    },
    {
     "name": "stdout",
     "output_type": "stream",
     "text": [
      "epoch = 26, custom_mae = 0.24745706377151658\n"
     ]
    },
    {
     "data": {
      "application/vnd.jupyter.widget-view+json": {
       "model_id": "",
       "version_major": 2,
       "version_minor": 0
      },
      "text/plain": [
       "Validating: 0it [00:00, ?it/s]"
      ]
     },
     "metadata": {},
     "output_type": "display_data"
    },
    {
     "name": "stdout",
     "output_type": "stream",
     "text": [
      "epoch = 27, custom_mae = 0.24472120521819932\n"
     ]
    },
    {
     "data": {
      "application/vnd.jupyter.widget-view+json": {
       "model_id": "",
       "version_major": 2,
       "version_minor": 0
      },
      "text/plain": [
       "Validating: 0it [00:00, ?it/s]"
      ]
     },
     "metadata": {},
     "output_type": "display_data"
    },
    {
     "name": "stdout",
     "output_type": "stream",
     "text": [
      "epoch = 28, custom_mae = 0.23316527119430638\n"
     ]
    },
    {
     "data": {
      "application/vnd.jupyter.widget-view+json": {
       "model_id": "",
       "version_major": 2,
       "version_minor": 0
      },
      "text/plain": [
       "Validating: 0it [00:00, ?it/s]"
      ]
     },
     "metadata": {},
     "output_type": "display_data"
    },
    {
     "name": "stdout",
     "output_type": "stream",
     "text": [
      "epoch = 29, custom_mae = 0.22607861028815393\n"
     ]
    },
    {
     "data": {
      "application/vnd.jupyter.widget-view+json": {
       "model_id": "",
       "version_major": 2,
       "version_minor": 0
      },
      "text/plain": [
       "Validating: 0it [00:00, ?it/s]"
      ]
     },
     "metadata": {},
     "output_type": "display_data"
    },
    {
     "name": "stdout",
     "output_type": "stream",
     "text": [
      "epoch = 30, custom_mae = 0.24048185601592964\n"
     ]
    },
    {
     "data": {
      "application/vnd.jupyter.widget-view+json": {
       "model_id": "",
       "version_major": 2,
       "version_minor": 0
      },
      "text/plain": [
       "Validating: 0it [00:00, ?it/s]"
      ]
     },
     "metadata": {},
     "output_type": "display_data"
    },
    {
     "name": "stdout",
     "output_type": "stream",
     "text": [
      "epoch = 31, custom_mae = 0.22140687675308995\n"
     ]
    },
    {
     "data": {
      "application/vnd.jupyter.widget-view+json": {
       "model_id": "",
       "version_major": 2,
       "version_minor": 0
      },
      "text/plain": [
       "Validating: 0it [00:00, ?it/s]"
      ]
     },
     "metadata": {},
     "output_type": "display_data"
    },
    {
     "name": "stdout",
     "output_type": "stream",
     "text": [
      "epoch = 32, custom_mae = 0.228867767817528\n"
     ]
    },
    {
     "data": {
      "application/vnd.jupyter.widget-view+json": {
       "model_id": "",
       "version_major": 2,
       "version_minor": 0
      },
      "text/plain": [
       "Validating: 0it [00:00, ?it/s]"
      ]
     },
     "metadata": {},
     "output_type": "display_data"
    },
    {
     "name": "stdout",
     "output_type": "stream",
     "text": [
      "epoch = 33, custom_mae = 0.20525536154461738\n"
     ]
    },
    {
     "data": {
      "application/vnd.jupyter.widget-view+json": {
       "model_id": "",
       "version_major": 2,
       "version_minor": 0
      },
      "text/plain": [
       "Validating: 0it [00:00, ?it/s]"
      ]
     },
     "metadata": {},
     "output_type": "display_data"
    },
    {
     "name": "stdout",
     "output_type": "stream",
     "text": [
      "epoch = 34, custom_mae = 0.19599293812128832\n"
     ]
    },
    {
     "data": {
      "application/vnd.jupyter.widget-view+json": {
       "model_id": "",
       "version_major": 2,
       "version_minor": 0
      },
      "text/plain": [
       "Validating: 0it [00:00, ?it/s]"
      ]
     },
     "metadata": {},
     "output_type": "display_data"
    },
    {
     "name": "stdout",
     "output_type": "stream",
     "text": [
      "epoch = 35, custom_mae = 0.18955708962543552\n"
     ]
    },
    {
     "data": {
      "application/vnd.jupyter.widget-view+json": {
       "model_id": "",
       "version_major": 2,
       "version_minor": 0
      },
      "text/plain": [
       "Validating: 0it [00:00, ?it/s]"
      ]
     },
     "metadata": {},
     "output_type": "display_data"
    },
    {
     "name": "stdout",
     "output_type": "stream",
     "text": [
      "epoch = 36, custom_mae = 0.1876045307384552\n"
     ]
    },
    {
     "data": {
      "application/vnd.jupyter.widget-view+json": {
       "model_id": "",
       "version_major": 2,
       "version_minor": 0
      },
      "text/plain": [
       "Validating: 0it [00:00, ?it/s]"
      ]
     },
     "metadata": {},
     "output_type": "display_data"
    },
    {
     "name": "stdout",
     "output_type": "stream",
     "text": [
      "epoch = 37, custom_mae = 0.18403149817787104\n"
     ]
    },
    {
     "data": {
      "application/vnd.jupyter.widget-view+json": {
       "model_id": "",
       "version_major": 2,
       "version_minor": 0
      },
      "text/plain": [
       "Validating: 0it [00:00, ?it/s]"
      ]
     },
     "metadata": {},
     "output_type": "display_data"
    },
    {
     "name": "stdout",
     "output_type": "stream",
     "text": [
      "epoch = 38, custom_mae = 0.18013754883449687\n"
     ]
    },
    {
     "data": {
      "application/vnd.jupyter.widget-view+json": {
       "model_id": "",
       "version_major": 2,
       "version_minor": 0
      },
      "text/plain": [
       "Validating: 0it [00:00, ?it/s]"
      ]
     },
     "metadata": {},
     "output_type": "display_data"
    },
    {
     "name": "stdout",
     "output_type": "stream",
     "text": [
      "epoch = 39, custom_mae = 0.17792409641790805\n"
     ]
    },
    {
     "data": {
      "application/vnd.jupyter.widget-view+json": {
       "model_id": "",
       "version_major": 2,
       "version_minor": 0
      },
      "text/plain": [
       "Validating: 0it [00:00, ?it/s]"
      ]
     },
     "metadata": {},
     "output_type": "display_data"
    },
    {
     "name": "stdout",
     "output_type": "stream",
     "text": [
      "epoch = 40, custom_mae = 0.17271224792934345\n"
     ]
    },
    {
     "data": {
      "application/vnd.jupyter.widget-view+json": {
       "model_id": "",
       "version_major": 2,
       "version_minor": 0
      },
      "text/plain": [
       "Validating: 0it [00:00, ?it/s]"
      ]
     },
     "metadata": {},
     "output_type": "display_data"
    },
    {
     "name": "stdout",
     "output_type": "stream",
     "text": [
      "epoch = 41, custom_mae = 0.1693217786133062\n"
     ]
    },
    {
     "data": {
      "application/vnd.jupyter.widget-view+json": {
       "model_id": "",
       "version_major": 2,
       "version_minor": 0
      },
      "text/plain": [
       "Validating: 0it [00:00, ?it/s]"
      ]
     },
     "metadata": {},
     "output_type": "display_data"
    },
    {
     "name": "stdout",
     "output_type": "stream",
     "text": [
      "epoch = 42, custom_mae = 0.16876394455150281\n"
     ]
    },
    {
     "data": {
      "application/vnd.jupyter.widget-view+json": {
       "model_id": "",
       "version_major": 2,
       "version_minor": 0
      },
      "text/plain": [
       "Validating: 0it [00:00, ?it/s]"
      ]
     },
     "metadata": {},
     "output_type": "display_data"
    },
    {
     "name": "stdout",
     "output_type": "stream",
     "text": [
      "epoch = 43, custom_mae = 0.16628900261779245\n"
     ]
    },
    {
     "data": {
      "application/vnd.jupyter.widget-view+json": {
       "model_id": "",
       "version_major": 2,
       "version_minor": 0
      },
      "text/plain": [
       "Validating: 0it [00:00, ?it/s]"
      ]
     },
     "metadata": {},
     "output_type": "display_data"
    },
    {
     "name": "stdout",
     "output_type": "stream",
     "text": [
      "epoch = 44, custom_mae = 0.1633982303817687\n"
     ]
    },
    {
     "data": {
      "application/vnd.jupyter.widget-view+json": {
       "model_id": "",
       "version_major": 2,
       "version_minor": 0
      },
      "text/plain": [
       "Validating: 0it [00:00, ?it/s]"
      ]
     },
     "metadata": {},
     "output_type": "display_data"
    },
    {
     "name": "stdout",
     "output_type": "stream",
     "text": [
      "epoch = 45, custom_mae = 0.1631467760599107\n"
     ]
    },
    {
     "data": {
      "application/vnd.jupyter.widget-view+json": {
       "model_id": "",
       "version_major": 2,
       "version_minor": 0
      },
      "text/plain": [
       "Validating: 0it [00:00, ?it/s]"
      ]
     },
     "metadata": {},
     "output_type": "display_data"
    },
    {
     "name": "stdout",
     "output_type": "stream",
     "text": [
      "epoch = 46, custom_mae = 0.1622179742583469\n"
     ]
    },
    {
     "data": {
      "application/vnd.jupyter.widget-view+json": {
       "model_id": "",
       "version_major": 2,
       "version_minor": 0
      },
      "text/plain": [
       "Validating: 0it [00:00, ?it/s]"
      ]
     },
     "metadata": {},
     "output_type": "display_data"
    },
    {
     "name": "stdout",
     "output_type": "stream",
     "text": [
      "epoch = 47, custom_mae = 0.16167211726557015\n"
     ]
    },
    {
     "data": {
      "application/vnd.jupyter.widget-view+json": {
       "model_id": "",
       "version_major": 2,
       "version_minor": 0
      },
      "text/plain": [
       "Validating: 0it [00:00, ?it/s]"
      ]
     },
     "metadata": {},
     "output_type": "display_data"
    },
    {
     "name": "stdout",
     "output_type": "stream",
     "text": [
      "epoch = 48, custom_mae = 0.16123664844199725\n"
     ]
    },
    {
     "data": {
      "application/vnd.jupyter.widget-view+json": {
       "model_id": "",
       "version_major": 2,
       "version_minor": 0
      },
      "text/plain": [
       "Validating: 0it [00:00, ?it/s]"
      ]
     },
     "metadata": {},
     "output_type": "display_data"
    },
    {
     "name": "stdout",
     "output_type": "stream",
     "text": [
      "epoch = 49, custom_mae = 0.16121895834154165\n",
      "train done.\n",
      "fold = 0, valid mask score = 0.1612189553798727:\n"
     ]
    },
    {
     "data": {
      "text/html": [
       "<br/>Waiting for W&B process to finish, PID 13138... <strong style=\"color:green\">(success).</strong>"
      ],
      "text/plain": [
       "<IPython.core.display.HTML object>"
      ]
     },
     "metadata": {},
     "output_type": "display_data"
    },
    {
     "data": {
      "application/vnd.jupyter.widget-view+json": {
       "model_id": "",
       "version_major": 2,
       "version_minor": 0
      },
      "text/plain": [
       "VBox(children=(Label(value=' 0.00MB of 0.00MB uploaded (0.00MB deduped)\\r'), FloatProgress(value=1.0, max=1.0)…"
      ]
     },
     "metadata": {},
     "output_type": "display_data"
    },
    {
     "data": {
      "text/html": [
       "<style>\n",
       "    table.wandb td:nth-child(1) { padding: 0 10px; text-align: right }\n",
       "    .wandb-row { display: flex; flex-direction: row; flex-wrap: wrap; width: 100% }\n",
       "    .wandb-col { display: flex; flex-direction: column; flex-basis: 100%; flex: 1; padding: 10px; }\n",
       "    </style>\n",
       "<div class=\"wandb-row\"><div class=\"wandb-col\">\n",
       "<h3>Run history:</h3><br/><table class=\"wandb\"><tr><td>Loss/train</td><td>█▆▅▄▃▃▃▃▃▃▂▂▂▂▂▂▂▂▂▂▂▂▂▂▂▂▁▁▁▁▁▁▁▁▁▁▁▁▁▁</td></tr><tr><td>Loss/val</td><td>█▆▅▄▄▃▃▃▃▂▂▂▂▂▂▂▂▂▂▂▂▂▂▂▂▁▁▁▁▁▁▁▁▁▁▁▁▁▁▁</td></tr><tr><td>custom_mae/val</td><td>█▅▄▃▃▂▂▂▂▂▂▂▂▂▂▂▂▁▁▁▁▁▁▁▁▁▁▁▁▁▁▁▁▁▁▁▁▁▁▁</td></tr><tr><td>epoch</td><td>▁▁▁▁▂▂▂▂▂▃▃▃▃▃▃▄▄▄▄▄▅▅▅▅▅▅▆▆▆▆▆▇▇▇▇▇▇███</td></tr><tr><td>trainer/global_step</td><td>▁▁▁▁▂▂▂▂▂▃▃▃▃▃▃▄▄▄▄▄▅▅▅▅▅▅▆▆▆▆▆▇▇▇▇▇▇███</td></tr></table><br/></div><div class=\"wandb-col\">\n",
       "<h3>Run summary:</h3><br/><table class=\"wandb\"><tr><td>Loss/train</td><td>6.14797</td></tr><tr><td>Loss/val</td><td>6.62777</td></tr><tr><td>custom_mae/val</td><td>0.16122</td></tr><tr><td>epoch</td><td>49</td></tr><tr><td>trainer/global_step</td><td>23549</td></tr></table>\n",
       "</div></div>\n",
       "Synced 5 W&B file(s), 0 media file(s), 0 artifact file(s) and 0 other file(s)\n",
       "<br/>Synced <strong style=\"color:#cdcd00\">fresh-smoke-336</strong>: <a href=\"https://wandb.ai/sqrt4kaido/Ventilator-Pressure-Prediction/runs/2yesms9y\" target=\"_blank\">https://wandb.ai/sqrt4kaido/Ventilator-Pressure-Prediction/runs/2yesms9y</a><br/>\n",
       "Find logs at: <code>./wandb/run-20211014_142020-2yesms9y/logs</code><br/>\n"
      ],
      "text/plain": [
       "<IPython.core.display.HTML object>"
      ]
     },
     "metadata": {},
     "output_type": "display_data"
    }
   ],
   "source": [
    "oof = np.zeros(len(train_df))\n",
    "test_preds_lst = []\n",
    "input_dim = len(train_value_col)\n",
    "train_df['pred'] = 0\n",
    "\n",
    "gkf = GroupKFold(n_splits=CFG.n_folds).split(train_df, train_df.pressure, groups=train_df.breath_id)\n",
    "for fold, (_, valid_idx) in enumerate(gkf):\n",
    "    train_df.loc[valid_idx, 'fold'] = fold\n",
    "    \n",
    "for i, fold in enumerate(range(CFG.n_folds)):\n",
    "    if i not in CFG.folds:\n",
    "        continue\n",
    "    print(f'Fold-{fold}')\n",
    "    \n",
    "    trn_df = train_df.query(f\"fold!={fold}\").reset_index(drop=True)\n",
    "    val_df = train_df.query(f\"fold=={fold}\").reset_index(drop=True)\n",
    "    \n",
    "    loaders = {\n",
    "        phase: DataLoader(\n",
    "            VentilatorDataset(\n",
    "                df_, train_value_col, train_category_col, target_dic\n",
    "            ),\n",
    "            **CFG.loader_params[phase])  # type: ignore\n",
    "        for phase, df_ in zip([\"train\", \"valid\", \"test\"], [trn_df, val_df, test_df])\n",
    "    }\n",
    "    \n",
    "\n",
    "    model = VentilatorModel(input_dim)\n",
    "    model_name = model.__class__.__name__\n",
    "    \n",
    "\n",
    "    num_train_steps = int(len(loaders['train']) * CFG.epochs)\n",
    "    num_warmup_steps = int(num_train_steps / 10)\n",
    "    learner = Learner(model, num_train_steps, num_warmup_steps, target_dic_inv, unique_targets)\n",
    "    \n",
    "    # loggers\n",
    "    RUN_NAME = f'exp{str(CFG.exp_num)}'\n",
    "    wandb.init(project='Ventilator-Pressure-Prediction', entity='sqrt4kaido', group=RUN_NAME, job_type=RUN_NAME + f'-fold-{i}')\n",
    "    wandb.run.name = RUN_NAME + f'-fold-{i}'\n",
    "    wandb_config = wandb.config\n",
    "    wandb_config.model_name = model_name\n",
    "    wandb.watch(model)\n",
    "    \n",
    "    # callbacks\n",
    "    callbacks = []\n",
    "    checkpoint_callback = ModelCheckpoint(\n",
    "        monitor=f'custom_mae/val',\n",
    "        mode='min',\n",
    "        dirpath=OUTPUT_DIR,\n",
    "        verbose=False,\n",
    "        save_weights_only=True,\n",
    "        filename=f'{model_name}-{CFG.exp_num}-{learner.current_epoch}-{i}')\n",
    "    callbacks.append(checkpoint_callback)\n",
    "    \n",
    "    loggers = []\n",
    "    loggers.append(WandbLogger())\n",
    "    \n",
    "    trainer = pl.Trainer(\n",
    "        logger=loggers,\n",
    "        callbacks=callbacks,\n",
    "        max_epochs=CFG.epochs,\n",
    "        default_root_dir=OUTPUT_DIR,\n",
    "        gpus=1,\n",
    "#         fast_dev_run=DEBUG,\n",
    "        deterministic=True,\n",
    "        benchmark=False,\n",
    "        )\n",
    "    \n",
    "    trainer.fit(learner, train_dataloader=loaders['train'], val_dataloaders=loaders['valid'])\n",
    "#     trainer.save_checkpoint(OUTPUT_DIR / \"last.ckpt\")\n",
    "    print('train done.')\n",
    "\n",
    "    ############\n",
    "    # validation (to make oof)\n",
    "    #############\n",
    "    checkpoint = torch.load(checkpoint_callback.best_model_path)\n",
    "    learner.load_state_dict(checkpoint['state_dict'])\n",
    "    model = model.to(device)\n",
    "    \n",
    "    valid_loss, valid_predict = valid_loop(model, loaders['valid'], target_dic_inv)\n",
    "    valid_score_mask = compute_metric(valid_predict, val_df['pressure'].values, val_df['u_out'].values)\n",
    "    print(f\"fold = {fold}, valid mask score = {valid_score_mask}:\")\n",
    "    train_df.loc[train_df['fold'] == fold, 'pred'] = valid_predict\n",
    "    train_df.loc[train_df['fold'] == fold, ['id', 'pred']].to_csv(OUTPUT_DIR / f\"oof_f{fold}_{CFG.exp_num}.csv\", index=None)\n",
    "    \n",
    "    \n",
    "    #############\n",
    "    # inference\n",
    "    #############\n",
    "\n",
    "    test_preds = test_loop(model, loaders['test'], target_dic_inv)\n",
    "    test_preds_lst.append(test_preds)\n",
    "    \n",
    "    sub_df['pressure'] = test_preds\n",
    "    sub_df.to_csv(OUTPUT_DIR / f\"sub_f{fold}_{CFG.exp_num}.csv\", index=None)\n",
    "    \n",
    "wandb.finish()"
   ]
  },
  {
   "cell_type": "code",
   "execution_count": null,
   "metadata": {},
   "outputs": [],
   "source": [
    "valid_score_mask = compute_metric(train_df['pred'].values, train_df['pressure'].values, train_df['u_out'].values)\n",
    "print(\"CV:\", valid_score_mask)"
   ]
  },
  {
   "cell_type": "code",
   "execution_count": null,
   "metadata": {},
   "outputs": [],
   "source": [
    "oof_df = train_df.loc[:, ['id', 'pred']]\n",
    "oof_df.to_csv(OUTPUT_DIR / f\"oof_total_{CFG.exp_num}.csv\", index=None)"
   ]
  },
  {
   "cell_type": "code",
   "execution_count": null,
   "metadata": {
    "tags": []
   },
   "outputs": [],
   "source": [
    "sub_df['pressure'] = np.stack(test_preds_lst).mean(0)\n",
    "sub_df.to_csv(OUTPUT_DIR / f\"submission_mean_{CFG.exp_num}.csv\", index=None)\n",
    "\n",
    "sub_df['pressure'] = np.median(np.stack(test_preds_lst), axis=0)\n",
    "sub_df.to_csv(OUTPUT_DIR / f\"submission_median_{CFG.exp_num}.csv\", index=None)\n",
    "\n",
    "# Post Processing: https://www.kaggle.com/snnclsr/a-dummy-approach-to-improve-your-score-postprocess\n",
    "unique_pressures = train_df[\"pressure\"].unique()\n",
    "sorted_pressures = np.sort(unique_pressures)\n",
    "total_pressures_len = len(sorted_pressures)\n",
    "\n",
    "def find_nearest(prediction):\n",
    "    insert_idx = np.searchsorted(sorted_pressures, prediction)\n",
    "    if insert_idx == total_pressures_len:\n",
    "        # If the predicted value is bigger than the highest pressure in the train dataset,\n",
    "        # return the max value.\n",
    "        return sorted_pressures[-1]\n",
    "    elif insert_idx == 0:\n",
    "        # Same control but for the lower bound.\n",
    "        return sorted_pressures[0]\n",
    "    lower_val = sorted_pressures[insert_idx - 1]\n",
    "    upper_val = sorted_pressures[insert_idx]\n",
    "    return lower_val if abs(lower_val - prediction) < abs(upper_val - prediction) else upper_val\n",
    "\n",
    "sub_df = pd.read_csv(OUTPUT_DIR / f\"submission_mean_{CFG.exp_num}.csv\")\n",
    "sub_df[\"pressure\"] = sub_df[\"pressure\"].apply(find_nearest)\n",
    "sub_df.to_csv(OUTPUT_DIR / f\"submission_mean_pp_{CFG.exp_num}.csv\", index=None)\n",
    "\n",
    "sub_df = pd.read_csv(OUTPUT_DIR / f\"submission_median_{CFG.exp_num}.csv\")\n",
    "sub_df[\"pressure\"] = sub_df[\"pressure\"].apply(find_nearest)\n",
    "sub_df.to_csv(OUTPUT_DIR / f\"submission_median_pp_{CFG.exp_num}.csv\", index=None)"
   ]
  },
  {
   "cell_type": "code",
   "execution_count": null,
   "metadata": {
    "tags": []
   },
   "outputs": [],
   "source": []
  }
 ],
 "metadata": {
  "kernelspec": {
   "display_name": "Python 3",
   "language": "python",
   "name": "python3"
  },
  "language_info": {
   "codemirror_mode": {
    "name": "ipython",
    "version": 3
   },
   "file_extension": ".py",
   "mimetype": "text/x-python",
   "name": "python",
   "nbconvert_exporter": "python",
   "pygments_lexer": "ipython3",
   "version": "3.8.11"
  }
 },
 "nbformat": 4,
 "nbformat_minor": 4
}
