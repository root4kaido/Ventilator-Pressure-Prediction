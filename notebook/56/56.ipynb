{
 "cells": [
  {
   "cell_type": "markdown",
   "metadata": {},
   "source": [
    "# Train classification"
   ]
  },
  {
   "cell_type": "markdown",
   "metadata": {},
   "source": [
    "Most sharing code train this dataset as a regression task.\n",
    "\n",
    "But in this code, I train as a classification task.\n",
    "\n",
    "I encode the target value pressure to 950 classes and calculate CrossEntropy Loss."
   ]
  },
  {
   "cell_type": "code",
   "execution_count": 1,
   "metadata": {},
   "outputs": [
    {
     "data": {
      "text/html": [
       "<style>.container { width:100% !important; }</style>"
      ],
      "text/plain": [
       "<IPython.core.display.HTML object>"
      ]
     },
     "metadata": {},
     "output_type": "display_data"
    }
   ],
   "source": [
    "from IPython.core.display import display, HTML \n",
    "display(HTML(\"<style>.container { width:100% !important; }</style>\")) "
   ]
  },
  {
   "cell_type": "code",
   "execution_count": 1,
   "metadata": {
    "tags": []
   },
   "outputs": [],
   "source": [
    "import gc\n",
    "import os\n",
    "import sys\n",
    "import copy\n",
    "import random\n",
    "import wandb\n",
    "import math\n",
    "from pathlib import Path\n",
    "from collections import OrderedDict\n",
    "\n",
    "import numpy as np\n",
    "import pandas as pd\n",
    "import scipy.signal\n",
    "from scipy import signal\n",
    "\n",
    "from sklearn.model_selection import GroupKFold\n",
    "from tqdm.notebook import tqdm\n",
    "\n",
    "import torch\n",
    "import torch.nn as nn\n",
    "import torch.optim as optim\n",
    "from torch.nn import functional as F\n",
    "from torch.utils.data import Dataset, DataLoader\n",
    "\n",
    "from transformers import AdamW\n",
    "from transformers import get_cosine_schedule_with_warmup\n",
    "from sklearn.preprocessing import RobustScaler, QuantileTransformer\n",
    "\n",
    "import pytorch_lightning as pl\n",
    "from pytorch_lightning.callbacks import ModelCheckpoint\n",
    "from pytorch_lightning.callbacks import EarlyStopping\n",
    "from pytorch_lightning.loggers import WandbLogger\n",
    "\n",
    "device = torch.device(\"cuda\")"
   ]
  },
  {
   "cell_type": "code",
   "execution_count": 2,
   "metadata": {},
   "outputs": [],
   "source": [
    "sys.path.append('../../src/')\n",
    "import utils as utils\n",
    "from utils import Timer"
   ]
  },
  {
   "cell_type": "code",
   "execution_count": 3,
   "metadata": {
    "tags": []
   },
   "outputs": [],
   "source": [
    "class CFG:\n",
    "    exp_num = 56\n",
    "    n_folds = 5\n",
    "    folds = [0]\n",
    "    seed = 777\n",
    "    local = True\n",
    "    \n",
    "    lr = 0.0015\n",
    "    epochs = 50\n",
    "    emb_dim = 64\n",
    "    hidden_dim = 256\n",
    "    weight_decay = 0.1  \n",
    "    \n",
    "    ######################\n",
    "    # Loaders #\n",
    "    ######################\n",
    "    loader_params = {\n",
    "        \"train\": {\n",
    "            'batch_size': 128,\n",
    "            'shuffle': True,\n",
    "            'num_workers': 8,\n",
    "            'pin_memory': True,\n",
    "            'drop_last': True,\n",
    "        },\n",
    "        \"valid\": {\n",
    "            'batch_size': 32,\n",
    "            'shuffle': False,\n",
    "            'num_workers': 8,\n",
    "            'pin_memory': True,\n",
    "            'drop_last': False,\n",
    "        },\n",
    "        \"test\": {\n",
    "            'batch_size': 32,\n",
    "            'shuffle': False,\n",
    "            'num_workers': 8,\n",
    "            'pin_memory': True,\n",
    "            'drop_last': False,\n",
    "        }\n",
    "    }\n"
   ]
  },
  {
   "cell_type": "code",
   "execution_count": 4,
   "metadata": {
    "tags": []
   },
   "outputs": [],
   "source": [
    "utils.set_seed(CFG.seed)    "
   ]
  },
  {
   "cell_type": "code",
   "execution_count": 5,
   "metadata": {},
   "outputs": [],
   "source": [
    "if CFG.local:\n",
    "    DATA_DIR = Path(\"/home/knikaido/work/Ventilator-Pressure-Prediction/data/ventilator-pressure-prediction\")\n",
    "    OUTPUT_DIR = Path('./output/')\n",
    "else:\n",
    "    DATA_DIR = Path(\"../input/ventilator-pressure-prediction\")\n",
    "    OUTPUT_DIR = Path('')   "
   ]
  },
  {
   "cell_type": "code",
   "execution_count": 6,
   "metadata": {},
   "outputs": [],
   "source": [
    "def loss_fn(y_pred, y_true, u_outs):\n",
    "#     loss = nn.L1Loss()(y_pred.reshape(-1), y_true.reshape(-1))\n",
    "    w = 1 - u_outs.reshape(-1)\n",
    "    loss = nn.CrossEntropyLoss(reduction = 'none')(y_pred.reshape(-1, 950), y_true.reshape(-1)).reshape(-1)\n",
    "    loss = loss * w\n",
    "    loss = loss.sum() / w.sum()\n",
    "    return loss\n",
    "\n",
    "def compute_metric(preds, trues, u_outs):\n",
    "    \"\"\"\n",
    "    Metric for the problem, as I understood it.\n",
    "    \"\"\"\n",
    "    \n",
    "    y = trues\n",
    "    w = 1 - u_outs\n",
    "    \n",
    "    assert y.shape == preds.shape and w.shape == y.shape, (y.shape, preds.shape, w.shape)\n",
    "    \n",
    "    mae = w * np.abs(y - preds)\n",
    "    mae = mae.sum() / w.sum()\n",
    "    \n",
    "    return mae\n",
    "\n",
    "def get_score(y_pred, y_true, u_outs):\n",
    "    return compute_metric(y_pred, y_true, u_outs)"
   ]
  },
  {
   "cell_type": "code",
   "execution_count": 7,
   "metadata": {
    "tags": []
   },
   "outputs": [],
   "source": [
    "class VentilatorDataset(Dataset):\n",
    "    \n",
    "    def __init__(self, df, train_value_col, train_category_col, label_dic=None):\n",
    "        self.dfs = [_df for _, _df in df.groupby(\"breath_id\")]\n",
    "        self.label_dic = label_dic\n",
    "        \n",
    "    def __len__(self):\n",
    "        return len(self.dfs)\n",
    "    \n",
    "    def __getitem__(self, item):\n",
    "        df = self.dfs[item]\n",
    "        X = df[train_category_col + train_value_col].values\n",
    "        u_out = df['u_out'].values\n",
    "        y = df['pressure'].values\n",
    "        if self.label_dic is None:\n",
    "            label = [-1]\n",
    "        else:\n",
    "            label = [self.label_dic[i] for i in y]\n",
    "\n",
    "        d = {\n",
    "            \"X\": torch.tensor(X).float(),\n",
    "            \"u_out\": torch.tensor(u_out).long(),\n",
    "            \"y\" : torch.tensor(label).long(),\n",
    "        }\n",
    "        return d"
   ]
  },
  {
   "cell_type": "code",
   "execution_count": 8,
   "metadata": {
    "tags": []
   },
   "outputs": [],
   "source": [
    "class VentilatorModel(nn.Module):\n",
    "    \n",
    "    def __init__(self, input_dim):\n",
    "        super(VentilatorModel, self).__init__()\n",
    "        self.rc_emb = nn.Embedding(9, 4, padding_idx=0)\n",
    "\n",
    "        self.seq_emb = nn.Sequential(\n",
    "            nn.Linear(4+input_dim, CFG.emb_dim),\n",
    "            nn.LayerNorm(CFG.emb_dim)\n",
    "        )\n",
    "        \n",
    "        self.lstm = nn.LSTM(CFG.emb_dim, CFG.hidden_dim, batch_first=True, bidirectional=True, dropout=0.1, num_layers=4)\n",
    "\n",
    "        self.head = nn.Sequential(\n",
    "            nn.Linear(CFG.hidden_dim * 2, CFG.hidden_dim * 2),\n",
    "            nn.LayerNorm(CFG.hidden_dim * 2),\n",
    "            nn.ReLU(),\n",
    "            nn.Linear(CFG.hidden_dim * 2, 950),\n",
    "        )\n",
    "        \n",
    "        # Encoder\n",
    "        initrange = 0.1\n",
    "        self.rc_emb.weight.data.uniform_(-initrange, initrange)\n",
    "        \n",
    "        # LSTM\n",
    "        for n, m in self.named_modules():\n",
    "            if isinstance(m, nn.LSTM):\n",
    "                print(f'init {m}')\n",
    "                for param in m.parameters():\n",
    "                    if len(param.shape) >= 2:\n",
    "                        nn.init.orthogonal_(param.data)\n",
    "                    else:\n",
    "                        nn.init.normal_(param.data)\n",
    "\n",
    "    def forward(self, X, y=None):\n",
    "        # embed\n",
    "        bs = X.shape[0]\n",
    "        rc_emb = self.rc_emb(X[:,:,0].long()).view(bs, 80, -1)\n",
    "\n",
    "        seq_x = torch.cat((rc_emb, X[:, :, 1:]), 2)\n",
    "        emb_x = self.seq_emb(seq_x)\n",
    "        \n",
    "        out, _ = self.lstm(emb_x, None) \n",
    "        logits = self.head(out)\n",
    "\n",
    "        return logits"
   ]
  },
  {
   "cell_type": "code",
   "execution_count": 9,
   "metadata": {},
   "outputs": [],
   "source": [
    "# Learner class(pytorch-lighting)\n",
    "class Learner(pl.LightningModule):\n",
    "    def __init__(self, model, num_train_steps, num_warmup_steps, target_dic_inv, unique_targets):\n",
    "        super().__init__()\n",
    "        self.model = model\n",
    "        self.criterion = loss_fn\n",
    "        self.num_train_steps = num_train_steps\n",
    "        self.num_warmup_steps = num_warmup_steps\n",
    "        self.target_dic_inv = target_dic_inv\n",
    "        self.unique_targets = unique_targets\n",
    "    \n",
    "    def training_step(self, batch, batch_idx):\n",
    "        d_ = batch\n",
    "        out = self.model(d_['X'])\n",
    "        loss = self.criterion(out, d_['y'], d_['u_out'])\n",
    "        \n",
    "        self.log(f'Loss/train', loss, on_step=False, on_epoch=True, prog_bar=False, logger=True)\n",
    "        sch = self.lr_schedulers()\n",
    "        sch.step()\n",
    "        return loss\n",
    "    \n",
    "    def validation_step(self, batch, batch_idx):\n",
    "        d_ = batch\n",
    "        out = self.model(d_['X'])\n",
    "        loss = self.criterion(out, d_['y'], d_['u_out'])\n",
    "        \n",
    "        self.log(f'Loss/val', loss, on_step=False, on_epoch=True, prog_bar=False, logger=True)\n",
    "        \n",
    "        pred = out.reshape(-1, 950).softmax(1)\n",
    "        pred = torch.sum(torch.tensor(self.unique_targets).to(device) *  pred, axis=1)\n",
    "        target = torch.tensor([[self.target_dic_inv[j.item()] for j in i] for i in d_['y']])\n",
    "        output = OrderedDict({\n",
    "            \"targets\": target.detach(), \"preds\": pred.detach(), \"u_outs\": d_['u_out'].detach(), \"loss\": loss.detach()\n",
    "        })\n",
    "        return output\n",
    "    \n",
    "    def validation_epoch_end(self, outputs):\n",
    "\n",
    "        targets = torch.cat([o[\"targets\"].view(-1) for o in outputs]).cpu().numpy()\n",
    "        preds = torch.cat([o[\"preds\"].view(-1) for o in outputs]).cpu().numpy()\n",
    "        u_outs = torch.cat([o[\"u_outs\"].view(-1) for o in outputs]).cpu().numpy()\n",
    "\n",
    "        score = get_score(preds, targets, u_outs)\n",
    "        self.log(f'custom_mae/val', score, on_step=False, on_epoch=True, prog_bar=True, logger=True)\n",
    "        print(f'epoch = {self.current_epoch}, custom_mae = {score}')\n",
    "\n",
    "    def configure_optimizers(self):\n",
    "#         optimizer = get_optimizer(self.model)\n",
    "#         scheduler = get_scheduler(optimizer)\n",
    "        optimizer = AdamW(self.model.parameters(), lr=CFG.lr, weight_decay=CFG.weight_decay)\n",
    "        scheduler = get_cosine_schedule_with_warmup(optimizer, \n",
    "                                                    num_warmup_steps=self.num_warmup_steps, \n",
    "                                                    num_training_steps=self.num_train_steps)\n",
    "\n",
    "        return {\"optimizer\": optimizer, \"lr_scheduler\": scheduler, \"monitor\": \"Loss/val\"}"
   ]
  },
  {
   "cell_type": "code",
   "execution_count": 10,
   "metadata": {
    "tags": []
   },
   "outputs": [],
   "source": [
    "def valid_loop(model, loader, target_dic_inv):\n",
    "    losses, predicts = [], []\n",
    "    model.eval()\n",
    "    for d in loader:\n",
    "        with torch.no_grad():\n",
    "            out = model(d['X'].to(device))\n",
    "            loss = loss_fn(out, d['y'].to(device), d['u_out'].to(device))\n",
    "        pred = out.reshape(-1, 950).softmax(1)\n",
    "        pred = torch.sum(torch.tensor(unique_targets).to(device) *  pred, axis=1)\n",
    "        losses.append(loss.item())\n",
    "        predicts.append(pred.cpu().numpy())\n",
    "\n",
    "    return np.array(losses).mean(), np.concatenate(predicts)\n",
    "\n",
    "def test_loop(model, loader, target_dic_inv):\n",
    "    predicts = []\n",
    "    model.eval()\n",
    "    for d in loader:\n",
    "        with torch.no_grad():\n",
    "            out = model(d['X'].to(device))\n",
    "        pred = out.reshape(-1, 950).softmax(1)\n",
    "        pred = torch.sum(torch.tensor(unique_targets).to(device) *  pred, axis=1)\n",
    "        predicts.append(pred.cpu().numpy())\n",
    "\n",
    "    return np.concatenate(predicts)"
   ]
  },
  {
   "cell_type": "code",
   "execution_count": null,
   "metadata": {},
   "outputs": [],
   "source": []
  },
  {
   "cell_type": "code",
   "execution_count": 11,
   "metadata": {},
   "outputs": [],
   "source": [
    "train = pd.read_csv(DATA_DIR / 'train.csv')\n",
    "test = pd.read_csv(DATA_DIR / 'test.csv')\n",
    "sub_df = pd.read_csv(DATA_DIR / \"sample_submission.csv\")"
   ]
  },
  {
   "cell_type": "code",
   "execution_count": 12,
   "metadata": {},
   "outputs": [
    {
     "data": {
      "text/html": [
       "<div>\n",
       "<style scoped>\n",
       "    .dataframe tbody tr th:only-of-type {\n",
       "        vertical-align: middle;\n",
       "    }\n",
       "\n",
       "    .dataframe tbody tr th {\n",
       "        vertical-align: top;\n",
       "    }\n",
       "\n",
       "    .dataframe thead th {\n",
       "        text-align: right;\n",
       "    }\n",
       "</style>\n",
       "<table border=\"1\" class=\"dataframe\">\n",
       "  <thead>\n",
       "    <tr style=\"text-align: right;\">\n",
       "      <th></th>\n",
       "      <th>id</th>\n",
       "      <th>breath_id</th>\n",
       "      <th>R</th>\n",
       "      <th>C</th>\n",
       "      <th>time_step</th>\n",
       "      <th>u_in</th>\n",
       "      <th>u_out</th>\n",
       "      <th>pressure</th>\n",
       "    </tr>\n",
       "  </thead>\n",
       "  <tbody>\n",
       "    <tr>\n",
       "      <th>0</th>\n",
       "      <td>1</td>\n",
       "      <td>1</td>\n",
       "      <td>20</td>\n",
       "      <td>50</td>\n",
       "      <td>0.000000</td>\n",
       "      <td>0.083334</td>\n",
       "      <td>0</td>\n",
       "      <td>5.837492</td>\n",
       "    </tr>\n",
       "    <tr>\n",
       "      <th>1</th>\n",
       "      <td>2</td>\n",
       "      <td>1</td>\n",
       "      <td>20</td>\n",
       "      <td>50</td>\n",
       "      <td>0.033652</td>\n",
       "      <td>18.383041</td>\n",
       "      <td>0</td>\n",
       "      <td>5.907794</td>\n",
       "    </tr>\n",
       "    <tr>\n",
       "      <th>2</th>\n",
       "      <td>3</td>\n",
       "      <td>1</td>\n",
       "      <td>20</td>\n",
       "      <td>50</td>\n",
       "      <td>0.067514</td>\n",
       "      <td>22.509278</td>\n",
       "      <td>0</td>\n",
       "      <td>7.876254</td>\n",
       "    </tr>\n",
       "    <tr>\n",
       "      <th>3</th>\n",
       "      <td>4</td>\n",
       "      <td>1</td>\n",
       "      <td>20</td>\n",
       "      <td>50</td>\n",
       "      <td>0.101542</td>\n",
       "      <td>22.808822</td>\n",
       "      <td>0</td>\n",
       "      <td>11.742872</td>\n",
       "    </tr>\n",
       "    <tr>\n",
       "      <th>4</th>\n",
       "      <td>5</td>\n",
       "      <td>1</td>\n",
       "      <td>20</td>\n",
       "      <td>50</td>\n",
       "      <td>0.135756</td>\n",
       "      <td>25.355850</td>\n",
       "      <td>0</td>\n",
       "      <td>12.234987</td>\n",
       "    </tr>\n",
       "    <tr>\n",
       "      <th>...</th>\n",
       "      <td>...</td>\n",
       "      <td>...</td>\n",
       "      <td>...</td>\n",
       "      <td>...</td>\n",
       "      <td>...</td>\n",
       "      <td>...</td>\n",
       "      <td>...</td>\n",
       "      <td>...</td>\n",
       "    </tr>\n",
       "    <tr>\n",
       "      <th>6035995</th>\n",
       "      <td>6035996</td>\n",
       "      <td>125749</td>\n",
       "      <td>50</td>\n",
       "      <td>10</td>\n",
       "      <td>2.504603</td>\n",
       "      <td>1.489714</td>\n",
       "      <td>1</td>\n",
       "      <td>3.869032</td>\n",
       "    </tr>\n",
       "    <tr>\n",
       "      <th>6035996</th>\n",
       "      <td>6035997</td>\n",
       "      <td>125749</td>\n",
       "      <td>50</td>\n",
       "      <td>10</td>\n",
       "      <td>2.537961</td>\n",
       "      <td>1.488497</td>\n",
       "      <td>1</td>\n",
       "      <td>3.869032</td>\n",
       "    </tr>\n",
       "    <tr>\n",
       "      <th>6035997</th>\n",
       "      <td>6035998</td>\n",
       "      <td>125749</td>\n",
       "      <td>50</td>\n",
       "      <td>10</td>\n",
       "      <td>2.571408</td>\n",
       "      <td>1.558978</td>\n",
       "      <td>1</td>\n",
       "      <td>3.798729</td>\n",
       "    </tr>\n",
       "    <tr>\n",
       "      <th>6035998</th>\n",
       "      <td>6035999</td>\n",
       "      <td>125749</td>\n",
       "      <td>50</td>\n",
       "      <td>10</td>\n",
       "      <td>2.604744</td>\n",
       "      <td>1.272663</td>\n",
       "      <td>1</td>\n",
       "      <td>4.079938</td>\n",
       "    </tr>\n",
       "    <tr>\n",
       "      <th>6035999</th>\n",
       "      <td>6036000</td>\n",
       "      <td>125749</td>\n",
       "      <td>50</td>\n",
       "      <td>10</td>\n",
       "      <td>2.638017</td>\n",
       "      <td>1.482739</td>\n",
       "      <td>1</td>\n",
       "      <td>3.869032</td>\n",
       "    </tr>\n",
       "  </tbody>\n",
       "</table>\n",
       "<p>6036000 rows × 8 columns</p>\n",
       "</div>"
      ],
      "text/plain": [
       "              id  breath_id   R   C  time_step       u_in  u_out   pressure\n",
       "0              1          1  20  50   0.000000   0.083334      0   5.837492\n",
       "1              2          1  20  50   0.033652  18.383041      0   5.907794\n",
       "2              3          1  20  50   0.067514  22.509278      0   7.876254\n",
       "3              4          1  20  50   0.101542  22.808822      0  11.742872\n",
       "4              5          1  20  50   0.135756  25.355850      0  12.234987\n",
       "...          ...        ...  ..  ..        ...        ...    ...        ...\n",
       "6035995  6035996     125749  50  10   2.504603   1.489714      1   3.869032\n",
       "6035996  6035997     125749  50  10   2.537961   1.488497      1   3.869032\n",
       "6035997  6035998     125749  50  10   2.571408   1.558978      1   3.798729\n",
       "6035998  6035999     125749  50  10   2.604744   1.272663      1   4.079938\n",
       "6035999  6036000     125749  50  10   2.638017   1.482739      1   3.869032\n",
       "\n",
       "[6036000 rows x 8 columns]"
      ]
     },
     "metadata": {},
     "output_type": "display_data"
    },
    {
     "data": {
      "text/html": [
       "<div>\n",
       "<style scoped>\n",
       "    .dataframe tbody tr th:only-of-type {\n",
       "        vertical-align: middle;\n",
       "    }\n",
       "\n",
       "    .dataframe tbody tr th {\n",
       "        vertical-align: top;\n",
       "    }\n",
       "\n",
       "    .dataframe thead th {\n",
       "        text-align: right;\n",
       "    }\n",
       "</style>\n",
       "<table border=\"1\" class=\"dataframe\">\n",
       "  <thead>\n",
       "    <tr style=\"text-align: right;\">\n",
       "      <th></th>\n",
       "      <th>id</th>\n",
       "      <th>breath_id</th>\n",
       "      <th>R</th>\n",
       "      <th>C</th>\n",
       "      <th>time_step</th>\n",
       "      <th>u_in</th>\n",
       "      <th>u_out</th>\n",
       "    </tr>\n",
       "  </thead>\n",
       "  <tbody>\n",
       "    <tr>\n",
       "      <th>0</th>\n",
       "      <td>1</td>\n",
       "      <td>0</td>\n",
       "      <td>5</td>\n",
       "      <td>20</td>\n",
       "      <td>0.000000</td>\n",
       "      <td>0.000000</td>\n",
       "      <td>0</td>\n",
       "    </tr>\n",
       "    <tr>\n",
       "      <th>1</th>\n",
       "      <td>2</td>\n",
       "      <td>0</td>\n",
       "      <td>5</td>\n",
       "      <td>20</td>\n",
       "      <td>0.031904</td>\n",
       "      <td>7.515046</td>\n",
       "      <td>0</td>\n",
       "    </tr>\n",
       "    <tr>\n",
       "      <th>2</th>\n",
       "      <td>3</td>\n",
       "      <td>0</td>\n",
       "      <td>5</td>\n",
       "      <td>20</td>\n",
       "      <td>0.063827</td>\n",
       "      <td>14.651675</td>\n",
       "      <td>0</td>\n",
       "    </tr>\n",
       "    <tr>\n",
       "      <th>3</th>\n",
       "      <td>4</td>\n",
       "      <td>0</td>\n",
       "      <td>5</td>\n",
       "      <td>20</td>\n",
       "      <td>0.095751</td>\n",
       "      <td>21.230610</td>\n",
       "      <td>0</td>\n",
       "    </tr>\n",
       "    <tr>\n",
       "      <th>4</th>\n",
       "      <td>5</td>\n",
       "      <td>0</td>\n",
       "      <td>5</td>\n",
       "      <td>20</td>\n",
       "      <td>0.127644</td>\n",
       "      <td>26.320956</td>\n",
       "      <td>0</td>\n",
       "    </tr>\n",
       "    <tr>\n",
       "      <th>...</th>\n",
       "      <td>...</td>\n",
       "      <td>...</td>\n",
       "      <td>...</td>\n",
       "      <td>...</td>\n",
       "      <td>...</td>\n",
       "      <td>...</td>\n",
       "      <td>...</td>\n",
       "    </tr>\n",
       "    <tr>\n",
       "      <th>4023995</th>\n",
       "      <td>4023996</td>\n",
       "      <td>125748</td>\n",
       "      <td>20</td>\n",
       "      <td>10</td>\n",
       "      <td>2.530117</td>\n",
       "      <td>4.971245</td>\n",
       "      <td>1</td>\n",
       "    </tr>\n",
       "    <tr>\n",
       "      <th>4023996</th>\n",
       "      <td>4023997</td>\n",
       "      <td>125748</td>\n",
       "      <td>20</td>\n",
       "      <td>10</td>\n",
       "      <td>2.563853</td>\n",
       "      <td>4.975709</td>\n",
       "      <td>1</td>\n",
       "    </tr>\n",
       "    <tr>\n",
       "      <th>4023997</th>\n",
       "      <td>4023998</td>\n",
       "      <td>125748</td>\n",
       "      <td>20</td>\n",
       "      <td>10</td>\n",
       "      <td>2.597475</td>\n",
       "      <td>4.979468</td>\n",
       "      <td>1</td>\n",
       "    </tr>\n",
       "    <tr>\n",
       "      <th>4023998</th>\n",
       "      <td>4023999</td>\n",
       "      <td>125748</td>\n",
       "      <td>20</td>\n",
       "      <td>10</td>\n",
       "      <td>2.631134</td>\n",
       "      <td>4.982648</td>\n",
       "      <td>1</td>\n",
       "    </tr>\n",
       "    <tr>\n",
       "      <th>4023999</th>\n",
       "      <td>4024000</td>\n",
       "      <td>125748</td>\n",
       "      <td>20</td>\n",
       "      <td>10</td>\n",
       "      <td>2.665301</td>\n",
       "      <td>4.985373</td>\n",
       "      <td>1</td>\n",
       "    </tr>\n",
       "  </tbody>\n",
       "</table>\n",
       "<p>4024000 rows × 7 columns</p>\n",
       "</div>"
      ],
      "text/plain": [
       "              id  breath_id   R   C  time_step       u_in  u_out\n",
       "0              1          0   5  20   0.000000   0.000000      0\n",
       "1              2          0   5  20   0.031904   7.515046      0\n",
       "2              3          0   5  20   0.063827  14.651675      0\n",
       "3              4          0   5  20   0.095751  21.230610      0\n",
       "4              5          0   5  20   0.127644  26.320956      0\n",
       "...          ...        ...  ..  ..        ...        ...    ...\n",
       "4023995  4023996     125748  20  10   2.530117   4.971245      1\n",
       "4023996  4023997     125748  20  10   2.563853   4.975709      1\n",
       "4023997  4023998     125748  20  10   2.597475   4.979468      1\n",
       "4023998  4023999     125748  20  10   2.631134   4.982648      1\n",
       "4023999  4024000     125748  20  10   2.665301   4.985373      1\n",
       "\n",
       "[4024000 rows x 7 columns]"
      ]
     },
     "metadata": {},
     "output_type": "display_data"
    },
    {
     "data": {
      "text/plain": [
       "(None, None)"
      ]
     },
     "execution_count": 12,
     "metadata": {},
     "output_type": "execute_result"
    }
   ],
   "source": [
    "display(train), display(test)"
   ]
  },
  {
   "cell_type": "code",
   "execution_count": 13,
   "metadata": {},
   "outputs": [],
   "source": [
    "def get_raw_features(input_df, dataType = 'train'):\n",
    "    colum = ['time_step', 'u_in', 'u_out']\n",
    "\n",
    "    return input_df[colum]"
   ]
  },
  {
   "cell_type": "code",
   "execution_count": 14,
   "metadata": {},
   "outputs": [],
   "source": [
    "def get_category_features(input_df, dataType = 'train'):\n",
    "    output_df = copy.deepcopy(input_df)\n",
    "    colum = ['R_C']\n",
    "    rc_map = {'5_10': 0, '5_20': 1, '5_50': 2, '20_10': 3, '20_20': 4, '20_50': 5, '50_10': 6, '50_20': 7, '50_50': 8}\n",
    "    \n",
    "    output_df['R_C'] = [f'{r}_{c}' for r, c in zip(output_df['R'], output_df['C'])]\n",
    "    output_df['R_C'] = output_df['R_C'].map(rc_map)\n",
    "\n",
    "    return output_df[colum]"
   ]
  },
  {
   "cell_type": "code",
   "execution_count": 15,
   "metadata": {},
   "outputs": [],
   "source": [
    "def get_simple_calc_features(input_df, dataType = 'train'):\n",
    "    output_df = copy.deepcopy(input_df)\n",
    "    c_num = input_df.shape[1]\n",
    "    \n",
    "    output_df['time_delta'] = output_df.groupby('breath_id')['time_step'].diff().fillna(0)\n",
    "    output_df['delta'] = output_df['time_delta'] * output_df['u_in']\n",
    "    output_df['area'] = output_df.groupby('breath_id')['delta'].cumsum()\n",
    "\n",
    "    output_df['cross']= output_df['u_in']*output_df['u_out']\n",
    "    output_df['cross2']= output_df['time_step']*output_df['u_out']\n",
    "    \n",
    "    output_df['u_in_cumsum'] = (output_df['u_in']).groupby(output_df['breath_id']).cumsum()\n",
    "    output_df['one'] = 1\n",
    "    output_df['count'] = (output_df['one']).groupby(output_df['breath_id']).cumsum()\n",
    "    output_df['u_in_cummean'] =output_df['u_in_cumsum'] / output_df['count']\n",
    "\n",
    "    \n",
    "    output_df = output_df.drop(['count','one'], axis=1)\n",
    "    \n",
    "    return output_df.iloc[:, c_num:]"
   ]
  },
  {
   "cell_type": "code",
   "execution_count": 16,
   "metadata": {},
   "outputs": [],
   "source": [
    "def get_diff_shift_features(input_df, dataType = 'train'):\n",
    "    \n",
    "    output_df = copy.deepcopy(input_df)\n",
    "    c_num = input_df.shape[1]\n",
    "    \n",
    "    USE_LAG = [-2, -1, 1, 2, 3, 4]\n",
    "    \n",
    "    for lag in USE_LAG:\n",
    "        output_df[f'breath_id_lag{lag}']=output_df['breath_id'].shift(lag).fillna(0)\n",
    "        output_df[f'breath_id_lag{lag}same']=np.select([output_df[f'breath_id_lag{lag}']==output_df['breath_id']], [1], 0)\n",
    "\n",
    "        # u_in \n",
    "        output_df[f'u_in_lag_{lag}'] = output_df['u_in'].shift(lag).fillna(0) * output_df[f'breath_id_lag{lag}same']\n",
    "        output_df[f'u_in_diff_{lag}'] = output_df['u_in'] - output_df[f'u_in_lag_{lag}']\n",
    "        output_df[f'u_out_lag_{lag}'] = output_df['u_out'].shift(lag).fillna(0) * output_df[f'breath_id_lag{lag}same']\n",
    "\n",
    "        # breath_time\n",
    "    output_df[f'time_step_lag_{1}'] = output_df['time_step'].shift(1).fillna(0) * output_df[f'breath_id_lag{1}same']\n",
    "    output_df[f'time_step_diff_{1}'] = output_df['time_step'] - output_df[f'time_step_lag_{1}']\n",
    "\n",
    "    drop_columns = ['time_step_lag_1']\n",
    "    drop_columns += [f'breath_id_lag{i}' for i in USE_LAG]\n",
    "    drop_columns += [f'breath_id_lag{i}same' for i in USE_LAG]\n",
    "    output_df = output_df.drop(drop_columns, axis=1)\n",
    "\n",
    "    # fill na by zero\n",
    "    output_df = output_df.fillna(0)\n",
    "    \n",
    "    return output_df.iloc[:, c_num:]"
   ]
  },
  {
   "cell_type": "code",
   "execution_count": 17,
   "metadata": {},
   "outputs": [],
   "source": [
    "def get_agg_features(input_df, dataType = 'train'):\n",
    "    \n",
    "    output_df = copy.deepcopy(input_df)\n",
    "    c_num = input_df.shape[1]\n",
    "    \n",
    "    # Dict for aggregations\n",
    "    create_feature_dict = {\n",
    "        'u_in': [np.max, np.mean],\n",
    "    }\n",
    "    \n",
    "    def get_agg_window(start_time=0, end_time=3.0, add_suffix = False):\n",
    "        \n",
    "        df_tgt = output_df[(output_df['time_step'] >= start_time) & (output_df['time_step'] <= end_time)]\n",
    "        df_feature = df_tgt.groupby(['breath_id']).agg(create_feature_dict)\n",
    "        df_feature.columns = ['_'.join(col) for col in df_feature.columns]\n",
    "        \n",
    "        if add_suffix:\n",
    "            df_feature = df_feature.add_suffix('_' + str(start_time) + '_' + str(end_time))\n",
    "            \n",
    "        return df_feature\n",
    "    \n",
    "    df_agg_feature = get_agg_window().reset_index()\n",
    "    \n",
    "#     df_tmp = get_agg_window(start_time = 2, add_suffix = True).reset_index()\n",
    "#     df_agg_feature = df_agg_feature.merge(df_tmp, how = 'left', on = 'breath_id')\n",
    "#     df_tmp = get_agg_window(start_time = 1, add_suffix = True).reset_index()\n",
    "#     df_agg_feature = df_agg_feature.merge(df_tmp, how = 'left', on = 'breath_id')\n",
    "#     df_tmp = get_agg_window(end_time = 1, add_suffix = True).reset_index()\n",
    "#     df_agg_feature = df_agg_feature.merge(df_tmp, how = 'left', on = 'breath_id')\n",
    "#     df_tmp = get_agg_window(end_time = 2, add_suffix = True).reset_index()\n",
    "#     df_agg_feature = df_agg_feature.merge(df_tmp, how = 'left', on = 'breath_id')\n",
    "\n",
    "    output_df = pd.merge(output_df, df_agg_feature, how='left', on='breath_id')\n",
    "    \n",
    "    output_df['u_in_diffmax'] = output_df['u_in_amax'] - output_df['u_in']\n",
    "    output_df['u_in_diffmean'] = output_df['u_in_mean'] - output_df['u_in']\n",
    "    \n",
    "#     output_df = output_df.drop(['u_in_amax','u_in_mean'], axis=1)\n",
    "    \n",
    "    return output_df.iloc[:, c_num:]"
   ]
  },
  {
   "cell_type": "code",
   "execution_count": 18,
   "metadata": {},
   "outputs": [],
   "source": [
    "def lowpass(x, samplerate, fp, fs, gpass, gstop):\n",
    "    fn = samplerate / 2   #ナイキスト周波数\n",
    "    wp = fp / fn  #ナイキスト周波数で通過域端周波数を正規化\n",
    "    ws = fs / fn  #ナイキスト周波数で阻止域端周波数を正規化\n",
    "    N, Wn = signal.buttord(wp, ws, gpass, gstop)  #オーダーとバターワースの正規化周波数を計算\n",
    "    b, a = signal.butter(N, Wn, \"low\")            #フィルタ伝達関数の分子と分母を計算\n",
    "    y = signal.filtfilt(b, a, x)                  #信号に対してフィルタをかける\n",
    "    return y  "
   ]
  },
  {
   "cell_type": "code",
   "execution_count": 19,
   "metadata": {},
   "outputs": [],
   "source": [
    "fp = 5 # 通過域端周波数[Hz]\n",
    "fs = 10 # 阻止域端周波数[Hz]\n",
    "gpass = 3 # 通過域端最大損失[dB]\n",
    "gstop = 40 # 阻止域端最小損失[dB]\n",
    "samplerate = 100\n",
    "def lowpass_filter(series):\n",
    "    return lowpass(series, samplerate, fp, fs, gpass, gstop)"
   ]
  },
  {
   "cell_type": "code",
   "execution_count": 20,
   "metadata": {},
   "outputs": [],
   "source": [
    "def get_filter_features(input_df, dataType = 'train'):\n",
    "    \n",
    "    output_df = copy.deepcopy(input_df)\n",
    "    c_num = input_df.shape[1]\n",
    "    \n",
    "    def get_agg_window(start_time=0, end_time=3.0, add_suffix = False):\n",
    "        \n",
    "        df_tgt = output_df[(output_df['time_step'] >= start_time) & (output_df['time_step'] <= end_time)]\n",
    "        df_feature = df_tgt.groupby(['breath_id'])['u_in'].apply(lowpass_filter)\n",
    "        df_feature.name = 'u_in_filter'\n",
    "                    \n",
    "        return df_feature\n",
    "    \n",
    "    df_agg_feature = get_agg_window().reset_index()\n",
    "    df_agg_feature = df_agg_feature.explode(\"u_in_filter\").reset_index(drop=True)\n",
    "    \n",
    "    USE_LAG = [-2, -1, 1, 2, 3, 4]\n",
    "    \n",
    "    for lag in USE_LAG:\n",
    "        df_agg_feature[f'breath_id_lag{lag}']=df_agg_feature['breath_id'].shift(lag).fillna(0)\n",
    "        df_agg_feature[f'breath_id_lag{lag}same']=np.select([df_agg_feature[f'breath_id_lag{lag}']==df_agg_feature['breath_id']], [1], 0)\n",
    "\n",
    "        # u_in \n",
    "        df_agg_feature[f'u_in_filter_lag_{lag}'] = df_agg_feature['u_in_filter'].shift(lag).fillna(0) * df_agg_feature[f'breath_id_lag{lag}same']\n",
    "        df_agg_feature[f'u_in_filter_diff_{lag}'] = df_agg_feature['u_in_filter'] - df_agg_feature[f'u_in_filter_lag_{lag}']\n",
    "\n",
    "    drop_columns = [f'breath_id_lag{i}' for i in USE_LAG]\n",
    "    drop_columns += [f'breath_id_lag{i}same' for i in USE_LAG]\n",
    "    df_agg_feature = df_agg_feature.drop(drop_columns, axis=1)\n",
    "    df_agg_feature = df_agg_feature.fillna(0)\n",
    "    \n",
    "    return df_agg_feature.iloc[:, 1:]"
   ]
  },
  {
   "cell_type": "code",
   "execution_count": 21,
   "metadata": {},
   "outputs": [],
   "source": [
    "def get_sqrt_features(input_df, dataType = 'train'):\n",
    "    \n",
    "    output_df = copy.deepcopy(input_df)\n",
    "    c_num = input_df.shape[1]\n",
    "    \n",
    "    output_df['u_in_sqrt'] = output_df['u_in'].apply(lambda x: np.sqrt(x))\n",
    "    output_df['u_in_sqrt_cumsum'] = output_df.groupby('breath_id')['u_in_sqrt'].cumsum()\n",
    "    \n",
    "    USE_LAG = [-2, -1, 1, 2, 3, 4]\n",
    "    \n",
    "    for lag in USE_LAG:\n",
    "        output_df[f'breath_id_lag{lag}']=output_df['breath_id'].shift(lag).fillna(0)\n",
    "        output_df[f'breath_id_lag{lag}same']=np.select([output_df[f'breath_id_lag{lag}']==output_df['breath_id']], [1], 0)\n",
    "\n",
    "        # u_in \n",
    "        output_df[f'u_in_sqrt_filter_lag_{lag}'] = output_df['u_in_sqrt'].shift(lag).fillna(0) * output_df[f'breath_id_lag{lag}same']\n",
    "        output_df[f'u_in_sqrt_filter_diff_{lag}'] = output_df['u_in_sqrt'] - output_df[f'u_in_sqrt_filter_lag_{lag}']\n",
    "\n",
    "    drop_columns = [f'breath_id_lag{i}' for i in USE_LAG]\n",
    "    drop_columns += [f'breath_id_lag{i}same' for i in USE_LAG]\n",
    "    output_df = output_df.drop(drop_columns, axis=1)\n",
    "    output_df = output_df.fillna(0)\n",
    "    \n",
    "    return output_df.iloc[:, c_num:]"
   ]
  },
  {
   "cell_type": "code",
   "execution_count": 22,
   "metadata": {},
   "outputs": [],
   "source": [
    "def get_vib_features(input_df, dataType = 'train'):\n",
    "    \n",
    "    output_df = copy.deepcopy(input_df)\n",
    "    c_num = input_df.shape[1]\n",
    "    \n",
    "    output_df['u_out_diff'] = output_df['u_out'].diff()\n",
    "    output_df['u_out_diff'].fillna(0, inplace=True)\n",
    "    output_df['u_out_diff'].replace(-1, 0, inplace=True)\n",
    "    uout1_df = output_df[output_df['u_out_diff']==1]\n",
    "    \n",
    "    first_df = output_df.loc[0::80,:]\n",
    "    first_0_dict = dict(zip(first_df['id'], [0]*len(uout1_df)))\n",
    "\n",
    "    output_df['u_in_diff'] = output_df['u_in'].diff()\n",
    "    output_df['diff_sign'] = np.sign(output_df['u_in_diff'])\n",
    "    output_df['sign_diff'] = output_df['diff_sign'].diff()\n",
    "    output_df['tmp'] = output_df['id'].map(first_0_dict) # put 0, the 80row cycle\n",
    "    output_df.iloc[0::80, output_df.columns.get_loc('sign_diff')] = output_df.iloc[0::80, output_df.columns.get_loc('tmp')]\n",
    "\n",
    "    # Count the number of inversions, so take the absolute value and sum\n",
    "    output_df['sign_diff'] = abs(output_df['sign_diff']) \n",
    "    sign_diff_dict = output_df.groupby('breath_id')['sign_diff'].sum().to_dict()\n",
    "    output_df['diff_vib'] = output_df['breath_id'].map(sign_diff_dict)\n",
    "    \n",
    "    return output_df['diff_vib']"
   ]
  },
  {
   "cell_type": "code",
   "execution_count": 23,
   "metadata": {},
   "outputs": [],
   "source": [
    "def to_feature(input_df, dataType = 'train'):\n",
    "    \"\"\"input_df を特徴量行列に変換した新しいデータフレームを返す.\n",
    "    \"\"\"\n",
    "\n",
    "    processors = [\n",
    "        get_raw_features,\n",
    "        get_simple_calc_features,\n",
    "        get_diff_shift_features,\n",
    "        get_agg_features,\n",
    "        get_category_features,\n",
    "        get_filter_features,\n",
    "        get_sqrt_features\n",
    "    ]\n",
    "\n",
    "    out_df = pd.DataFrame()\n",
    "\n",
    "    for func in tqdm(processors, total=len(processors)):\n",
    "        with Timer(prefix='' + func.__name__ + ' '):\n",
    "            _df = func(input_df, dataType)\n",
    "\n",
    "        # 長さが等しいことをチェック (ずれている場合, func の実装がおかしい)\n",
    "        assert len(_df) == len(input_df), func.__name__\n",
    "        out_df = pd.concat([out_df, _df], axis=1)\n",
    "#     out_df = utils.reduce_mem_usage(out_df)\n",
    "    \n",
    "    return out_df"
   ]
  },
  {
   "cell_type": "code",
   "execution_count": null,
   "metadata": {},
   "outputs": [],
   "source": []
  },
  {
   "cell_type": "code",
   "execution_count": 24,
   "metadata": {},
   "outputs": [
    {
     "data": {
      "application/vnd.jupyter.widget-view+json": {
       "model_id": "88c8a8382c45479f9c6d80df9669bb87",
       "version_major": 2,
       "version_minor": 0
      },
      "text/plain": [
       "  0%|          | 0/7 [00:00<?, ?it/s]"
      ]
     },
     "metadata": {},
     "output_type": "display_data"
    },
    {
     "name": "stdout",
     "output_type": "stream",
     "text": [
      "get_raw_features  0.021[s]\n",
      "get_simple_calc_features  12.110[s]\n",
      "get_diff_shift_features  2.153[s]\n",
      "get_agg_features  1.038[s]\n",
      "get_category_features  2.382[s]\n",
      "get_filter_features  41.261[s]\n",
      "get_sqrt_features  5.544[s]\n"
     ]
    },
    {
     "data": {
      "application/vnd.jupyter.widget-view+json": {
       "model_id": "bca5ee350a0b474ea5d82cbd4b8d01b6",
       "version_major": 2,
       "version_minor": 0
      },
      "text/plain": [
       "  0%|          | 0/7 [00:00<?, ?it/s]"
      ]
     },
     "metadata": {},
     "output_type": "display_data"
    },
    {
     "name": "stdout",
     "output_type": "stream",
     "text": [
      "get_raw_features  0.014[s]\n",
      "get_simple_calc_features  8.089[s]\n",
      "get_diff_shift_features  1.267[s]\n",
      "get_agg_features  0.623[s]\n",
      "get_category_features  1.528[s]\n",
      "get_filter_features  27.345[s]\n",
      "get_sqrt_features  3.568[s]\n"
     ]
    }
   ],
   "source": [
    "train_df = to_feature(train, dataType = 'train')\n",
    "test_df = to_feature(test, dataType = 'test')"
   ]
  },
  {
   "cell_type": "code",
   "execution_count": 25,
   "metadata": {},
   "outputs": [],
   "source": [
    "train_category_col = ['R_C']\n",
    "train_value_col = [i for i in train_df.columns.to_list() if i not in train_category_col]"
   ]
  },
  {
   "cell_type": "code",
   "execution_count": 26,
   "metadata": {},
   "outputs": [],
   "source": [
    "norm_features = train_value_col\n",
    "norm_features = sorted(list(set(train_value_col) - set(['u_out'])), key=norm_features.index)\n",
    "def norm_scale(train_df, test_df):\n",
    "    scaler = RobustScaler()\n",
    "    all_u_in = np.vstack([train_df[norm_features].values, test_df[norm_features].values])\n",
    "    scaler.fit(all_u_in)\n",
    "    train_df[norm_features] = scaler.transform(train_df[norm_features].values)\n",
    "    test_df[norm_features] = scaler.transform(test_df[norm_features].values)\n",
    "    return train_df, test_df"
   ]
  },
  {
   "cell_type": "code",
   "execution_count": 27,
   "metadata": {},
   "outputs": [],
   "source": [
    "train_df, test_df = norm_scale(train_df, test_df)"
   ]
  },
  {
   "cell_type": "code",
   "execution_count": 28,
   "metadata": {},
   "outputs": [
    {
     "name": "stdout",
     "output_type": "stream",
     "text": [
      "Mem. usage decreased from 2809.11 Mb to 690.77 Mb (75.4% reduction)\n",
      "Mem. usage decreased from 1872.74 Mb to 460.51 Mb (75.4% reduction)\n"
     ]
    }
   ],
   "source": [
    "train_df = utils.reduce_mem_usage(train_df)\n",
    "test_df = utils.reduce_mem_usage(test_df)"
   ]
  },
  {
   "cell_type": "code",
   "execution_count": 29,
   "metadata": {},
   "outputs": [],
   "source": [
    "train_df = pd.concat([train_df, train[['id', 'breath_id', 'pressure']]], axis=1)\n",
    "test_df = pd.concat([test_df, test[['id', 'breath_id']]], axis=1)\n",
    "test_df['pressure'] = train_df['pressure'].values[-1]"
   ]
  },
  {
   "cell_type": "code",
   "execution_count": 30,
   "metadata": {},
   "outputs": [],
   "source": [
    "unique_targets = sorted(train_df['pressure'].unique().tolist())\n",
    "target_dic = {v:i for i, v in enumerate(sorted(train_df['pressure'].unique().tolist()))}\n",
    "target_dic_inv = {v: k for k, v in target_dic.items()}"
   ]
  },
  {
   "cell_type": "code",
   "execution_count": 31,
   "metadata": {},
   "outputs": [
    {
     "data": {
      "text/html": [
       "<div>\n",
       "<style scoped>\n",
       "    .dataframe tbody tr th:only-of-type {\n",
       "        vertical-align: middle;\n",
       "    }\n",
       "\n",
       "    .dataframe tbody tr th {\n",
       "        vertical-align: top;\n",
       "    }\n",
       "\n",
       "    .dataframe thead th {\n",
       "        text-align: right;\n",
       "    }\n",
       "</style>\n",
       "<table border=\"1\" class=\"dataframe\">\n",
       "  <thead>\n",
       "    <tr style=\"text-align: right;\">\n",
       "      <th></th>\n",
       "      <th>time_step</th>\n",
       "      <th>u_in</th>\n",
       "      <th>u_out</th>\n",
       "      <th>time_delta</th>\n",
       "      <th>delta</th>\n",
       "      <th>area</th>\n",
       "      <th>cross</th>\n",
       "      <th>cross2</th>\n",
       "      <th>u_in_cumsum</th>\n",
       "      <th>u_in_cummean</th>\n",
       "      <th>...</th>\n",
       "      <th>u_in_sqrt_filter_diff_1</th>\n",
       "      <th>u_in_sqrt_filter_lag_2</th>\n",
       "      <th>u_in_sqrt_filter_diff_2</th>\n",
       "      <th>u_in_sqrt_filter_lag_3</th>\n",
       "      <th>u_in_sqrt_filter_diff_3</th>\n",
       "      <th>u_in_sqrt_filter_lag_4</th>\n",
       "      <th>u_in_sqrt_filter_diff_4</th>\n",
       "      <th>id</th>\n",
       "      <th>breath_id</th>\n",
       "      <th>pressure</th>\n",
       "    </tr>\n",
       "  </thead>\n",
       "  <tbody>\n",
       "    <tr>\n",
       "      <th>0</th>\n",
       "      <td>-5.199219</td>\n",
       "      <td>-0.705078</td>\n",
       "      <td>0</td>\n",
       "      <td>-5.199219</td>\n",
       "      <td>-5.199219</td>\n",
       "      <td>-5.199219</td>\n",
       "      <td>-5.199219</td>\n",
       "      <td>-5.199219</td>\n",
       "      <td>-2.421875</td>\n",
       "      <td>-2.386719</td>\n",
       "      <td>...</td>\n",
       "      <td>1.313477</td>\n",
       "      <td>-5.199219</td>\n",
       "      <td>1.064453</td>\n",
       "      <td>-5.199219</td>\n",
       "      <td>0.899414</td>\n",
       "      <td>-5.199219</td>\n",
       "      <td>0.801758</td>\n",
       "      <td>1</td>\n",
       "      <td>1</td>\n",
       "      <td>5.837492</td>\n",
       "    </tr>\n",
       "    <tr>\n",
       "      <th>1</th>\n",
       "      <td>-2.054688</td>\n",
       "      <td>1.299805</td>\n",
       "      <td>0</td>\n",
       "      <td>0.122742</td>\n",
       "      <td>1.328125</td>\n",
       "      <td>-1.705078</td>\n",
       "      <td>-5.199219</td>\n",
       "      <td>-5.199219</td>\n",
       "      <td>-1.765625</td>\n",
       "      <td>0.221191</td>\n",
       "      <td>...</td>\n",
       "      <td>2.304688</td>\n",
       "      <td>-5.199219</td>\n",
       "      <td>2.093750</td>\n",
       "      <td>-5.199219</td>\n",
       "      <td>2.060547</td>\n",
       "      <td>-5.199219</td>\n",
       "      <td>2.039062</td>\n",
       "      <td>2</td>\n",
       "      <td>1</td>\n",
       "      <td>5.907794</td>\n",
       "    </tr>\n",
       "    <tr>\n",
       "      <th>2</th>\n",
       "      <td>-1.839844</td>\n",
       "      <td>1.403320</td>\n",
       "      <td>0</td>\n",
       "      <td>0.288330</td>\n",
       "      <td>1.438477</td>\n",
       "      <td>-1.396484</td>\n",
       "      <td>-5.199219</td>\n",
       "      <td>-5.199219</td>\n",
       "      <td>-1.455078</td>\n",
       "      <td>0.575195</td>\n",
       "      <td>...</td>\n",
       "      <td>1.482422</td>\n",
       "      <td>-0.621094</td>\n",
       "      <td>2.117188</td>\n",
       "      <td>-5.199219</td>\n",
       "      <td>2.115234</td>\n",
       "      <td>-5.199219</td>\n",
       "      <td>2.099609</td>\n",
       "      <td>3</td>\n",
       "      <td>1</td>\n",
       "      <td>7.876254</td>\n",
       "    </tr>\n",
       "    <tr>\n",
       "      <th>3</th>\n",
       "      <td>-1.687500</td>\n",
       "      <td>1.411133</td>\n",
       "      <td>0</td>\n",
       "      <td>0.634766</td>\n",
       "      <td>1.448242</td>\n",
       "      <td>-1.141602</td>\n",
       "      <td>-5.199219</td>\n",
       "      <td>-5.199219</td>\n",
       "      <td>-1.192383</td>\n",
       "      <td>0.711914</td>\n",
       "      <td>...</td>\n",
       "      <td>0.613281</td>\n",
       "      <td>1.307617</td>\n",
       "      <td>1.240234</td>\n",
       "      <td>-0.591309</td>\n",
       "      <td>2.083984</td>\n",
       "      <td>-5.199219</td>\n",
       "      <td>2.105469</td>\n",
       "      <td>4</td>\n",
       "      <td>1</td>\n",
       "      <td>11.742872</td>\n",
       "    </tr>\n",
       "    <tr>\n",
       "      <th>4</th>\n",
       "      <td>-1.564453</td>\n",
       "      <td>1.470703</td>\n",
       "      <td>0</td>\n",
       "      <td>1.088867</td>\n",
       "      <td>1.506836</td>\n",
       "      <td>-0.936035</td>\n",
       "      <td>-5.199219</td>\n",
       "      <td>-5.199219</td>\n",
       "      <td>-0.983398</td>\n",
       "      <td>0.813477</td>\n",
       "      <td>...</td>\n",
       "      <td>1.282227</td>\n",
       "      <td>1.416016</td>\n",
       "      <td>1.067383</td>\n",
       "      <td>1.305664</td>\n",
       "      <td>1.226562</td>\n",
       "      <td>-0.552734</td>\n",
       "      <td>2.101562</td>\n",
       "      <td>5</td>\n",
       "      <td>1</td>\n",
       "      <td>12.234987</td>\n",
       "    </tr>\n",
       "    <tr>\n",
       "      <th>...</th>\n",
       "      <td>...</td>\n",
       "      <td>...</td>\n",
       "      <td>...</td>\n",
       "      <td>...</td>\n",
       "      <td>...</td>\n",
       "      <td>...</td>\n",
       "      <td>...</td>\n",
       "      <td>...</td>\n",
       "      <td>...</td>\n",
       "      <td>...</td>\n",
       "      <td>...</td>\n",
       "      <td>...</td>\n",
       "      <td>...</td>\n",
       "      <td>...</td>\n",
       "      <td>...</td>\n",
       "      <td>...</td>\n",
       "      <td>...</td>\n",
       "      <td>...</td>\n",
       "      <td>...</td>\n",
       "      <td>...</td>\n",
       "      <td>...</td>\n",
       "    </tr>\n",
       "    <tr>\n",
       "      <th>6035995</th>\n",
       "      <td>1.671875</td>\n",
       "      <td>-0.498779</td>\n",
       "      <td>1</td>\n",
       "      <td>-0.012794</td>\n",
       "      <td>-0.483887</td>\n",
       "      <td>0.397461</td>\n",
       "      <td>0.270996</td>\n",
       "      <td>1.673828</td>\n",
       "      <td>0.368408</td>\n",
       "      <td>-0.388916</td>\n",
       "      <td>...</td>\n",
       "      <td>0.584473</td>\n",
       "      <td>-0.449219</td>\n",
       "      <td>0.586914</td>\n",
       "      <td>-0.416748</td>\n",
       "      <td>0.460938</td>\n",
       "      <td>-0.382812</td>\n",
       "      <td>0.370361</td>\n",
       "      <td>6035996</td>\n",
       "      <td>125749</td>\n",
       "      <td>3.869032</td>\n",
       "    </tr>\n",
       "    <tr>\n",
       "      <th>6035996</th>\n",
       "      <td>1.810547</td>\n",
       "      <td>-0.499023</td>\n",
       "      <td>1</td>\n",
       "      <td>-0.054321</td>\n",
       "      <td>-0.484375</td>\n",
       "      <td>0.401855</td>\n",
       "      <td>0.270752</td>\n",
       "      <td>1.806641</td>\n",
       "      <td>0.372559</td>\n",
       "      <td>-0.398682</td>\n",
       "      <td>...</td>\n",
       "      <td>-0.766113</td>\n",
       "      <td>-0.438477</td>\n",
       "      <td>0.419189</td>\n",
       "      <td>-0.417480</td>\n",
       "      <td>0.466309</td>\n",
       "      <td>-0.383545</td>\n",
       "      <td>0.377441</td>\n",
       "      <td>6035997</td>\n",
       "      <td>125749</td>\n",
       "      <td>3.869032</td>\n",
       "    </tr>\n",
       "    <tr>\n",
       "      <th>6035997</th>\n",
       "      <td>1.924805</td>\n",
       "      <td>-0.488770</td>\n",
       "      <td>1</td>\n",
       "      <td>0.012169</td>\n",
       "      <td>-0.474854</td>\n",
       "      <td>0.406738</td>\n",
       "      <td>0.275879</td>\n",
       "      <td>1.919922</td>\n",
       "      <td>0.376953</td>\n",
       "      <td>-0.408447</td>\n",
       "      <td>...</td>\n",
       "      <td>0.583984</td>\n",
       "      <td>-0.428223</td>\n",
       "      <td>0.418945</td>\n",
       "      <td>-0.406738</td>\n",
       "      <td>0.465820</td>\n",
       "      <td>-0.384033</td>\n",
       "      <td>0.480713</td>\n",
       "      <td>6035998</td>\n",
       "      <td>125749</td>\n",
       "      <td>3.798729</td>\n",
       "    </tr>\n",
       "    <tr>\n",
       "      <th>6035998</th>\n",
       "      <td>2.042969</td>\n",
       "      <td>-0.535156</td>\n",
       "      <td>1</td>\n",
       "      <td>-0.067993</td>\n",
       "      <td>-0.520508</td>\n",
       "      <td>0.410400</td>\n",
       "      <td>0.247803</td>\n",
       "      <td>2.041016</td>\n",
       "      <td>0.380371</td>\n",
       "      <td>-0.418457</td>\n",
       "      <td>...</td>\n",
       "      <td>-1.148438</td>\n",
       "      <td>-0.428223</td>\n",
       "      <td>-0.898438</td>\n",
       "      <td>-0.395996</td>\n",
       "      <td>-0.821289</td>\n",
       "      <td>-0.372803</td>\n",
       "      <td>-0.741699</td>\n",
       "      <td>6035999</td>\n",
       "      <td>125749</td>\n",
       "      <td>4.079938</td>\n",
       "    </tr>\n",
       "    <tr>\n",
       "      <th>6035999</th>\n",
       "      <td>2.205078</td>\n",
       "      <td>-0.499756</td>\n",
       "      <td>1</td>\n",
       "      <td>-0.089905</td>\n",
       "      <td>-0.485840</td>\n",
       "      <td>0.414795</td>\n",
       "      <td>0.270508</td>\n",
       "      <td>2.197266</td>\n",
       "      <td>0.384521</td>\n",
       "      <td>-0.428223</td>\n",
       "      <td>...</td>\n",
       "      <td>0.915527</td>\n",
       "      <td>-0.418945</td>\n",
       "      <td>-0.775391</td>\n",
       "      <td>-0.396240</td>\n",
       "      <td>-0.684570</td>\n",
       "      <td>-0.363281</td>\n",
       "      <td>-0.663574</td>\n",
       "      <td>6036000</td>\n",
       "      <td>125749</td>\n",
       "      <td>3.869032</td>\n",
       "    </tr>\n",
       "  </tbody>\n",
       "</table>\n",
       "<p>6036000 rows × 64 columns</p>\n",
       "</div>"
      ],
      "text/plain": [
       "         time_step      u_in  u_out  time_delta     delta      area     cross  \\\n",
       "0        -5.199219 -0.705078      0   -5.199219 -5.199219 -5.199219 -5.199219   \n",
       "1        -2.054688  1.299805      0    0.122742  1.328125 -1.705078 -5.199219   \n",
       "2        -1.839844  1.403320      0    0.288330  1.438477 -1.396484 -5.199219   \n",
       "3        -1.687500  1.411133      0    0.634766  1.448242 -1.141602 -5.199219   \n",
       "4        -1.564453  1.470703      0    1.088867  1.506836 -0.936035 -5.199219   \n",
       "...            ...       ...    ...         ...       ...       ...       ...   \n",
       "6035995   1.671875 -0.498779      1   -0.012794 -0.483887  0.397461  0.270996   \n",
       "6035996   1.810547 -0.499023      1   -0.054321 -0.484375  0.401855  0.270752   \n",
       "6035997   1.924805 -0.488770      1    0.012169 -0.474854  0.406738  0.275879   \n",
       "6035998   2.042969 -0.535156      1   -0.067993 -0.520508  0.410400  0.247803   \n",
       "6035999   2.205078 -0.499756      1   -0.089905 -0.485840  0.414795  0.270508   \n",
       "\n",
       "           cross2  u_in_cumsum  u_in_cummean  ...  u_in_sqrt_filter_diff_1  \\\n",
       "0       -5.199219    -2.421875     -2.386719  ...                 1.313477   \n",
       "1       -5.199219    -1.765625      0.221191  ...                 2.304688   \n",
       "2       -5.199219    -1.455078      0.575195  ...                 1.482422   \n",
       "3       -5.199219    -1.192383      0.711914  ...                 0.613281   \n",
       "4       -5.199219    -0.983398      0.813477  ...                 1.282227   \n",
       "...           ...          ...           ...  ...                      ...   \n",
       "6035995  1.673828     0.368408     -0.388916  ...                 0.584473   \n",
       "6035996  1.806641     0.372559     -0.398682  ...                -0.766113   \n",
       "6035997  1.919922     0.376953     -0.408447  ...                 0.583984   \n",
       "6035998  2.041016     0.380371     -0.418457  ...                -1.148438   \n",
       "6035999  2.197266     0.384521     -0.428223  ...                 0.915527   \n",
       "\n",
       "         u_in_sqrt_filter_lag_2  u_in_sqrt_filter_diff_2  \\\n",
       "0                     -5.199219                 1.064453   \n",
       "1                     -5.199219                 2.093750   \n",
       "2                     -0.621094                 2.117188   \n",
       "3                      1.307617                 1.240234   \n",
       "4                      1.416016                 1.067383   \n",
       "...                         ...                      ...   \n",
       "6035995               -0.449219                 0.586914   \n",
       "6035996               -0.438477                 0.419189   \n",
       "6035997               -0.428223                 0.418945   \n",
       "6035998               -0.428223                -0.898438   \n",
       "6035999               -0.418945                -0.775391   \n",
       "\n",
       "         u_in_sqrt_filter_lag_3  u_in_sqrt_filter_diff_3  \\\n",
       "0                     -5.199219                 0.899414   \n",
       "1                     -5.199219                 2.060547   \n",
       "2                     -5.199219                 2.115234   \n",
       "3                     -0.591309                 2.083984   \n",
       "4                      1.305664                 1.226562   \n",
       "...                         ...                      ...   \n",
       "6035995               -0.416748                 0.460938   \n",
       "6035996               -0.417480                 0.466309   \n",
       "6035997               -0.406738                 0.465820   \n",
       "6035998               -0.395996                -0.821289   \n",
       "6035999               -0.396240                -0.684570   \n",
       "\n",
       "         u_in_sqrt_filter_lag_4  u_in_sqrt_filter_diff_4       id  breath_id  \\\n",
       "0                     -5.199219                 0.801758        1          1   \n",
       "1                     -5.199219                 2.039062        2          1   \n",
       "2                     -5.199219                 2.099609        3          1   \n",
       "3                     -5.199219                 2.105469        4          1   \n",
       "4                     -0.552734                 2.101562        5          1   \n",
       "...                         ...                      ...      ...        ...   \n",
       "6035995               -0.382812                 0.370361  6035996     125749   \n",
       "6035996               -0.383545                 0.377441  6035997     125749   \n",
       "6035997               -0.384033                 0.480713  6035998     125749   \n",
       "6035998               -0.372803                -0.741699  6035999     125749   \n",
       "6035999               -0.363281                -0.663574  6036000     125749   \n",
       "\n",
       "          pressure  \n",
       "0         5.837492  \n",
       "1         5.907794  \n",
       "2         7.876254  \n",
       "3        11.742872  \n",
       "4        12.234987  \n",
       "...            ...  \n",
       "6035995   3.869032  \n",
       "6035996   3.869032  \n",
       "6035997   3.798729  \n",
       "6035998   4.079938  \n",
       "6035999   3.869032  \n",
       "\n",
       "[6036000 rows x 64 columns]"
      ]
     },
     "metadata": {},
     "output_type": "display_data"
    },
    {
     "data": {
      "text/html": [
       "<div>\n",
       "<style scoped>\n",
       "    .dataframe tbody tr th:only-of-type {\n",
       "        vertical-align: middle;\n",
       "    }\n",
       "\n",
       "    .dataframe tbody tr th {\n",
       "        vertical-align: top;\n",
       "    }\n",
       "\n",
       "    .dataframe thead th {\n",
       "        text-align: right;\n",
       "    }\n",
       "</style>\n",
       "<table border=\"1\" class=\"dataframe\">\n",
       "  <thead>\n",
       "    <tr style=\"text-align: right;\">\n",
       "      <th></th>\n",
       "      <th>time_step</th>\n",
       "      <th>u_in</th>\n",
       "      <th>u_out</th>\n",
       "      <th>time_delta</th>\n",
       "      <th>delta</th>\n",
       "      <th>area</th>\n",
       "      <th>cross</th>\n",
       "      <th>cross2</th>\n",
       "      <th>u_in_cumsum</th>\n",
       "      <th>u_in_cummean</th>\n",
       "      <th>...</th>\n",
       "      <th>u_in_sqrt_filter_diff_1</th>\n",
       "      <th>u_in_sqrt_filter_lag_2</th>\n",
       "      <th>u_in_sqrt_filter_diff_2</th>\n",
       "      <th>u_in_sqrt_filter_lag_3</th>\n",
       "      <th>u_in_sqrt_filter_diff_3</th>\n",
       "      <th>u_in_sqrt_filter_lag_4</th>\n",
       "      <th>u_in_sqrt_filter_diff_4</th>\n",
       "      <th>id</th>\n",
       "      <th>breath_id</th>\n",
       "      <th>pressure</th>\n",
       "    </tr>\n",
       "  </thead>\n",
       "  <tbody>\n",
       "    <tr>\n",
       "      <th>0</th>\n",
       "      <td>-5.199219</td>\n",
       "      <td>-5.199219</td>\n",
       "      <td>0</td>\n",
       "      <td>-5.199219</td>\n",
       "      <td>-5.199219</td>\n",
       "      <td>-5.199219</td>\n",
       "      <td>-5.199219</td>\n",
       "      <td>-5.199219</td>\n",
       "      <td>-5.199219</td>\n",
       "      <td>-5.199219</td>\n",
       "      <td>...</td>\n",
       "      <td>-0.447266</td>\n",
       "      <td>-5.199219</td>\n",
       "      <td>-0.414307</td>\n",
       "      <td>-5.199219</td>\n",
       "      <td>-0.407471</td>\n",
       "      <td>-5.199219</td>\n",
       "      <td>-0.397949</td>\n",
       "      <td>1</td>\n",
       "      <td>0</td>\n",
       "      <td>3.869032</td>\n",
       "    </tr>\n",
       "    <tr>\n",
       "      <th>1</th>\n",
       "      <td>-2.144531</td>\n",
       "      <td>0.867676</td>\n",
       "      <td>0</td>\n",
       "      <td>-0.609863</td>\n",
       "      <td>0.874023</td>\n",
       "      <td>-1.914062</td>\n",
       "      <td>-5.199219</td>\n",
       "      <td>-5.199219</td>\n",
       "      <td>-1.990234</td>\n",
       "      <td>-0.710938</td>\n",
       "      <td>...</td>\n",
       "      <td>2.126953</td>\n",
       "      <td>-5.199219</td>\n",
       "      <td>1.911133</td>\n",
       "      <td>-5.199219</td>\n",
       "      <td>1.857422</td>\n",
       "      <td>-5.199219</td>\n",
       "      <td>1.793945</td>\n",
       "      <td>2</td>\n",
       "      <td>0</td>\n",
       "      <td>3.869032</td>\n",
       "    </tr>\n",
       "    <tr>\n",
       "      <th>2</th>\n",
       "      <td>-1.899414</td>\n",
       "      <td>1.189453</td>\n",
       "      <td>0</td>\n",
       "      <td>-0.520508</td>\n",
       "      <td>1.187500</td>\n",
       "      <td>-1.667969</td>\n",
       "      <td>-5.199219</td>\n",
       "      <td>-5.199219</td>\n",
       "      <td>-1.710938</td>\n",
       "      <td>-0.000099</td>\n",
       "      <td>...</td>\n",
       "      <td>1.815430</td>\n",
       "      <td>-5.199219</td>\n",
       "      <td>2.037109</td>\n",
       "      <td>-5.199219</td>\n",
       "      <td>2.001953</td>\n",
       "      <td>-5.199219</td>\n",
       "      <td>1.966797</td>\n",
       "      <td>3</td>\n",
       "      <td>0</td>\n",
       "      <td>3.869032</td>\n",
       "    </tr>\n",
       "    <tr>\n",
       "      <th>3</th>\n",
       "      <td>-1.740234</td>\n",
       "      <td>1.373047</td>\n",
       "      <td>0</td>\n",
       "      <td>-0.520020</td>\n",
       "      <td>1.378906</td>\n",
       "      <td>-1.394531</td>\n",
       "      <td>-5.199219</td>\n",
       "      <td>-5.199219</td>\n",
       "      <td>-1.422852</td>\n",
       "      <td>0.369873</td>\n",
       "      <td>...</td>\n",
       "      <td>1.674805</td>\n",
       "      <td>0.868164</td>\n",
       "      <td>1.792969</td>\n",
       "      <td>-5.199219</td>\n",
       "      <td>2.097656</td>\n",
       "      <td>-5.199219</td>\n",
       "      <td>2.082031</td>\n",
       "      <td>4</td>\n",
       "      <td>0</td>\n",
       "      <td>3.869032</td>\n",
       "    </tr>\n",
       "    <tr>\n",
       "      <th>4</th>\n",
       "      <td>-1.616211</td>\n",
       "      <td>1.492188</td>\n",
       "      <td>0</td>\n",
       "      <td>-0.650879</td>\n",
       "      <td>1.488281</td>\n",
       "      <td>-1.125000</td>\n",
       "      <td>-5.199219</td>\n",
       "      <td>-5.199219</td>\n",
       "      <td>-1.137695</td>\n",
       "      <td>0.592773</td>\n",
       "      <td>...</td>\n",
       "      <td>1.526367</td>\n",
       "      <td>1.191406</td>\n",
       "      <td>1.689453</td>\n",
       "      <td>0.873047</td>\n",
       "      <td>1.799805</td>\n",
       "      <td>-5.199219</td>\n",
       "      <td>2.156250</td>\n",
       "      <td>5</td>\n",
       "      <td>0</td>\n",
       "      <td>3.869032</td>\n",
       "    </tr>\n",
       "    <tr>\n",
       "      <th>...</th>\n",
       "      <td>...</td>\n",
       "      <td>...</td>\n",
       "      <td>...</td>\n",
       "      <td>...</td>\n",
       "      <td>...</td>\n",
       "      <td>...</td>\n",
       "      <td>...</td>\n",
       "      <td>...</td>\n",
       "      <td>...</td>\n",
       "      <td>...</td>\n",
       "      <td>...</td>\n",
       "      <td>...</td>\n",
       "      <td>...</td>\n",
       "      <td>...</td>\n",
       "      <td>...</td>\n",
       "      <td>...</td>\n",
       "      <td>...</td>\n",
       "      <td>...</td>\n",
       "      <td>...</td>\n",
       "      <td>...</td>\n",
       "      <td>...</td>\n",
       "    </tr>\n",
       "    <tr>\n",
       "      <th>4023995</th>\n",
       "      <td>1.783203</td>\n",
       "      <td>0.601562</td>\n",
       "      <td>1</td>\n",
       "      <td>0.202637</td>\n",
       "      <td>0.538086</td>\n",
       "      <td>-0.351807</td>\n",
       "      <td>1.688477</td>\n",
       "      <td>1.780273</td>\n",
       "      <td>-0.347900</td>\n",
       "      <td>-1.128906</td>\n",
       "      <td>...</td>\n",
       "      <td>-0.065613</td>\n",
       "      <td>0.595703</td>\n",
       "      <td>-0.050262</td>\n",
       "      <td>0.601562</td>\n",
       "      <td>-0.053833</td>\n",
       "      <td>0.594727</td>\n",
       "      <td>-0.051025</td>\n",
       "      <td>4023996</td>\n",
       "      <td>125748</td>\n",
       "      <td>3.869032</td>\n",
       "    </tr>\n",
       "    <tr>\n",
       "      <th>4023996</th>\n",
       "      <td>1.906250</td>\n",
       "      <td>0.628418</td>\n",
       "      <td>1</td>\n",
       "      <td>0.188110</td>\n",
       "      <td>0.541016</td>\n",
       "      <td>-0.326904</td>\n",
       "      <td>1.788086</td>\n",
       "      <td>1.895508</td>\n",
       "      <td>-0.325928</td>\n",
       "      <td>-1.114258</td>\n",
       "      <td>...</td>\n",
       "      <td>-0.093079</td>\n",
       "      <td>0.625000</td>\n",
       "      <td>-0.076782</td>\n",
       "      <td>0.631836</td>\n",
       "      <td>-0.081970</td>\n",
       "      <td>0.625977</td>\n",
       "      <td>-0.079468</td>\n",
       "      <td>4023997</td>\n",
       "      <td>125748</td>\n",
       "      <td>3.869032</td>\n",
       "    </tr>\n",
       "    <tr>\n",
       "      <th>4023997</th>\n",
       "      <td>2.011719</td>\n",
       "      <td>0.647461</td>\n",
       "      <td>1</td>\n",
       "      <td>0.099731</td>\n",
       "      <td>0.520508</td>\n",
       "      <td>-0.301514</td>\n",
       "      <td>1.873047</td>\n",
       "      <td>2.011719</td>\n",
       "      <td>-0.303223</td>\n",
       "      <td>-1.100586</td>\n",
       "      <td>...</td>\n",
       "      <td>-0.111511</td>\n",
       "      <td>0.647461</td>\n",
       "      <td>-0.095032</td>\n",
       "      <td>0.651855</td>\n",
       "      <td>-0.100586</td>\n",
       "      <td>0.646973</td>\n",
       "      <td>-0.099060</td>\n",
       "      <td>4023998</td>\n",
       "      <td>125748</td>\n",
       "      <td>3.869032</td>\n",
       "    </tr>\n",
       "    <tr>\n",
       "      <th>4023998</th>\n",
       "      <td>2.173828</td>\n",
       "      <td>0.665527</td>\n",
       "      <td>1</td>\n",
       "      <td>0.128052</td>\n",
       "      <td>0.534180</td>\n",
       "      <td>-0.276367</td>\n",
       "      <td>1.965820</td>\n",
       "      <td>2.164062</td>\n",
       "      <td>-0.279785</td>\n",
       "      <td>-1.087891</td>\n",
       "      <td>...</td>\n",
       "      <td>-0.125977</td>\n",
       "      <td>0.666992</td>\n",
       "      <td>-0.110596</td>\n",
       "      <td>0.671387</td>\n",
       "      <td>-0.116394</td>\n",
       "      <td>0.665527</td>\n",
       "      <td>-0.114136</td>\n",
       "      <td>4023999</td>\n",
       "      <td>125748</td>\n",
       "      <td>3.869032</td>\n",
       "    </tr>\n",
       "    <tr>\n",
       "      <th>4023999</th>\n",
       "      <td>2.400391</td>\n",
       "      <td>0.684082</td>\n",
       "      <td>1</td>\n",
       "      <td>0.986816</td>\n",
       "      <td>0.680664</td>\n",
       "      <td>-0.252686</td>\n",
       "      <td>2.091797</td>\n",
       "      <td>2.404297</td>\n",
       "      <td>-0.256592</td>\n",
       "      <td>-1.075195</td>\n",
       "      <td>...</td>\n",
       "      <td>-0.139893</td>\n",
       "      <td>0.686523</td>\n",
       "      <td>-0.125977</td>\n",
       "      <td>0.690430</td>\n",
       "      <td>-0.131104</td>\n",
       "      <td>0.685059</td>\n",
       "      <td>-0.129517</td>\n",
       "      <td>4024000</td>\n",
       "      <td>125748</td>\n",
       "      <td>3.869032</td>\n",
       "    </tr>\n",
       "  </tbody>\n",
       "</table>\n",
       "<p>4024000 rows × 64 columns</p>\n",
       "</div>"
      ],
      "text/plain": [
       "         time_step      u_in  u_out  time_delta     delta      area     cross  \\\n",
       "0        -5.199219 -5.199219      0   -5.199219 -5.199219 -5.199219 -5.199219   \n",
       "1        -2.144531  0.867676      0   -0.609863  0.874023 -1.914062 -5.199219   \n",
       "2        -1.899414  1.189453      0   -0.520508  1.187500 -1.667969 -5.199219   \n",
       "3        -1.740234  1.373047      0   -0.520020  1.378906 -1.394531 -5.199219   \n",
       "4        -1.616211  1.492188      0   -0.650879  1.488281 -1.125000 -5.199219   \n",
       "...            ...       ...    ...         ...       ...       ...       ...   \n",
       "4023995   1.783203  0.601562      1    0.202637  0.538086 -0.351807  1.688477   \n",
       "4023996   1.906250  0.628418      1    0.188110  0.541016 -0.326904  1.788086   \n",
       "4023997   2.011719  0.647461      1    0.099731  0.520508 -0.301514  1.873047   \n",
       "4023998   2.173828  0.665527      1    0.128052  0.534180 -0.276367  1.965820   \n",
       "4023999   2.400391  0.684082      1    0.986816  0.680664 -0.252686  2.091797   \n",
       "\n",
       "           cross2  u_in_cumsum  u_in_cummean  ...  u_in_sqrt_filter_diff_1  \\\n",
       "0       -5.199219    -5.199219     -5.199219  ...                -0.447266   \n",
       "1       -5.199219    -1.990234     -0.710938  ...                 2.126953   \n",
       "2       -5.199219    -1.710938     -0.000099  ...                 1.815430   \n",
       "3       -5.199219    -1.422852      0.369873  ...                 1.674805   \n",
       "4       -5.199219    -1.137695      0.592773  ...                 1.526367   \n",
       "...           ...          ...           ...  ...                      ...   \n",
       "4023995  1.780273    -0.347900     -1.128906  ...                -0.065613   \n",
       "4023996  1.895508    -0.325928     -1.114258  ...                -0.093079   \n",
       "4023997  2.011719    -0.303223     -1.100586  ...                -0.111511   \n",
       "4023998  2.164062    -0.279785     -1.087891  ...                -0.125977   \n",
       "4023999  2.404297    -0.256592     -1.075195  ...                -0.139893   \n",
       "\n",
       "         u_in_sqrt_filter_lag_2  u_in_sqrt_filter_diff_2  \\\n",
       "0                     -5.199219                -0.414307   \n",
       "1                     -5.199219                 1.911133   \n",
       "2                     -5.199219                 2.037109   \n",
       "3                      0.868164                 1.792969   \n",
       "4                      1.191406                 1.689453   \n",
       "...                         ...                      ...   \n",
       "4023995                0.595703                -0.050262   \n",
       "4023996                0.625000                -0.076782   \n",
       "4023997                0.647461                -0.095032   \n",
       "4023998                0.666992                -0.110596   \n",
       "4023999                0.686523                -0.125977   \n",
       "\n",
       "         u_in_sqrt_filter_lag_3  u_in_sqrt_filter_diff_3  \\\n",
       "0                     -5.199219                -0.407471   \n",
       "1                     -5.199219                 1.857422   \n",
       "2                     -5.199219                 2.001953   \n",
       "3                     -5.199219                 2.097656   \n",
       "4                      0.873047                 1.799805   \n",
       "...                         ...                      ...   \n",
       "4023995                0.601562                -0.053833   \n",
       "4023996                0.631836                -0.081970   \n",
       "4023997                0.651855                -0.100586   \n",
       "4023998                0.671387                -0.116394   \n",
       "4023999                0.690430                -0.131104   \n",
       "\n",
       "         u_in_sqrt_filter_lag_4  u_in_sqrt_filter_diff_4       id  breath_id  \\\n",
       "0                     -5.199219                -0.397949        1          0   \n",
       "1                     -5.199219                 1.793945        2          0   \n",
       "2                     -5.199219                 1.966797        3          0   \n",
       "3                     -5.199219                 2.082031        4          0   \n",
       "4                     -5.199219                 2.156250        5          0   \n",
       "...                         ...                      ...      ...        ...   \n",
       "4023995                0.594727                -0.051025  4023996     125748   \n",
       "4023996                0.625977                -0.079468  4023997     125748   \n",
       "4023997                0.646973                -0.099060  4023998     125748   \n",
       "4023998                0.665527                -0.114136  4023999     125748   \n",
       "4023999                0.685059                -0.129517  4024000     125748   \n",
       "\n",
       "         pressure  \n",
       "0        3.869032  \n",
       "1        3.869032  \n",
       "2        3.869032  \n",
       "3        3.869032  \n",
       "4        3.869032  \n",
       "...           ...  \n",
       "4023995  3.869032  \n",
       "4023996  3.869032  \n",
       "4023997  3.869032  \n",
       "4023998  3.869032  \n",
       "4023999  3.869032  \n",
       "\n",
       "[4024000 rows x 64 columns]"
      ]
     },
     "metadata": {},
     "output_type": "display_data"
    },
    {
     "data": {
      "text/plain": [
       "(None, None)"
      ]
     },
     "execution_count": 31,
     "metadata": {},
     "output_type": "execute_result"
    }
   ],
   "source": [
    "display(train_df), display(test_df)"
   ]
  },
  {
   "cell_type": "code",
   "execution_count": null,
   "metadata": {},
   "outputs": [],
   "source": []
  },
  {
   "cell_type": "code",
   "execution_count": null,
   "metadata": {},
   "outputs": [
    {
     "name": "stdout",
     "output_type": "stream",
     "text": [
      "Fold-0\n",
      "init LSTM(64, 256, num_layers=4, batch_first=True, dropout=0.1, bidirectional=True)\n"
     ]
    },
    {
     "name": "stderr",
     "output_type": "stream",
     "text": [
      "\u001b[34m\u001b[1mwandb\u001b[0m: Currently logged in as: \u001b[33msqrt4kaido\u001b[0m (use `wandb login --relogin` to force relogin)\n",
      "\u001b[34m\u001b[1mwandb\u001b[0m: wandb version 0.12.4 is available!  To upgrade, please run:\n",
      "\u001b[34m\u001b[1mwandb\u001b[0m:  $ pip install wandb --upgrade\n"
     ]
    },
    {
     "data": {
      "text/html": [
       "\n",
       "                    Syncing run <strong><a href=\"https://wandb.ai/sqrt4kaido/Ventilator-Pressure-Prediction/runs/v7jt0uye\" target=\"_blank\">playful-yeti-319</a></strong> to <a href=\"https://wandb.ai/sqrt4kaido/Ventilator-Pressure-Prediction\" target=\"_blank\">Weights & Biases</a> (<a href=\"https://docs.wandb.com/integrations/jupyter.html\" target=\"_blank\">docs</a>).<br/>\n",
       "\n",
       "                "
      ],
      "text/plain": [
       "<IPython.core.display.HTML object>"
      ]
     },
     "metadata": {},
     "output_type": "display_data"
    },
    {
     "name": "stderr",
     "output_type": "stream",
     "text": [
      "GPU available: True, used: True\n",
      "TPU available: False, using: 0 TPU cores\n",
      "LOCAL_RANK: 0 - CUDA_VISIBLE_DEVICES: [0]\n",
      "\n",
      "  | Name  | Type            | Params\n",
      "------------------------------------------\n",
      "0 | model | VentilatorModel | 6.1 M \n",
      "------------------------------------------\n",
      "6.1 M     Trainable params\n",
      "0         Non-trainable params\n",
      "6.1 M     Total params\n",
      "24.583    Total estimated model params size (MB)\n"
     ]
    },
    {
     "data": {
      "application/vnd.jupyter.widget-view+json": {
       "model_id": "",
       "version_major": 2,
       "version_minor": 0
      },
      "text/plain": [
       "Validation sanity check: 0it [00:00, ?it/s]"
      ]
     },
     "metadata": {},
     "output_type": "display_data"
    },
    {
     "name": "stdout",
     "output_type": "stream",
     "text": [
      "epoch = 0, custom_mae = 14.739346742507172\n"
     ]
    },
    {
     "data": {
      "application/vnd.jupyter.widget-view+json": {
       "model_id": "5d6baaff800041a282ada7b934e45729",
       "version_major": 2,
       "version_minor": 0
      },
      "text/plain": [
       "Training: 0it [00:00, ?it/s]"
      ]
     },
     "metadata": {},
     "output_type": "display_data"
    },
    {
     "data": {
      "application/vnd.jupyter.widget-view+json": {
       "model_id": "",
       "version_major": 2,
       "version_minor": 0
      },
      "text/plain": [
       "Validating: 0it [00:00, ?it/s]"
      ]
     },
     "metadata": {},
     "output_type": "display_data"
    },
    {
     "name": "stdout",
     "output_type": "stream",
     "text": [
      "epoch = 0, custom_mae = 2.3428055221765187\n"
     ]
    },
    {
     "data": {
      "application/vnd.jupyter.widget-view+json": {
       "model_id": "",
       "version_major": 2,
       "version_minor": 0
      },
      "text/plain": [
       "Validating: 0it [00:00, ?it/s]"
      ]
     },
     "metadata": {},
     "output_type": "display_data"
    },
    {
     "name": "stdout",
     "output_type": "stream",
     "text": [
      "epoch = 1, custom_mae = 1.3684774388780478\n"
     ]
    },
    {
     "data": {
      "application/vnd.jupyter.widget-view+json": {
       "model_id": "",
       "version_major": 2,
       "version_minor": 0
      },
      "text/plain": [
       "Validating: 0it [00:00, ?it/s]"
      ]
     },
     "metadata": {},
     "output_type": "display_data"
    },
    {
     "name": "stdout",
     "output_type": "stream",
     "text": [
      "epoch = 2, custom_mae = 0.9401840421627322\n"
     ]
    },
    {
     "data": {
      "application/vnd.jupyter.widget-view+json": {
       "model_id": "",
       "version_major": 2,
       "version_minor": 0
      },
      "text/plain": [
       "Validating: 0it [00:00, ?it/s]"
      ]
     },
     "metadata": {},
     "output_type": "display_data"
    },
    {
     "name": "stdout",
     "output_type": "stream",
     "text": [
      "epoch = 3, custom_mae = 0.7756997043857263\n"
     ]
    },
    {
     "data": {
      "application/vnd.jupyter.widget-view+json": {
       "model_id": "",
       "version_major": 2,
       "version_minor": 0
      },
      "text/plain": [
       "Validating: 0it [00:00, ?it/s]"
      ]
     },
     "metadata": {},
     "output_type": "display_data"
    },
    {
     "name": "stdout",
     "output_type": "stream",
     "text": [
      "epoch = 4, custom_mae = 0.8054295704072865\n"
     ]
    },
    {
     "data": {
      "application/vnd.jupyter.widget-view+json": {
       "model_id": "",
       "version_major": 2,
       "version_minor": 0
      },
      "text/plain": [
       "Validating: 0it [00:00, ?it/s]"
      ]
     },
     "metadata": {},
     "output_type": "display_data"
    },
    {
     "name": "stdout",
     "output_type": "stream",
     "text": [
      "epoch = 5, custom_mae = 0.6554383768002591\n"
     ]
    },
    {
     "data": {
      "application/vnd.jupyter.widget-view+json": {
       "model_id": "",
       "version_major": 2,
       "version_minor": 0
      },
      "text/plain": [
       "Validating: 0it [00:00, ?it/s]"
      ]
     },
     "metadata": {},
     "output_type": "display_data"
    },
    {
     "name": "stdout",
     "output_type": "stream",
     "text": [
      "epoch = 6, custom_mae = 0.5099353259775065\n"
     ]
    },
    {
     "data": {
      "application/vnd.jupyter.widget-view+json": {
       "model_id": "",
       "version_major": 2,
       "version_minor": 0
      },
      "text/plain": [
       "Validating: 0it [00:00, ?it/s]"
      ]
     },
     "metadata": {},
     "output_type": "display_data"
    },
    {
     "name": "stdout",
     "output_type": "stream",
     "text": [
      "epoch = 7, custom_mae = 0.49170323787622405\n"
     ]
    },
    {
     "data": {
      "application/vnd.jupyter.widget-view+json": {
       "model_id": "",
       "version_major": 2,
       "version_minor": 0
      },
      "text/plain": [
       "Validating: 0it [00:00, ?it/s]"
      ]
     },
     "metadata": {},
     "output_type": "display_data"
    },
    {
     "name": "stdout",
     "output_type": "stream",
     "text": [
      "epoch = 8, custom_mae = 0.6005833600209335\n"
     ]
    },
    {
     "data": {
      "application/vnd.jupyter.widget-view+json": {
       "model_id": "",
       "version_major": 2,
       "version_minor": 0
      },
      "text/plain": [
       "Validating: 0it [00:00, ?it/s]"
      ]
     },
     "metadata": {},
     "output_type": "display_data"
    },
    {
     "name": "stdout",
     "output_type": "stream",
     "text": [
      "epoch = 9, custom_mae = 0.4490593494770285\n"
     ]
    },
    {
     "data": {
      "application/vnd.jupyter.widget-view+json": {
       "model_id": "",
       "version_major": 2,
       "version_minor": 0
      },
      "text/plain": [
       "Validating: 0it [00:00, ?it/s]"
      ]
     },
     "metadata": {},
     "output_type": "display_data"
    },
    {
     "name": "stdout",
     "output_type": "stream",
     "text": [
      "epoch = 10, custom_mae = 0.4256645468973222\n"
     ]
    },
    {
     "data": {
      "application/vnd.jupyter.widget-view+json": {
       "model_id": "",
       "version_major": 2,
       "version_minor": 0
      },
      "text/plain": [
       "Validating: 0it [00:00, ?it/s]"
      ]
     },
     "metadata": {},
     "output_type": "display_data"
    },
    {
     "name": "stdout",
     "output_type": "stream",
     "text": [
      "epoch = 11, custom_mae = 0.5042535415084246\n"
     ]
    },
    {
     "data": {
      "application/vnd.jupyter.widget-view+json": {
       "model_id": "",
       "version_major": 2,
       "version_minor": 0
      },
      "text/plain": [
       "Validating: 0it [00:00, ?it/s]"
      ]
     },
     "metadata": {},
     "output_type": "display_data"
    },
    {
     "name": "stdout",
     "output_type": "stream",
     "text": [
      "epoch = 12, custom_mae = 0.3861288543639601\n"
     ]
    },
    {
     "data": {
      "application/vnd.jupyter.widget-view+json": {
       "model_id": "",
       "version_major": 2,
       "version_minor": 0
      },
      "text/plain": [
       "Validating: 0it [00:00, ?it/s]"
      ]
     },
     "metadata": {},
     "output_type": "display_data"
    },
    {
     "name": "stdout",
     "output_type": "stream",
     "text": [
      "epoch = 13, custom_mae = 0.3906744265522585\n"
     ]
    },
    {
     "data": {
      "application/vnd.jupyter.widget-view+json": {
       "model_id": "",
       "version_major": 2,
       "version_minor": 0
      },
      "text/plain": [
       "Validating: 0it [00:00, ?it/s]"
      ]
     },
     "metadata": {},
     "output_type": "display_data"
    },
    {
     "name": "stdout",
     "output_type": "stream",
     "text": [
      "epoch = 14, custom_mae = 0.36383862179334525\n"
     ]
    },
    {
     "data": {
      "application/vnd.jupyter.widget-view+json": {
       "model_id": "",
       "version_major": 2,
       "version_minor": 0
      },
      "text/plain": [
       "Validating: 0it [00:00, ?it/s]"
      ]
     },
     "metadata": {},
     "output_type": "display_data"
    },
    {
     "name": "stdout",
     "output_type": "stream",
     "text": [
      "epoch = 15, custom_mae = 0.4028886071633889\n"
     ]
    },
    {
     "data": {
      "application/vnd.jupyter.widget-view+json": {
       "model_id": "",
       "version_major": 2,
       "version_minor": 0
      },
      "text/plain": [
       "Validating: 0it [00:00, ?it/s]"
      ]
     },
     "metadata": {},
     "output_type": "display_data"
    },
    {
     "name": "stdout",
     "output_type": "stream",
     "text": [
      "epoch = 16, custom_mae = 0.6420740523763412\n"
     ]
    },
    {
     "data": {
      "application/vnd.jupyter.widget-view+json": {
       "model_id": "",
       "version_major": 2,
       "version_minor": 0
      },
      "text/plain": [
       "Validating: 0it [00:00, ?it/s]"
      ]
     },
     "metadata": {},
     "output_type": "display_data"
    },
    {
     "name": "stdout",
     "output_type": "stream",
     "text": [
      "epoch = 17, custom_mae = 0.3539619647105969\n"
     ]
    },
    {
     "data": {
      "application/vnd.jupyter.widget-view+json": {
       "model_id": "",
       "version_major": 2,
       "version_minor": 0
      },
      "text/plain": [
       "Validating: 0it [00:00, ?it/s]"
      ]
     },
     "metadata": {},
     "output_type": "display_data"
    },
    {
     "name": "stdout",
     "output_type": "stream",
     "text": [
      "epoch = 18, custom_mae = 0.3817360889289093\n"
     ]
    },
    {
     "data": {
      "application/vnd.jupyter.widget-view+json": {
       "model_id": "",
       "version_major": 2,
       "version_minor": 0
      },
      "text/plain": [
       "Validating: 0it [00:00, ?it/s]"
      ]
     },
     "metadata": {},
     "output_type": "display_data"
    },
    {
     "name": "stdout",
     "output_type": "stream",
     "text": [
      "epoch = 19, custom_mae = 0.33020681783981165\n"
     ]
    },
    {
     "data": {
      "application/vnd.jupyter.widget-view+json": {
       "model_id": "",
       "version_major": 2,
       "version_minor": 0
      },
      "text/plain": [
       "Validating: 0it [00:00, ?it/s]"
      ]
     },
     "metadata": {},
     "output_type": "display_data"
    },
    {
     "name": "stdout",
     "output_type": "stream",
     "text": [
      "epoch = 20, custom_mae = 0.35478753648384564\n"
     ]
    },
    {
     "data": {
      "application/vnd.jupyter.widget-view+json": {
       "model_id": "",
       "version_major": 2,
       "version_minor": 0
      },
      "text/plain": [
       "Validating: 0it [00:00, ?it/s]"
      ]
     },
     "metadata": {},
     "output_type": "display_data"
    },
    {
     "name": "stdout",
     "output_type": "stream",
     "text": [
      "epoch = 21, custom_mae = 0.30584965716839163\n"
     ]
    },
    {
     "data": {
      "application/vnd.jupyter.widget-view+json": {
       "model_id": "",
       "version_major": 2,
       "version_minor": 0
      },
      "text/plain": [
       "Validating: 0it [00:00, ?it/s]"
      ]
     },
     "metadata": {},
     "output_type": "display_data"
    },
    {
     "name": "stdout",
     "output_type": "stream",
     "text": [
      "epoch = 22, custom_mae = 0.2809033520854086\n"
     ]
    },
    {
     "data": {
      "application/vnd.jupyter.widget-view+json": {
       "model_id": "",
       "version_major": 2,
       "version_minor": 0
      },
      "text/plain": [
       "Validating: 0it [00:00, ?it/s]"
      ]
     },
     "metadata": {},
     "output_type": "display_data"
    },
    {
     "name": "stdout",
     "output_type": "stream",
     "text": [
      "epoch = 23, custom_mae = 0.28745540984485524\n"
     ]
    },
    {
     "data": {
      "application/vnd.jupyter.widget-view+json": {
       "model_id": "",
       "version_major": 2,
       "version_minor": 0
      },
      "text/plain": [
       "Validating: 0it [00:00, ?it/s]"
      ]
     },
     "metadata": {},
     "output_type": "display_data"
    },
    {
     "name": "stdout",
     "output_type": "stream",
     "text": [
      "epoch = 24, custom_mae = 0.3400802906768724\n"
     ]
    },
    {
     "data": {
      "application/vnd.jupyter.widget-view+json": {
       "model_id": "",
       "version_major": 2,
       "version_minor": 0
      },
      "text/plain": [
       "Validating: 0it [00:00, ?it/s]"
      ]
     },
     "metadata": {},
     "output_type": "display_data"
    },
    {
     "name": "stdout",
     "output_type": "stream",
     "text": [
      "epoch = 25, custom_mae = 0.2681843607097175\n"
     ]
    },
    {
     "data": {
      "application/vnd.jupyter.widget-view+json": {
       "model_id": "",
       "version_major": 2,
       "version_minor": 0
      },
      "text/plain": [
       "Validating: 0it [00:00, ?it/s]"
      ]
     },
     "metadata": {},
     "output_type": "display_data"
    },
    {
     "name": "stdout",
     "output_type": "stream",
     "text": [
      "epoch = 26, custom_mae = 0.268857190997987\n"
     ]
    },
    {
     "data": {
      "application/vnd.jupyter.widget-view+json": {
       "model_id": "",
       "version_major": 2,
       "version_minor": 0
      },
      "text/plain": [
       "Validating: 0it [00:00, ?it/s]"
      ]
     },
     "metadata": {},
     "output_type": "display_data"
    },
    {
     "name": "stdout",
     "output_type": "stream",
     "text": [
      "epoch = 27, custom_mae = 0.28845146969547236\n"
     ]
    },
    {
     "data": {
      "application/vnd.jupyter.widget-view+json": {
       "model_id": "",
       "version_major": 2,
       "version_minor": 0
      },
      "text/plain": [
       "Validating: 0it [00:00, ?it/s]"
      ]
     },
     "metadata": {},
     "output_type": "display_data"
    },
    {
     "name": "stdout",
     "output_type": "stream",
     "text": [
      "epoch = 28, custom_mae = 0.25806381164717784\n"
     ]
    },
    {
     "data": {
      "application/vnd.jupyter.widget-view+json": {
       "model_id": "",
       "version_major": 2,
       "version_minor": 0
      },
      "text/plain": [
       "Validating: 0it [00:00, ?it/s]"
      ]
     },
     "metadata": {},
     "output_type": "display_data"
    },
    {
     "name": "stdout",
     "output_type": "stream",
     "text": [
      "epoch = 29, custom_mae = 0.269201924290377\n"
     ]
    },
    {
     "data": {
      "application/vnd.jupyter.widget-view+json": {
       "model_id": "",
       "version_major": 2,
       "version_minor": 0
      },
      "text/plain": [
       "Validating: 0it [00:00, ?it/s]"
      ]
     },
     "metadata": {},
     "output_type": "display_data"
    },
    {
     "name": "stdout",
     "output_type": "stream",
     "text": [
      "epoch = 30, custom_mae = 0.250872564956892\n"
     ]
    },
    {
     "data": {
      "application/vnd.jupyter.widget-view+json": {
       "model_id": "",
       "version_major": 2,
       "version_minor": 0
      },
      "text/plain": [
       "Validating: 0it [00:00, ?it/s]"
      ]
     },
     "metadata": {},
     "output_type": "display_data"
    },
    {
     "name": "stdout",
     "output_type": "stream",
     "text": [
      "epoch = 31, custom_mae = 0.26373704153082334\n"
     ]
    },
    {
     "data": {
      "application/vnd.jupyter.widget-view+json": {
       "model_id": "",
       "version_major": 2,
       "version_minor": 0
      },
      "text/plain": [
       "Validating: 0it [00:00, ?it/s]"
      ]
     },
     "metadata": {},
     "output_type": "display_data"
    },
    {
     "name": "stdout",
     "output_type": "stream",
     "text": [
      "epoch = 32, custom_mae = 0.23682147804712983\n"
     ]
    },
    {
     "data": {
      "application/vnd.jupyter.widget-view+json": {
       "model_id": "",
       "version_major": 2,
       "version_minor": 0
      },
      "text/plain": [
       "Validating: 0it [00:00, ?it/s]"
      ]
     },
     "metadata": {},
     "output_type": "display_data"
    },
    {
     "name": "stdout",
     "output_type": "stream",
     "text": [
      "epoch = 33, custom_mae = 0.23680401912667237\n"
     ]
    },
    {
     "data": {
      "application/vnd.jupyter.widget-view+json": {
       "model_id": "",
       "version_major": 2,
       "version_minor": 0
      },
      "text/plain": [
       "Validating: 0it [00:00, ?it/s]"
      ]
     },
     "metadata": {},
     "output_type": "display_data"
    },
    {
     "name": "stdout",
     "output_type": "stream",
     "text": [
      "epoch = 34, custom_mae = 0.23319161750692086\n"
     ]
    },
    {
     "data": {
      "application/vnd.jupyter.widget-view+json": {
       "model_id": "",
       "version_major": 2,
       "version_minor": 0
      },
      "text/plain": [
       "Validating: 0it [00:00, ?it/s]"
      ]
     },
     "metadata": {},
     "output_type": "display_data"
    },
    {
     "name": "stdout",
     "output_type": "stream",
     "text": [
      "epoch = 35, custom_mae = 0.21663786127622173\n"
     ]
    },
    {
     "data": {
      "application/vnd.jupyter.widget-view+json": {
       "model_id": "",
       "version_major": 2,
       "version_minor": 0
      },
      "text/plain": [
       "Validating: 0it [00:00, ?it/s]"
      ]
     },
     "metadata": {},
     "output_type": "display_data"
    },
    {
     "name": "stdout",
     "output_type": "stream",
     "text": [
      "epoch = 36, custom_mae = 0.2110460280415689\n"
     ]
    },
    {
     "data": {
      "application/vnd.jupyter.widget-view+json": {
       "model_id": "",
       "version_major": 2,
       "version_minor": 0
      },
      "text/plain": [
       "Validating: 0it [00:00, ?it/s]"
      ]
     },
     "metadata": {},
     "output_type": "display_data"
    },
    {
     "name": "stdout",
     "output_type": "stream",
     "text": [
      "epoch = 37, custom_mae = 0.21155406112642416\n"
     ]
    },
    {
     "data": {
      "application/vnd.jupyter.widget-view+json": {
       "model_id": "",
       "version_major": 2,
       "version_minor": 0
      },
      "text/plain": [
       "Validating: 0it [00:00, ?it/s]"
      ]
     },
     "metadata": {},
     "output_type": "display_data"
    },
    {
     "name": "stdout",
     "output_type": "stream",
     "text": [
      "epoch = 38, custom_mae = 0.20248509689650834\n"
     ]
    },
    {
     "data": {
      "application/vnd.jupyter.widget-view+json": {
       "model_id": "",
       "version_major": 2,
       "version_minor": 0
      },
      "text/plain": [
       "Validating: 0it [00:00, ?it/s]"
      ]
     },
     "metadata": {},
     "output_type": "display_data"
    },
    {
     "name": "stdout",
     "output_type": "stream",
     "text": [
      "epoch = 39, custom_mae = 0.20409091961121456\n"
     ]
    },
    {
     "data": {
      "application/vnd.jupyter.widget-view+json": {
       "model_id": "",
       "version_major": 2,
       "version_minor": 0
      },
      "text/plain": [
       "Validating: 0it [00:00, ?it/s]"
      ]
     },
     "metadata": {},
     "output_type": "display_data"
    },
    {
     "name": "stdout",
     "output_type": "stream",
     "text": [
      "epoch = 40, custom_mae = 0.1999325876465703\n"
     ]
    },
    {
     "data": {
      "application/vnd.jupyter.widget-view+json": {
       "model_id": "",
       "version_major": 2,
       "version_minor": 0
      },
      "text/plain": [
       "Validating: 0it [00:00, ?it/s]"
      ]
     },
     "metadata": {},
     "output_type": "display_data"
    },
    {
     "name": "stdout",
     "output_type": "stream",
     "text": [
      "epoch = 41, custom_mae = 0.19655344722210738\n"
     ]
    },
    {
     "data": {
      "application/vnd.jupyter.widget-view+json": {
       "model_id": "",
       "version_major": 2,
       "version_minor": 0
      },
      "text/plain": [
       "Validating: 0it [00:00, ?it/s]"
      ]
     },
     "metadata": {},
     "output_type": "display_data"
    },
    {
     "name": "stdout",
     "output_type": "stream",
     "text": [
      "epoch = 42, custom_mae = 0.19360751962251896\n"
     ]
    },
    {
     "data": {
      "application/vnd.jupyter.widget-view+json": {
       "model_id": "",
       "version_major": 2,
       "version_minor": 0
      },
      "text/plain": [
       "Validating: 0it [00:00, ?it/s]"
      ]
     },
     "metadata": {},
     "output_type": "display_data"
    },
    {
     "name": "stdout",
     "output_type": "stream",
     "text": [
      "epoch = 43, custom_mae = 0.19366909718899272\n",
      "train done.\n"
     ]
    },
    {
     "name": "stderr",
     "output_type": "stream",
     "text": [
      "/usr/local/lib/python3.8/dist-packages/pytorch_lightning/utilities/distributed.py:69: UserWarning: Detected KeyboardInterrupt, attempting graceful shutdown...\n",
      "  warnings.warn(*args, **kwargs)\n"
     ]
    }
   ],
   "source": [
    "oof = np.zeros(len(train_df))\n",
    "test_preds_lst = []\n",
    "input_dim = len(train_value_col)\n",
    "train_df['pred'] = 0\n",
    "\n",
    "gkf = GroupKFold(n_splits=CFG.n_folds).split(train_df, train_df.pressure, groups=train_df.breath_id)\n",
    "for fold, (_, valid_idx) in enumerate(gkf):\n",
    "    train_df.loc[valid_idx, 'fold'] = fold\n",
    "    \n",
    "for i, fold in enumerate(range(CFG.n_folds)):\n",
    "    if i not in CFG.folds:\n",
    "        continue\n",
    "    print(f'Fold-{fold}')\n",
    "    \n",
    "    trn_df = train_df.query(f\"fold!={fold}\").reset_index(drop=True)\n",
    "    val_df = train_df.query(f\"fold=={fold}\").reset_index(drop=True)\n",
    "    \n",
    "    loaders = {\n",
    "        phase: DataLoader(\n",
    "            VentilatorDataset(\n",
    "                df_, train_value_col, train_category_col, target_dic\n",
    "            ),\n",
    "            **CFG.loader_params[phase])  # type: ignore\n",
    "        for phase, df_ in zip([\"train\", \"valid\", \"test\"], [trn_df, val_df, test_df])\n",
    "    }\n",
    "    \n",
    "\n",
    "    model = VentilatorModel(input_dim)\n",
    "    model_name = model.__class__.__name__\n",
    "    \n",
    "\n",
    "    num_train_steps = int(len(loaders['train']) * CFG.epochs)\n",
    "    num_warmup_steps = int(num_train_steps / 10)\n",
    "    learner = Learner(model, num_train_steps, num_warmup_steps, target_dic_inv, unique_targets)\n",
    "    \n",
    "    # loggers\n",
    "    RUN_NAME = f'exp{str(CFG.exp_num)}'\n",
    "    wandb.init(project='Ventilator-Pressure-Prediction', entity='sqrt4kaido', group=RUN_NAME, job_type=RUN_NAME + f'-fold-{i}')\n",
    "    wandb.run.name = RUN_NAME + f'-fold-{i}'\n",
    "    wandb_config = wandb.config\n",
    "    wandb_config.model_name = model_name\n",
    "    wandb.watch(model)\n",
    "    \n",
    "    # callbacks\n",
    "    callbacks = []\n",
    "    checkpoint_callback = ModelCheckpoint(\n",
    "        monitor=f'custom_mae/val',\n",
    "        mode='min',\n",
    "        dirpath=OUTPUT_DIR,\n",
    "        verbose=False,\n",
    "        save_weights_only=True,\n",
    "        filename=f'{model_name}-{learner.current_epoch}-{i}')\n",
    "    callbacks.append(checkpoint_callback)\n",
    "    \n",
    "    loggers = []\n",
    "    loggers.append(WandbLogger())\n",
    "    \n",
    "    trainer = pl.Trainer(\n",
    "        logger=loggers,\n",
    "        callbacks=callbacks,\n",
    "        max_epochs=CFG.epochs,\n",
    "        default_root_dir=OUTPUT_DIR,\n",
    "        gpus=1,\n",
    "#         fast_dev_run=DEBUG,\n",
    "        deterministic=True,\n",
    "        benchmark=False,\n",
    "        )\n",
    "    \n",
    "    trainer.fit(learner, train_dataloader=loaders['train'], val_dataloaders=loaders['valid'])\n",
    "#     trainer.save_checkpoint(OUTPUT_DIR / \"last.ckpt\")\n",
    "    print('train done.')\n",
    "\n",
    "    ############\n",
    "    # validation (to make oof)\n",
    "    #############\n",
    "    checkpoint = torch.load(checkpoint_callback.best_model_path)\n",
    "    learner.load_state_dict(checkpoint['state_dict'])\n",
    "    model = model.to(device)\n",
    "    \n",
    "    valid_loss, valid_predict = valid_loop(model, loaders['valid'], target_dic_inv)\n",
    "    valid_score_mask = compute_metric(valid_predict, val_df['pressure'].values, val_df['u_out'].values)\n",
    "    print(f\"fold = {fold}, valid mask score = {valid_score_mask}:\")\n",
    "    train_df.loc[train_df['fold'] == fold, 'pred'] = valid_predict\n",
    "    train_df.loc[train_df['fold'] == fold, ['id', 'pred']].to_csv(OUTPUT_DIR / f\"oof_f{fold}.csv\", index=None)\n",
    "    \n",
    "    \n",
    "    #############\n",
    "    # inference\n",
    "    #############\n",
    "\n",
    "    test_preds = test_loop(model, loaders['test'], target_dic_inv)\n",
    "    test_preds_lst.append(test_preds)\n",
    "    \n",
    "    sub_df['pressure'] = test_preds\n",
    "    sub_df.to_csv(OUTPUT_DIR / f\"sub_f{fold}.csv\", index=None)\n",
    "    \n",
    "wandb.finish()"
   ]
  },
  {
   "cell_type": "code",
   "execution_count": 35,
   "metadata": {},
   "outputs": [
    {
     "name": "stdout",
     "output_type": "stream",
     "text": [
      "CV: 0.16472824073225262\n"
     ]
    }
   ],
   "source": [
    "valid_score_mask = compute_metric(train_df['pred'].values, train_df['pressure'].values, train_df['u_out'].values)\n",
    "print(\"CV:\", valid_score_mask)"
   ]
  },
  {
   "cell_type": "code",
   "execution_count": null,
   "metadata": {},
   "outputs": [],
   "source": [
    "oof_df = train_df.loc[:, ['id', 'pred']]\n",
    "oof_df.to_csv(OUTPUT_DIR / \"oof_total.csv\", index=None)"
   ]
  },
  {
   "cell_type": "code",
   "execution_count": null,
   "metadata": {
    "tags": []
   },
   "outputs": [],
   "source": [
    "sub_df['pressure'] = np.stack(test_preds_lst).mean(0)\n",
    "sub_df.to_csv(OUTPUT_DIR / \"submission_mean.csv\", index=None)\n",
    "\n",
    "sub_df['pressure'] = np.median(np.stack(test_preds_lst), axis=0)\n",
    "sub_df.to_csv(OUTPUT_DIR / \"submission_median.csv\", index=None)\n",
    "\n",
    "# Post Processing: https://www.kaggle.com/snnclsr/a-dummy-approach-to-improve-your-score-postprocess\n",
    "unique_pressures = train_df[\"pressure\"].unique()\n",
    "sorted_pressures = np.sort(unique_pressures)\n",
    "total_pressures_len = len(sorted_pressures)\n",
    "\n",
    "def find_nearest(prediction):\n",
    "    insert_idx = np.searchsorted(sorted_pressures, prediction)\n",
    "    if insert_idx == total_pressures_len:\n",
    "        # If the predicted value is bigger than the highest pressure in the train dataset,\n",
    "        # return the max value.\n",
    "        return sorted_pressures[-1]\n",
    "    elif insert_idx == 0:\n",
    "        # Same control but for the lower bound.\n",
    "        return sorted_pressures[0]\n",
    "    lower_val = sorted_pressures[insert_idx - 1]\n",
    "    upper_val = sorted_pressures[insert_idx]\n",
    "    return lower_val if abs(lower_val - prediction) < abs(upper_val - prediction) else upper_val\n",
    "\n",
    "sub_df = pd.read_csv(OUTPUT_DIR / \"submission_mean.csv\")\n",
    "sub_df[\"pressure\"] = sub_df[\"pressure\"].apply(find_nearest)\n",
    "sub_df.to_csv(OUTPUT_DIR / \"submission_mean_pp.csv\", index=None)\n",
    "\n",
    "sub_df = pd.read_csv(OUTPUT_DIR / \"submission_median.csv\")\n",
    "sub_df[\"pressure\"] = sub_df[\"pressure\"].apply(find_nearest)\n",
    "sub_df.to_csv(OUTPUT_DIR / \"submission_median_pp.csv\", index=None)"
   ]
  },
  {
   "cell_type": "code",
   "execution_count": null,
   "metadata": {
    "tags": []
   },
   "outputs": [],
   "source": []
  }
 ],
 "metadata": {
  "kernelspec": {
   "display_name": "Python 3",
   "language": "python",
   "name": "python3"
  },
  "language_info": {
   "codemirror_mode": {
    "name": "ipython",
    "version": 3
   },
   "file_extension": ".py",
   "mimetype": "text/x-python",
   "name": "python",
   "nbconvert_exporter": "python",
   "pygments_lexer": "ipython3",
   "version": "3.8.11"
  }
 },
 "nbformat": 4,
 "nbformat_minor": 4
}
