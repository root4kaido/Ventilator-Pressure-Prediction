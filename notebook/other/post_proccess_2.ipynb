{
 "cells": [
  {
   "cell_type": "code",
   "execution_count": 1,
   "id": "025c23b3-b858-4beb-9a1c-f48235841815",
   "metadata": {},
   "outputs": [],
   "source": [
    "import numpy as np\n",
    "import pandas as pd\n",
    "from sklearn.metrics import mean_absolute_error as mae\n",
    "import gc\n",
    "import glob\n",
    "import random\n",
    "from tqdm import tqdm\n",
    "import optuna\n",
    "import gc\n",
    "from pathlib import Path\n",
    "import torch\n",
    "from sklearn.linear_model import RidgeCV\n",
    "# import pytablewriter"
   ]
  },
  {
   "cell_type": "code",
   "execution_count": 2,
   "id": "e2606711-5f3e-425b-9e7f-49011938a7fa",
   "metadata": {},
   "outputs": [],
   "source": [
    "DATA_DIR = Path(\"/home/knikaido/work/Ventilator-Pressure-Prediction/data/ventilator-pressure-prediction\")\n",
    "OOF_DIR = Path(\"/home/knikaido/work/Ventilator-Pressure-Prediction/data/team_oofs\")\n",
    "OUTPUT_DIR = Path('./output/')"
   ]
  },
  {
   "cell_type": "code",
   "execution_count": 3,
   "id": "438b66fb-b4bf-4908-91bc-3847dae22b5f",
   "metadata": {},
   "outputs": [],
   "source": [
    "df = pd.read_csv(DATA_DIR / 'train.csv')\n",
    "df['R_C'] = [f'{r}_{c}' for r, c in zip(df['R'], df['C'])]\n",
    "unique_pressures = df[\"pressure\"].unique()\n",
    "df_ = df[df['u_out'] == 0].reset_index(drop=True)\n",
    "#cs = df['C'].unique()\n",
    "#rs = df['R'].unique()\n",
    "u_out = df['u_out'].values\n",
    "targets = df['pressure'].values[u_out == 0]\n",
    "rs = df_['R'].values"
   ]
  },
  {
   "cell_type": "code",
   "execution_count": 4,
   "id": "e97eba6d-9886-4a8f-a867-824d07e1ada1",
   "metadata": {},
   "outputs": [
    {
     "name": "stdout",
     "output_type": "stream",
     "text": [
      "loaded /home/knikaido/work/Ventilator-Pressure-Prediction/data/team_oofs/tea_oof_cv0.16608165493383653.csv\n",
      "0.16608165493383653\n",
      "R 5 : 0.126532603177839\n",
      "R 20 : 0.1565311703253267\n",
      "R 50 : 0.2044166823530022\n",
      "\n",
      "loaded /home/knikaido/work/Ventilator-Pressure-Prediction/data/team_oofs/tea_oof_cv0.16852467380720984.csv\n",
      "0.16852467380720984\n",
      "R 5 : 0.12844374074016346\n",
      "R 20 : 0.1576788727423492\n",
      "R 50 : 0.20814689368469746\n",
      "\n",
      "loaded /home/knikaido/work/Ventilator-Pressure-Prediction/data/team_oofs/rt4kaido_oof_total_75.csv\n",
      "0.1474279352590739\n",
      "R 5 : 0.10842912220057178\n",
      "R 20 : 0.1376430428952067\n",
      "R 50 : 0.1854724927926773\n",
      "\n",
      "loaded /home/knikaido/work/Ventilator-Pressure-Prediction/data/team_oofs/yyama_oof_exp070.npy\n",
      "0.14750646015384108\n",
      "R 5 : 0.10978610383685605\n",
      "R 20 : 0.14166585384096297\n",
      "R 50 : 0.18190766197124464\n",
      "\n",
      "loaded /home/knikaido/work/Ventilator-Pressure-Prediction/data/team_oofs/rt4kaido_oof_total_77.csv\n",
      "0.14756434515787378\n",
      "R 5 : 0.10782238367556779\n",
      "R 20 : 0.1384717070507575\n",
      "R 50 : 0.18575278739743675\n",
      "\n",
      "loaded /home/knikaido/work/Ventilator-Pressure-Prediction/data/team_oofs/currypurin_177_oof.npy\n",
      "0.15517713616318363\n",
      "R 5 : 0.11739904727145123\n",
      "R 20 : 0.1467565099338556\n",
      "R 50 : 0.1913312096481761\n",
      "\n",
      "loaded /home/knikaido/work/Ventilator-Pressure-Prediction/data/team_oofs/currypurin_179_oof.npy\n",
      "0.14823682787060133\n",
      "R 5 : 0.10739624453864004\n",
      "R 20 : 0.13990312147718112\n",
      "R 50 : 0.18681285787224555\n",
      "\n",
      "loaded /home/knikaido/work/Ventilator-Pressure-Prediction/data/team_oofs/rt2kaido_oof_exp75_10folds.npy\n",
      "0.13949908339500636\n",
      "R 5 : 0.10187495318597037\n",
      "R 20 : 0.1315032072425328\n",
      "R 50 : 0.17524762871691435\n",
      "\n",
      "loaded /home/knikaido/work/Ventilator-Pressure-Prediction/data/team_oofs/yyama_oof_exp080.npy\n",
      "0.14947573030018774\n",
      "R 5 : 0.11148860408572622\n",
      "R 20 : 0.1434360748679511\n",
      "R 50 : 0.18422454086296067\n",
      "\n",
      "loaded /home/knikaido/work/Ventilator-Pressure-Prediction/data/team_oofs/tea_oof_cv0.15402163834314866.csv\n",
      "0.15402163834314866\n",
      "R 5 : 0.11583502004240093\n",
      "R 20 : 0.14344510033614138\n",
      "R 50 : 0.19193213647572138\n",
      "\n",
      "loaded /home/knikaido/work/Ventilator-Pressure-Prediction/data/team_oofs/tea_oof_cv0.14631403817163816.csv\n",
      "0.14631403817163816\n",
      "R 5 : 0.10901645117447091\n",
      "R 20 : 0.13647576217763602\n",
      "R 50 : 0.1830165627742087\n",
      "\n",
      "loaded /home/knikaido/work/Ventilator-Pressure-Prediction/data/team_oofs/yyama_oof_exp081.npy\n",
      "0.14940757547307823\n",
      "R 5 : 0.11027903004722846\n",
      "R 20 : 0.14319337438423005\n",
      "R 50 : 0.18519591846099728\n",
      "\n",
      "loaded /home/knikaido/work/Ventilator-Pressure-Prediction/data/team_oofs/rt4kaido_oof_total_85.csv\n",
      "0.14746999978255435\n",
      "R 5 : 0.10849517659288882\n",
      "R 20 : 0.13809259150337644\n",
      "R 50 : 0.18522567135302095\n",
      "\n",
      "loaded /home/knikaido/work/Ventilator-Pressure-Prediction/data/team_oofs/currypurin_187_oof.npy\n",
      "0.14929994316462006\n",
      "R 5 : 0.11333233260627877\n",
      "R 20 : 0.14147041459815796\n",
      "R 50 : 0.1835973453070047\n",
      "\n",
      "loaded /home/knikaido/work/Ventilator-Pressure-Prediction/data/team_oofs/yyama_oof_total_exp75_3.csv\n",
      "0.14739282771412518\n",
      "R 5 : 0.10541205716090143\n",
      "R 20 : 0.1382284937654843\n",
      "R 50 : 0.1874412503714683\n",
      "\n",
      "loaded /home/knikaido/work/Ventilator-Pressure-Prediction/data/team_oofs/currypurin_190_oof.npy\n",
      "0.14751115863167616\n",
      "R 5 : 0.11056157301804238\n",
      "R 20 : 0.13933703312617693\n",
      "R 50 : 0.18283145763864964\n",
      "\n",
      "preparation done!\n"
     ]
    }
   ],
   "source": [
    "paths = [\n",
    "        str(OOF_DIR / 'tea_oof_cv0.16608165493383653.csv'),\n",
    "         str(OOF_DIR / 'tea_oof_cv0.16852467380720984.csv'),\n",
    "         str(OOF_DIR / 'rt4kaido_oof_total_75.csv'),\n",
    "         str(OOF_DIR / 'yyama_oof_exp070.npy'),\n",
    "         str(OOF_DIR / 'rt4kaido_oof_total_77.csv'),\n",
    "         str(OOF_DIR / 'currypurin_177_oof.npy'),\n",
    "         str(OOF_DIR / 'currypurin_179_oof.npy'),\n",
    "         str(OOF_DIR / 'rt2kaido_oof_exp75_10folds.npy'),\n",
    "         str(OOF_DIR / 'yyama_oof_exp080.npy'),\n",
    "         str(OOF_DIR / 'tea_oof_cv0.15402163834314866.csv'),\n",
    "         str(OOF_DIR / 'tea_oof_cv0.14631403817163816.csv'),\n",
    "         str(OOF_DIR / 'yyama_oof_exp081.npy'),\n",
    "         str(OOF_DIR / 'rt4kaido_oof_total_85.csv'),\n",
    "         str(OOF_DIR / 'currypurin_187_oof.npy'),\n",
    "         str(OOF_DIR / 'yyama_oof_total_exp75_3.csv'),\n",
    "         str(OOF_DIR / 'currypurin_190_oof.npy'),\n",
    "#          str(OOF_DIR / 'rt4kaido_oof_total_88_10fold.csv'),\n",
    "\n",
    "        ]\n",
    "\n",
    "oofs = []\n",
    "scores = []\n",
    "scores5 = []\n",
    "scores20 = []\n",
    "scores50 = []\n",
    "for path in paths:\n",
    "    if '.csv' in path:\n",
    "        try:\n",
    "            oof_ = pd.read_csv(path, usecols=['pred'])[u_out == 0].reset_index(drop=True).values.reshape(-1)\n",
    "            \n",
    "        except:\n",
    "            oof_ = pd.read_csv(path, usecols=['oof'])[u_out == 0].reset_index(drop=True).values.reshape(-1)\n",
    "            print(type(oof_))\n",
    "    else:\n",
    "        try:\n",
    "            oof_ = np.load(path)[df['u_out'] == 0].reshape(-1)\n",
    "        except:\n",
    "            oof_ = np.load(path).reshape(-1)[df['u_out'] == 0]\n",
    "    print(f'loaded {path}')\n",
    "    #print(type(oof_))\n",
    "    #print(oof_.shape)\n",
    "    score = mae(targets, oof_)\n",
    "    scores.append(score)\n",
    "    print(score)\n",
    "    for r in [5,20,50]:\n",
    "        score = mae(targets[rs==r], oof_[rs==r])\n",
    "        print('R', r, ':', score)\n",
    "        if r == 5:\n",
    "            scores5.append(score)\n",
    "        if r == 20:\n",
    "            scores20.append(score)\n",
    "        if r == 50:\n",
    "            scores50.append(score)\n",
    "    print('')\n",
    "    oofs.append(oof_)\n",
    "print('preparation done!')"
   ]
  },
  {
   "cell_type": "code",
   "execution_count": 5,
   "id": "42d34ace-8705-45e1-8164-7cb25670cba0",
   "metadata": {},
   "outputs": [
    {
     "data": {
      "text/html": [
       "<div>\n",
       "<style scoped>\n",
       "    .dataframe tbody tr th:only-of-type {\n",
       "        vertical-align: middle;\n",
       "    }\n",
       "\n",
       "    .dataframe tbody tr th {\n",
       "        vertical-align: top;\n",
       "    }\n",
       "\n",
       "    .dataframe thead th {\n",
       "        text-align: right;\n",
       "    }\n",
       "</style>\n",
       "<table border=\"1\" class=\"dataframe\">\n",
       "  <thead>\n",
       "    <tr style=\"text-align: right;\">\n",
       "      <th></th>\n",
       "      <th>path</th>\n",
       "      <th>cv</th>\n",
       "      <th>R5</th>\n",
       "      <th>R20</th>\n",
       "      <th>R50</th>\n",
       "      <th>r50_cv_ratio</th>\n",
       "    </tr>\n",
       "  </thead>\n",
       "  <tbody>\n",
       "    <tr>\n",
       "      <th>0</th>\n",
       "      <td>tea_oof_cv0.16608165493383653.csv</td>\n",
       "      <td>0.16608</td>\n",
       "      <td>0.12653</td>\n",
       "      <td>0.15653</td>\n",
       "      <td>0.20442</td>\n",
       "      <td>1.231</td>\n",
       "    </tr>\n",
       "    <tr>\n",
       "      <th>1</th>\n",
       "      <td>tea_oof_cv0.16852467380720984.csv</td>\n",
       "      <td>0.16852</td>\n",
       "      <td>0.12844</td>\n",
       "      <td>0.15768</td>\n",
       "      <td>0.20815</td>\n",
       "      <td>1.235</td>\n",
       "    </tr>\n",
       "    <tr>\n",
       "      <th>2</th>\n",
       "      <td>rt4kaido_oof_total_75.csv</td>\n",
       "      <td>0.14743</td>\n",
       "      <td>0.10843</td>\n",
       "      <td>0.13764</td>\n",
       "      <td>0.18547</td>\n",
       "      <td>1.258</td>\n",
       "    </tr>\n",
       "    <tr>\n",
       "      <th>3</th>\n",
       "      <td>yyama_oof_exp070.npy</td>\n",
       "      <td>0.14751</td>\n",
       "      <td>0.10979</td>\n",
       "      <td>0.14167</td>\n",
       "      <td>0.18191</td>\n",
       "      <td>1.233</td>\n",
       "    </tr>\n",
       "    <tr>\n",
       "      <th>4</th>\n",
       "      <td>rt4kaido_oof_total_77.csv</td>\n",
       "      <td>0.14756</td>\n",
       "      <td>0.10782</td>\n",
       "      <td>0.13847</td>\n",
       "      <td>0.18575</td>\n",
       "      <td>1.259</td>\n",
       "    </tr>\n",
       "    <tr>\n",
       "      <th>5</th>\n",
       "      <td>currypurin_177_oof.npy</td>\n",
       "      <td>0.15518</td>\n",
       "      <td>0.11740</td>\n",
       "      <td>0.14676</td>\n",
       "      <td>0.19133</td>\n",
       "      <td>1.233</td>\n",
       "    </tr>\n",
       "    <tr>\n",
       "      <th>6</th>\n",
       "      <td>currypurin_179_oof.npy</td>\n",
       "      <td>0.14824</td>\n",
       "      <td>0.10740</td>\n",
       "      <td>0.13990</td>\n",
       "      <td>0.18681</td>\n",
       "      <td>1.260</td>\n",
       "    </tr>\n",
       "    <tr>\n",
       "      <th>7</th>\n",
       "      <td>rt2kaido_oof_exp75_10folds.npy</td>\n",
       "      <td>0.13950</td>\n",
       "      <td>0.10187</td>\n",
       "      <td>0.13150</td>\n",
       "      <td>0.17525</td>\n",
       "      <td>1.256</td>\n",
       "    </tr>\n",
       "    <tr>\n",
       "      <th>8</th>\n",
       "      <td>yyama_oof_exp080.npy</td>\n",
       "      <td>0.14948</td>\n",
       "      <td>0.11149</td>\n",
       "      <td>0.14344</td>\n",
       "      <td>0.18422</td>\n",
       "      <td>1.232</td>\n",
       "    </tr>\n",
       "    <tr>\n",
       "      <th>9</th>\n",
       "      <td>tea_oof_cv0.15402163834314866.csv</td>\n",
       "      <td>0.15402</td>\n",
       "      <td>0.11584</td>\n",
       "      <td>0.14345</td>\n",
       "      <td>0.19193</td>\n",
       "      <td>1.246</td>\n",
       "    </tr>\n",
       "    <tr>\n",
       "      <th>10</th>\n",
       "      <td>tea_oof_cv0.14631403817163816.csv</td>\n",
       "      <td>0.14631</td>\n",
       "      <td>0.10902</td>\n",
       "      <td>0.13648</td>\n",
       "      <td>0.18302</td>\n",
       "      <td>1.251</td>\n",
       "    </tr>\n",
       "    <tr>\n",
       "      <th>11</th>\n",
       "      <td>yyama_oof_exp081.npy</td>\n",
       "      <td>0.14941</td>\n",
       "      <td>0.11028</td>\n",
       "      <td>0.14319</td>\n",
       "      <td>0.18520</td>\n",
       "      <td>1.240</td>\n",
       "    </tr>\n",
       "    <tr>\n",
       "      <th>12</th>\n",
       "      <td>rt4kaido_oof_total_85.csv</td>\n",
       "      <td>0.14747</td>\n",
       "      <td>0.10850</td>\n",
       "      <td>0.13809</td>\n",
       "      <td>0.18523</td>\n",
       "      <td>1.256</td>\n",
       "    </tr>\n",
       "    <tr>\n",
       "      <th>13</th>\n",
       "      <td>currypurin_187_oof.npy</td>\n",
       "      <td>0.14930</td>\n",
       "      <td>0.11333</td>\n",
       "      <td>0.14147</td>\n",
       "      <td>0.18360</td>\n",
       "      <td>1.230</td>\n",
       "    </tr>\n",
       "    <tr>\n",
       "      <th>14</th>\n",
       "      <td>yyama_oof_total_exp75_3.csv</td>\n",
       "      <td>0.14739</td>\n",
       "      <td>0.10541</td>\n",
       "      <td>0.13823</td>\n",
       "      <td>0.18744</td>\n",
       "      <td>1.272</td>\n",
       "    </tr>\n",
       "    <tr>\n",
       "      <th>15</th>\n",
       "      <td>currypurin_190_oof.npy</td>\n",
       "      <td>0.14751</td>\n",
       "      <td>0.11056</td>\n",
       "      <td>0.13934</td>\n",
       "      <td>0.18283</td>\n",
       "      <td>1.239</td>\n",
       "    </tr>\n",
       "  </tbody>\n",
       "</table>\n",
       "</div>"
      ],
      "text/plain": [
       "                                 path       cv       R5      R20      R50  \\\n",
       "0   tea_oof_cv0.16608165493383653.csv  0.16608  0.12653  0.15653  0.20442   \n",
       "1   tea_oof_cv0.16852467380720984.csv  0.16852  0.12844  0.15768  0.20815   \n",
       "2           rt4kaido_oof_total_75.csv  0.14743  0.10843  0.13764  0.18547   \n",
       "3                yyama_oof_exp070.npy  0.14751  0.10979  0.14167  0.18191   \n",
       "4           rt4kaido_oof_total_77.csv  0.14756  0.10782  0.13847  0.18575   \n",
       "5              currypurin_177_oof.npy  0.15518  0.11740  0.14676  0.19133   \n",
       "6              currypurin_179_oof.npy  0.14824  0.10740  0.13990  0.18681   \n",
       "7      rt2kaido_oof_exp75_10folds.npy  0.13950  0.10187  0.13150  0.17525   \n",
       "8                yyama_oof_exp080.npy  0.14948  0.11149  0.14344  0.18422   \n",
       "9   tea_oof_cv0.15402163834314866.csv  0.15402  0.11584  0.14345  0.19193   \n",
       "10  tea_oof_cv0.14631403817163816.csv  0.14631  0.10902  0.13648  0.18302   \n",
       "11               yyama_oof_exp081.npy  0.14941  0.11028  0.14319  0.18520   \n",
       "12          rt4kaido_oof_total_85.csv  0.14747  0.10850  0.13809  0.18523   \n",
       "13             currypurin_187_oof.npy  0.14930  0.11333  0.14147  0.18360   \n",
       "14        yyama_oof_total_exp75_3.csv  0.14739  0.10541  0.13823  0.18744   \n",
       "15             currypurin_190_oof.npy  0.14751  0.11056  0.13934  0.18283   \n",
       "\n",
       "    r50_cv_ratio  \n",
       "0          1.231  \n",
       "1          1.235  \n",
       "2          1.258  \n",
       "3          1.233  \n",
       "4          1.259  \n",
       "5          1.233  \n",
       "6          1.260  \n",
       "7          1.256  \n",
       "8          1.232  \n",
       "9          1.246  \n",
       "10         1.251  \n",
       "11         1.240  \n",
       "12         1.256  \n",
       "13         1.230  \n",
       "14         1.272  \n",
       "15         1.239  "
      ]
     },
     "metadata": {},
     "output_type": "display_data"
    }
   ],
   "source": [
    "result = pd.DataFrame()\n",
    "result['path'] = paths\n",
    "result['path'] = result['path'].apply(lambda x: x.split('/')[-1])\n",
    "result['cv'] = scores\n",
    "result['cv'] = result['cv'].apply(lambda x: round(x, 5))\n",
    "#result['w'] = study.best_params.values()\n",
    "result['R5'] = scores5\n",
    "result['R5'] = result['R5'].apply(lambda x: round(x, 5))\n",
    "result['R20'] = scores20\n",
    "result['R20'] = result['R20'].apply(lambda x: round(x, 5))\n",
    "result['R50'] = scores50\n",
    "result['R50'] = result['R50'].apply(lambda x: round(x, 5))\n",
    "result['r50_cv_ratio'] = result['R50'] / result['cv']\n",
    "result['r50_cv_ratio'] = result['r50_cv_ratio'].apply(lambda x: round(x, 3))\n",
    "display(result)"
   ]
  },
  {
   "cell_type": "code",
   "execution_count": null,
   "id": "ec9be422-548d-4d76-b4e4-2f13ce22e37c",
   "metadata": {},
   "outputs": [],
   "source": []
  },
  {
   "cell_type": "code",
   "execution_count": null,
   "id": "bab2cac8-64be-48eb-90f4-38a494488641",
   "metadata": {},
   "outputs": [],
   "source": []
  },
  {
   "cell_type": "code",
   "execution_count": 6,
   "id": "f057844b-4bd5-4795-a2d9-12051380e7a8",
   "metadata": {},
   "outputs": [
    {
     "name": "stdout",
     "output_type": "stream",
     "text": [
      "the number of oof is 16\n",
      "simple mean cv: 0.1284126423377514\n",
      "simple median cv: 0.12445581789121203\n",
      "0.12190823131924672\n"
     ]
    }
   ],
   "source": [
    "print(\"the number of oof is\", len(oofs))\n",
    "\n",
    "# medianでブレンドする\n",
    "oof_mean = sum(oofs) / len(oofs)\n",
    "print('simple mean cv:',mae(targets, oof_mean))\n",
    "\n",
    "# medianでブレンドする\n",
    "oof_median = np.median(np.vstack(oofs),axis=0)\n",
    "print('simple median cv:',mae(targets, oof_median))\n",
    "\n",
    "# median pp\n",
    "oof = pd.DataFrame({'pred': oof_median})\n",
    "oof_pp = oof['pred'].map(lambda x: unique_pressures[np.abs(unique_pressures-x).argmin()])\n",
    "score = mae(targets, oof_pp)\n",
    "print(score)"
   ]
  },
  {
   "cell_type": "code",
   "execution_count": 23,
   "id": "90d693e4-018c-4dad-9050-d547d72f5581",
   "metadata": {},
   "outputs": [],
   "source": [
    "df__ = df_[df_['time_step'] < 0.1]"
   ]
  },
  {
   "cell_type": "code",
   "execution_count": 24,
   "id": "a181e233-4c2a-415b-b91e-8a6482c85e02",
   "metadata": {},
   "outputs": [],
   "source": [
    "pressure_sorted = np.sort(df__['pressure'].unique())"
   ]
  },
  {
   "cell_type": "code",
   "execution_count": 25,
   "id": "ea97af95-aa16-4bfc-a2ec-ea2d3185354b",
   "metadata": {
    "tags": []
   },
   "outputs": [
    {
     "data": {
      "text/plain": [
       "array([0.07030215, 0.07030215, 0.07030215, 0.07030215, 0.07030215,\n",
       "       0.07030215, 0.14060429, 0.07030215, 0.07030215, 0.07030215,\n",
       "       0.07030215, 0.07030215, 0.07030215, 0.07030215, 0.07030215,\n",
       "       0.07030215, 0.07030215, 0.07030215, 0.07030215, 0.07030215,\n",
       "       0.07030215, 0.07030215, 0.07030215, 0.07030215, 0.07030215,\n",
       "       0.07030215, 0.07030215, 0.07030215, 0.07030215, 0.07030215,\n",
       "       0.07030215, 0.07030215, 0.07030215, 0.07030215, 0.07030215,\n",
       "       0.07030215, 0.07030215, 0.07030215, 0.07030215, 0.07030215,\n",
       "       0.07030215, 0.07030215, 0.07030215, 0.07030215, 0.07030215,\n",
       "       0.07030215, 0.07030215, 0.07030215, 0.07030215, 0.07030215,\n",
       "       0.07030215, 0.07030215, 0.07030215, 0.07030215, 0.07030215,\n",
       "       0.07030215, 0.07030215, 0.07030215, 0.07030215, 0.07030215,\n",
       "       0.07030215, 0.07030215, 0.07030215, 0.07030215, 0.07030215,\n",
       "       0.07030215, 0.07030215, 0.07030215, 0.07030215, 0.07030215,\n",
       "       0.07030215, 0.07030215, 0.07030215, 0.07030215, 0.07030215,\n",
       "       0.07030215, 0.07030215, 0.07030215, 0.07030215, 0.07030215,\n",
       "       0.07030215, 0.07030215, 0.07030215, 0.07030215, 0.07030215,\n",
       "       0.07030215, 0.07030215, 0.07030215, 0.07030215, 0.07030215,\n",
       "       0.07030215, 0.07030215, 0.07030215, 0.07030215, 0.07030215,\n",
       "       0.07030215, 0.07030215, 0.07030215, 0.07030215, 0.07030215,\n",
       "       0.07030215, 0.07030215, 0.07030215, 0.07030215, 0.07030215,\n",
       "       0.07030215, 0.07030215, 0.07030215, 0.07030215, 0.07030215,\n",
       "       0.07030215, 0.07030215, 0.07030215, 0.07030215, 0.07030215,\n",
       "       0.07030215, 0.07030215, 0.07030215, 0.07030215, 0.07030215,\n",
       "       0.07030215, 0.07030215, 0.07030215, 0.07030215, 0.07030215,\n",
       "       0.07030215, 0.07030215, 0.07030215, 0.07030215, 0.07030215,\n",
       "       0.07030215, 0.07030215, 0.07030215, 0.07030215, 0.07030215,\n",
       "       0.07030215, 0.07030215, 0.07030215, 0.07030215, 0.07030215,\n",
       "       0.07030215, 0.07030215, 0.07030215, 0.07030215, 0.07030215,\n",
       "       0.07030215, 0.07030215, 0.07030215, 0.07030215, 0.07030215,\n",
       "       0.07030215, 0.07030215, 0.07030215, 0.07030215, 0.07030215,\n",
       "       0.07030215, 0.07030215, 0.07030215, 0.07030215, 0.07030215,\n",
       "       0.07030215, 0.07030215, 0.07030215, 0.07030215, 0.07030215,\n",
       "       0.07030215, 0.07030215, 0.07030215, 0.07030215, 0.07030215,\n",
       "       0.07030215, 0.07030215, 0.07030215, 0.07030215, 0.07030215,\n",
       "       0.07030215, 0.07030215, 0.07030215, 0.07030215, 0.07030215,\n",
       "       0.07030215, 0.07030215, 0.07030215, 0.07030215, 0.07030215,\n",
       "       0.07030215, 0.07030215, 0.07030215, 0.07030215, 0.07030215,\n",
       "       0.07030215, 0.07030215, 0.07030215, 0.07030215, 0.07030215,\n",
       "       0.07030215, 0.07030215, 0.07030215, 0.07030215, 0.07030215,\n",
       "       0.07030215, 0.07030215, 0.07030215, 0.07030215, 0.07030215,\n",
       "       0.07030215, 0.07030215, 0.07030215, 0.07030215, 0.07030215,\n",
       "       0.07030215, 0.07030215, 0.07030215, 0.07030215, 0.07030215,\n",
       "       0.07030215, 0.07030215, 0.07030215, 0.07030215, 0.07030215,\n",
       "       0.07030215, 0.07030215, 0.07030215, 0.07030215, 0.07030215,\n",
       "       0.07030215, 0.07030215, 0.07030215, 0.07030215, 0.07030215,\n",
       "       0.07030215, 0.07030215, 0.07030215, 0.07030215, 0.07030215,\n",
       "       0.07030215, 0.07030215, 0.07030215, 0.07030215, 0.07030215,\n",
       "       0.07030215, 0.07030215, 0.07030215, 0.07030215, 0.07030215,\n",
       "       0.07030215, 0.07030215, 0.07030215, 0.07030215, 0.07030215,\n",
       "       0.07030215, 0.07030215, 0.07030215, 0.07030215, 0.07030215,\n",
       "       0.07030215, 0.07030215, 0.07030215, 0.07030215, 0.07030215,\n",
       "       0.07030215, 0.07030215, 0.07030215, 0.07030215, 0.07030215,\n",
       "       0.07030215, 0.07030215, 0.07030215, 0.07030215, 0.07030215,\n",
       "       0.07030215, 0.07030215, 0.07030215, 0.07030215, 0.07030215,\n",
       "       0.07030215, 0.07030215, 0.07030215, 0.07030215, 0.07030215,\n",
       "       0.07030215, 0.07030215, 0.07030215, 0.07030215, 0.07030215,\n",
       "       0.07030215, 0.07030215, 0.07030215, 0.07030215, 0.07030215,\n",
       "       0.07030215, 0.07030215, 0.07030215, 0.07030215, 0.07030215,\n",
       "       0.07030215, 0.07030215, 0.07030215, 0.07030215, 0.07030215,\n",
       "       0.07030215, 0.07030215, 0.07030215, 0.07030215, 0.07030215,\n",
       "       0.07030215, 0.07030215, 0.07030215, 0.07030215, 0.07030215,\n",
       "       0.07030215, 0.07030215, 0.07030215, 0.07030215, 0.07030215,\n",
       "       0.07030215, 0.07030215, 0.07030215, 0.07030215, 0.07030215,\n",
       "       0.07030215, 0.07030215, 0.07030215, 0.07030215, 0.07030215,\n",
       "       0.07030215, 0.07030215, 0.07030215, 0.07030215, 0.07030215,\n",
       "       0.07030215, 0.07030215, 0.07030215, 0.07030215, 0.07030215,\n",
       "       0.07030215, 0.07030215, 0.07030215, 0.07030215, 0.07030215,\n",
       "       0.07030215, 0.07030215, 0.07030215, 0.07030215, 0.07030215,\n",
       "       0.07030215, 0.07030215, 0.07030215, 0.07030215, 0.07030215,\n",
       "       0.07030215, 0.07030215, 0.07030215, 0.07030215, 0.07030215,\n",
       "       0.07030215, 0.07030215, 0.07030215, 0.07030215, 0.07030215,\n",
       "       0.07030215, 0.07030215, 0.07030215, 0.07030215, 0.07030215,\n",
       "       0.07030215, 0.07030215, 0.07030215, 0.07030215, 0.07030215,\n",
       "       0.07030215, 0.07030215, 0.07030215, 0.07030215, 0.07030215,\n",
       "       0.07030215, 0.07030215, 0.07030215, 0.07030215, 0.07030215,\n",
       "       0.07030215, 0.07030215, 0.07030215, 0.07030215, 0.07030215,\n",
       "       0.07030215, 0.07030215, 0.07030215, 0.07030215, 0.07030215,\n",
       "       0.07030215, 0.07030215, 0.07030215, 0.07030215, 0.07030215,\n",
       "       0.07030215, 0.07030215, 0.07030215, 0.07030215, 0.07030215,\n",
       "       0.07030215, 0.07030215, 0.07030215, 0.07030215, 0.07030215,\n",
       "       0.07030215, 0.07030215, 0.07030215, 0.07030215, 0.07030215,\n",
       "       0.07030215, 0.07030215, 0.07030215, 0.07030215, 0.07030215,\n",
       "       0.07030215, 0.07030215, 0.07030215, 0.07030215, 0.07030215,\n",
       "       0.07030215, 0.07030215, 0.07030215, 0.07030215, 0.07030215,\n",
       "       0.07030215, 0.07030215, 0.07030215, 0.07030215, 0.07030215,\n",
       "       0.07030215, 0.07030215, 0.07030215, 0.07030215, 0.07030215,\n",
       "       0.07030215, 0.07030215, 0.07030215, 0.07030215, 0.07030215,\n",
       "       0.07030215, 0.07030215, 0.07030215, 0.07030215, 0.07030215,\n",
       "       0.07030215, 0.07030215, 0.07030215, 0.07030215, 0.07030215,\n",
       "       0.07030215, 0.07030215, 0.07030215, 0.07030215, 0.07030215,\n",
       "       0.07030215, 0.07030215, 0.07030215, 0.07030215, 0.07030215,\n",
       "       0.07030215, 0.07030215, 0.07030215, 0.07030215, 0.07030215,\n",
       "       0.07030215, 0.07030215, 0.07030215, 0.07030215, 0.07030215,\n",
       "       0.07030215, 0.07030215, 0.07030215, 0.07030215, 0.07030215,\n",
       "       0.07030215, 0.07030215, 0.07030215, 0.07030215, 0.07030215,\n",
       "       0.07030215, 0.07030215, 0.07030215, 0.07030215, 0.07030215,\n",
       "       0.07030215, 0.07030215, 0.07030215, 0.07030215, 0.07030215,\n",
       "       0.07030215, 0.07030215, 0.07030215, 0.07030215, 0.07030215,\n",
       "       0.07030215, 0.07030215, 0.07030215, 0.07030215, 0.07030215,\n",
       "       0.07030215, 0.07030215, 0.07030215, 0.07030215, 0.07030215,\n",
       "       0.07030215, 0.07030215, 0.07030215, 0.07030215, 0.07030215,\n",
       "       0.07030215, 0.07030215, 0.07030215, 0.07030215, 0.07030215,\n",
       "       0.07030215, 0.07030215, 0.07030215, 0.07030215, 0.07030215,\n",
       "       0.07030215, 0.07030215, 0.07030215, 0.07030215, 0.07030215,\n",
       "       0.07030215, 0.07030215, 0.07030215, 0.07030215, 0.07030215,\n",
       "       0.07030215, 0.07030215, 0.07030215, 0.07030215, 0.07030215,\n",
       "       0.07030215, 0.07030215, 0.07030215, 0.07030215, 0.07030215,\n",
       "       0.07030215, 0.07030215, 0.07030215, 0.07030215, 0.07030215,\n",
       "       0.07030215, 0.07030215, 0.07030215, 0.07030215, 0.07030215,\n",
       "       0.07030215, 0.07030215, 0.07030215, 0.07030215, 0.07030215,\n",
       "       0.07030215, 0.07030215, 0.07030215, 0.07030215, 0.07030215,\n",
       "       0.07030215, 0.07030215, 0.07030215, 0.07030215, 0.07030215,\n",
       "       0.07030215, 0.07030215, 0.07030215, 0.07030215, 0.07030215,\n",
       "       0.07030215, 0.07030215, 0.07030215, 0.07030215, 0.07030215,\n",
       "       0.07030215, 0.07030215, 0.07030215, 0.07030215, 0.07030215,\n",
       "       0.07030215, 0.07030215, 0.07030215, 0.07030215, 0.07030215,\n",
       "       0.07030215, 0.07030215, 0.07030215, 0.07030215, 0.07030215,\n",
       "       0.07030215, 0.07030215, 0.07030215, 0.07030215, 0.07030215,\n",
       "       0.07030215, 0.07030215, 0.07030215, 0.07030215, 0.07030215,\n",
       "       0.07030215, 0.07030215, 0.07030215, 0.07030215, 0.07030215,\n",
       "       0.07030215, 0.07030215, 0.07030215, 0.14060429, 0.07030215,\n",
       "       0.07030215, 0.07030215, 0.07030215, 0.07030215, 0.07030215,\n",
       "       0.07030215, 0.07030215, 0.07030215, 0.07030215, 0.07030215,\n",
       "       0.07030215, 0.07030215, 0.07030215, 0.07030215, 0.07030215,\n",
       "       0.07030215, 0.07030215, 0.07030215, 0.07030215, 0.07030215,\n",
       "       0.07030215, 0.07030215, 0.07030215, 0.07030215, 0.07030215,\n",
       "       0.07030215, 0.07030215, 0.07030215, 0.07030215, 0.07030215,\n",
       "       0.07030215, 0.07030215, 0.07030215, 0.07030215, 0.07030215,\n",
       "       0.07030215, 0.07030215, 0.07030215, 0.07030215, 0.07030215,\n",
       "       0.07030215, 0.07030215, 0.07030215, 0.07030215, 0.07030215,\n",
       "       0.07030215, 0.07030215, 0.07030215, 0.07030215, 0.07030215,\n",
       "       0.07030215, 0.07030215, 0.07030215, 0.07030215, 0.07030215,\n",
       "       0.07030215, 0.07030215, 0.07030215, 0.07030215, 0.07030215,\n",
       "       0.07030215, 0.07030215, 0.07030215, 0.07030215, 0.07030215,\n",
       "       0.07030215, 0.07030215, 0.07030215, 0.07030215, 0.07030215,\n",
       "       0.07030215, 0.07030215, 0.07030215, 0.07030215, 0.07030215,\n",
       "       0.07030215, 0.07030215, 0.07030215, 0.07030215, 0.07030215,\n",
       "       0.07030215, 0.07030215, 0.07030215, 0.07030215, 0.07030215,\n",
       "       0.07030215, 0.07030215, 0.07030215, 0.07030215, 0.07030215,\n",
       "       0.07030215, 0.07030215, 0.07030215, 0.07030215, 0.07030215,\n",
       "       0.07030215, 0.07030215, 0.07030215, 0.07030215, 0.07030215,\n",
       "       0.07030215, 0.07030215, 0.07030215, 0.07030215, 0.07030215,\n",
       "       0.07030215, 0.07030215, 0.07030215, 0.07030215, 0.07030215,\n",
       "       0.07030215, 0.07030215, 0.07030215, 0.07030215, 0.07030215,\n",
       "       0.07030215, 0.07030215, 0.07030215, 0.07030215, 0.07030215,\n",
       "       0.07030215, 0.07030215, 0.07030215, 0.07030215, 0.07030215,\n",
       "       0.07030215, 0.07030215, 0.07030215, 0.07030215, 0.07030215,\n",
       "       0.07030215, 0.07030215, 0.07030215, 0.07030215, 0.07030215,\n",
       "       0.07030215, 0.07030215, 0.07030215, 0.07030215, 0.07030215,\n",
       "       0.07030215, 0.07030215, 0.07030215, 0.07030215, 0.07030215,\n",
       "       0.07030215, 0.07030215, 0.07030215, 0.07030215, 0.07030215,\n",
       "       0.07030215, 0.07030215, 0.07030215, 0.07030215, 0.07030215,\n",
       "       0.07030215, 0.07030215, 0.07030215, 0.21090644, 0.14060429,\n",
       "       0.07030215, 0.14060429, 0.14060429, 0.07030215, 0.14060429,\n",
       "       0.07030215, 0.07030215])"
      ]
     },
     "execution_count": 25,
     "metadata": {},
     "output_type": "execute_result"
    }
   ],
   "source": [
    "np.diff(pressure_sorted)"
   ]
  },
  {
   "cell_type": "code",
   "execution_count": 16,
   "id": "a821e40f-58ea-4a3d-a2bb-541cd44aabe2",
   "metadata": {},
   "outputs": [],
   "source": [
    "pressure_sorted = np.sort(df_['pressure'].unique())\n",
    "PRESSURE_MIN = pressure_sorted[0]\n",
    "PRESSURE_MAX = pressure_sorted[-1]\n",
    "PRESSURE_STEP = pressure_sorted[1] - pressure_sorted[0]\n",
    "\n",
    "def post_process(pressure):\n",
    "    pressure = np.round((pressure - PRESSURE_MIN) / PRESSURE_STEP) * PRESSURE_STEP + PRESSURE_MIN\n",
    "    pressure = np.clip(pressure, PRESSURE_MIN, PRESSURE_MAX)\n",
    "    return pressure"
   ]
  },
  {
   "cell_type": "code",
   "execution_count": 17,
   "id": "ef7815ee-c02b-4766-acf4-a1b2a347b0de",
   "metadata": {},
   "outputs": [],
   "source": [
    "oof_median_pp = post_process(oof_median)"
   ]
  },
  {
   "cell_type": "code",
   "execution_count": 18,
   "id": "51496f44-d7bb-4c82-845a-7aeee98875fd",
   "metadata": {},
   "outputs": [
    {
     "data": {
      "text/plain": [
       "0.12190823131981196"
      ]
     },
     "execution_count": 18,
     "metadata": {},
     "output_type": "execute_result"
    }
   ],
   "source": [
    "mae(targets, oof_median_pp)"
   ]
  },
  {
   "cell_type": "code",
   "execution_count": null,
   "id": "21fe1f48-2ffd-4ed7-ac05-e6ca1eab75bf",
   "metadata": {},
   "outputs": [],
   "source": []
  },
  {
   "cell_type": "code",
   "execution_count": 8,
   "id": "ecaf10fc-9388-48cf-9794-8c350b2cf8a8",
   "metadata": {},
   "outputs": [],
   "source": [
    "oofs_pp = []\n",
    "for oof in oofs:\n",
    "    oofs_pp.append(pd.Series(oof).map(lambda x: unique_pressures[np.abs(unique_pressures-x).argmin()]).values)"
   ]
  },
  {
   "cell_type": "code",
   "execution_count": 9,
   "id": "1fb0784f-6d36-43e7-9c4a-2916bcea0e97",
   "metadata": {},
   "outputs": [
    {
     "name": "stdout",
     "output_type": "stream",
     "text": [
      "the number of oof is 16\n",
      "simple mean cv: 0.12834821144714034\n",
      "simple median cv: 0.12212673564872038\n",
      "0.12213540462885876\n"
     ]
    }
   ],
   "source": [
    "print(\"the number of oof is\", len(oofs_pp))\n",
    "\n",
    "# medianでブレンドする\n",
    "oof_mean = sum(oofs_pp) / len(oofs_pp)\n",
    "print('simple mean cv:',mae(targets, oof_mean))\n",
    "\n",
    "# medianでブレンドする\n",
    "oof_median = np.median(np.vstack(oofs_pp),axis=0)\n",
    "print('simple median cv:',mae(targets, oof_median))\n",
    "\n",
    "# median pp\n",
    "oof = pd.DataFrame({'pred': oof_median})\n",
    "oof_pp = oof['pred'].map(lambda x: unique_pressures[np.abs(unique_pressures-x).argmin()])\n",
    "score = mae(targets, oof_pp)\n",
    "print(score)"
   ]
  },
  {
   "cell_type": "code",
   "execution_count": 12,
   "id": "8f45832b-e02f-455a-8599-cf0ee9962d26",
   "metadata": {},
   "outputs": [],
   "source": [
    "oofs_pp = np.array(oofs_pp).astype(np.float16).T"
   ]
  },
  {
   "cell_type": "code",
   "execution_count": 17,
   "id": "c73ec64e-4b32-4d1c-88a9-9a6bd8785fd5",
   "metadata": {},
   "outputs": [],
   "source": [
    "oofs = np.array(oofs).astype(np.float16).T"
   ]
  },
  {
   "cell_type": "code",
   "execution_count": 18,
   "id": "e7a23246-ae10-451e-83c9-b3a37aefd2a8",
   "metadata": {},
   "outputs": [],
   "source": [
    "X = oofs\n",
    "y = df_['pressure']"
   ]
  },
  {
   "cell_type": "code",
   "execution_count": 37,
   "id": "50ba00b7-1221-47bb-ae1f-4b4b900ac1ae",
   "metadata": {},
   "outputs": [
    {
     "name": "stdout",
     "output_type": "stream",
     "text": [
      "0.12852646117400912\n",
      "Ensemble Weights: [0.05741952 0.07320534 0.01420845 0.14834334 0.03528354 0.09322916\n",
      " 0.06860712 0.13548226 0.00938034 0.01576069 0.07716455 0.06041021\n",
      " 0.03426351 0.05918    0.00732778 0.11112971]\n",
      "Sum of weights: 1.0003955367153325\n"
     ]
    }
   ],
   "source": [
    "lin_reg = RidgeCV(alphas=np.logspace(-3,10, 20))\n",
    "lin_reg.fit(X, y)\n",
    "pred = lin_reg.predict(X)\n",
    "print(mae(y, pred))\n",
    "print(f'Ensemble Weights: {lin_reg.coef_}')\n",
    "print(f'Sum of weights: {sum(lin_reg.coef_)}')"
   ]
  },
  {
   "cell_type": "code",
   "execution_count": 28,
   "id": "c0d0da60-d82d-4b92-ac1a-fa1291ee88d7",
   "metadata": {},
   "outputs": [],
   "source": [
    "oofs = np.hstack([oofs, pred.reshape(-1, 1)])"
   ]
  },
  {
   "cell_type": "code",
   "execution_count": 33,
   "id": "89aef3db-55c7-4c0d-8976-94831d2e8519",
   "metadata": {},
   "outputs": [],
   "source": [
    "oofs = oofs.T"
   ]
  },
  {
   "cell_type": "code",
   "execution_count": 34,
   "id": "0222edc8-5216-4113-bfe6-1b0c6ad1dc10",
   "metadata": {},
   "outputs": [
    {
     "name": "stdout",
     "output_type": "stream",
     "text": [
      "the number of oof is 17\n",
      "simple mean cv: 0.12838101069916283\n",
      "simple median cv: 0.12469604100254499\n",
      "0.12218637516340776\n"
     ]
    }
   ],
   "source": [
    "print(\"the number of oof is\", len(oofs))\n",
    "\n",
    "# medianでブレンドする\n",
    "oof_mean = sum(oofs) / len(oofs)\n",
    "print('simple mean cv:',mae(targets, oof_mean))\n",
    "\n",
    "# medianでブレンドする\n",
    "oof_median = np.median(np.vstack(oofs),axis=0)\n",
    "print('simple median cv:',mae(targets, oof_median))\n",
    "\n",
    "# median pp\n",
    "oof = pd.DataFrame({'pred': oof_median})\n",
    "oof_pp = oof['pred'].map(lambda x: unique_pressures[np.abs(unique_pressures-x).argmin()])\n",
    "score = mae(targets, oof_pp)\n",
    "print(score)"
   ]
  },
  {
   "cell_type": "code",
   "execution_count": null,
   "id": "e1e329c0-3dd6-420a-b840-f7f387f443c6",
   "metadata": {},
   "outputs": [],
   "source": []
  },
  {
   "cell_type": "code",
   "execution_count": null,
   "id": "cfc07b81-994c-4375-9ccc-6f8a81da35ca",
   "metadata": {},
   "outputs": [],
   "source": []
  },
  {
   "cell_type": "code",
   "execution_count": 43,
   "id": "3d2c1a5f-03eb-414e-8d1c-5fb42b186a00",
   "metadata": {},
   "outputs": [],
   "source": [
    "_, counts = np.unique(oofs_pp, axis=1, return_counts=True)"
   ]
  },
  {
   "cell_type": "code",
   "execution_count": 37,
   "id": "1c92a81d-33df-49fe-a6c0-9c3adcf13e20",
   "metadata": {},
   "outputs": [],
   "source": [
    "counts = counts[counts < 20]"
   ]
  },
  {
   "cell_type": "code",
   "execution_count": 44,
   "id": "3e272908-d042-44fb-aa89-e6ca562d3346",
   "metadata": {},
   "outputs": [
    {
     "name": "stderr",
     "output_type": "stream",
     "text": [
      "/usr/local/lib/python3.8/dist-packages/seaborn/distributions.py:2557: FutureWarning: `distplot` is a deprecated function and will be removed in a future version. Please adapt your code to use either `displot` (a figure-level function with similar flexibility) or `histplot` (an axes-level function for histograms).\n",
      "  warnings.warn(msg, FutureWarning)\n"
     ]
    },
    {
     "data": {
      "text/plain": [
       "<AxesSubplot:ylabel='Density'>"
      ]
     },
     "execution_count": 44,
     "metadata": {},
     "output_type": "execute_result"
    },
    {
     "data": {
      "image/png": "[encoded data removed]",
      "text/plain": [
       "<Figure size 432x288 with 1 Axes>"
      ]
     },
     "metadata": {
      "needs_background": "light"
     },
     "output_type": "display_data"
    }
   ],
   "source": [
    "import seaborn as sns\n",
    "\n",
    "sns.distplot(counts)"
   ]
  },
  {
   "cell_type": "code",
   "execution_count": 39,
   "id": "72d93a7a-fc41-4876-ba7d-380291c9f4cf",
   "metadata": {},
   "outputs": [
    {
     "data": {
      "text/plain": [
       "count    2.223368e+06\n",
       "mean     1.019816e+00\n",
       "std      2.961538e-01\n",
       "min      1.000000e+00\n",
       "25%      1.000000e+00\n",
       "50%      1.000000e+00\n",
       "75%      1.000000e+00\n",
       "max      1.900000e+01\n",
       "dtype: float64"
      ]
     },
     "execution_count": 39,
     "metadata": {},
     "output_type": "execute_result"
    }
   ],
   "source": [
    "pd.Series(counts).describe()"
   ]
  },
  {
   "cell_type": "code",
   "execution_count": 45,
   "id": "7adb8c6e-cbd1-470d-a76f-d6eeabbe5495",
   "metadata": {},
   "outputs": [
    {
     "data": {
      "text/plain": [
       "1       2200628\n",
       "2         15324\n",
       "3          3554\n",
       "4          1374\n",
       "5           706\n",
       "         ...   \n",
       "98            1\n",
       "100           1\n",
       "103           1\n",
       "112           1\n",
       "1456          1\n",
       "Length: 117, dtype: int64"
      ]
     },
     "execution_count": 45,
     "metadata": {},
     "output_type": "execute_result"
    }
   ],
   "source": [
    "pd.Series(counts).value_counts()"
   ]
  },
  {
   "cell_type": "code",
   "execution_count": null,
   "id": "9b937e5d-59d0-4226-b7b7-00b5afb153cb",
   "metadata": {},
   "outputs": [],
   "source": []
  },
  {
   "cell_type": "code",
   "execution_count": 7,
   "id": "a9e6293f-a92e-486a-94f5-d911d4deeeea",
   "metadata": {},
   "outputs": [],
   "source": [
    "oofs = np.array(oofs)"
   ]
  },
  {
   "cell_type": "code",
   "execution_count": 8,
   "id": "e7997637-1887-45c2-8ea6-d6c6088fc5f2",
   "metadata": {},
   "outputs": [],
   "source": [
    "oof_var = np.var(oofs, axis=0)"
   ]
  },
  {
   "cell_type": "code",
   "execution_count": 9,
   "id": "ed7ca8a9-0cf3-4dec-8792-5e1f33c7d403",
   "metadata": {},
   "outputs": [],
   "source": [
    "rate = 0.05"
   ]
  },
  {
   "cell_type": "code",
   "execution_count": 10,
   "id": "746f1e20-5b8c-49ae-82ed-d5da005cb214",
   "metadata": {},
   "outputs": [
    {
     "data": {
      "text/plain": [
       "0.09391977219910401"
      ]
     },
     "execution_count": 10,
     "metadata": {},
     "output_type": "execute_result"
    }
   ],
   "source": [
    "mae(targets[oof_var < rate], oof_median[oof_var < rate])"
   ]
  },
  {
   "cell_type": "code",
   "execution_count": 11,
   "id": "7119b3bd-ebd6-4523-a039-17c985d0a0c7",
   "metadata": {},
   "outputs": [
    {
     "data": {
      "text/plain": [
       "0.47079305719389125"
      ]
     },
     "execution_count": 11,
     "metadata": {},
     "output_type": "execute_result"
    }
   ],
   "source": [
    "mae(targets[oof_var >= rate], oof_median[oof_var >= rate])"
   ]
  },
  {
   "cell_type": "code",
   "execution_count": 12,
   "id": "9dc95a46-7e8b-41e6-97ad-943e87120650",
   "metadata": {},
   "outputs": [
    {
     "data": {
      "text/plain": [
       "0.13949908339500636"
      ]
     },
     "execution_count": 12,
     "metadata": {},
     "output_type": "execute_result"
    }
   ],
   "source": [
    "mae(targets, oofs[7])"
   ]
  },
  {
   "cell_type": "code",
   "execution_count": 13,
   "id": "275b2e52-4391-4f5e-912d-484557de1067",
   "metadata": {},
   "outputs": [
    {
     "data": {
      "text/plain": [
       "0.561485621697447"
      ]
     },
     "execution_count": 13,
     "metadata": {},
     "output_type": "execute_result"
    }
   ],
   "source": [
    "mae(targets[oof_var >= rate], oofs[7][oof_var >= rate])"
   ]
  },
  {
   "cell_type": "code",
   "execution_count": 14,
   "id": "f309e575-745a-4b1c-96f8-a1a9736047eb",
   "metadata": {},
   "outputs": [
    {
     "name": "stdout",
     "output_type": "stream",
     "text": [
      "0.6434548916471494 0.12399235781459815\n",
      "0.6476017156435224 0.1262851546928113\n",
      "0.6163003644958853 0.10608814184912453\n",
      "0.5638637503355837 0.1107968494205847\n",
      "0.611697131782161 0.10664243907552373\n",
      "0.5829203300727472 0.11746364702176457\n",
      "0.600331560672192 0.10837629931240676\n",
      "0.561485621697447 0.1022931501231402\n",
      "0.5816014426794255 0.11137584094230363\n",
      "0.6408310119574182 0.11110037089307112\n",
      "0.5926862873048593 0.10695805259334802\n",
      "0.577360059587443 0.11167563352170551\n",
      "0.6125736959577929 0.10646249003116054\n",
      "0.5564475193814247 0.11340233938450231\n",
      "0.6147207376662222 0.10618921230093212\n",
      "0.5573543377511564 0.11137588750290833\n"
     ]
    }
   ],
   "source": [
    "for oof in oofs:\n",
    "    print(mae(targets[oof_var >= rate], oof[oof_var >= rate]), mae(targets[oof_var < rate], oof[oof_var < rate]))"
   ]
  },
  {
   "cell_type": "code",
   "execution_count": 15,
   "id": "d4dc4c82-5684-425f-90c5-47dea890bc8b",
   "metadata": {},
   "outputs": [],
   "source": [
    "oof_median_alt = np.median(oofs[[3, 11, 13, 15]],axis=0)"
   ]
  },
  {
   "cell_type": "code",
   "execution_count": 16,
   "id": "e7f7b868-c8fd-430b-b5c7-db70b6da734c",
   "metadata": {},
   "outputs": [
    {
     "data": {
      "text/plain": [
       "0.5020030313948376"
      ]
     },
     "execution_count": 16,
     "metadata": {},
     "output_type": "execute_result"
    }
   ],
   "source": [
    "mae(targets[oof_var >= rate], oof_median_alt[oof_var >= rate])"
   ]
  },
  {
   "cell_type": "code",
   "execution_count": null,
   "id": "8a44865e-8675-406c-bc02-0ed0f1acd19c",
   "metadata": {},
   "outputs": [],
   "source": []
  },
  {
   "cell_type": "code",
   "execution_count": 17,
   "id": "a61d01d3-280c-4096-9f83-8bd5f613ebdf",
   "metadata": {},
   "outputs": [],
   "source": [
    "df_['ver'] = oof_var"
   ]
  },
  {
   "cell_type": "code",
   "execution_count": 18,
   "id": "3a655bdc-bdd1-4baa-95b6-e314efe25450",
   "metadata": {},
   "outputs": [
    {
     "data": {
      "text/plain": [
       "R_C\n",
       "50_50    43415\n",
       "50_20    41188\n",
       "50_10    33860\n",
       "5_10     18393\n",
       "20_10    15508\n",
       "20_50    13383\n",
       "20_20    10985\n",
       "5_20      5264\n",
       "5_50      3629\n",
       "dtype: int64"
      ]
     },
     "execution_count": 18,
     "metadata": {},
     "output_type": "execute_result"
    }
   ],
   "source": [
    "df_[oof_var >= rate].value_counts('R_C')"
   ]
  },
  {
   "cell_type": "code",
   "execution_count": 19,
   "id": "941709ec-059e-4745-a5c7-f065457e7dfe",
   "metadata": {},
   "outputs": [
    {
     "data": {
      "text/plain": [
       "0.08102470222194287"
      ]
     },
     "execution_count": 19,
     "metadata": {},
     "output_type": "execute_result"
    }
   ],
   "source": [
    "len(df_[oof_var >= rate]) / len(df_)"
   ]
  },
  {
   "cell_type": "code",
   "execution_count": 20,
   "id": "b4563e7a-a3e7-42de-b9a3-8239fe88c95a",
   "metadata": {},
   "outputs": [],
   "source": [
    "oofs = oofs[:, oof_var >= rate]"
   ]
  },
  {
   "cell_type": "code",
   "execution_count": 21,
   "id": "86162cc3-df9d-4228-8583-c959d8caf830",
   "metadata": {},
   "outputs": [],
   "source": [
    "def objective(trial):\n",
    "    \n",
    "    ws = []\n",
    "    oofs_ = []\n",
    "    for i in range(len(oofs)):\n",
    "        w_tmp = trial.suggest_int(f'w{i}', 0,15)\n",
    "        ws.append(w_tmp)\n",
    "        for _ in range(ws[i]):\n",
    "            oofs_.append(oofs[i])\n",
    "    oof = np.median(np.vstack(oofs_),axis=0)\n",
    "    score = mae(targets[oof_var >= rate], oof)\n",
    "    \n",
    "    return score"
   ]
  },
  {
   "cell_type": "code",
   "execution_count": 23,
   "id": "2e7dc864-aba7-4cf4-9477-707c14d4d29d",
   "metadata": {
    "tags": []
   },
   "outputs": [
    {
     "name": "stderr",
     "output_type": "stream",
     "text": [
      "\u001b[32m[I 2021-10-25 00:50:45,247]\u001b[0m A new study created in memory with name: no-name-6429bc99-d38d-49af-9a62-21751c0c1077\u001b[0m\n",
      "\u001b[32m[I 2021-10-25 00:50:45,517]\u001b[0m Trial 0 finished with value: 0.480574777225822 and parameters: {'w0': 10, 'w1': 5, 'w2': 8, 'w3': 0, 'w4': 2, 'w5': 4, 'w6': 5, 'w7': 3, 'w8': 2, 'w9': 12, 'w10': 13, 'w11': 7, 'w12': 12, 'w13': 15, 'w14': 0, 'w15': 13}. Best is trial 0 with value: 0.480574777225822.\u001b[0m\n",
      "\u001b[32m[I 2021-10-25 00:50:45,814]\u001b[0m Trial 1 finished with value: 0.47308978265948526 and parameters: {'w0': 4, 'w1': 12, 'w2': 4, 'w3': 4, 'w4': 8, 'w5': 4, 'w6': 6, 'w7': 11, 'w8': 12, 'w9': 4, 'w10': 11, 'w11': 2, 'w12': 3, 'w13': 13, 'w14': 9, 'w15': 14}. Best is trial 1 with value: 0.47308978265948526.\u001b[0m\n",
      "\u001b[32m[I 2021-10-25 00:50:46,082]\u001b[0m Trial 2 finished with value: 0.4815021699823994 and parameters: {'w0': 6, 'w1': 2, 'w2': 2, 'w3': 11, 'w4': 8, 'w5': 6, 'w6': 4, 'w7': 6, 'w8': 9, 'w9': 10, 'w10': 2, 'w11': 3, 'w12': 14, 'w13': 0, 'w14': 14, 'w15': 7}. Best is trial 1 with value: 0.47308978265948526.\u001b[0m\n",
      "\u001b[32m[I 2021-10-25 00:50:46,421]\u001b[0m Trial 3 finished with value: 0.4775514720682903 and parameters: {'w0': 1, 'w1': 13, 'w2': 15, 'w3': 4, 'w4': 11, 'w5': 3, 'w6': 13, 'w7': 13, 'w8': 4, 'w9': 1, 'w10': 9, 'w11': 14, 'w12': 10, 'w13': 12, 'w14': 12, 'w15': 5}. Best is trial 1 with value: 0.47308978265948526.\u001b[0m\n",
      "\u001b[32m[I 2021-10-25 00:50:46,717]\u001b[0m Trial 4 finished with value: 0.4761328752284407 and parameters: {'w0': 8, 'w1': 12, 'w2': 2, 'w3': 9, 'w4': 6, 'w5': 13, 'w6': 7, 'w7': 3, 'w8': 7, 'w9': 5, 'w10': 15, 'w11': 1, 'w12': 3, 'w13': 5, 'w14': 14, 'w15': 9}. Best is trial 1 with value: 0.47308978265948526.\u001b[0m\n",
      "\u001b[32m[I 2021-10-25 00:50:46,999]\u001b[0m Trial 5 finished with value: 0.4777629954172597 and parameters: {'w0': 8, 'w1': 5, 'w2': 0, 'w3': 1, 'w4': 14, 'w5': 2, 'w6': 9, 'w7': 4, 'w8': 4, 'w9': 11, 'w10': 10, 'w11': 14, 'w12': 1, 'w13': 3, 'w14': 14, 'w15': 10}. Best is trial 1 with value: 0.47308978265948526.\u001b[0m\n",
      "\u001b[32m[I 2021-10-25 00:50:47,319]\u001b[0m Trial 6 finished with value: 0.4751013316641419 and parameters: {'w0': 1, 'w1': 12, 'w2': 4, 'w3': 6, 'w4': 7, 'w5': 9, 'w6': 14, 'w7': 4, 'w8': 9, 'w9': 11, 'w10': 10, 'w11': 2, 'w12': 2, 'w13': 15, 'w14': 11, 'w15': 13}. Best is trial 1 with value: 0.47308978265948526.\u001b[0m\n",
      "\u001b[32m[I 2021-10-25 00:50:47,595]\u001b[0m Trial 7 finished with value: 0.4764124918508232 and parameters: {'w0': 13, 'w1': 0, 'w2': 11, 'w3': 3, 'w4': 11, 'w5': 1, 'w6': 11, 'w7': 3, 'w8': 10, 'w9': 5, 'w10': 6, 'w11': 3, 'w12': 2, 'w13': 7, 'w14': 8, 'w15': 15}. Best is trial 1 with value: 0.47308978265948526.\u001b[0m\n",
      "\u001b[32m[I 2021-10-25 00:50:47,901]\u001b[0m Trial 8 finished with value: 0.4797159722274429 and parameters: {'w0': 7, 'w1': 8, 'w2': 13, 'w3': 1, 'w4': 5, 'w5': 15, 'w6': 13, 'w7': 9, 'w8': 10, 'w9': 3, 'w10': 0, 'w11': 6, 'w12': 12, 'w13': 7, 'w14': 10, 'w15': 3}. Best is trial 1 with value: 0.47308978265948526.\u001b[0m\n",
      "\u001b[32m[I 2021-10-25 00:50:48,196]\u001b[0m Trial 9 finished with value: 0.4815044291045803 and parameters: {'w0': 8, 'w1': 8, 'w2': 11, 'w3': 8, 'w4': 14, 'w5': 1, 'w6': 15, 'w7': 4, 'w8': 7, 'w9': 10, 'w10': 7, 'w11': 10, 'w12': 8, 'w13': 1, 'w14': 4, 'w15': 1}. Best is trial 1 with value: 0.47308978265948526.\u001b[0m\n",
      "\u001b[32m[I 2021-10-25 00:50:48,548]\u001b[0m Trial 10 finished with value: 0.4734080033668284 and parameters: {'w0': 4, 'w1': 15, 'w2': 6, 'w3': 15, 'w4': 0, 'w5': 9, 'w6': 0, 'w7': 15, 'w8': 15, 'w9': 7, 'w10': 13, 'w11': 0, 'w12': 6, 'w13': 11, 'w14': 3, 'w15': 15}. Best is trial 1 with value: 0.47308978265948526.\u001b[0m\n",
      "\u001b[32m[I 2021-10-25 00:50:48,899]\u001b[0m Trial 11 finished with value: 0.47322342284078267 and parameters: {'w0': 4, 'w1': 14, 'w2': 6, 'w3': 15, 'w4': 0, 'w5': 10, 'w6': 0, 'w7': 15, 'w8': 15, 'w9': 7, 'w10': 13, 'w11': 0, 'w12': 5, 'w13': 11, 'w14': 4, 'w15': 15}. Best is trial 1 with value: 0.47308978265948526.\u001b[0m\n",
      "\u001b[32m[I 2021-10-25 00:50:49,270]\u001b[0m Trial 12 finished with value: 0.4749374682459914 and parameters: {'w0': 4, 'w1': 15, 'w2': 7, 'w3': 15, 'w4': 3, 'w5': 12, 'w6': 0, 'w7': 11, 'w8': 15, 'w9': 15, 'w10': 15, 'w11': 0, 'w12': 5, 'w13': 11, 'w14': 5, 'w15': 12}. Best is trial 1 with value: 0.47308978265948526.\u001b[0m\n",
      "\u001b[32m[I 2021-10-25 00:50:49,630]\u001b[0m Trial 13 finished with value: 0.47055639272486915 and parameters: {'w0': 3, 'w1': 10, 'w2': 5, 'w3': 11, 'w4': 10, 'w5': 7, 'w6': 3, 'w7': 15, 'w8': 13, 'w9': 1, 'w10': 13, 'w11': 5, 'w12': 5, 'w13': 13, 'w14': 7, 'w15': 15}. Best is trial 13 with value: 0.47055639272486915.\u001b[0m\n",
      "\u001b[32m[I 2021-10-25 00:50:49,948]\u001b[0m Trial 14 finished with value: 0.4710462676561381 and parameters: {'w0': 0, 'w1': 11, 'w2': 4, 'w3': 12, 'w4': 10, 'w5': 6, 'w6': 3, 'w7': 12, 'w8': 12, 'w9': 0, 'w10': 12, 'w11': 5, 'w12': 0, 'w13': 13, 'w14': 7, 'w15': 11}. Best is trial 13 with value: 0.47055639272486915.\u001b[0m\n",
      "\u001b[32m[I 2021-10-25 00:50:50,240]\u001b[0m Trial 15 finished with value: 0.4712992686850665 and parameters: {'w0': 0, 'w1': 10, 'w2': 0, 'w3': 12, 'w4': 11, 'w5': 6, 'w6': 3, 'w7': 13, 'w8': 13, 'w9': 0, 'w10': 5, 'w11': 9, 'w12': 0, 'w13': 9, 'w14': 6, 'w15': 11}. Best is trial 13 with value: 0.47055639272486915.\u001b[0m\n",
      "\u001b[32m[I 2021-10-25 00:50:50,593]\u001b[0m Trial 16 finished with value: 0.470962595223958 and parameters: {'w0': 2, 'w1': 10, 'w2': 9, 'w3': 12, 'w4': 10, 'w5': 7, 'w6': 2, 'w7': 13, 'w8': 13, 'w9': 2, 'w10': 15, 'w11': 5, 'w12': 8, 'w13': 14, 'w14': 7, 'w15': 8}. Best is trial 13 with value: 0.47055639272486915.\u001b[0m\n",
      "\u001b[32m[I 2021-10-25 00:50:50,955]\u001b[0m Trial 17 finished with value: 0.47147383934193454 and parameters: {'w0': 2, 'w1': 9, 'w2': 9, 'w3': 11, 'w4': 13, 'w5': 7, 'w6': 2, 'w7': 15, 'w8': 14, 'w9': 2, 'w10': 15, 'w11': 10, 'w12': 8, 'w13': 15, 'w14': 1, 'w15': 7}. Best is trial 13 with value: 0.47055639272486915.\u001b[0m\n",
      "\u001b[32m[I 2021-10-25 00:50:51,278]\u001b[0m Trial 18 finished with value: 0.4729587028775717 and parameters: {'w0': 2, 'w1': 6, 'w2': 10, 'w3': 13, 'w4': 9, 'w5': 10, 'w6': 2, 'w7': 8, 'w8': 12, 'w9': 2, 'w10': 15, 'w11': 5, 'w12': 7, 'w13': 14, 'w14': 7, 'w15': 0}. Best is trial 13 with value: 0.47055639272486915.\u001b[0m\n",
      "\u001b[32m[I 2021-10-25 00:50:51,616]\u001b[0m Trial 19 finished with value: 0.475111125535313 and parameters: {'w0': 11, 'w1': 6, 'w2': 14, 'w3': 9, 'w4': 12, 'w5': 8, 'w6': 9, 'w7': 10, 'w8': 11, 'w9': 0, 'w10': 8, 'w11': 4, 'w12': 11, 'w13': 9, 'w14': 2, 'w15': 5}. Best is trial 13 with value: 0.47055639272486915.\u001b[0m\n",
      "\u001b[32m[I 2021-10-25 00:50:51,991]\u001b[0m Trial 20 finished with value: 0.47422012933536023 and parameters: {'w0': 6, 'w1': 10, 'w2': 12, 'w3': 13, 'w4': 15, 'w5': 12, 'w6': 1, 'w7': 0, 'w8': 14, 'w9': 5, 'w10': 14, 'w11': 8, 'w12': 10, 'w13': 10, 'w14': 9, 'w15': 9}. Best is trial 13 with value: 0.47055639272486915.\u001b[0m\n",
      "\u001b[32m[I 2021-10-25 00:50:52,317]\u001b[0m Trial 21 finished with value: 0.4705953745510624 and parameters: {'w0': 0, 'w1': 10, 'w2': 4, 'w3': 10, 'w4': 10, 'w5': 5, 'w6': 4, 'w7': 13, 'w8': 13, 'w9': 0, 'w10': 12, 'w11': 5, 'w12': 9, 'w13': 13, 'w14': 7, 'w15': 8}. Best is trial 13 with value: 0.47055639272486915.\u001b[0m\n",
      "\u001b[32m[I 2021-10-25 00:50:52,652]\u001b[0m Trial 22 finished with value: 0.47044309118512284 and parameters: {'w0': 3, 'w1': 10, 'w2': 5, 'w3': 10, 'w4': 9, 'w5': 5, 'w6': 5, 'w7': 14, 'w8': 13, 'w9': 2, 'w10': 12, 'w11': 6, 'w12': 9, 'w13': 13, 'w14': 6, 'w15': 5}. Best is trial 22 with value: 0.47044309118512284.\u001b[0m\n",
      "\u001b[32m[I 2021-10-25 00:50:52,973]\u001b[0m Trial 23 finished with value: 0.4706137814233947 and parameters: {'w0': 3, 'w1': 7, 'w2': 2, 'w3': 10, 'w4': 9, 'w5': 4, 'w6': 5, 'w7': 14, 'w8': 13, 'w9': 0, 'w10': 12, 'w11': 7, 'w12': 9, 'w13': 13, 'w14': 5, 'w15': 5}. Best is trial 22 with value: 0.47044309118512284.\u001b[0m\n",
      "\u001b[32m[I 2021-10-25 00:50:53,295]\u001b[0m Trial 24 finished with value: 0.4751066616039811 and parameters: {'w0': 0, 'w1': 9, 'w2': 5, 'w3': 7, 'w4': 6, 'w5': 5, 'w6': 7, 'w7': 14, 'w8': 11, 'w9': 3, 'w10': 11, 'w11': 6, 'w12': 15, 'w13': 12, 'w14': 6, 'w15': 2}. Best is trial 22 with value: 0.47044309118512284.\u001b[0m\n",
      "\u001b[32m[I 2021-10-25 00:50:53,621]\u001b[0m Trial 25 finished with value: 0.4722883812652565 and parameters: {'w0': 5, 'w1': 11, 'w2': 3, 'w3': 10, 'w4': 12, 'w5': 0, 'w6': 5, 'w7': 15, 'w8': 14, 'w9': 1, 'w10': 11, 'w11': 8, 'w12': 6, 'w13': 9, 'w14': 8, 'w15': 4}. Best is trial 22 with value: 0.47044309118512284.\u001b[0m\n",
      "\u001b[32m[I 2021-10-25 00:50:53,944]\u001b[0m Trial 26 finished with value: 0.46987720078731854 and parameters: {'w0': 1, 'w1': 9, 'w2': 6, 'w3': 8, 'w4': 9, 'w5': 5, 'w6': 4, 'w7': 12, 'w8': 8, 'w9': 1, 'w10': 13, 'w11': 11, 'w12': 5, 'w13': 14, 'w14': 5, 'w15': 7}. Best is trial 26 with value: 0.46987720078731854.\u001b[0m\n",
      "\u001b[32m[I 2021-10-25 00:50:54,259]\u001b[0m Trial 27 finished with value: 0.46985365264959433 and parameters: {'w0': 3, 'w1': 7, 'w2': 7, 'w3': 6, 'w4': 7, 'w5': 8, 'w6': 8, 'w7': 10, 'w8': 6, 'w9': 4, 'w10': 9, 'w11': 11, 'w12': 4, 'w13': 15, 'w14': 3, 'w15': 6}. Best is trial 27 with value: 0.46985365264959433.\u001b[0m\n",
      "\u001b[32m[I 2021-10-25 00:50:54,553]\u001b[0m Trial 28 finished with value: 0.47044451148842276 and parameters: {'w0': 1, 'w1': 4, 'w2': 7, 'w3': 6, 'w4': 5, 'w5': 3, 'w6': 9, 'w7': 10, 'w8': 6, 'w9': 6, 'w10': 9, 'w11': 12, 'w12': 3, 'w13': 15, 'w14': 2, 'w15': 6}. Best is trial 27 with value: 0.46985365264959433.\u001b[0m\n",
      "\u001b[32m[I 2021-10-25 00:50:54,823]\u001b[0m Trial 29 finished with value: 0.4712117709406594 and parameters: {'w0': 6, 'w1': 3, 'w2': 8, 'w3': 7, 'w4': 4, 'w5': 8, 'w6': 8, 'w7': 7, 'w8': 1, 'w9': 4, 'w10': 5, 'w11': 12, 'w12': 4, 'w13': 14, 'w14': 0, 'w15': 3}. Best is trial 27 with value: 0.46985365264959433.\u001b[0m\n",
      "\u001b[32m[I 2021-10-25 00:50:55,158]\u001b[0m Trial 30 finished with value: 0.47222372761001097 and parameters: {'w0': 15, 'w1': 7, 'w2': 8, 'w3': 5, 'w4': 7, 'w5': 5, 'w6': 11, 'w7': 11, 'w8': 4, 'w9': 3, 'w10': 8, 'w11': 12, 'w12': 7, 'w13': 15, 'w14': 3, 'w15': 6}. Best is trial 27 with value: 0.46985365264959433.\u001b[0m\n",
      "\u001b[32m[I 2021-10-25 00:50:55,454]\u001b[0m Trial 31 finished with value: 0.47171629999498804 and parameters: {'w0': 1, 'w1': 3, 'w2': 7, 'w3': 6, 'w4': 5, 'w5': 3, 'w6': 10, 'w7': 9, 'w8': 6, 'w9': 8, 'w10': 9, 'w11': 12, 'w12': 4, 'w13': 15, 'w14': 1, 'w15': 6}. Best is trial 27 with value: 0.46985365264959433.\u001b[0m\n",
      "\u001b[32m[I 2021-10-25 00:50:55,758]\u001b[0m Trial 32 finished with value: 0.4698674250974197 and parameters: {'w0': 3, 'w1': 5, 'w2': 7, 'w3': 8, 'w4': 2, 'w5': 4, 'w6': 8, 'w7': 10, 'w8': 5, 'w9': 6, 'w10': 10, 'w11': 15, 'w12': 3, 'w13': 14, 'w14': 3, 'w15': 6}. Best is trial 27 with value: 0.46985365264959433.\u001b[0m\n",
      "\u001b[32m[I 2021-10-25 00:50:56,050]\u001b[0m Trial 33 finished with value: 0.46978758447818975 and parameters: {'w0': 3, 'w1': 6, 'w2': 6, 'w3': 8, 'w4': 2, 'w5': 5, 'w6': 6, 'w7': 11, 'w8': 3, 'w9': 4, 'w10': 10, 'w11': 10, 'w12': 4, 'w13': 14, 'w14': 4, 'w15': 4}. Best is trial 33 with value: 0.46978758447818975.\u001b[0m\n",
      "\u001b[32m[I 2021-10-25 00:50:56,345]\u001b[0m Trial 34 finished with value: 0.47048931364017044 and parameters: {'w0': 5, 'w1': 5, 'w2': 6, 'w3': 8, 'w4': 1, 'w5': 4, 'w6': 6, 'w7': 11, 'w8': 3, 'w9': 8, 'w10': 10, 'w11': 15, 'w12': 2, 'w13': 12, 'w14': 4, 'w15': 4}. Best is trial 33 with value: 0.46978758447818975.\u001b[0m\n",
      "\u001b[32m[I 2021-10-25 00:50:56,617]\u001b[0m Trial 35 finished with value: 0.47145860613613744 and parameters: {'w0': 2, 'w1': 1, 'w2': 9, 'w3': 4, 'w4': 3, 'w5': 3, 'w6': 6, 'w7': 9, 'w8': 5, 'w9': 6, 'w10': 7, 'w11': 11, 'w12': 4, 'w13': 14, 'w14': 3, 'w15': 7}. Best is trial 33 with value: 0.46978758447818975.\u001b[0m\n",
      "\u001b[32m[I 2021-10-25 00:50:56,881]\u001b[0m Trial 36 finished with value: 0.47087738380274713 and parameters: {'w0': 3, 'w1': 6, 'w2': 8, 'w3': 8, 'w4': 2, 'w5': 6, 'w6': 7, 'w7': 7, 'w8': 0, 'w9': 4, 'w10': 9, 'w11': 13, 'w12': 1, 'w13': 14, 'w14': 0, 'w15': 4}. Best is trial 33 with value: 0.46978758447818975.\u001b[0m\n",
      "\u001b[32m[I 2021-10-25 00:50:57,198]\u001b[0m Trial 37 finished with value: 0.4701956422712927 and parameters: {'w0': 5, 'w1': 4, 'w2': 6, 'w3': 5, 'w4': 1, 'w5': 2, 'w6': 8, 'w7': 12, 'w8': 8, 'w9': 6, 'w10': 10, 'w11': 15, 'w12': 6, 'w13': 12, 'w14': 5, 'w15': 9}. Best is trial 33 with value: 0.46978758447818975.\u001b[0m\n",
      "\u001b[32m[I 2021-10-25 00:50:57,496]\u001b[0m Trial 38 finished with value: 0.47110610473283937 and parameters: {'w0': 10, 'w1': 5, 'w2': 3, 'w3': 9, 'w4': 8, 'w5': 8, 'w6': 10, 'w7': 10, 'w8': 2, 'w9': 9, 'w10': 6, 'w11': 10, 'w12': 3, 'w13': 5, 'w14': 2, 'w15': 6}. Best is trial 33 with value: 0.46978758447818975.\u001b[0m\n",
      "\u001b[32m[I 2021-10-25 00:50:57,787]\u001b[0m Trial 39 finished with value: 0.47137346198219393 and parameters: {'w0': 1, 'w1': 7, 'w2': 10, 'w3': 7, 'w4': 3, 'w5': 4, 'w6': 6, 'w7': 12, 'w8': 5, 'w9': 4, 'w10': 11, 'w11': 14, 'w12': 1, 'w13': 10, 'w14': 4, 'w15': 3}. Best is trial 33 with value: 0.46978758447818975.\u001b[0m\n",
      "\u001b[32m[I 2021-10-25 00:50:58,067]\u001b[0m Trial 40 finished with value: 0.47198225541283834 and parameters: {'w0': 4, 'w1': 8, 'w2': 7, 'w3': 3, 'w4': 2, 'w5': 2, 'w6': 8, 'w7': 8, 'w8': 8, 'w9': 5, 'w10': 8, 'w11': 9, 'w12': 4, 'w13': 14, 'w14': 1, 'w15': 8}. Best is trial 33 with value: 0.46978758447818975.\u001b[0m\n",
      "\u001b[32m[I 2021-10-25 00:50:58,382]\u001b[0m Trial 41 finished with value: 0.47043004496555474 and parameters: {'w0': 5, 'w1': 4, 'w2': 6, 'w3': 5, 'w4': 1, 'w5': 2, 'w6': 8, 'w7': 12, 'w8': 8, 'w9': 7, 'w10': 10, 'w11': 15, 'w12': 6, 'w13': 12, 'w14': 5, 'w15': 9}. Best is trial 33 with value: 0.46978758447818975.\u001b[0m\n",
      "\u001b[32m[I 2021-10-25 00:50:58,673]\u001b[0m Trial 42 finished with value: 0.4709188321275023 and parameters: {'w0': 7, 'w1': 4, 'w2': 5, 'w3': 5, 'w4': 1, 'w5': 0, 'w6': 7, 'w7': 11, 'w8': 6, 'w9': 6, 'w10': 10, 'w11': 13, 'w12': 5, 'w13': 15, 'w14': 3, 'w15': 7}. Best is trial 33 with value: 0.46978758447818975.\u001b[0m\n",
      "\u001b[32m[I 2021-10-25 00:50:58,958]\u001b[0m Trial 43 finished with value: 0.4709252672614999 and parameters: {'w0': 3, 'w1': 2, 'w2': 6, 'w3': 6, 'w4': 0, 'w5': 1, 'w6': 9, 'w7': 10, 'w8': 9, 'w9': 6, 'w10': 9, 'w11': 11, 'w12': 3, 'w13': 12, 'w14': 5, 'w15': 8}. Best is trial 33 with value: 0.46978758447818975.\u001b[0m\n",
      "\u001b[32m[I 2021-10-25 00:50:59,261]\u001b[0m Trial 44 finished with value: 0.47096116921768477 and parameters: {'w0': 5, 'w1': 6, 'w2': 7, 'w3': 3, 'w4': 4, 'w5': 6, 'w6': 4, 'w7': 12, 'w8': 3, 'w9': 4, 'w10': 10, 'w11': 13, 'w12': 2, 'w13': 15, 'w14': 4, 'w15': 10}. Best is trial 33 with value: 0.46978758447818975.\u001b[0m\n",
      "\u001b[32m[I 2021-10-25 00:50:59,589]\u001b[0m Trial 45 finished with value: 0.469790730276971 and parameters: {'w0': 4, 'w1': 5, 'w2': 8, 'w3': 8, 'w4': 6, 'w5': 2, 'w6': 10, 'w7': 9, 'w8': 7, 'w9': 5, 'w10': 11, 'w11': 15, 'w12': 6, 'w13': 13, 'w14': 2, 'w15': 9}. Best is trial 33 with value: 0.46978758447818975.\u001b[0m\n",
      "\u001b[32m[I 2021-10-25 00:50:59,919]\u001b[0m Trial 46 finished with value: 0.47085570041298797 and parameters: {'w0': 2, 'w1': 8, 'w2': 8, 'w3': 8, 'w4': 6, 'w5': 4, 'w6': 12, 'w7': 6, 'w8': 7, 'w9': 5, 'w10': 14, 'w11': 14, 'w12': 5, 'w13': 14, 'w14': 2, 'w15': 7}. Best is trial 33 with value: 0.46978758447818975.\u001b[0m\n",
      "\u001b[32m[I 2021-10-25 00:51:00,257]\u001b[0m Trial 47 finished with value: 0.47018280968975545 and parameters: {'w0': 4, 'w1': 5, 'w2': 10, 'w3': 9, 'w4': 8, 'w5': 9, 'w6': 10, 'w7': 9, 'w8': 5, 'w9': 3, 'w10': 14, 'w11': 11, 'w12': 3, 'w13': 13, 'w14': 3, 'w15': 10}. Best is trial 33 with value: 0.46978758447818975.\u001b[0m\n",
      "\u001b[32m[I 2021-10-25 00:51:00,569]\u001b[0m Trial 48 finished with value: 0.4741262141037132 and parameters: {'w0': 6, 'w1': 7, 'w2': 4, 'w3': 7, 'w4': 6, 'w5': 1, 'w6': 11, 'w7': 8, 'w8': 4, 'w9': 13, 'w10': 11, 'w11': 9, 'w12': 7, 'w13': 11, 'w14': 1, 'w15': 6}. Best is trial 33 with value: 0.46978758447818975.\u001b[0m\n",
      "\u001b[32m[I 2021-10-25 00:51:00,855]\u001b[0m Trial 49 finished with value: 0.4719439780843638 and parameters: {'w0': 1, 'w1': 5, 'w2': 9, 'w3': 8, 'w4': 4, 'w5': 5, 'w6': 12, 'w7': 10, 'w8': 7, 'w9': 3, 'w10': 12, 'w11': 10, 'w12': 2, 'w13': 6, 'w14': 2, 'w15': 5}. Best is trial 33 with value: 0.46978758447818975.\u001b[0m\n",
      "\u001b[32m[I 2021-10-25 00:51:01,139]\u001b[0m Trial 50 finished with value: 0.4761756635777442 and parameters: {'w0': 3, 'w1': 3, 'w2': 8, 'w3': 9, 'w4': 7, 'w5': 10, 'w6': 4, 'w7': 9, 'w8': 3, 'w9': 5, 'w10': 13, 'w11': 14, 'w12': 4, 'w13': 1, 'w14': 4, 'w15': 2}. Best is trial 33 with value: 0.46978758447818975.\u001b[0m\n",
      "\u001b[32m[I 2021-10-25 00:51:01,477]\u001b[0m Trial 51 finished with value: 0.47031690665390047 and parameters: {'w0': 4, 'w1': 6, 'w2': 10, 'w3': 9, 'w4': 8, 'w5': 9, 'w6': 10, 'w7': 9, 'w8': 5, 'w9': 3, 'w10': 14, 'w11': 11, 'w12': 3, 'w13': 13, 'w14': 3, 'w15': 10}. Best is trial 33 with value: 0.46978758447818975.\u001b[0m\n",
      "\u001b[32m[I 2021-10-25 00:51:01,819]\u001b[0m Trial 52 finished with value: 0.46978796353043245 and parameters: {'w0': 4, 'w1': 9, 'w2': 9, 'w3': 7, 'w4': 7, 'w5': 11, 'w6': 9, 'w7': 11, 'w8': 6, 'w9': 4, 'w10': 11, 'w11': 11, 'w12': 5, 'w13': 13, 'w14': 3, 'w15': 9}. Best is trial 33 with value: 0.46978758447818975.\u001b[0m\n",
      "\u001b[32m[I 2021-10-25 00:51:02,166]\u001b[0m Trial 53 finished with value: 0.47040081012790114 and parameters: {'w0': 2, 'w1': 9, 'w2': 9, 'w3': 6, 'w4': 7, 'w5': 15, 'w6': 9, 'w7': 11, 'w8': 6, 'w9': 4, 'w10': 11, 'w11': 13, 'w12': 5, 'w13': 14, 'w14': 2, 'w15': 9}. Best is trial 33 with value: 0.46978758447818975.\u001b[0m\n",
      "\u001b[32m[I 2021-10-25 00:51:02,530]\u001b[0m Trial 54 finished with value: 0.47065329838553327 and parameters: {'w0': 4, 'w1': 9, 'w2': 11, 'w3': 7, 'w4': 9, 'w5': 13, 'w6': 7, 'w7': 11, 'w8': 9, 'w9': 7, 'w10': 9, 'w11': 9, 'w12': 6, 'w13': 15, 'w14': 3, 'w15': 11}. Best is trial 33 with value: 0.46978758447818975.\u001b[0m\n",
      "\u001b[32m[I 2021-10-25 00:51:02,860]\u001b[0m Trial 55 finished with value: 0.4697766077641485 and parameters: {'w0': 7, 'w1': 8, 'w2': 7, 'w3': 8, 'w4': 5, 'w5': 11, 'w6': 8, 'w7': 10, 'w8': 7, 'w9': 1, 'w10': 13, 'w11': 11, 'w12': 5, 'w13': 10, 'w14': 4, 'w15': 8}. Best is trial 55 with value: 0.4697766077641485.\u001b[0m\n",
      "\u001b[32m[I 2021-10-25 00:51:03,177]\u001b[0m Trial 56 finished with value: 0.47183191761857113 and parameters: {'w0': 8, 'w1': 8, 'w2': 7, 'w3': 6, 'w4': 5, 'w5': 12, 'w6': 8, 'w7': 10, 'w8': 7, 'w9': 4, 'w10': 7, 'w11': 8, 'w12': 7, 'w13': 8, 'w14': 0, 'w15': 12}. Best is trial 55 with value: 0.4697766077641485.\u001b[0m\n",
      "\u001b[32m[I 2021-10-25 00:51:03,501]\u001b[0m Trial 57 finished with value: 0.4712382858181098 and parameters: {'w0': 9, 'w1': 7, 'w2': 5, 'w3': 7, 'w4': 6, 'w5': 11, 'w6': 9, 'w7': 8, 'w8': 6, 'w9': 5, 'w10': 10, 'w11': 10, 'w12': 6, 'w13': 10, 'w14': 1, 'w15': 8}. Best is trial 55 with value: 0.4697766077641485.\u001b[0m\n",
      "\u001b[32m[I 2021-10-25 00:51:03,820]\u001b[0m Trial 58 finished with value: 0.47010125279853854 and parameters: {'w0': 7, 'w1': 6, 'w2': 8, 'w3': 8, 'w4': 4, 'w5': 11, 'w6': 6, 'w7': 10, 'w8': 4, 'w9': 2, 'w10': 12, 'w11': 12, 'w12': 4, 'w13': 11, 'w14': 4, 'w15': 8}. Best is trial 55 with value: 0.4697766077641485.\u001b[0m\n",
      "\u001b[32m[I 2021-10-25 00:51:04,162]\u001b[0m Trial 59 finished with value: 0.47160000618181547 and parameters: {'w0': 6, 'w1': 8, 'w2': 9, 'w3': 11, 'w4': 3, 'w5': 11, 'w6': 10, 'w7': 7, 'w8': 2, 'w9': 7, 'w10': 11, 'w11': 13, 'w12': 2, 'w13': 13, 'w14': 6, 'w15': 9}. Best is trial 55 with value: 0.4697766077641485.\u001b[0m\n",
      "\u001b[32m[I 2021-10-25 00:51:04,526]\u001b[0m Trial 60 finished with value: 0.4707955820597441 and parameters: {'w0': 12, 'w1': 11, 'w2': 7, 'w3': 9, 'w4': 5, 'w5': 10, 'w6': 7, 'w7': 11, 'w8': 10, 'w9': 5, 'w10': 13, 'w11': 7, 'w12': 5, 'w13': 11, 'w14': 13, 'w15': 5}. Best is trial 55 with value: 0.4697766077641485.\u001b[0m\n",
      "\u001b[32m[I 2021-10-25 00:51:04,857]\u001b[0m Trial 61 finished with value: 0.46971816750752604 and parameters: {'w0': 2, 'w1': 9, 'w2': 6, 'w3': 8, 'w4': 7, 'w5': 13, 'w6': 5, 'w7': 13, 'w8': 7, 'w9': 1, 'w10': 12, 'w11': 11, 'w12': 5, 'w13': 14, 'w14': 5, 'w15': 7}. Best is trial 61 with value: 0.46971816750752604.\u001b[0m\n",
      "\u001b[32m[I 2021-10-25 00:51:05,189]\u001b[0m Trial 62 finished with value: 0.4698729781544318 and parameters: {'w0': 3, 'w1': 7, 'w2': 6, 'w3': 7, 'w4': 7, 'w5': 14, 'w6': 6, 'w7': 13, 'w8': 7, 'w9': 1, 'w10': 12, 'w11': 10, 'w12': 4, 'w13': 13, 'w14': 3, 'w15': 7}. Best is trial 61 with value: 0.46971816750752604.\u001b[0m\n",
      "\u001b[32m[I 2021-10-25 00:51:05,515]\u001b[0m Trial 63 finished with value: 0.4704885650384912 and parameters: {'w0': 2, 'w1': 9, 'w2': 5, 'w3': 8, 'w4': 8, 'w5': 14, 'w6': 5, 'w7': 9, 'w8': 5, 'w9': 2, 'w10': 11, 'w11': 11, 'w12': 6, 'w13': 12, 'w14': 4, 'w15': 6}. Best is trial 61 with value: 0.46971816750752604.\u001b[0m\n",
      "\u001b[32m[I 2021-10-25 00:51:05,856]\u001b[0m Trial 64 finished with value: 0.47009193121486176 and parameters: {'w0': 3, 'w1': 8, 'w2': 7, 'w3': 10, 'w4': 6, 'w5': 13, 'w6': 9, 'w7': 10, 'w8': 6, 'w9': 3, 'w10': 12, 'w11': 12, 'w12': 5, 'w13': 15, 'w14': 2, 'w15': 4}. Best is trial 61 with value: 0.46971816750752604.\u001b[0m\n",
      "\u001b[32m[I 2021-10-25 00:51:06,184]\u001b[0m Trial 65 finished with value: 0.47005054712681843 and parameters: {'w0': 5, 'w1': 6, 'w2': 8, 'w3': 6, 'w4': 2, 'w5': 12, 'w6': 11, 'w7': 12, 'w8': 7, 'w9': 1, 'w10': 8, 'w11': 10, 'w12': 3, 'w13': 14, 'w14': 6, 'w15': 8}. Best is trial 61 with value: 0.46971816750752604.\u001b[0m\n",
      "\u001b[32m[I 2021-10-25 00:51:06,521]\u001b[0m Trial 66 finished with value: 0.4701709895138133 and parameters: {'w0': 4, 'w1': 12, 'w2': 7, 'w3': 7, 'w4': 6, 'w5': 14, 'w6': 8, 'w7': 13, 'w8': 9, 'w9': 2, 'w10': 9, 'w11': 9, 'w12': 4, 'w13': 8, 'w14': 4, 'w15': 10}. Best is trial 61 with value: 0.46971816750752604.\u001b[0m\n",
      "\u001b[32m[I 2021-10-25 00:51:06,864]\u001b[0m Trial 67 finished with value: 0.47041709131219295 and parameters: {'w0': 2, 'w1': 5, 'w2': 9, 'w3': 9, 'w4': 7, 'w5': 7, 'w6': 7, 'w7': 14, 'w8': 6, 'w9': 4, 'w10': 13, 'w11': 14, 'w12': 7, 'w13': 13, 'w14': 5, 'w15': 7}. Best is trial 61 with value: 0.46971816750752604.\u001b[0m\n",
      "\u001b[32m[I 2021-10-25 00:51:07,210]\u001b[0m Trial 68 finished with value: 0.4692768977756 and parameters: {'w0': 4, 'w1': 9, 'w2': 6, 'w3': 8, 'w4': 8, 'w5': 11, 'w6': 8, 'w7': 11, 'w8': 8, 'w9': 6, 'w10': 10, 'w11': 15, 'w12': 5, 'w13': 10, 'w14': 3, 'w15': 9}. Best is trial 68 with value: 0.4692768977756.\u001b[0m\n",
      "\u001b[32m[I 2021-10-25 00:51:07,521]\u001b[0m Trial 69 finished with value: 0.4711701570711496 and parameters: {'w0': 4, 'w1': 11, 'w2': 5, 'w3': 4, 'w4': 8, 'w5': 11, 'w6': 9, 'w7': 11, 'w8': 10, 'w9': 0, 'w10': 1, 'w11': 11, 'w12': 8, 'w13': 9, 'w14': 1, 'w15': 9}. Best is trial 68 with value: 0.4692768977756.\u001b[0m\n",
      "\u001b[32m[I 2021-10-25 00:51:07,866]\u001b[0m Trial 70 finished with value: 0.47001508017760263 and parameters: {'w0': 7, 'w1': 9, 'w2': 6, 'w3': 10, 'w4': 7, 'w5': 12, 'w6': 5, 'w7': 13, 'w8': 8, 'w9': 8, 'w10': 11, 'w11': 12, 'w12': 5, 'w13': 7, 'w14': 2, 'w15': 9}. Best is trial 68 with value: 0.4692768977756.\u001b[0m\n",
      "\u001b[32m[I 2021-10-25 00:51:08,205]\u001b[0m Trial 71 finished with value: 0.46982105067649227 and parameters: {'w0': 3, 'w1': 10, 'w2': 4, 'w3': 8, 'w4': 5, 'w5': 10, 'w6': 8, 'w7': 10, 'w8': 8, 'w9': 6, 'w10': 10, 'w11': 15, 'w12': 4, 'w13': 11, 'w14': 3, 'w15': 11}. Best is trial 68 with value: 0.4692768977756.\u001b[0m\n",
      "\u001b[32m[I 2021-10-25 00:51:08,540]\u001b[0m Trial 72 finished with value: 0.4705317514762655 and parameters: {'w0': 2, 'w1': 10, 'w2': 3, 'w3': 8, 'w4': 5, 'w5': 10, 'w6': 7, 'w7': 9, 'w8': 8, 'w9': 6, 'w10': 10, 'w11': 14, 'w12': 6, 'w13': 10, 'w14': 3, 'w15': 14}. Best is trial 68 with value: 0.4692768977756.\u001b[0m\n",
      "\u001b[32m[I 2021-10-25 00:51:08,889]\u001b[0m Trial 73 finished with value: 0.4697793749232056 and parameters: {'w0': 4, 'w1': 13, 'w2': 4, 'w3': 7, 'w4': 6, 'w5': 8, 'w6': 8, 'w7': 11, 'w8': 9, 'w9': 5, 'w10': 11, 'w11': 15, 'w12': 5, 'w13': 11, 'w14': 4, 'w15': 11}. Best is trial 68 with value: 0.4692768977756.\u001b[0m\n",
      "\u001b[32m[I 2021-10-25 00:51:09,243]\u001b[0m Trial 74 finished with value: 0.46923408645314224 and parameters: {'w0': 4, 'w1': 10, 'w2': 2, 'w3': 9, 'w4': 5, 'w5': 9, 'w6': 9, 'w7': 12, 'w8': 9, 'w9': 5, 'w10': 12, 'w11': 15, 'w12': 5, 'w13': 11, 'w14': 5, 'w15': 12}. Best is trial 74 with value: 0.46923408645314224.\u001b[0m\n",
      "\u001b[32m[I 2021-10-25 00:51:09,611]\u001b[0m Trial 75 finished with value: 0.46963822225028357 and parameters: {'w0': 5, 'w1': 14, 'w2': 1, 'w3': 9, 'w4': 6, 'w5': 9, 'w6': 10, 'w7': 12, 'w8': 11, 'w9': 5, 'w10': 12, 'w11': 15, 'w12': 5, 'w13': 10, 'w14': 6, 'w15': 12}. Best is trial 74 with value: 0.46923408645314224.\u001b[0m\n",
      "\u001b[32m[I 2021-10-25 00:51:09,976]\u001b[0m Trial 76 finished with value: 0.47008183606681625 and parameters: {'w0': 6, 'w1': 14, 'w2': 1, 'w3': 9, 'w4': 5, 'w5': 8, 'w6': 9, 'w7': 12, 'w8': 11, 'w9': 5, 'w10': 12, 'w11': 14, 'w12': 5, 'w13': 10, 'w14': 6, 'w15': 13}. Best is trial 74 with value: 0.46923408645314224.\u001b[0m\n",
      "\u001b[32m[I 2021-10-25 00:51:10,344]\u001b[0m Trial 77 finished with value: 0.46943089991888526 and parameters: {'w0': 5, 'w1': 13, 'w2': 1, 'w3': 10, 'w4': 4, 'w5': 9, 'w6': 11, 'w7': 14, 'w8': 10, 'w9': 7, 'w10': 14, 'w11': 13, 'w12': 5, 'w13': 9, 'w14': 5, 'w15': 12}. Best is trial 74 with value: 0.46923408645314224.\u001b[0m\n",
      "\u001b[32m[I 2021-10-25 00:51:10,732]\u001b[0m Trial 78 finished with value: 0.4697502404435918 and parameters: {'w0': 6, 'w1': 14, 'w2': 1, 'w3': 11, 'w4': 4, 'w5': 9, 'w6': 12, 'w7': 14, 'w8': 12, 'w9': 9, 'w10': 13, 'w11': 13, 'w12': 6, 'w13': 8, 'w14': 8, 'w15': 12}. Best is trial 74 with value: 0.46923408645314224.\u001b[0m\n",
      "\u001b[32m[I 2021-10-25 00:51:11,135]\u001b[0m Trial 79 finished with value: 0.4700174519086559 and parameters: {'w0': 6, 'w1': 14, 'w2': 1, 'w3': 13, 'w4': 4, 'w5': 9, 'w6': 13, 'w7': 14, 'w8': 12, 'w9': 10, 'w10': 14, 'w11': 15, 'w12': 7, 'w13': 8, 'w14': 8, 'w15': 12}. Best is trial 74 with value: 0.46923408645314224.\u001b[0m\n",
      "\u001b[32m[I 2021-10-25 00:51:11,526]\u001b[0m Trial 80 finished with value: 0.47022227070184747 and parameters: {'w0': 7, 'w1': 13, 'w2': 1, 'w3': 11, 'w4': 4, 'w5': 9, 'w6': 12, 'w7': 14, 'w8': 10, 'w9': 9, 'w10': 15, 'w11': 13, 'w12': 6, 'w13': 9, 'w14': 9, 'w15': 12}. Best is trial 74 with value: 0.46923408645314224.\u001b[0m\n",
      "\u001b[32m[I 2021-10-25 00:51:11,897]\u001b[0m Trial 81 finished with value: 0.47019771473822175 and parameters: {'w0': 5, 'w1': 13, 'w2': 0, 'w3': 10, 'w4': 3, 'w5': 7, 'w6': 15, 'w7': 13, 'w8': 11, 'w9': 7, 'w10': 13, 'w11': 14, 'w12': 5, 'w13': 9, 'w14': 5, 'w15': 14}. Best is trial 74 with value: 0.46923408645314224.\u001b[0m\n",
      "\u001b[32m[I 2021-10-25 00:51:12,293]\u001b[0m Trial 82 finished with value: 0.46949621573459993 and parameters: {'w0': 5, 'w1': 15, 'w2': 2, 'w3': 12, 'w4': 5, 'w5': 8, 'w6': 13, 'w7': 15, 'w8': 9, 'w9': 9, 'w10': 13, 'w11': 15, 'w12': 5, 'w13': 10, 'w14': 7, 'w15': 13}. Best is trial 74 with value: 0.46923408645314224.\u001b[0m\n",
      "\u001b[32m[I 2021-10-25 00:51:12,694]\u001b[0m Trial 83 finished with value: 0.46997771311761977 and parameters: {'w0': 5, 'w1': 15, 'w2': 2, 'w3': 10, 'w4': 5, 'w5': 8, 'w6': 14, 'w7': 15, 'w8': 9, 'w9': 11, 'w10': 13, 'w11': 15, 'w12': 6, 'w13': 10, 'w14': 7, 'w15': 13}. Best is trial 74 with value: 0.46923408645314224.\u001b[0m\n",
      "\u001b[32m[I 2021-10-25 00:51:13,089]\u001b[0m Trial 84 finished with value: 0.46959360356941665 and parameters: {'w0': 6, 'w1': 14, 'w2': 1, 'w3': 12, 'w4': 4, 'w5': 8, 'w6': 13, 'w7': 14, 'w8': 10, 'w9': 9, 'w10': 14, 'w11': 15, 'w12': 5, 'w13': 10, 'w14': 8, 'w15': 13}. Best is trial 74 with value: 0.46923408645314224.\u001b[0m\n",
      "\u001b[32m[I 2021-10-25 00:51:13,494]\u001b[0m Trial 85 finished with value: 0.46997146349471025 and parameters: {'w0': 6, 'w1': 14, 'w2': 0, 'w3': 12, 'w4': 4, 'w5': 9, 'w6': 14, 'w7': 15, 'w8': 12, 'w9': 9, 'w10': 14, 'w11': 14, 'w12': 7, 'w13': 9, 'w14': 10, 'w15': 13}. Best is trial 74 with value: 0.46923408645314224.\u001b[0m\n",
      "\u001b[32m[I 2021-10-25 00:51:13,889]\u001b[0m Trial 86 finished with value: 0.4698334282096466 and parameters: {'w0': 8, 'w1': 15, 'w2': 1, 'w3': 12, 'w4': 4, 'w5': 9, 'w6': 12, 'w7': 14, 'w8': 10, 'w9': 9, 'w10': 14, 'w11': 13, 'w12': 6, 'w13': 8, 'w14': 8, 'w15': 14}. Best is trial 74 with value: 0.46923408645314224.\u001b[0m\n",
      "\u001b[32m[I 2021-10-25 00:51:14,295]\u001b[0m Trial 87 finished with value: 0.4700782656337376 and parameters: {'w0': 7, 'w1': 14, 'w2': 2, 'w3': 14, 'w4': 5, 'w5': 10, 'w6': 14, 'w7': 15, 'w8': 11, 'w9': 11, 'w10': 15, 'w11': 15, 'w12': 5, 'w13': 7, 'w14': 6, 'w15': 12}. Best is trial 74 with value: 0.46923408645314224.\u001b[0m\n",
      "\u001b[32m[I 2021-10-25 00:51:14,682]\u001b[0m Trial 88 finished with value: 0.47059699986395476 and parameters: {'w0': 6, 'w1': 15, 'w2': 0, 'w3': 12, 'w4': 3, 'w5': 7, 'w6': 13, 'w7': 13, 'w8': 9, 'w9': 10, 'w10': 13, 'w11': 14, 'w12': 4, 'w13': 10, 'w14': 10, 'w15': 14}. Best is trial 74 with value: 0.46923408645314224.\u001b[0m\n",
      "\u001b[32m[I 2021-10-25 00:51:15,062]\u001b[0m Trial 89 finished with value: 0.46943857314508136 and parameters: {'w0': 5, 'w1': 13, 'w2': 2, 'w3': 11, 'w4': 5, 'w5': 8, 'w6': 11, 'w7': 14, 'w8': 12, 'w9': 8, 'w10': 13, 'w11': 13, 'w12': 5, 'w13': 9, 'w14': 7, 'w15': 13}. Best is trial 74 with value: 0.46923408645314224.\u001b[0m\n",
      "\u001b[32m[I 2021-10-25 00:51:15,442]\u001b[0m Trial 90 finished with value: 0.4692412968753507 and parameters: {'w0': 5, 'w1': 12, 'w2': 3, 'w3': 11, 'w4': 3, 'w5': 8, 'w6': 11, 'w7': 14, 'w8': 12, 'w9': 8, 'w10': 12, 'w11': 13, 'w12': 7, 'w13': 9, 'w14': 8, 'w15': 13}. Best is trial 74 with value: 0.46923408645314224.\u001b[0m\n",
      "\u001b[32m[I 2021-10-25 00:51:15,822]\u001b[0m Trial 91 finished with value: 0.4692412968753507 and parameters: {'w0': 5, 'w1': 12, 'w2': 3, 'w3': 11, 'w4': 3, 'w5': 8, 'w6': 11, 'w7': 14, 'w8': 12, 'w9': 8, 'w10': 12, 'w11': 13, 'w12': 7, 'w13': 9, 'w14': 8, 'w15': 13}. Best is trial 74 with value: 0.46923408645314224.\u001b[0m\n",
      "\u001b[32m[I 2021-10-25 00:51:16,208]\u001b[0m Trial 92 finished with value: 0.46963450671751783 and parameters: {'w0': 5, 'w1': 12, 'w2': 3, 'w3': 11, 'w4': 3, 'w5': 8, 'w6': 11, 'w7': 13, 'w8': 11, 'w9': 8, 'w10': 12, 'w11': 14, 'w12': 8, 'w13': 9, 'w14': 9, 'w15': 13}. Best is trial 74 with value: 0.46923408645314224.\u001b[0m\n",
      "\u001b[32m[I 2021-10-25 00:51:16,597]\u001b[0m Trial 93 finished with value: 0.4695636995855146 and parameters: {'w0': 5, 'w1': 13, 'w2': 3, 'w3': 11, 'w4': 3, 'w5': 8, 'w6': 11, 'w7': 14, 'w8': 11, 'w9': 8, 'w10': 12, 'w11': 14, 'w12': 8, 'w13': 9, 'w14': 9, 'w15': 13}. Best is trial 74 with value: 0.46923408645314224.\u001b[0m\n",
      "\u001b[32m[I 2021-10-25 00:51:16,994]\u001b[0m Trial 94 finished with value: 0.46998483680872977 and parameters: {'w0': 5, 'w1': 12, 'w2': 3, 'w3': 13, 'w4': 3, 'w5': 8, 'w6': 11, 'w7': 14, 'w8': 12, 'w9': 8, 'w10': 14, 'w11': 14, 'w12': 9, 'w13': 9, 'w14': 9, 'w15': 13}. Best is trial 74 with value: 0.46923408645314224.\u001b[0m\n",
      "\u001b[32m[I 2021-10-25 00:51:17,380]\u001b[0m Trial 95 finished with value: 0.46960224694266856 and parameters: {'w0': 5, 'w1': 12, 'w2': 2, 'w3': 11, 'w4': 3, 'w5': 7, 'w6': 11, 'w7': 15, 'w8': 10, 'w9': 8, 'w10': 12, 'w11': 13, 'w12': 8, 'w13': 9, 'w14': 9, 'w15': 15}. Best is trial 74 with value: 0.46923408645314224.\u001b[0m\n",
      "\u001b[32m[I 2021-10-25 00:51:17,765]\u001b[0m Trial 96 finished with value: 0.4696134965539315 and parameters: {'w0': 5, 'w1': 13, 'w2': 2, 'w3': 11, 'w4': 2, 'w5': 6, 'w6': 11, 'w7': 15, 'w8': 10, 'w9': 8, 'w10': 13, 'w11': 13, 'w12': 10, 'w13': 9, 'w14': 7, 'w15': 15}. Best is trial 74 with value: 0.46923408645314224.\u001b[0m\n",
      "\u001b[32m[I 2021-10-25 00:51:18,161]\u001b[0m Trial 97 finished with value: 0.4703021042366599 and parameters: {'w0': 5, 'w1': 11, 'w2': 2, 'w3': 12, 'w4': 2, 'w5': 7, 'w6': 13, 'w7': 14, 'w8': 13, 'w9': 9, 'w10': 15, 'w11': 13, 'w12': 8, 'w13': 8, 'w14': 10, 'w15': 14}. Best is trial 74 with value: 0.46923408645314224.\u001b[0m\n",
      "\u001b[32m[I 2021-10-25 00:51:18,562]\u001b[0m Trial 98 finished with value: 0.46974239763284253 and parameters: {'w0': 4, 'w1': 13, 'w2': 3, 'w3': 14, 'w4': 3, 'w5': 7, 'w6': 12, 'w7': 15, 'w8': 10, 'w9': 7, 'w10': 14, 'w11': 12, 'w12': 9, 'w13': 10, 'w14': 11, 'w15': 15}. Best is trial 74 with value: 0.46923408645314224.\u001b[0m\n",
      "\u001b[32m[I 2021-10-25 00:51:18,922]\u001b[0m Trial 99 finished with value: 0.47277416364930763 and parameters: {'w0': 6, 'w1': 12, 'w2': 2, 'w3': 12, 'w4': 4, 'w5': 8, 'w6': 11, 'w7': 0, 'w8': 12, 'w9': 8, 'w10': 13, 'w11': 14, 'w12': 7, 'w13': 9, 'w14': 8, 'w15': 13}. Best is trial 74 with value: 0.46923408645314224.\u001b[0m\n"
     ]
    },
    {
     "name": "stdout",
     "output_type": "stream",
     "text": [
      "['/home/knikaido/work/Ventilator-Pressure-Prediction/data/team_oofs/tea_oof_cv0.16608165493383653.csv', '/home/knikaido/work/Ventilator-Pressure-Prediction/data/team_oofs/tea_oof_cv0.16852467380720984.csv', '/home/knikaido/work/Ventilator-Pressure-Prediction/data/team_oofs/rt4kaido_oof_total_75.csv', '/home/knikaido/work/Ventilator-Pressure-Prediction/data/team_oofs/yyama_oof_exp070.npy', '/home/knikaido/work/Ventilator-Pressure-Prediction/data/team_oofs/rt4kaido_oof_total_77.csv', '/home/knikaido/work/Ventilator-Pressure-Prediction/data/team_oofs/currypurin_177_oof.npy', '/home/knikaido/work/Ventilator-Pressure-Prediction/data/team_oofs/currypurin_179_oof.npy', '/home/knikaido/work/Ventilator-Pressure-Prediction/data/team_oofs/rt2kaido_oof_exp75_10folds.npy', '/home/knikaido/work/Ventilator-Pressure-Prediction/data/team_oofs/yyama_oof_exp080.npy', '/home/knikaido/work/Ventilator-Pressure-Prediction/data/team_oofs/tea_oof_cv0.15402163834314866.csv', '/home/knikaido/work/Ventilator-Pressure-Prediction/data/team_oofs/tea_oof_cv0.14631403817163816.csv', '/home/knikaido/work/Ventilator-Pressure-Prediction/data/team_oofs/yyama_oof_exp081.npy', '/home/knikaido/work/Ventilator-Pressure-Prediction/data/team_oofs/rt4kaido_oof_total_85.csv', '/home/knikaido/work/Ventilator-Pressure-Prediction/data/team_oofs/currypurin_187_oof.npy', '/home/knikaido/work/Ventilator-Pressure-Prediction/data/team_oofs/yyama_oof_total_exp75_3.csv', '/home/knikaido/work/Ventilator-Pressure-Prediction/data/team_oofs/currypurin_190_oof.npy']\n",
      "{'w0': 4, 'w1': 10, 'w2': 2, 'w3': 9, 'w4': 5, 'w5': 9, 'w6': 9, 'w7': 12, 'w8': 9, 'w9': 5, 'w10': 12, 'w11': 15, 'w12': 5, 'w13': 11, 'w14': 5, 'w15': 12}\n",
      "0.46923408645314224\n",
      "[4, 10, 2, 9, 5, 9, 9, 12, 9, 5, 12, 15, 5, 11, 5, 12]\n",
      "CPU times: user 31.4 s, sys: 2.3 s, total: 33.7 s\n",
      "Wall time: 33.7 s\n"
     ]
    }
   ],
   "source": [
    "%%time\n",
    "optuna.logging.set_verbosity(verbosity=1) \n",
    "study = optuna.create_study(direction='minimize')\n",
    "study.optimize(objective, n_trials=100)\n",
    "print(paths)\n",
    "print(study.best_params)\n",
    "print(study.best_value)\n",
    "print(list(study.best_params.values()))"
   ]
  },
  {
   "cell_type": "code",
   "execution_count": 20,
   "id": "c248b85e-318e-4427-8b35-e0c8f3bf003d",
   "metadata": {},
   "outputs": [],
   "source": [
    "weights_warui = [9, 5, 4, 15, 10, 13, 8, 15, 7, 11, 7, 12, 1, 14, 5, 5]\n",
    "oofs_warui = oofs[:, oof_var >= 0.5]\n",
    "oofs_warui_weightes = []\n",
    "for i in range(len(oofs_warui)):\n",
    "    for _ in range(weights_warui[i]):\n",
    "        oofs_warui_weightes.append(oofs_warui[i])\n",
    "oofs_warui_weightes = np.median(np.vstack(oofs_warui_weightes),axis=0)"
   ]
  },
  {
   "cell_type": "code",
   "execution_count": 21,
   "id": "7fe737d3-2c28-4043-a0a1-84d685094ba0",
   "metadata": {},
   "outputs": [],
   "source": [
    "weights_yoi = np.array([5, 10, 10, 10, 11, 11, 3, 15, 6, 13, 15, 7, 9, 11, 12, 8])\n",
    "oofs_yoi = oofs[:, oof_var < 0.5]\n",
    "oofs_yoi_weightes = []\n",
    "for i in range(len(oofs_yoi)):\n",
    "    for _ in range(weights_yoi[i]):\n",
    "        oofs_yoi_weightes.append(oofs_yoi[i])\n",
    "oofs_yoi_weightes = np.median(np.vstack(oofs_yoi_weightes),axis=0)"
   ]
  },
  {
   "cell_type": "code",
   "execution_count": 22,
   "id": "df7ffbfd-7b54-4947-9708-72df48e60b87",
   "metadata": {},
   "outputs": [
    {
     "data": {
      "text/plain": [
       "0.12425772319009222"
      ]
     },
     "execution_count": 22,
     "metadata": {},
     "output_type": "execute_result"
    }
   ],
   "source": [
    "mae(np.hstack([targets[oof_var >= 0.5], targets[oof_var < 0.5]]), np.hstack([oofs_warui_weightes, oofs_yoi_weightes]))"
   ]
  },
  {
   "cell_type": "code",
   "execution_count": 50,
   "id": "5c5d79e5-0117-4b69-b881-6d8219f5f5c0",
   "metadata": {},
   "outputs": [
    {
     "data": {
      "text/plain": [
       "0.11723383112667962"
      ]
     },
     "execution_count": 50,
     "metadata": {},
     "output_type": "execute_result"
    }
   ],
   "source": [
    "score = mae(targets[oof_var < 0.5], oofs_yoi_weight)\n",
    "score"
   ]
  },
  {
   "cell_type": "code",
   "execution_count": null,
   "id": "ce2b324e-dc89-4773-b042-b596d174b2ad",
   "metadata": {},
   "outputs": [],
   "source": [
    "0.7558827246761815"
   ]
  }
 ],
 "metadata": {
  "kernelspec": {
   "display_name": "Python 3",
   "language": "python",
   "name": "python3"
  },
  "language_info": {
   "codemirror_mode": {
    "name": "ipython",
    "version": 3
   },
   "file_extension": ".py",
   "mimetype": "text/x-python",
   "name": "python",
   "nbconvert_exporter": "python",
   "pygments_lexer": "ipython3",
   "version": "3.8.11"
  }
 },
 "nbformat": 4,
 "nbformat_minor": 5
}
