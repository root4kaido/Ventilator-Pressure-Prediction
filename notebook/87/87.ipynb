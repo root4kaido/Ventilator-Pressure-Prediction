{
 "cells": [
  {
   "cell_type": "markdown",
   "metadata": {},
   "source": [
    "# Train classification"
   ]
  },
  {
   "cell_type": "markdown",
   "metadata": {},
   "source": [
    "Most sharing code train this dataset as a regression task.\n",
    "\n",
    "But in this code, I train as a classification task.\n",
    "\n",
    "I encode the target value pressure to 950 classes and calculate CrossEntropy Loss."
   ]
  },
  {
   "cell_type": "code",
   "execution_count": 1,
   "metadata": {},
   "outputs": [
    {
     "data": {
      "text/html": [
       "<style>.container { width:100% !important; }</style>"
      ],
      "text/plain": [
       "<IPython.core.display.HTML object>"
      ]
     },
     "metadata": {},
     "output_type": "display_data"
    }
   ],
   "source": [
    "from IPython.core.display import display, HTML \n",
    "display(HTML(\"<style>.container { width:100% !important; }</style>\")) "
   ]
  },
  {
   "cell_type": "code",
   "execution_count": 2,
   "metadata": {
    "tags": []
   },
   "outputs": [],
   "source": [
    "import gc\n",
    "import os\n",
    "import sys\n",
    "import copy\n",
    "import random\n",
    "import wandb\n",
    "import math\n",
    "from pathlib import Path\n",
    "from collections import OrderedDict\n",
    "\n",
    "import numpy as np\n",
    "import pandas as pd\n",
    "import scipy.signal\n",
    "from scipy import signal\n",
    "\n",
    "from sklearn.model_selection import GroupKFold, StratifiedKFold\n",
    "from sklearn.neighbors import NearestNeighbors\n",
    "\n",
    "from tqdm.notebook import tqdm\n",
    "\n",
    "import torch\n",
    "import torch.nn as nn\n",
    "import torch.optim as optim\n",
    "from torch.nn import functional as F\n",
    "from torch.utils.data import Dataset, DataLoader\n",
    "\n",
    "from transformers import AdamW\n",
    "from transformers import get_cosine_schedule_with_warmup\n",
    "from sklearn.preprocessing import RobustScaler\n",
    "\n",
    "import pytorch_lightning as pl\n",
    "from pytorch_lightning.callbacks import ModelCheckpoint\n",
    "from pytorch_lightning.callbacks import EarlyStopping\n",
    "from pytorch_lightning.loggers import WandbLogger\n",
    "\n",
    "device = torch.device(\"cuda\")"
   ]
  },
  {
   "cell_type": "code",
   "execution_count": 3,
   "metadata": {},
   "outputs": [],
   "source": [
    "sys.path.append('../../src/')\n",
    "import utils as utils\n",
    "from utils import Timer"
   ]
  },
  {
   "cell_type": "code",
   "execution_count": 4,
   "metadata": {
    "tags": []
   },
   "outputs": [],
   "source": [
    "class CFG:\n",
    "    exp_num = 87\n",
    "    n_folds = 5\n",
    "    folds = [0]\n",
    "    seed = 777\n",
    "    local = True\n",
    "    \n",
    "    lr = 0.0015\n",
    "    epochs = 80\n",
    "    emb_dim = 64\n",
    "    hidden_dim = 256\n",
    "    weight_decay = 0.1  \n",
    "    \n",
    "    ######################\n",
    "    # Loaders #\n",
    "    ######################\n",
    "    loader_params = {\n",
    "        \"train\": {\n",
    "            'batch_size': 128,\n",
    "            'shuffle': True,\n",
    "            'num_workers': 8,\n",
    "            'pin_memory': True,\n",
    "            'drop_last': True,\n",
    "        },\n",
    "        \"valid\": {\n",
    "            'batch_size': 32,\n",
    "            'shuffle': False,\n",
    "            'num_workers': 8,\n",
    "            'pin_memory': True,\n",
    "            'drop_last': False,\n",
    "        },\n",
    "        \"test\": {\n",
    "            'batch_size': 32,\n",
    "            'shuffle': False,\n",
    "            'num_workers': 8,\n",
    "            'pin_memory': True,\n",
    "            'drop_last': False,\n",
    "        }\n",
    "    }\n"
   ]
  },
  {
   "cell_type": "code",
   "execution_count": 5,
   "metadata": {
    "tags": []
   },
   "outputs": [],
   "source": [
    "utils.set_seed(CFG.seed)    "
   ]
  },
  {
   "cell_type": "code",
   "execution_count": 6,
   "metadata": {},
   "outputs": [],
   "source": [
    "if CFG.local:\n",
    "    DATA_DIR = Path(\"/home/knikaido/work/Ventilator-Pressure-Prediction/data/ventilator-pressure-prediction\")\n",
    "    OUTPUT_DIR = Path('./output/')\n",
    "else:\n",
    "    DATA_DIR = Path(\"../input/ventilator-pressure-prediction\")\n",
    "    OUTPUT_DIR = Path('')   "
   ]
  },
  {
   "cell_type": "code",
   "execution_count": 7,
   "metadata": {},
   "outputs": [],
   "source": [
    "# def loss_fn(y_pred, y_true, u_outs):\n",
    "# #     loss = nn.L1Loss()(y_pred.reshape(-1), y_true.reshape(-1))\n",
    "#     w = 1 - u_outs.reshape(-1)\n",
    "#     loss = nn.CrossEntropyLoss(reduction = 'none')(y_pred.reshape(-1, 950), y_true.reshape(-1)).reshape(-1)\n",
    "#     loss = loss * w\n",
    "#     loss = loss.sum() / w.sum()\n",
    "#     return loss\n",
    "\n",
    "class CustomLoss(nn.Module):\n",
    "    def __init__(self, unique_targets, target_dic_inv):\n",
    "        super().__init__()\n",
    "\n",
    "        self.criterion = nn.CrossEntropyLoss(reduction = 'none')\n",
    "        self.unique_targets = unique_targets\n",
    "        self.target_dic_inv = target_dic_inv\n",
    "        \n",
    "    def forward(self, y_pred, y_true, u_outs, y_true_raw, ratio):\n",
    "        \n",
    "        ## classification\n",
    "        loss = self.criterion(y_pred.reshape(-1, 950), y_true.reshape(-1)).reshape(-1)\n",
    "        \n",
    "        for lag, w in [(1, 0.4), (2, 0.2), (3, 0.1), (4, 0.1)]:\n",
    "            # negative lag loss\n",
    "            # if target < 0, target = 0\n",
    "            neg_lag_target = F.relu(y_true.reshape(-1) - lag)\n",
    "            neg_lag_target = neg_lag_target.long()\n",
    "            neg_lag_loss = self.criterion(y_pred.reshape(-1, 950), neg_lag_target.reshape(-1)).reshape(-1)\n",
    "\n",
    "            # positive lag loss\n",
    "            # if target > 949, target = 949\n",
    "            pos_lag_target = 949 - F.relu((949 - (y_true.reshape(-1) + lag)))\n",
    "            pos_lag_target = pos_lag_target.long()\n",
    "            pos_lag_loss = self.criterion(y_pred.reshape(-1, 950), pos_lag_target.reshape(-1)).reshape(-1)\n",
    "\n",
    "            loss += (neg_lag_loss + pos_lag_loss) * w\n",
    "        \n",
    "        ## regression\n",
    "        pred = y_pred.reshape(-1, 950).softmax(1)\n",
    "        pred = torch.sum(torch.tensor(self.unique_targets).to(device) *  pred, axis=1).reshape(-1)\n",
    "        target = y_true_raw.reshape(-1)\n",
    "#         loss_mae = (target - pred).abs()\n",
    "#         loss += loss_mae / 2\n",
    "        loss *= ratio\n",
    "        smooth_l1 = nn.functional.smooth_l1_loss(input=pred, target=target, reduction='none', beta=0.1)\n",
    "        loss += smooth_l1 /2\n",
    "        \n",
    "        w_u = 1 - u_outs.reshape(-1)\n",
    "        loss = loss * w_u\n",
    "        loss = loss.sum() / w_u.sum()\n",
    "\n",
    "        return loss, pred, target\n",
    "\n",
    "def compute_metric(preds, trues, u_outs):\n",
    "    \"\"\"\n",
    "    Metric for the problem, as I understood it.\n",
    "    \"\"\"\n",
    "    \n",
    "    y = trues\n",
    "    w = 1 - u_outs\n",
    "    \n",
    "    assert y.shape == preds.shape and w.shape == y.shape, (y.shape, preds.shape, w.shape)\n",
    "    \n",
    "    mae = w * np.abs(y - preds)\n",
    "    mae = mae.sum() / w.sum()\n",
    "    \n",
    "    return mae\n",
    "\n",
    "def get_score(y_pred, y_true, u_outs):\n",
    "    return compute_metric(y_pred, y_true, u_outs)"
   ]
  },
  {
   "cell_type": "code",
   "execution_count": 8,
   "metadata": {
    "tags": []
   },
   "outputs": [],
   "source": [
    "class VentilatorDataset(Dataset):\n",
    "    \n",
    "    def __init__(self, df, train_value_col, train_category_col, label_dic=None):\n",
    "        self.dfs = [_df for _, _df in df.groupby(\"breath_id\")]\n",
    "        self.label_dic = label_dic\n",
    "        \n",
    "    def __len__(self):\n",
    "        return len(self.dfs)\n",
    "    \n",
    "    def __getitem__(self, item):\n",
    "        df = self.dfs[item]\n",
    "        X = df[train_category_col + train_value_col].values\n",
    "        u_out = df['u_out'].values\n",
    "        y = df['pressure'].values\n",
    "        if self.label_dic is None:\n",
    "            label = [-1]\n",
    "        else:\n",
    "            label = [self.label_dic[i] for i in y]\n",
    "\n",
    "        d = {\n",
    "            \"X\": torch.tensor(X).float(),\n",
    "            \"u_out\": torch.tensor(u_out).long(),\n",
    "            \"y\" : torch.tensor(label).long(),\n",
    "            \"y_raw\" : torch.tensor(y).float(),\n",
    "        }\n",
    "        return d"
   ]
  },
  {
   "cell_type": "code",
   "execution_count": 9,
   "metadata": {
    "tags": []
   },
   "outputs": [],
   "source": [
    "class VentilatorModel(nn.Module):\n",
    "    \n",
    "    def __init__(self, input_dim):\n",
    "        super(VentilatorModel, self).__init__()\n",
    "        self.rc_emb = nn.Embedding(9, 4, padding_idx=0)\n",
    "\n",
    "        self.seq_emb = nn.Sequential(\n",
    "            nn.Linear(4+input_dim, CFG.emb_dim),\n",
    "            nn.LayerNorm(CFG.emb_dim)\n",
    "        )\n",
    "        \n",
    "        self.lstm1 = nn.LSTM(CFG.emb_dim, 400, batch_first=True, bidirectional=True, dropout=0.1)\n",
    "        self.lstm2 = nn.LSTM(2*400, 300, batch_first=True, bidirectional=True, dropout=0.1)\n",
    "        self.lstm3 = nn.LSTM(2*300, 200, batch_first=True, bidirectional=True, dropout=0.1)\n",
    "        self.lstm4 = nn.LSTM(2*200, CFG.hidden_dim, batch_first=True, bidirectional=True, dropout=0.1)\n",
    "\n",
    "        self.ln1 = nn.LayerNorm(CFG.hidden_dim * 2)\n",
    "        self.head = nn.Sequential(\n",
    "            nn.Linear(CFG.hidden_dim * 2, CFG.hidden_dim * 2),\n",
    "            nn.LayerNorm(CFG.hidden_dim * 2),\n",
    "            nn.ReLU(),\n",
    "            nn.Linear(CFG.hidden_dim * 2, 950),\n",
    "        )\n",
    "        \n",
    "        # Encoder\n",
    "        initrange = 0.1\n",
    "        self.rc_emb.weight.data.uniform_(-initrange, initrange)\n",
    "        \n",
    "        # LSTM\n",
    "        for n, m in self.named_modules():\n",
    "            if isinstance(m, nn.LSTM):\n",
    "#                 nn.init.xavier_uniform_(m.weight_ih_l0)\n",
    "#                 nn.init.orthogonal_(m.weight_hh_l0)\n",
    "#                 nn.init.xavier_uniform_(m.weight_ih_l0_reverse)\n",
    "#                 nn.init.orthogonal_(m.weight_hh_l0_reverse)\n",
    "#             if isinstance(m, nn.LSTM):\n",
    "                print(f'init {m}')\n",
    "                for param in m.parameters():\n",
    "                    if len(param.shape) >= 2:\n",
    "                        nn.init.orthogonal_(param.data)\n",
    "                    else:\n",
    "                        nn.init.normal_(param.data)\n",
    "                        \n",
    "\n",
    "\n",
    "    def forward(self, X, y=None):\n",
    "        # embed\n",
    "        bs = X.shape[0]\n",
    "        rc_emb = self.rc_emb(X[:,:,0].long()).view(bs, 80, -1)\n",
    "\n",
    "        seq_x = torch.cat((rc_emb, X[:, :, 1:]), 2)\n",
    "        emb_x = self.seq_emb(seq_x)\n",
    "        \n",
    "        emb_x, _ = self.lstm1(emb_x)\n",
    "        emb_x, _ = self.lstm2(emb_x)\n",
    "        emb_x, _ = self.lstm3(emb_x)\n",
    "        out, _ = self.lstm4(emb_x)\n",
    "        out = self.ln1(out)\n",
    "        logits = self.head(out)\n",
    "\n",
    "        return logits"
   ]
  },
  {
   "cell_type": "code",
   "execution_count": 10,
   "metadata": {},
   "outputs": [],
   "source": [
    "# Learner class(pytorch-lighting)\n",
    "class Learner(pl.LightningModule):\n",
    "    def __init__(self, model, num_train_steps, num_warmup_steps, target_dic_inv, unique_targets):\n",
    "        super().__init__()\n",
    "        self.model = model\n",
    "        self.criterion = CustomLoss(unique_targets, target_dic_inv)\n",
    "        self.num_train_steps = num_train_steps\n",
    "        self.num_warmup_steps = num_warmup_steps\n",
    "        self.target_dic_inv = target_dic_inv\n",
    "        self.unique_targets = unique_targets\n",
    "        self.last_epoch = CFG.epochs - 1\n",
    "    \n",
    "    def training_step(self, batch, batch_idx):\n",
    "        d_ = batch\n",
    "        out = self.model(d_['X'])\n",
    "        loss, _, _ = self.criterion(out, d_['y'], d_['u_out'], d_['y_raw'], (self.current_epoch!=self.last_epoch)*1)\n",
    "        \n",
    "        self.log(f'Loss/train', loss, on_step=False, on_epoch=True, prog_bar=False, logger=True)\n",
    "        sch = self.lr_schedulers()\n",
    "        sch.step()\n",
    "        return loss\n",
    "    \n",
    "    def validation_step(self, batch, batch_idx):\n",
    "        d_ = batch\n",
    "        out = self.model(d_['X'])\n",
    "        loss, pred, target = self.criterion(out, d_['y'], d_['u_out'], d_['y_raw'], (self.current_epoch!=self.last_epoch)*1)\n",
    "        \n",
    "        self.log(f'Loss/val', loss, on_step=False, on_epoch=True, prog_bar=False, logger=True)\n",
    "        \n",
    "        output = OrderedDict({\n",
    "            \"targets\": target.detach(), \"preds\": pred.detach(), \"u_outs\": d_['u_out'].detach(), \"loss\": loss.detach()\n",
    "        })\n",
    "        return output\n",
    "    \n",
    "    def validation_epoch_end(self, outputs):\n",
    "\n",
    "        targets = torch.cat([o[\"targets\"].view(-1) for o in outputs]).cpu().numpy()\n",
    "        preds = torch.cat([o[\"preds\"].view(-1) for o in outputs]).cpu().numpy()\n",
    "        u_outs = torch.cat([o[\"u_outs\"].view(-1) for o in outputs]).cpu().numpy()\n",
    "\n",
    "        score = get_score(preds, targets, u_outs)\n",
    "        self.log(f'custom_mae/val', score, on_step=False, on_epoch=True, prog_bar=True, logger=True)\n",
    "        print(f'epoch = {self.current_epoch}, custom_mae = {score}')\n",
    "\n",
    "    def configure_optimizers(self):\n",
    "#         optimizer = get_optimizer(self.model)\n",
    "#         scheduler = get_scheduler(optimizer)\n",
    "        optimizer = AdamW(self.model.parameters(), lr=CFG.lr, weight_decay=CFG.weight_decay)\n",
    "        scheduler = get_cosine_schedule_with_warmup(optimizer, \n",
    "                                                    num_warmup_steps=self.num_warmup_steps, \n",
    "                                                    num_training_steps=self.num_train_steps)\n",
    "\n",
    "        return {\"optimizer\": optimizer, \"lr_scheduler\": scheduler, \"monitor\": \"Loss/val\"}"
   ]
  },
  {
   "cell_type": "code",
   "execution_count": 11,
   "metadata": {
    "tags": []
   },
   "outputs": [],
   "source": [
    "def valid_loop(model, loader, target_dic_inv):\n",
    "    predicts = []\n",
    "    model.eval()\n",
    "    for d in loader:\n",
    "        with torch.no_grad():\n",
    "            out = model(d['X'].to(device))\n",
    "        pred = out.reshape(-1, 950).softmax(1)\n",
    "        pred = torch.sum(torch.tensor(unique_targets).to(device) *  pred, axis=1)\n",
    "        predicts.append(pred.cpu().numpy())\n",
    "\n",
    "    return np.concatenate(predicts)\n",
    "\n",
    "def test_loop(model, loader, target_dic_inv):\n",
    "    predicts = []\n",
    "    model.eval()\n",
    "    for d in loader:\n",
    "        with torch.no_grad():\n",
    "            out = model(d['X'].to(device))\n",
    "        pred = out.reshape(-1, 950).softmax(1)\n",
    "        pred = torch.sum(torch.tensor(unique_targets).to(device) *  pred, axis=1)\n",
    "        predicts.append(pred.cpu().numpy())\n",
    "\n",
    "    return np.concatenate(predicts)"
   ]
  },
  {
   "cell_type": "code",
   "execution_count": null,
   "metadata": {},
   "outputs": [],
   "source": []
  },
  {
   "cell_type": "code",
   "execution_count": 12,
   "metadata": {},
   "outputs": [],
   "source": [
    "train = pd.read_csv(DATA_DIR / 'train.csv')\n",
    "test = pd.read_csv(DATA_DIR / 'test.csv')\n",
    "sub_df = pd.read_csv(DATA_DIR / \"sample_submission.csv\")"
   ]
  },
  {
   "cell_type": "code",
   "execution_count": 13,
   "metadata": {},
   "outputs": [],
   "source": [
    "train['R_C'] = train['R'].astype(str) + '_' + train['C'].astype(str)\n",
    "train['num'] = train.groupby(['breath_id', 'R_C']).cumcount()\n",
    "\n",
    "test['R_C'] = test['R'].astype(str) + '_' + test['C'].astype(str)\n",
    "test['num'] = test.groupby(['breath_id', 'R_C']).cumcount()"
   ]
  },
  {
   "cell_type": "code",
   "execution_count": 14,
   "metadata": {},
   "outputs": [
    {
     "data": {
      "text/html": [
       "<div>\n",
       "<style scoped>\n",
       "    .dataframe tbody tr th:only-of-type {\n",
       "        vertical-align: middle;\n",
       "    }\n",
       "\n",
       "    .dataframe tbody tr th {\n",
       "        vertical-align: top;\n",
       "    }\n",
       "\n",
       "    .dataframe thead th {\n",
       "        text-align: right;\n",
       "    }\n",
       "</style>\n",
       "<table border=\"1\" class=\"dataframe\">\n",
       "  <thead>\n",
       "    <tr style=\"text-align: right;\">\n",
       "      <th></th>\n",
       "      <th>id</th>\n",
       "      <th>breath_id</th>\n",
       "      <th>R</th>\n",
       "      <th>C</th>\n",
       "      <th>time_step</th>\n",
       "      <th>u_in</th>\n",
       "      <th>u_out</th>\n",
       "      <th>pressure</th>\n",
       "      <th>R_C</th>\n",
       "      <th>num</th>\n",
       "    </tr>\n",
       "  </thead>\n",
       "  <tbody>\n",
       "    <tr>\n",
       "      <th>0</th>\n",
       "      <td>1</td>\n",
       "      <td>1</td>\n",
       "      <td>20</td>\n",
       "      <td>50</td>\n",
       "      <td>0.000000</td>\n",
       "      <td>0.083334</td>\n",
       "      <td>0</td>\n",
       "      <td>5.837492</td>\n",
       "      <td>20_50</td>\n",
       "      <td>0</td>\n",
       "    </tr>\n",
       "    <tr>\n",
       "      <th>1</th>\n",
       "      <td>2</td>\n",
       "      <td>1</td>\n",
       "      <td>20</td>\n",
       "      <td>50</td>\n",
       "      <td>0.033652</td>\n",
       "      <td>18.383041</td>\n",
       "      <td>0</td>\n",
       "      <td>5.907794</td>\n",
       "      <td>20_50</td>\n",
       "      <td>1</td>\n",
       "    </tr>\n",
       "    <tr>\n",
       "      <th>2</th>\n",
       "      <td>3</td>\n",
       "      <td>1</td>\n",
       "      <td>20</td>\n",
       "      <td>50</td>\n",
       "      <td>0.067514</td>\n",
       "      <td>22.509278</td>\n",
       "      <td>0</td>\n",
       "      <td>7.876254</td>\n",
       "      <td>20_50</td>\n",
       "      <td>2</td>\n",
       "    </tr>\n",
       "    <tr>\n",
       "      <th>3</th>\n",
       "      <td>4</td>\n",
       "      <td>1</td>\n",
       "      <td>20</td>\n",
       "      <td>50</td>\n",
       "      <td>0.101542</td>\n",
       "      <td>22.808822</td>\n",
       "      <td>0</td>\n",
       "      <td>11.742872</td>\n",
       "      <td>20_50</td>\n",
       "      <td>3</td>\n",
       "    </tr>\n",
       "    <tr>\n",
       "      <th>4</th>\n",
       "      <td>5</td>\n",
       "      <td>1</td>\n",
       "      <td>20</td>\n",
       "      <td>50</td>\n",
       "      <td>0.135756</td>\n",
       "      <td>25.355850</td>\n",
       "      <td>0</td>\n",
       "      <td>12.234987</td>\n",
       "      <td>20_50</td>\n",
       "      <td>4</td>\n",
       "    </tr>\n",
       "    <tr>\n",
       "      <th>...</th>\n",
       "      <td>...</td>\n",
       "      <td>...</td>\n",
       "      <td>...</td>\n",
       "      <td>...</td>\n",
       "      <td>...</td>\n",
       "      <td>...</td>\n",
       "      <td>...</td>\n",
       "      <td>...</td>\n",
       "      <td>...</td>\n",
       "      <td>...</td>\n",
       "    </tr>\n",
       "    <tr>\n",
       "      <th>6035995</th>\n",
       "      <td>6035996</td>\n",
       "      <td>125749</td>\n",
       "      <td>50</td>\n",
       "      <td>10</td>\n",
       "      <td>2.504603</td>\n",
       "      <td>1.489714</td>\n",
       "      <td>1</td>\n",
       "      <td>3.869032</td>\n",
       "      <td>50_10</td>\n",
       "      <td>75</td>\n",
       "    </tr>\n",
       "    <tr>\n",
       "      <th>6035996</th>\n",
       "      <td>6035997</td>\n",
       "      <td>125749</td>\n",
       "      <td>50</td>\n",
       "      <td>10</td>\n",
       "      <td>2.537961</td>\n",
       "      <td>1.488497</td>\n",
       "      <td>1</td>\n",
       "      <td>3.869032</td>\n",
       "      <td>50_10</td>\n",
       "      <td>76</td>\n",
       "    </tr>\n",
       "    <tr>\n",
       "      <th>6035997</th>\n",
       "      <td>6035998</td>\n",
       "      <td>125749</td>\n",
       "      <td>50</td>\n",
       "      <td>10</td>\n",
       "      <td>2.571408</td>\n",
       "      <td>1.558978</td>\n",
       "      <td>1</td>\n",
       "      <td>3.798729</td>\n",
       "      <td>50_10</td>\n",
       "      <td>77</td>\n",
       "    </tr>\n",
       "    <tr>\n",
       "      <th>6035998</th>\n",
       "      <td>6035999</td>\n",
       "      <td>125749</td>\n",
       "      <td>50</td>\n",
       "      <td>10</td>\n",
       "      <td>2.604744</td>\n",
       "      <td>1.272663</td>\n",
       "      <td>1</td>\n",
       "      <td>4.079938</td>\n",
       "      <td>50_10</td>\n",
       "      <td>78</td>\n",
       "    </tr>\n",
       "    <tr>\n",
       "      <th>6035999</th>\n",
       "      <td>6036000</td>\n",
       "      <td>125749</td>\n",
       "      <td>50</td>\n",
       "      <td>10</td>\n",
       "      <td>2.638017</td>\n",
       "      <td>1.482739</td>\n",
       "      <td>1</td>\n",
       "      <td>3.869032</td>\n",
       "      <td>50_10</td>\n",
       "      <td>79</td>\n",
       "    </tr>\n",
       "  </tbody>\n",
       "</table>\n",
       "<p>6036000 rows × 10 columns</p>\n",
       "</div>"
      ],
      "text/plain": [
       "              id  breath_id   R   C  time_step       u_in  u_out   pressure  \\\n",
       "0              1          1  20  50   0.000000   0.083334      0   5.837492   \n",
       "1              2          1  20  50   0.033652  18.383041      0   5.907794   \n",
       "2              3          1  20  50   0.067514  22.509278      0   7.876254   \n",
       "3              4          1  20  50   0.101542  22.808822      0  11.742872   \n",
       "4              5          1  20  50   0.135756  25.355850      0  12.234987   \n",
       "...          ...        ...  ..  ..        ...        ...    ...        ...   \n",
       "6035995  6035996     125749  50  10   2.504603   1.489714      1   3.869032   \n",
       "6035996  6035997     125749  50  10   2.537961   1.488497      1   3.869032   \n",
       "6035997  6035998     125749  50  10   2.571408   1.558978      1   3.798729   \n",
       "6035998  6035999     125749  50  10   2.604744   1.272663      1   4.079938   \n",
       "6035999  6036000     125749  50  10   2.638017   1.482739      1   3.869032   \n",
       "\n",
       "           R_C  num  \n",
       "0        20_50    0  \n",
       "1        20_50    1  \n",
       "2        20_50    2  \n",
       "3        20_50    3  \n",
       "4        20_50    4  \n",
       "...        ...  ...  \n",
       "6035995  50_10   75  \n",
       "6035996  50_10   76  \n",
       "6035997  50_10   77  \n",
       "6035998  50_10   78  \n",
       "6035999  50_10   79  \n",
       "\n",
       "[6036000 rows x 10 columns]"
      ]
     },
     "metadata": {},
     "output_type": "display_data"
    },
    {
     "data": {
      "text/html": [
       "<div>\n",
       "<style scoped>\n",
       "    .dataframe tbody tr th:only-of-type {\n",
       "        vertical-align: middle;\n",
       "    }\n",
       "\n",
       "    .dataframe tbody tr th {\n",
       "        vertical-align: top;\n",
       "    }\n",
       "\n",
       "    .dataframe thead th {\n",
       "        text-align: right;\n",
       "    }\n",
       "</style>\n",
       "<table border=\"1\" class=\"dataframe\">\n",
       "  <thead>\n",
       "    <tr style=\"text-align: right;\">\n",
       "      <th></th>\n",
       "      <th>id</th>\n",
       "      <th>breath_id</th>\n",
       "      <th>R</th>\n",
       "      <th>C</th>\n",
       "      <th>time_step</th>\n",
       "      <th>u_in</th>\n",
       "      <th>u_out</th>\n",
       "      <th>R_C</th>\n",
       "      <th>num</th>\n",
       "    </tr>\n",
       "  </thead>\n",
       "  <tbody>\n",
       "    <tr>\n",
       "      <th>0</th>\n",
       "      <td>1</td>\n",
       "      <td>0</td>\n",
       "      <td>5</td>\n",
       "      <td>20</td>\n",
       "      <td>0.000000</td>\n",
       "      <td>0.000000</td>\n",
       "      <td>0</td>\n",
       "      <td>5_20</td>\n",
       "      <td>0</td>\n",
       "    </tr>\n",
       "    <tr>\n",
       "      <th>1</th>\n",
       "      <td>2</td>\n",
       "      <td>0</td>\n",
       "      <td>5</td>\n",
       "      <td>20</td>\n",
       "      <td>0.031904</td>\n",
       "      <td>7.515046</td>\n",
       "      <td>0</td>\n",
       "      <td>5_20</td>\n",
       "      <td>1</td>\n",
       "    </tr>\n",
       "    <tr>\n",
       "      <th>2</th>\n",
       "      <td>3</td>\n",
       "      <td>0</td>\n",
       "      <td>5</td>\n",
       "      <td>20</td>\n",
       "      <td>0.063827</td>\n",
       "      <td>14.651675</td>\n",
       "      <td>0</td>\n",
       "      <td>5_20</td>\n",
       "      <td>2</td>\n",
       "    </tr>\n",
       "    <tr>\n",
       "      <th>3</th>\n",
       "      <td>4</td>\n",
       "      <td>0</td>\n",
       "      <td>5</td>\n",
       "      <td>20</td>\n",
       "      <td>0.095751</td>\n",
       "      <td>21.230610</td>\n",
       "      <td>0</td>\n",
       "      <td>5_20</td>\n",
       "      <td>3</td>\n",
       "    </tr>\n",
       "    <tr>\n",
       "      <th>4</th>\n",
       "      <td>5</td>\n",
       "      <td>0</td>\n",
       "      <td>5</td>\n",
       "      <td>20</td>\n",
       "      <td>0.127644</td>\n",
       "      <td>26.320956</td>\n",
       "      <td>0</td>\n",
       "      <td>5_20</td>\n",
       "      <td>4</td>\n",
       "    </tr>\n",
       "    <tr>\n",
       "      <th>...</th>\n",
       "      <td>...</td>\n",
       "      <td>...</td>\n",
       "      <td>...</td>\n",
       "      <td>...</td>\n",
       "      <td>...</td>\n",
       "      <td>...</td>\n",
       "      <td>...</td>\n",
       "      <td>...</td>\n",
       "      <td>...</td>\n",
       "    </tr>\n",
       "    <tr>\n",
       "      <th>4023995</th>\n",
       "      <td>4023996</td>\n",
       "      <td>125748</td>\n",
       "      <td>20</td>\n",
       "      <td>10</td>\n",
       "      <td>2.530117</td>\n",
       "      <td>4.971245</td>\n",
       "      <td>1</td>\n",
       "      <td>20_10</td>\n",
       "      <td>75</td>\n",
       "    </tr>\n",
       "    <tr>\n",
       "      <th>4023996</th>\n",
       "      <td>4023997</td>\n",
       "      <td>125748</td>\n",
       "      <td>20</td>\n",
       "      <td>10</td>\n",
       "      <td>2.563853</td>\n",
       "      <td>4.975709</td>\n",
       "      <td>1</td>\n",
       "      <td>20_10</td>\n",
       "      <td>76</td>\n",
       "    </tr>\n",
       "    <tr>\n",
       "      <th>4023997</th>\n",
       "      <td>4023998</td>\n",
       "      <td>125748</td>\n",
       "      <td>20</td>\n",
       "      <td>10</td>\n",
       "      <td>2.597475</td>\n",
       "      <td>4.979468</td>\n",
       "      <td>1</td>\n",
       "      <td>20_10</td>\n",
       "      <td>77</td>\n",
       "    </tr>\n",
       "    <tr>\n",
       "      <th>4023998</th>\n",
       "      <td>4023999</td>\n",
       "      <td>125748</td>\n",
       "      <td>20</td>\n",
       "      <td>10</td>\n",
       "      <td>2.631134</td>\n",
       "      <td>4.982648</td>\n",
       "      <td>1</td>\n",
       "      <td>20_10</td>\n",
       "      <td>78</td>\n",
       "    </tr>\n",
       "    <tr>\n",
       "      <th>4023999</th>\n",
       "      <td>4024000</td>\n",
       "      <td>125748</td>\n",
       "      <td>20</td>\n",
       "      <td>10</td>\n",
       "      <td>2.665301</td>\n",
       "      <td>4.985373</td>\n",
       "      <td>1</td>\n",
       "      <td>20_10</td>\n",
       "      <td>79</td>\n",
       "    </tr>\n",
       "  </tbody>\n",
       "</table>\n",
       "<p>4024000 rows × 9 columns</p>\n",
       "</div>"
      ],
      "text/plain": [
       "              id  breath_id   R   C  time_step       u_in  u_out    R_C  num\n",
       "0              1          0   5  20   0.000000   0.000000      0   5_20    0\n",
       "1              2          0   5  20   0.031904   7.515046      0   5_20    1\n",
       "2              3          0   5  20   0.063827  14.651675      0   5_20    2\n",
       "3              4          0   5  20   0.095751  21.230610      0   5_20    3\n",
       "4              5          0   5  20   0.127644  26.320956      0   5_20    4\n",
       "...          ...        ...  ..  ..        ...        ...    ...    ...  ...\n",
       "4023995  4023996     125748  20  10   2.530117   4.971245      1  20_10   75\n",
       "4023996  4023997     125748  20  10   2.563853   4.975709      1  20_10   76\n",
       "4023997  4023998     125748  20  10   2.597475   4.979468      1  20_10   77\n",
       "4023998  4023999     125748  20  10   2.631134   4.982648      1  20_10   78\n",
       "4023999  4024000     125748  20  10   2.665301   4.985373      1  20_10   79\n",
       "\n",
       "[4024000 rows x 9 columns]"
      ]
     },
     "metadata": {},
     "output_type": "display_data"
    },
    {
     "data": {
      "text/plain": [
       "(None, None)"
      ]
     },
     "execution_count": 14,
     "metadata": {},
     "output_type": "execute_result"
    }
   ],
   "source": [
    "display(train), display(test)"
   ]
  },
  {
   "cell_type": "code",
   "execution_count": 31,
   "metadata": {},
   "outputs": [],
   "source": [
    "def get_raw_features(input_df, dataType = 'train'):\n",
    "    colum = ['time_step', 'u_in', 'u_out']\n",
    "    \n",
    "    u_in_table = pd.pivot_table(train, index=['breath_id', 'R_C'], columns='num', values='u_in')\n",
    "    u_in_table = u_in_table.add_prefix('u_in_')\n",
    "\n",
    "    return u_in_table.reset_index()"
   ]
  },
  {
   "cell_type": "code",
   "execution_count": 32,
   "metadata": {},
   "outputs": [],
   "source": [
    "train_df = get_raw_features(train)"
   ]
  },
  {
   "cell_type": "code",
   "execution_count": 33,
   "metadata": {},
   "outputs": [
    {
     "data": {
      "text/html": [
       "<div>\n",
       "<style scoped>\n",
       "    .dataframe tbody tr th:only-of-type {\n",
       "        vertical-align: middle;\n",
       "    }\n",
       "\n",
       "    .dataframe tbody tr th {\n",
       "        vertical-align: top;\n",
       "    }\n",
       "\n",
       "    .dataframe thead th {\n",
       "        text-align: right;\n",
       "    }\n",
       "</style>\n",
       "<table border=\"1\" class=\"dataframe\">\n",
       "  <thead>\n",
       "    <tr style=\"text-align: right;\">\n",
       "      <th>num</th>\n",
       "      <th>breath_id</th>\n",
       "      <th>R_C</th>\n",
       "      <th>u_in_0</th>\n",
       "      <th>u_in_1</th>\n",
       "      <th>u_in_2</th>\n",
       "      <th>u_in_3</th>\n",
       "      <th>u_in_4</th>\n",
       "      <th>u_in_5</th>\n",
       "      <th>u_in_6</th>\n",
       "      <th>u_in_7</th>\n",
       "      <th>...</th>\n",
       "      <th>u_in_70</th>\n",
       "      <th>u_in_71</th>\n",
       "      <th>u_in_72</th>\n",
       "      <th>u_in_73</th>\n",
       "      <th>u_in_74</th>\n",
       "      <th>u_in_75</th>\n",
       "      <th>u_in_76</th>\n",
       "      <th>u_in_77</th>\n",
       "      <th>u_in_78</th>\n",
       "      <th>u_in_79</th>\n",
       "    </tr>\n",
       "  </thead>\n",
       "  <tbody>\n",
       "    <tr>\n",
       "      <th>0</th>\n",
       "      <td>1</td>\n",
       "      <td>20_50</td>\n",
       "      <td>0.083334</td>\n",
       "      <td>18.383041</td>\n",
       "      <td>22.509278</td>\n",
       "      <td>22.808822</td>\n",
       "      <td>25.355850</td>\n",
       "      <td>27.259866</td>\n",
       "      <td>27.127486</td>\n",
       "      <td>26.807732</td>\n",
       "      <td>...</td>\n",
       "      <td>4.940237</td>\n",
       "      <td>4.949604</td>\n",
       "      <td>4.957466</td>\n",
       "      <td>4.964136</td>\n",
       "      <td>4.969730</td>\n",
       "      <td>4.974474</td>\n",
       "      <td>4.978481</td>\n",
       "      <td>4.981847</td>\n",
       "      <td>4.984683</td>\n",
       "      <td>4.987079</td>\n",
       "    </tr>\n",
       "    <tr>\n",
       "      <th>1</th>\n",
       "      <td>2</td>\n",
       "      <td>20_20</td>\n",
       "      <td>12.184338</td>\n",
       "      <td>13.980205</td>\n",
       "      <td>12.574163</td>\n",
       "      <td>11.730537</td>\n",
       "      <td>12.124229</td>\n",
       "      <td>11.055636</td>\n",
       "      <td>10.774428</td>\n",
       "      <td>11.111878</td>\n",
       "      <td>...</td>\n",
       "      <td>4.946820</td>\n",
       "      <td>4.955128</td>\n",
       "      <td>4.962164</td>\n",
       "      <td>4.968085</td>\n",
       "      <td>4.973087</td>\n",
       "      <td>4.977307</td>\n",
       "      <td>4.980860</td>\n",
       "      <td>4.983857</td>\n",
       "      <td>4.986382</td>\n",
       "      <td>4.988518</td>\n",
       "    </tr>\n",
       "    <tr>\n",
       "      <th>2</th>\n",
       "      <td>3</td>\n",
       "      <td>50_20</td>\n",
       "      <td>0.000000</td>\n",
       "      <td>7.187242</td>\n",
       "      <td>13.338781</td>\n",
       "      <td>17.111335</td>\n",
       "      <td>18.353980</td>\n",
       "      <td>17.417672</td>\n",
       "      <td>15.353111</td>\n",
       "      <td>13.641899</td>\n",
       "      <td>...</td>\n",
       "      <td>4.876171</td>\n",
       "      <td>4.894445</td>\n",
       "      <td>4.910021</td>\n",
       "      <td>4.923308</td>\n",
       "      <td>4.934620</td>\n",
       "      <td>4.944269</td>\n",
       "      <td>4.952485</td>\n",
       "      <td>4.959494</td>\n",
       "      <td>4.965451</td>\n",
       "      <td>4.970562</td>\n",
       "    </tr>\n",
       "    <tr>\n",
       "      <th>3</th>\n",
       "      <td>4</td>\n",
       "      <td>50_50</td>\n",
       "      <td>0.000000</td>\n",
       "      <td>1.262539</td>\n",
       "      <td>4.001352</td>\n",
       "      <td>6.379411</td>\n",
       "      <td>8.295194</td>\n",
       "      <td>9.790410</td>\n",
       "      <td>10.874443</td>\n",
       "      <td>13.336506</td>\n",
       "      <td>...</td>\n",
       "      <td>4.879581</td>\n",
       "      <td>4.897809</td>\n",
       "      <td>4.912832</td>\n",
       "      <td>4.925605</td>\n",
       "      <td>4.936515</td>\n",
       "      <td>4.946119</td>\n",
       "      <td>4.954007</td>\n",
       "      <td>4.960767</td>\n",
       "      <td>4.966532</td>\n",
       "      <td>4.971585</td>\n",
       "    </tr>\n",
       "    <tr>\n",
       "      <th>4</th>\n",
       "      <td>5</td>\n",
       "      <td>5_50</td>\n",
       "      <td>21.424375</td>\n",
       "      <td>28.504653</td>\n",
       "      <td>29.353025</td>\n",
       "      <td>30.502095</td>\n",
       "      <td>31.024647</td>\n",
       "      <td>32.224651</td>\n",
       "      <td>32.364788</td>\n",
       "      <td>32.858346</td>\n",
       "      <td>...</td>\n",
       "      <td>4.954280</td>\n",
       "      <td>4.961622</td>\n",
       "      <td>4.967670</td>\n",
       "      <td>4.972735</td>\n",
       "      <td>4.977117</td>\n",
       "      <td>4.980725</td>\n",
       "      <td>4.983751</td>\n",
       "      <td>4.986374</td>\n",
       "      <td>4.988504</td>\n",
       "      <td>4.990306</td>\n",
       "    </tr>\n",
       "    <tr>\n",
       "      <th>...</th>\n",
       "      <td>...</td>\n",
       "      <td>...</td>\n",
       "      <td>...</td>\n",
       "      <td>...</td>\n",
       "      <td>...</td>\n",
       "      <td>...</td>\n",
       "      <td>...</td>\n",
       "      <td>...</td>\n",
       "      <td>...</td>\n",
       "      <td>...</td>\n",
       "      <td>...</td>\n",
       "      <td>...</td>\n",
       "      <td>...</td>\n",
       "      <td>...</td>\n",
       "      <td>...</td>\n",
       "      <td>...</td>\n",
       "      <td>...</td>\n",
       "      <td>...</td>\n",
       "      <td>...</td>\n",
       "      <td>...</td>\n",
       "      <td>...</td>\n",
       "    </tr>\n",
       "    <tr>\n",
       "      <th>75445</th>\n",
       "      <td>125740</td>\n",
       "      <td>50_50</td>\n",
       "      <td>0.000000</td>\n",
       "      <td>0.000000</td>\n",
       "      <td>0.673913</td>\n",
       "      <td>1.700763</td>\n",
       "      <td>2.619867</td>\n",
       "      <td>3.397223</td>\n",
       "      <td>4.030364</td>\n",
       "      <td>4.540090</td>\n",
       "      <td>...</td>\n",
       "      <td>4.951377</td>\n",
       "      <td>4.958965</td>\n",
       "      <td>4.965437</td>\n",
       "      <td>4.970984</td>\n",
       "      <td>4.975529</td>\n",
       "      <td>4.979396</td>\n",
       "      <td>4.982703</td>\n",
       "      <td>4.985436</td>\n",
       "      <td>4.987730</td>\n",
       "      <td>4.989706</td>\n",
       "    </tr>\n",
       "    <tr>\n",
       "      <th>75446</th>\n",
       "      <td>125742</td>\n",
       "      <td>20_10</td>\n",
       "      <td>85.630231</td>\n",
       "      <td>100.000000</td>\n",
       "      <td>81.566813</td>\n",
       "      <td>0.000000</td>\n",
       "      <td>23.328401</td>\n",
       "      <td>89.819686</td>\n",
       "      <td>0.000000</td>\n",
       "      <td>0.000000</td>\n",
       "      <td>...</td>\n",
       "      <td>4.937050</td>\n",
       "      <td>4.946832</td>\n",
       "      <td>4.955088</td>\n",
       "      <td>4.962065</td>\n",
       "      <td>4.967939</td>\n",
       "      <td>4.972923</td>\n",
       "      <td>4.977126</td>\n",
       "      <td>4.980671</td>\n",
       "      <td>4.983671</td>\n",
       "      <td>4.986201</td>\n",
       "    </tr>\n",
       "    <tr>\n",
       "      <th>75447</th>\n",
       "      <td>125743</td>\n",
       "      <td>20_10</td>\n",
       "      <td>0.000000</td>\n",
       "      <td>0.000000</td>\n",
       "      <td>0.000000</td>\n",
       "      <td>0.950177</td>\n",
       "      <td>3.256712</td>\n",
       "      <td>4.678061</td>\n",
       "      <td>4.628657</td>\n",
       "      <td>4.970097</td>\n",
       "      <td>...</td>\n",
       "      <td>4.935777</td>\n",
       "      <td>4.945808</td>\n",
       "      <td>4.954189</td>\n",
       "      <td>4.961282</td>\n",
       "      <td>4.967358</td>\n",
       "      <td>4.972427</td>\n",
       "      <td>4.976734</td>\n",
       "      <td>4.980354</td>\n",
       "      <td>4.983397</td>\n",
       "      <td>4.985969</td>\n",
       "    </tr>\n",
       "    <tr>\n",
       "      <th>75448</th>\n",
       "      <td>125745</td>\n",
       "      <td>50_50</td>\n",
       "      <td>15.564236</td>\n",
       "      <td>23.588836</td>\n",
       "      <td>20.298696</td>\n",
       "      <td>12.326433</td>\n",
       "      <td>10.807906</td>\n",
       "      <td>11.630441</td>\n",
       "      <td>10.997722</td>\n",
       "      <td>9.542468</td>\n",
       "      <td>...</td>\n",
       "      <td>4.877733</td>\n",
       "      <td>4.895692</td>\n",
       "      <td>4.911043</td>\n",
       "      <td>4.924128</td>\n",
       "      <td>4.935280</td>\n",
       "      <td>4.944776</td>\n",
       "      <td>4.952874</td>\n",
       "      <td>4.959785</td>\n",
       "      <td>4.965696</td>\n",
       "      <td>4.970727</td>\n",
       "    </tr>\n",
       "    <tr>\n",
       "      <th>75449</th>\n",
       "      <td>125749</td>\n",
       "      <td>50_10</td>\n",
       "      <td>6.030572</td>\n",
       "      <td>25.504196</td>\n",
       "      <td>21.614707</td>\n",
       "      <td>16.266744</td>\n",
       "      <td>16.101221</td>\n",
       "      <td>14.700098</td>\n",
       "      <td>13.117684</td>\n",
       "      <td>13.573873</td>\n",
       "      <td>...</td>\n",
       "      <td>1.367263</td>\n",
       "      <td>1.362261</td>\n",
       "      <td>1.357586</td>\n",
       "      <td>1.353205</td>\n",
       "      <td>1.420711</td>\n",
       "      <td>1.489714</td>\n",
       "      <td>1.488497</td>\n",
       "      <td>1.558978</td>\n",
       "      <td>1.272663</td>\n",
       "      <td>1.482739</td>\n",
       "    </tr>\n",
       "  </tbody>\n",
       "</table>\n",
       "<p>75450 rows × 82 columns</p>\n",
       "</div>"
      ],
      "text/plain": [
       "num    breath_id    R_C     u_in_0      u_in_1     u_in_2     u_in_3  \\\n",
       "0              1  20_50   0.083334   18.383041  22.509278  22.808822   \n",
       "1              2  20_20  12.184338   13.980205  12.574163  11.730537   \n",
       "2              3  50_20   0.000000    7.187242  13.338781  17.111335   \n",
       "3              4  50_50   0.000000    1.262539   4.001352   6.379411   \n",
       "4              5   5_50  21.424375   28.504653  29.353025  30.502095   \n",
       "...          ...    ...        ...         ...        ...        ...   \n",
       "75445     125740  50_50   0.000000    0.000000   0.673913   1.700763   \n",
       "75446     125742  20_10  85.630231  100.000000  81.566813   0.000000   \n",
       "75447     125743  20_10   0.000000    0.000000   0.000000   0.950177   \n",
       "75448     125745  50_50  15.564236   23.588836  20.298696  12.326433   \n",
       "75449     125749  50_10   6.030572   25.504196  21.614707  16.266744   \n",
       "\n",
       "num       u_in_4     u_in_5     u_in_6     u_in_7  ...   u_in_70   u_in_71  \\\n",
       "0      25.355850  27.259866  27.127486  26.807732  ...  4.940237  4.949604   \n",
       "1      12.124229  11.055636  10.774428  11.111878  ...  4.946820  4.955128   \n",
       "2      18.353980  17.417672  15.353111  13.641899  ...  4.876171  4.894445   \n",
       "3       8.295194   9.790410  10.874443  13.336506  ...  4.879581  4.897809   \n",
       "4      31.024647  32.224651  32.364788  32.858346  ...  4.954280  4.961622   \n",
       "...          ...        ...        ...        ...  ...       ...       ...   \n",
       "75445   2.619867   3.397223   4.030364   4.540090  ...  4.951377  4.958965   \n",
       "75446  23.328401  89.819686   0.000000   0.000000  ...  4.937050  4.946832   \n",
       "75447   3.256712   4.678061   4.628657   4.970097  ...  4.935777  4.945808   \n",
       "75448  10.807906  11.630441  10.997722   9.542468  ...  4.877733  4.895692   \n",
       "75449  16.101221  14.700098  13.117684  13.573873  ...  1.367263  1.362261   \n",
       "\n",
       "num     u_in_72   u_in_73   u_in_74   u_in_75   u_in_76   u_in_77   u_in_78  \\\n",
       "0      4.957466  4.964136  4.969730  4.974474  4.978481  4.981847  4.984683   \n",
       "1      4.962164  4.968085  4.973087  4.977307  4.980860  4.983857  4.986382   \n",
       "2      4.910021  4.923308  4.934620  4.944269  4.952485  4.959494  4.965451   \n",
       "3      4.912832  4.925605  4.936515  4.946119  4.954007  4.960767  4.966532   \n",
       "4      4.967670  4.972735  4.977117  4.980725  4.983751  4.986374  4.988504   \n",
       "...         ...       ...       ...       ...       ...       ...       ...   \n",
       "75445  4.965437  4.970984  4.975529  4.979396  4.982703  4.985436  4.987730   \n",
       "75446  4.955088  4.962065  4.967939  4.972923  4.977126  4.980671  4.983671   \n",
       "75447  4.954189  4.961282  4.967358  4.972427  4.976734  4.980354  4.983397   \n",
       "75448  4.911043  4.924128  4.935280  4.944776  4.952874  4.959785  4.965696   \n",
       "75449  1.357586  1.353205  1.420711  1.489714  1.488497  1.558978  1.272663   \n",
       "\n",
       "num     u_in_79  \n",
       "0      4.987079  \n",
       "1      4.988518  \n",
       "2      4.970562  \n",
       "3      4.971585  \n",
       "4      4.990306  \n",
       "...         ...  \n",
       "75445  4.989706  \n",
       "75446  4.986201  \n",
       "75447  4.985969  \n",
       "75448  4.970727  \n",
       "75449  1.482739  \n",
       "\n",
       "[75450 rows x 82 columns]"
      ]
     },
     "execution_count": 33,
     "metadata": {},
     "output_type": "execute_result"
    }
   ],
   "source": [
    "train_df"
   ]
  },
  {
   "cell_type": "code",
   "execution_count": 35,
   "metadata": {},
   "outputs": [],
   "source": [
    "skf = StratifiedKFold(n_splits=CFG.n_folds, shuffle=True, random_state=CFG.seed)\n",
    "    \n",
    "for fold, (train_idx, valid_idx) in enumerate(skf.split(train_df, train_df['R_C'])):\n",
    "    trn_df = train_df.loc[train_idx]\n",
    "    val_df = train_df.loc[valid_idx]\n",
    "    break"
   ]
  },
  {
   "cell_type": "code",
   "execution_count": 157,
   "metadata": {},
   "outputs": [],
   "source": [
    "trn_df20_50 = train_df.reset_index(drop=True)\n",
    "val_df20_50 = train_df.reset_index(drop=True)"
   ]
  },
  {
   "cell_type": "code",
   "execution_count": 158,
   "metadata": {},
   "outputs": [
    {
     "data": {
      "text/html": [
       "<div>\n",
       "<style scoped>\n",
       "    .dataframe tbody tr th:only-of-type {\n",
       "        vertical-align: middle;\n",
       "    }\n",
       "\n",
       "    .dataframe tbody tr th {\n",
       "        vertical-align: top;\n",
       "    }\n",
       "\n",
       "    .dataframe thead th {\n",
       "        text-align: right;\n",
       "    }\n",
       "</style>\n",
       "<table border=\"1\" class=\"dataframe\">\n",
       "  <thead>\n",
       "    <tr style=\"text-align: right;\">\n",
       "      <th>num</th>\n",
       "      <th>u_in_1</th>\n",
       "      <th>u_in_2</th>\n",
       "      <th>u_in_3</th>\n",
       "      <th>u_in_4</th>\n",
       "      <th>u_in_5</th>\n",
       "      <th>u_in_6</th>\n",
       "      <th>u_in_7</th>\n",
       "      <th>u_in_8</th>\n",
       "      <th>u_in_9</th>\n",
       "      <th>u_in_10</th>\n",
       "      <th>...</th>\n",
       "      <th>u_in_70</th>\n",
       "      <th>u_in_71</th>\n",
       "      <th>u_in_72</th>\n",
       "      <th>u_in_73</th>\n",
       "      <th>u_in_74</th>\n",
       "      <th>u_in_75</th>\n",
       "      <th>u_in_76</th>\n",
       "      <th>u_in_77</th>\n",
       "      <th>u_in_78</th>\n",
       "      <th>u_in_79</th>\n",
       "    </tr>\n",
       "  </thead>\n",
       "  <tbody>\n",
       "    <tr>\n",
       "      <th>0</th>\n",
       "      <td>18.383041</td>\n",
       "      <td>22.509278</td>\n",
       "      <td>22.808822</td>\n",
       "      <td>25.355850</td>\n",
       "      <td>27.259866</td>\n",
       "      <td>27.127486</td>\n",
       "      <td>26.807732</td>\n",
       "      <td>27.864715</td>\n",
       "      <td>28.313036</td>\n",
       "      <td>26.866758</td>\n",
       "      <td>...</td>\n",
       "      <td>4.940237</td>\n",
       "      <td>4.949604</td>\n",
       "      <td>4.957466</td>\n",
       "      <td>4.964136</td>\n",
       "      <td>4.969730</td>\n",
       "      <td>4.974474</td>\n",
       "      <td>4.978481</td>\n",
       "      <td>4.981847</td>\n",
       "      <td>4.984683</td>\n",
       "      <td>4.987079</td>\n",
       "    </tr>\n",
       "    <tr>\n",
       "      <th>1</th>\n",
       "      <td>13.980205</td>\n",
       "      <td>12.574163</td>\n",
       "      <td>11.730537</td>\n",
       "      <td>12.124229</td>\n",
       "      <td>11.055636</td>\n",
       "      <td>10.774428</td>\n",
       "      <td>11.111878</td>\n",
       "      <td>10.099527</td>\n",
       "      <td>10.043285</td>\n",
       "      <td>9.424626</td>\n",
       "      <td>...</td>\n",
       "      <td>4.946820</td>\n",
       "      <td>4.955128</td>\n",
       "      <td>4.962164</td>\n",
       "      <td>4.968085</td>\n",
       "      <td>4.973087</td>\n",
       "      <td>4.977307</td>\n",
       "      <td>4.980860</td>\n",
       "      <td>4.983857</td>\n",
       "      <td>4.986382</td>\n",
       "      <td>4.988518</td>\n",
       "    </tr>\n",
       "    <tr>\n",
       "      <th>2</th>\n",
       "      <td>7.187242</td>\n",
       "      <td>13.338781</td>\n",
       "      <td>17.111335</td>\n",
       "      <td>18.353980</td>\n",
       "      <td>17.417672</td>\n",
       "      <td>15.353111</td>\n",
       "      <td>13.641899</td>\n",
       "      <td>12.336795</td>\n",
       "      <td>11.487085</td>\n",
       "      <td>11.166449</td>\n",
       "      <td>...</td>\n",
       "      <td>4.876171</td>\n",
       "      <td>4.894445</td>\n",
       "      <td>4.910021</td>\n",
       "      <td>4.923308</td>\n",
       "      <td>4.934620</td>\n",
       "      <td>4.944269</td>\n",
       "      <td>4.952485</td>\n",
       "      <td>4.959494</td>\n",
       "      <td>4.965451</td>\n",
       "      <td>4.970562</td>\n",
       "    </tr>\n",
       "    <tr>\n",
       "      <th>3</th>\n",
       "      <td>1.262539</td>\n",
       "      <td>4.001352</td>\n",
       "      <td>6.379411</td>\n",
       "      <td>8.295194</td>\n",
       "      <td>9.790410</td>\n",
       "      <td>10.874443</td>\n",
       "      <td>13.336506</td>\n",
       "      <td>15.998234</td>\n",
       "      <td>18.294006</td>\n",
       "      <td>20.196161</td>\n",
       "      <td>...</td>\n",
       "      <td>4.879581</td>\n",
       "      <td>4.897809</td>\n",
       "      <td>4.912832</td>\n",
       "      <td>4.925605</td>\n",
       "      <td>4.936515</td>\n",
       "      <td>4.946119</td>\n",
       "      <td>4.954007</td>\n",
       "      <td>4.960767</td>\n",
       "      <td>4.966532</td>\n",
       "      <td>4.971585</td>\n",
       "    </tr>\n",
       "    <tr>\n",
       "      <th>4</th>\n",
       "      <td>28.504653</td>\n",
       "      <td>29.353025</td>\n",
       "      <td>30.502095</td>\n",
       "      <td>31.024647</td>\n",
       "      <td>32.224651</td>\n",
       "      <td>32.364788</td>\n",
       "      <td>32.858346</td>\n",
       "      <td>32.551761</td>\n",
       "      <td>34.031274</td>\n",
       "      <td>32.964679</td>\n",
       "      <td>...</td>\n",
       "      <td>4.954280</td>\n",
       "      <td>4.961622</td>\n",
       "      <td>4.967670</td>\n",
       "      <td>4.972735</td>\n",
       "      <td>4.977117</td>\n",
       "      <td>4.980725</td>\n",
       "      <td>4.983751</td>\n",
       "      <td>4.986374</td>\n",
       "      <td>4.988504</td>\n",
       "      <td>4.990306</td>\n",
       "    </tr>\n",
       "    <tr>\n",
       "      <th>...</th>\n",
       "      <td>...</td>\n",
       "      <td>...</td>\n",
       "      <td>...</td>\n",
       "      <td>...</td>\n",
       "      <td>...</td>\n",
       "      <td>...</td>\n",
       "      <td>...</td>\n",
       "      <td>...</td>\n",
       "      <td>...</td>\n",
       "      <td>...</td>\n",
       "      <td>...</td>\n",
       "      <td>...</td>\n",
       "      <td>...</td>\n",
       "      <td>...</td>\n",
       "      <td>...</td>\n",
       "      <td>...</td>\n",
       "      <td>...</td>\n",
       "      <td>...</td>\n",
       "      <td>...</td>\n",
       "      <td>...</td>\n",
       "      <td>...</td>\n",
       "    </tr>\n",
       "    <tr>\n",
       "      <th>75445</th>\n",
       "      <td>0.000000</td>\n",
       "      <td>0.673913</td>\n",
       "      <td>1.700763</td>\n",
       "      <td>2.619867</td>\n",
       "      <td>3.397223</td>\n",
       "      <td>4.030364</td>\n",
       "      <td>4.540090</td>\n",
       "      <td>4.827675</td>\n",
       "      <td>5.123065</td>\n",
       "      <td>5.396925</td>\n",
       "      <td>...</td>\n",
       "      <td>4.951377</td>\n",
       "      <td>4.958965</td>\n",
       "      <td>4.965437</td>\n",
       "      <td>4.970984</td>\n",
       "      <td>4.975529</td>\n",
       "      <td>4.979396</td>\n",
       "      <td>4.982703</td>\n",
       "      <td>4.985436</td>\n",
       "      <td>4.987730</td>\n",
       "      <td>4.989706</td>\n",
       "    </tr>\n",
       "    <tr>\n",
       "      <th>75446</th>\n",
       "      <td>100.000000</td>\n",
       "      <td>81.566813</td>\n",
       "      <td>0.000000</td>\n",
       "      <td>23.328401</td>\n",
       "      <td>89.819686</td>\n",
       "      <td>0.000000</td>\n",
       "      <td>0.000000</td>\n",
       "      <td>60.719625</td>\n",
       "      <td>19.595675</td>\n",
       "      <td>0.000000</td>\n",
       "      <td>...</td>\n",
       "      <td>4.937050</td>\n",
       "      <td>4.946832</td>\n",
       "      <td>4.955088</td>\n",
       "      <td>4.962065</td>\n",
       "      <td>4.967939</td>\n",
       "      <td>4.972923</td>\n",
       "      <td>4.977126</td>\n",
       "      <td>4.980671</td>\n",
       "      <td>4.983671</td>\n",
       "      <td>4.986201</td>\n",
       "    </tr>\n",
       "    <tr>\n",
       "      <th>75447</th>\n",
       "      <td>0.000000</td>\n",
       "      <td>0.000000</td>\n",
       "      <td>0.950177</td>\n",
       "      <td>3.256712</td>\n",
       "      <td>4.678061</td>\n",
       "      <td>4.628657</td>\n",
       "      <td>4.970097</td>\n",
       "      <td>5.302141</td>\n",
       "      <td>4.236358</td>\n",
       "      <td>3.840883</td>\n",
       "      <td>...</td>\n",
       "      <td>4.935777</td>\n",
       "      <td>4.945808</td>\n",
       "      <td>4.954189</td>\n",
       "      <td>4.961282</td>\n",
       "      <td>4.967358</td>\n",
       "      <td>4.972427</td>\n",
       "      <td>4.976734</td>\n",
       "      <td>4.980354</td>\n",
       "      <td>4.983397</td>\n",
       "      <td>4.985969</td>\n",
       "    </tr>\n",
       "    <tr>\n",
       "      <th>75448</th>\n",
       "      <td>23.588836</td>\n",
       "      <td>20.298696</td>\n",
       "      <td>12.326433</td>\n",
       "      <td>10.807906</td>\n",
       "      <td>11.630441</td>\n",
       "      <td>10.997722</td>\n",
       "      <td>9.542468</td>\n",
       "      <td>10.934450</td>\n",
       "      <td>10.997722</td>\n",
       "      <td>9.542468</td>\n",
       "      <td>...</td>\n",
       "      <td>4.877733</td>\n",
       "      <td>4.895692</td>\n",
       "      <td>4.911043</td>\n",
       "      <td>4.924128</td>\n",
       "      <td>4.935280</td>\n",
       "      <td>4.944776</td>\n",
       "      <td>4.952874</td>\n",
       "      <td>4.959785</td>\n",
       "      <td>4.965696</td>\n",
       "      <td>4.970727</td>\n",
       "    </tr>\n",
       "    <tr>\n",
       "      <th>75449</th>\n",
       "      <td>25.504196</td>\n",
       "      <td>21.614707</td>\n",
       "      <td>16.266744</td>\n",
       "      <td>16.101221</td>\n",
       "      <td>14.700098</td>\n",
       "      <td>13.117684</td>\n",
       "      <td>13.573873</td>\n",
       "      <td>11.953287</td>\n",
       "      <td>10.296772</td>\n",
       "      <td>10.970053</td>\n",
       "      <td>...</td>\n",
       "      <td>1.367263</td>\n",
       "      <td>1.362261</td>\n",
       "      <td>1.357586</td>\n",
       "      <td>1.353205</td>\n",
       "      <td>1.420711</td>\n",
       "      <td>1.489714</td>\n",
       "      <td>1.488497</td>\n",
       "      <td>1.558978</td>\n",
       "      <td>1.272663</td>\n",
       "      <td>1.482739</td>\n",
       "    </tr>\n",
       "  </tbody>\n",
       "</table>\n",
       "<p>75450 rows × 79 columns</p>\n",
       "</div>"
      ],
      "text/plain": [
       "num        u_in_1     u_in_2     u_in_3     u_in_4     u_in_5     u_in_6  \\\n",
       "0       18.383041  22.509278  22.808822  25.355850  27.259866  27.127486   \n",
       "1       13.980205  12.574163  11.730537  12.124229  11.055636  10.774428   \n",
       "2        7.187242  13.338781  17.111335  18.353980  17.417672  15.353111   \n",
       "3        1.262539   4.001352   6.379411   8.295194   9.790410  10.874443   \n",
       "4       28.504653  29.353025  30.502095  31.024647  32.224651  32.364788   \n",
       "...           ...        ...        ...        ...        ...        ...   \n",
       "75445    0.000000   0.673913   1.700763   2.619867   3.397223   4.030364   \n",
       "75446  100.000000  81.566813   0.000000  23.328401  89.819686   0.000000   \n",
       "75447    0.000000   0.000000   0.950177   3.256712   4.678061   4.628657   \n",
       "75448   23.588836  20.298696  12.326433  10.807906  11.630441  10.997722   \n",
       "75449   25.504196  21.614707  16.266744  16.101221  14.700098  13.117684   \n",
       "\n",
       "num       u_in_7     u_in_8     u_in_9    u_in_10  ...   u_in_70   u_in_71  \\\n",
       "0      26.807732  27.864715  28.313036  26.866758  ...  4.940237  4.949604   \n",
       "1      11.111878  10.099527  10.043285   9.424626  ...  4.946820  4.955128   \n",
       "2      13.641899  12.336795  11.487085  11.166449  ...  4.876171  4.894445   \n",
       "3      13.336506  15.998234  18.294006  20.196161  ...  4.879581  4.897809   \n",
       "4      32.858346  32.551761  34.031274  32.964679  ...  4.954280  4.961622   \n",
       "...          ...        ...        ...        ...  ...       ...       ...   \n",
       "75445   4.540090   4.827675   5.123065   5.396925  ...  4.951377  4.958965   \n",
       "75446   0.000000  60.719625  19.595675   0.000000  ...  4.937050  4.946832   \n",
       "75447   4.970097   5.302141   4.236358   3.840883  ...  4.935777  4.945808   \n",
       "75448   9.542468  10.934450  10.997722   9.542468  ...  4.877733  4.895692   \n",
       "75449  13.573873  11.953287  10.296772  10.970053  ...  1.367263  1.362261   \n",
       "\n",
       "num     u_in_72   u_in_73   u_in_74   u_in_75   u_in_76   u_in_77   u_in_78  \\\n",
       "0      4.957466  4.964136  4.969730  4.974474  4.978481  4.981847  4.984683   \n",
       "1      4.962164  4.968085  4.973087  4.977307  4.980860  4.983857  4.986382   \n",
       "2      4.910021  4.923308  4.934620  4.944269  4.952485  4.959494  4.965451   \n",
       "3      4.912832  4.925605  4.936515  4.946119  4.954007  4.960767  4.966532   \n",
       "4      4.967670  4.972735  4.977117  4.980725  4.983751  4.986374  4.988504   \n",
       "...         ...       ...       ...       ...       ...       ...       ...   \n",
       "75445  4.965437  4.970984  4.975529  4.979396  4.982703  4.985436  4.987730   \n",
       "75446  4.955088  4.962065  4.967939  4.972923  4.977126  4.980671  4.983671   \n",
       "75447  4.954189  4.961282  4.967358  4.972427  4.976734  4.980354  4.983397   \n",
       "75448  4.911043  4.924128  4.935280  4.944776  4.952874  4.959785  4.965696   \n",
       "75449  1.357586  1.353205  1.420711  1.489714  1.488497  1.558978  1.272663   \n",
       "\n",
       "num     u_in_79  \n",
       "0      4.987079  \n",
       "1      4.988518  \n",
       "2      4.970562  \n",
       "3      4.971585  \n",
       "4      4.990306  \n",
       "...         ...  \n",
       "75445  4.989706  \n",
       "75446  4.986201  \n",
       "75447  4.985969  \n",
       "75448  4.970727  \n",
       "75449  1.482739  \n",
       "\n",
       "[75450 rows x 79 columns]"
      ]
     },
     "execution_count": 158,
     "metadata": {},
     "output_type": "execute_result"
    }
   ],
   "source": [
    "val_df20_50.iloc[:, 3:]"
   ]
  },
  {
   "cell_type": "code",
   "execution_count": 159,
   "metadata": {},
   "outputs": [],
   "source": [
    "nn = NearestNeighbors(n_neighbors=500, metric=\"l1\", n_jobs=-1)"
   ]
  },
  {
   "cell_type": "code",
   "execution_count": 160,
   "metadata": {},
   "outputs": [],
   "source": [
    "nbrs = nn.fit(trn_df20_50.iloc[:, 2:].values)"
   ]
  },
  {
   "cell_type": "code",
   "execution_count": 162,
   "metadata": {},
   "outputs": [],
   "source": [
    "distances, indices = nbrs.kneighbors(val_df20_50.iloc[:2, 2:].values)"
   ]
  },
  {
   "cell_type": "code",
   "execution_count": 166,
   "metadata": {},
   "outputs": [],
   "source": [
    "neighbor_b_ids = trn_df20_50.iloc[indices[1].argsort()[:1], :]['breath_id'].values"
   ]
  },
  {
   "cell_type": "code",
   "execution_count": 167,
   "metadata": {},
   "outputs": [],
   "source": [
    "import matplotlib.pyplot as plt\n"
   ]
  },
  {
   "cell_type": "code",
   "execution_count": 168,
   "metadata": {},
   "outputs": [
    {
     "data": {
      "text/plain": [
       "<matplotlib.legend.Legend at 0x7f9cfe806df0>"
      ]
     },
     "execution_count": 168,
     "metadata": {},
     "output_type": "execute_result"
    },
    {
     "data": {
      "image/png": "[encoded data removed]",
      "text/plain": [
       "<Figure size 1080x576 with 1 Axes>"
      ]
     },
     "metadata": {
      "needs_background": "light"
     },
     "output_type": "display_data"
    }
   ],
   "source": [
    "plt.figure(figsize=(15, 8))\n",
    "for breath_id in neighbor_b_ids:\n",
    "    tmp_df = train[train['breath_id'] == breath_id].reset_index(drop=True)\n",
    "\n",
    "#     plt.plot(tmp_df['time_step'], tmp_df['pressure'], label='pressure')\n",
    "    plt.plot(tmp_df['time_step'], tmp_df['u_in'], color='coral')\n",
    "#     plt.scatter(tmp_df['time_step'][peaks], tmp_df['u_in'][peaks], c='red')\n",
    "#     plt.set_title(f'R: {R}, C: {C}, breath_id: {breath_id}, score: {score}')\n",
    "#     plt.legend()\n",
    "tmp_df = train[train['breath_id'] == 2].reset_index(drop=True)\n",
    "plt.plot(tmp_df['time_step'], tmp_df['u_in'], label='target')\n",
    "plt.legend()"
   ]
  },
  {
   "cell_type": "code",
   "execution_count": null,
   "metadata": {},
   "outputs": [],
   "source": []
  },
  {
   "cell_type": "code",
   "execution_count": null,
   "metadata": {},
   "outputs": [],
   "source": []
  },
  {
   "cell_type": "code",
   "execution_count": null,
   "metadata": {},
   "outputs": [],
   "source": []
  },
  {
   "cell_type": "code",
   "execution_count": null,
   "metadata": {},
   "outputs": [],
   "source": []
  },
  {
   "cell_type": "code",
   "execution_count": 15,
   "metadata": {},
   "outputs": [],
   "source": [
    "def get_category_features(input_df, dataType = 'train'):\n",
    "    output_df = copy.deepcopy(input_df)\n",
    "    colum = ['R_C']\n",
    "    rc_map = {'5_10': 0, '5_20': 1, '5_50': 2, '20_10': 3, '20_20': 4, '20_50': 5, '50_10': 6, '50_20': 7, '50_50': 8}\n",
    "    \n",
    "    output_df['R_C'] = [f'{r}_{c}' for r, c in zip(output_df['R'], output_df['C'])]\n",
    "    output_df['R_C'] = output_df['R_C'].map(rc_map)\n",
    "\n",
    "    return output_df[colum]"
   ]
  },
  {
   "cell_type": "code",
   "execution_count": 16,
   "metadata": {},
   "outputs": [],
   "source": [
    "def get_simple_calc_features(input_df, dataType = 'train'):\n",
    "    output_df = copy.deepcopy(input_df)\n",
    "    c_num = input_df.shape[1]\n",
    "    \n",
    "    output_df['time_delta'] = output_df.groupby('breath_id')['time_step'].diff().fillna(0)\n",
    "    output_df['delta'] = output_df['time_delta'] * output_df['u_in']\n",
    "    output_df['area'] = output_df.groupby('breath_id')['delta'].cumsum()\n",
    "\n",
    "    output_df['cross']= output_df['u_in']*output_df['u_out']\n",
    "    output_df['cross2']= output_df['time_step']*output_df['u_out']\n",
    "    \n",
    "    output_df['u_in_cumsum'] = (output_df['u_in']).groupby(output_df['breath_id']).cumsum()\n",
    "    output_df['one'] = 1\n",
    "    output_df['count'] = (output_df['one']).groupby(output_df['breath_id']).cumsum()\n",
    "    output_df['u_in_cummean'] =output_df['u_in_cumsum'] / output_df['count']\n",
    "    \n",
    "    output_df['u_in_sqrt'] = output_df['u_in'].apply(lambda x: np.sqrt(x))\n",
    "    output_df['u_in_sqrt_cumsum'] = output_df.groupby('breath_id')['u_in_sqrt'].cumsum()\n",
    "    \n",
    "    output_df = output_df.drop(['count','one'], axis=1)\n",
    "    \n",
    "    return output_df.iloc[:, c_num:]"
   ]
  },
  {
   "cell_type": "code",
   "execution_count": 17,
   "metadata": {},
   "outputs": [],
   "source": [
    "def get_agg_features(input_df, dataType = 'train'):\n",
    "    \n",
    "    output_df = copy.deepcopy(input_df)\n",
    "    c_num = input_df.shape[1]\n",
    "    \n",
    "    # Dict for aggregations\n",
    "    create_feature_dict = {\n",
    "        'u_in': [np.max, np.mean],\n",
    "    }\n",
    "    \n",
    "    def get_agg_window(start_time=0, end_time=3.0, add_suffix = False):\n",
    "        \n",
    "        df_tgt = output_df[(output_df['time_step'] >= start_time) & (output_df['time_step'] <= end_time)]\n",
    "        df_feature = df_tgt.groupby(['breath_id']).agg(create_feature_dict)\n",
    "        df_feature.columns = ['_'.join(col) for col in df_feature.columns]\n",
    "        \n",
    "        if add_suffix:\n",
    "            df_feature = df_feature.add_suffix('_' + str(start_time) + '_' + str(end_time))\n",
    "            \n",
    "        return df_feature\n",
    "    \n",
    "    df_agg_feature = get_agg_window().reset_index()\n",
    "    \n",
    "#     df_tmp = get_agg_window(start_time = 2, add_suffix = True).reset_index()\n",
    "#     df_agg_feature = df_agg_feature.merge(df_tmp, how = 'left', on = 'breath_id')\n",
    "#     df_tmp = get_agg_window(start_time = 1, add_suffix = True).reset_index()\n",
    "#     df_agg_feature = df_agg_feature.merge(df_tmp, how = 'left', on = 'breath_id')\n",
    "#     df_tmp = get_agg_window(end_time = 1, add_suffix = True).reset_index()\n",
    "#     df_agg_feature = df_agg_feature.merge(df_tmp, how = 'left', on = 'breath_id')\n",
    "#     df_tmp = get_agg_window(end_time = 2, add_suffix = True).reset_index()\n",
    "#     df_agg_feature = df_agg_feature.merge(df_tmp, how = 'left', on = 'breath_id')\n",
    "\n",
    "    output_df = pd.merge(output_df, df_agg_feature, how='left', on='breath_id')\n",
    "    \n",
    "    output_df['u_in_diffmax'] = output_df['u_in_amax'] - output_df['u_in']\n",
    "    output_df['u_in_diffmean'] = output_df['u_in_mean'] - output_df['u_in']\n",
    "    \n",
    "#     output_df = output_df.drop(['u_in_amax','u_in_mean'], axis=1)\n",
    "    \n",
    "    return output_df.iloc[:, c_num:]"
   ]
  },
  {
   "cell_type": "code",
   "execution_count": 18,
   "metadata": {},
   "outputs": [],
   "source": [
    "def get_half_features(input_df, dataType = 'train'):\n",
    "    \n",
    "    output_df = copy.deepcopy(input_df)\n",
    "    c_num = input_df.shape[1]\n",
    "    \n",
    "    output_df['tmp'] = output_df['u_out']*(-1)+1 # inversion of u_out\n",
    "    output_df['u_in_half'] = output_df['tmp'] * output_df['u_in']\n",
    "    \n",
    "#     u_in_half_max_dict = train.groupby('breath_id')['u_in_half'].max().to_dict()\n",
    "#     train['u_in_half_max'] = train['breath_id'].map(u_in_half_max_dict)\n",
    "#     u_in_half_min_dict = train.groupby('breath_id')['u_in_half'].min().to_dict()\n",
    "#     train['u_in_half_min'] = train['breath_id'].map(u_in_half_min_dict)\n",
    "    u_in_half_mean_dict = output_df.groupby('breath_id')['u_in_half'].mean().to_dict()\n",
    "    output_df['u_in_half_mean'] = output_df['breath_id'].map(u_in_half_mean_dict)\n",
    "#     u_in_half_std_dict = train.groupby('breath_id')['u_in_half'].std().to_dict()\n",
    "#     train['u_in_half_std'] = train['breath_id'].map(u_in_half_std_dict)\n",
    "\n",
    "    del output_df['u_in_half'], output_df['tmp']\n",
    "    return output_df.iloc[:, c_num:]"
   ]
  },
  {
   "cell_type": "code",
   "execution_count": 19,
   "metadata": {},
   "outputs": [],
   "source": [
    "def lowpass_filter(series, b, a):\n",
    "    return signal.filtfilt(b, a, series)    "
   ]
  },
  {
   "cell_type": "code",
   "execution_count": 20,
   "metadata": {},
   "outputs": [],
   "source": [
    "def get_filter_features(input_df, dataType = 'train'):\n",
    "    \n",
    "    output_df = copy.deepcopy(input_df)\n",
    "    c_num = input_df.shape[1]\n",
    "    \n",
    "    fp = 5 # 通過域端周波数[Hz]\n",
    "    fs = 10 # 阻止域端周波数[Hz]\n",
    "    gpass = 3 # 通過域端最大損失[dB]\n",
    "    gstop = 40 # 阻止域端最小損失[dB]\n",
    "    samplerate = 100\n",
    "\n",
    "    fn = samplerate / 2   #ナイキスト周波数\n",
    "    wp = fp / fn  #ナイキスト周波数で通過域端周波数を正規化\n",
    "    ws = fs / fn  #ナイキスト周波数で阻止域端周波数を正規化\n",
    "    N, Wn = signal.buttord(wp, ws, gpass, gstop)  #オーダーとバターワースの正規化周波数を計算\n",
    "    b, a = signal.butter(N, Wn, \"low\")            #フィルタ伝達関数の分子と分母を計算\n",
    "    \n",
    "    def get_agg_window(start_time=0, end_time=3.0, add_suffix = False):\n",
    "        \n",
    "        df_tgt = output_df[(output_df['time_step'] >= start_time) & (output_df['time_step'] <= end_time)]\n",
    "        df_feature = df_tgt.groupby(['breath_id'])['u_in'].apply(lowpass_filter, b=b, a=a)\n",
    "        df_feature.name = 'u_in_filter'\n",
    "                    \n",
    "        return df_feature\n",
    "    \n",
    "    df_agg_feature = get_agg_window().reset_index()\n",
    "    df_agg_feature = df_agg_feature.explode(\"u_in_filter\").reset_index(drop=True)\n",
    "    df_agg_feature['u_in_filter'] = df_agg_feature['u_in_filter'].astype(float)\n",
    "        \n",
    "    df_agg_feature['u_in_filter_cumsum'] = df_agg_feature.groupby('breath_id')['u_in_filter'].cumsum()\n",
    "\n",
    "    return df_agg_feature.iloc[:, 1:]"
   ]
  },
  {
   "cell_type": "code",
   "execution_count": 21,
   "metadata": {},
   "outputs": [],
   "source": [
    "def get_vib_features(input_df, dataType = 'train'):\n",
    "    \n",
    "    output_df = copy.deepcopy(input_df)\n",
    "    c_num = input_df.shape[1]\n",
    "    \n",
    "    output_df['u_out_diff'] = output_df['u_out'].diff()\n",
    "    output_df['u_out_diff'].fillna(0, inplace=True)\n",
    "    output_df['u_out_diff'].replace(-1, 0, inplace=True)\n",
    "    uout1_df = output_df[output_df['u_out_diff']==1]\n",
    "    \n",
    "    first_df = output_df.loc[0::80,:]\n",
    "    first_0_dict = dict(zip(first_df['id'], [0]*len(uout1_df)))\n",
    "\n",
    "    output_df['u_in_diff'] = output_df['u_in'].diff()\n",
    "    output_df['diff_sign'] = np.sign(output_df['u_in_diff'])\n",
    "    output_df['sign_diff'] = output_df['diff_sign'].diff()\n",
    "    output_df['tmp'] = output_df['id'].map(first_0_dict) # put 0, the 80row cycle\n",
    "    output_df.iloc[0::80, output_df.columns.get_loc('sign_diff')] = output_df.iloc[0::80, output_df.columns.get_loc('tmp')]\n",
    "\n",
    "    # Count the number of inversions, so take the absolute value and sum\n",
    "    output_df['sign_diff'] = abs(output_df['sign_diff']) \n",
    "    sign_diff_dict = output_df.groupby('breath_id')['sign_diff'].sum().to_dict()\n",
    "    output_df['diff_vib'] = output_df['breath_id'].map(sign_diff_dict)\n",
    "    \n",
    "    return output_df['sign_diff']"
   ]
  },
  {
   "cell_type": "code",
   "execution_count": 22,
   "metadata": {},
   "outputs": [],
   "source": [
    "def add_time_features(out_df, input_df, dataType = 'train'):\n",
    "\n",
    "    USE_LAG = [-2, -1, 1, 2, 3, 4]\n",
    "    lag_map = {-2: 1, -1: 2, 1: 3, 2: 4, 3: 5, 4: 6}\n",
    "\n",
    "    out_df['breath_id'] = input_df['breath_id']\n",
    "    \n",
    "    for lag in USE_LAG:\n",
    "        out_df[f'breath_id_lag{lag_map[lag]}']=out_df['breath_id'].shift(lag).fillna(0)\n",
    "        out_df[f'breath_id_lag{lag_map[lag]}same']=np.select([out_df[f'breath_id_lag{lag_map[lag]}']==out_df['breath_id']], [1], 0)\n",
    "\n",
    "        # u_in_filter\n",
    "        out_df[f'u_in_filter_lag_{lag_map[lag]}'] = out_df['u_in_filter'].shift(lag).fillna(0) * out_df[f'breath_id_lag{lag_map[lag]}same']\n",
    "        out_df[f'u_in_filter_diff_{lag_map[lag]}'] = out_df['u_in_filter'] - out_df[f'u_in_filter_lag_{lag_map[lag]}']\n",
    "        # u_in_sqrt\n",
    "        out_df[f'u_in_sqrt_lag_{lag_map[lag]}'] = out_df['u_in_sqrt'].shift(lag).fillna(0) * out_df[f'breath_id_lag{lag_map[lag]}same']\n",
    "        out_df[f'u_in_sqrt_diff_{lag_map[lag]}'] = out_df['u_in_sqrt'] - out_df[f'u_in_sqrt_lag_{lag_map[lag]}']\n",
    "\n",
    "        # u_in \n",
    "        out_df[f'u_in_lag_{lag_map[lag]}'] = out_df['u_in'].shift(lag).fillna(0) * out_df[f'breath_id_lag{lag_map[lag]}same']\n",
    "        out_df[f'u_in_diff_{lag_map[lag]}'] = out_df['u_in'] - out_df[f'u_in_lag_{lag_map[lag]}']\n",
    "        # u_out\n",
    "        out_df[f'u_out_lag_{lag_map[lag]}'] = out_df['u_out'].shift(lag).fillna(0) * out_df[f'breath_id_lag{lag_map[lag]}same']\n",
    "\n",
    "        # breath_time\n",
    "        out_df[f'time_step_lag_{lag_map[lag]}'] = out_df['time_step'].shift(lag).fillna(0) * out_df[f'breath_id_lag{lag_map[lag]}same']\n",
    "        out_df[f'time_step_diff_{lag_map[lag]}'] = out_df['time_step'] - out_df[f'time_step_lag_{lag_map[lag]}']\n",
    "        \n",
    "        # gap\n",
    "        out_df[f'u_in_rate_{lag_map[lag]}'] = out_df[f'u_in_diff_{lag_map[lag]}'] / out_df[f'time_step_diff_{lag_map[lag]}']\n",
    "        out_df[f'u_in_rate_{lag_map[lag]}'] = out_df[f'u_in_rate_{lag_map[lag]}'].replace(np.inf, 0)\n",
    "        \n",
    "    drop_columns = ['breath_id']\n",
    "    drop_columns += [f'breath_id_lag{lag_map[i]}' for i in USE_LAG]\n",
    "    drop_columns += [f'breath_id_lag{lag_map[i]}same' for i in USE_LAG]\n",
    "    out_df = out_df.drop(drop_columns, axis=1)\n",
    "    out_df = out_df.fillna(0)\n",
    "    \n",
    "    return out_df"
   ]
  },
  {
   "cell_type": "code",
   "execution_count": 23,
   "metadata": {},
   "outputs": [],
   "source": [
    "def to_feature(input_df, dataType = 'train'):\n",
    "    \"\"\"input_df を特徴量行列に変換した新しいデータフレームを返す.\n",
    "    \"\"\"\n",
    "\n",
    "    processors = [\n",
    "        get_raw_features,\n",
    "        get_simple_calc_features,\n",
    "        get_agg_features,\n",
    "        get_vib_features,\n",
    "#         get_half_features,\n",
    "        get_category_features,\n",
    "        get_filter_features,\n",
    "    ]\n",
    "\n",
    "    out_df = pd.DataFrame()\n",
    "\n",
    "    for func in tqdm(processors, total=len(processors)):\n",
    "        with Timer(prefix='' + func.__name__ + ' '):\n",
    "            _df = func(input_df, dataType)\n",
    "\n",
    "        # 長さが等しいことをチェック (ずれている場合, func の実装がおかしい)\n",
    "        assert len(_df) == len(input_df), func.__name__\n",
    "        out_df = pd.concat([out_df, _df], axis=1)\n",
    "#     out_df = utils.reduce_mem_usage(out_df)\n",
    "    out_df = add_time_features(out_df, input_df)\n",
    "    out_df_cols = sorted(list(out_df))\n",
    "    out_df = out_df[out_df_cols]\n",
    "    \n",
    "    return out_df"
   ]
  },
  {
   "cell_type": "code",
   "execution_count": 24,
   "metadata": {},
   "outputs": [
    {
     "data": {
      "application/vnd.jupyter.widget-view+json": {
       "model_id": "8775f0e7052349f3bbf27f8e3486f9db",
       "version_major": 2,
       "version_minor": 0
      },
      "text/plain": [
       "  0%|          | 0/6 [00:00<?, ?it/s]"
      ]
     },
     "metadata": {},
     "output_type": "display_data"
    },
    {
     "name": "stdout",
     "output_type": "stream",
     "text": [
      "get_raw_features  0.021[s]\n",
      "get_simple_calc_features  16.230[s]\n",
      "get_agg_features  1.042[s]\n",
      "get_vib_features  0.491[s]\n",
      "get_category_features  2.286[s]\n",
      "get_filter_features  11.237[s]\n"
     ]
    },
    {
     "data": {
      "application/vnd.jupyter.widget-view+json": {
       "model_id": "dc06db7afd42408fb273c85450996a85",
       "version_major": 2,
       "version_minor": 0
      },
      "text/plain": [
       "  0%|          | 0/6 [00:00<?, ?it/s]"
      ]
     },
     "metadata": {},
     "output_type": "display_data"
    },
    {
     "name": "stdout",
     "output_type": "stream",
     "text": [
      "get_raw_features  0.015[s]\n",
      "get_simple_calc_features  10.687[s]\n",
      "get_agg_features  0.624[s]\n",
      "get_vib_features  0.313[s]\n",
      "get_category_features  1.467[s]\n",
      "get_filter_features  7.338[s]\n"
     ]
    }
   ],
   "source": [
    "train_df = to_feature(train, dataType = 'train')\n",
    "test_df = to_feature(test, dataType = 'test')"
   ]
  },
  {
   "cell_type": "code",
   "execution_count": 25,
   "metadata": {},
   "outputs": [],
   "source": [
    "train_category_col = ['R_C']\n",
    "train_value_col = [i for i in train_df.columns.to_list() if i not in train_category_col]"
   ]
  },
  {
   "cell_type": "code",
   "execution_count": 26,
   "metadata": {},
   "outputs": [],
   "source": [
    "norm_features = train_value_col\n",
    "norm_features = sorted(list(set(train_value_col) - set(['u_out'])), key=norm_features.index)\n",
    "def norm_scale(train_df, test_df):\n",
    "    scaler = RobustScaler()\n",
    "    all_u_in = np.vstack([train_df[norm_features].values, test_df[norm_features].values])\n",
    "    scaler.fit(all_u_in)\n",
    "    train_df[norm_features] = scaler.transform(train_df[norm_features].values)\n",
    "    test_df[norm_features] = scaler.transform(test_df[norm_features].values)\n",
    "    return train_df, test_df"
   ]
  },
  {
   "cell_type": "code",
   "execution_count": 27,
   "metadata": {},
   "outputs": [],
   "source": [
    "train_df, test_df = norm_scale(train_df, test_df)"
   ]
  },
  {
   "cell_type": "code",
   "execution_count": 28,
   "metadata": {},
   "outputs": [
    {
     "name": "stdout",
     "output_type": "stream",
     "text": [
      "Mem. usage decreased from 3684.08 Mb to 909.51 Mb (75.3% reduction)\n",
      "Mem. usage decreased from 2456.05 Mb to 606.34 Mb (75.3% reduction)\n"
     ]
    }
   ],
   "source": [
    "train_df = utils.reduce_mem_usage(train_df)\n",
    "test_df = utils.reduce_mem_usage(test_df)"
   ]
  },
  {
   "cell_type": "code",
   "execution_count": 29,
   "metadata": {},
   "outputs": [],
   "source": [
    "train_df = pd.concat([train_df, train[['id', 'breath_id', 'pressure']]], axis=1)\n",
    "test_df = pd.concat([test_df, test[['id', 'breath_id']]], axis=1)\n",
    "test_df['pressure'] = train_df['pressure'].values[-1]"
   ]
  },
  {
   "cell_type": "code",
   "execution_count": 30,
   "metadata": {},
   "outputs": [],
   "source": [
    "unique_targets = sorted(train_df['pressure'].unique().tolist())\n",
    "target_dic = {v:i for i, v in enumerate(sorted(train_df['pressure'].unique().tolist()))}\n",
    "target_dic_inv = {v: k for k, v in target_dic.items()}"
   ]
  },
  {
   "cell_type": "code",
   "execution_count": 31,
   "metadata": {},
   "outputs": [
    {
     "data": {
      "text/html": [
       "<div>\n",
       "<style scoped>\n",
       "    .dataframe tbody tr th:only-of-type {\n",
       "        vertical-align: middle;\n",
       "    }\n",
       "\n",
       "    .dataframe tbody tr th {\n",
       "        vertical-align: top;\n",
       "    }\n",
       "\n",
       "    .dataframe thead th {\n",
       "        text-align: right;\n",
       "    }\n",
       "</style>\n",
       "<table border=\"1\" class=\"dataframe\">\n",
       "  <thead>\n",
       "    <tr style=\"text-align: right;\">\n",
       "      <th></th>\n",
       "      <th>R_C</th>\n",
       "      <th>area</th>\n",
       "      <th>cross</th>\n",
       "      <th>cross2</th>\n",
       "      <th>delta</th>\n",
       "      <th>sign_diff</th>\n",
       "      <th>time_delta</th>\n",
       "      <th>time_step</th>\n",
       "      <th>time_step_diff_1</th>\n",
       "      <th>time_step_diff_2</th>\n",
       "      <th>...</th>\n",
       "      <th>u_out</th>\n",
       "      <th>u_out_lag_1</th>\n",
       "      <th>u_out_lag_2</th>\n",
       "      <th>u_out_lag_3</th>\n",
       "      <th>u_out_lag_4</th>\n",
       "      <th>u_out_lag_5</th>\n",
       "      <th>u_out_lag_6</th>\n",
       "      <th>id</th>\n",
       "      <th>breath_id</th>\n",
       "      <th>pressure</th>\n",
       "    </tr>\n",
       "  </thead>\n",
       "  <tbody>\n",
       "    <tr>\n",
       "      <th>0</th>\n",
       "      <td>5</td>\n",
       "      <td>-0.734375</td>\n",
       "      <td>0.000000</td>\n",
       "      <td>-0.665527</td>\n",
       "      <td>-0.861328</td>\n",
       "      <td>0.0</td>\n",
       "      <td>-15.476562</td>\n",
       "      <td>-0.989258</td>\n",
       "      <td>-0.163574</td>\n",
       "      <td>-0.104309</td>\n",
       "      <td>...</td>\n",
       "      <td>0</td>\n",
       "      <td>-1.0</td>\n",
       "      <td>-1.0</td>\n",
       "      <td>-1.0</td>\n",
       "      <td>-1.0</td>\n",
       "      <td>-1.0</td>\n",
       "      <td>-1.0</td>\n",
       "      <td>1</td>\n",
       "      <td>1</td>\n",
       "      <td>5.837492</td>\n",
       "    </tr>\n",
       "    <tr>\n",
       "      <th>1</th>\n",
       "      <td>5</td>\n",
       "      <td>-0.682617</td>\n",
       "      <td>0.000000</td>\n",
       "      <td>-0.665527</td>\n",
       "      <td>2.867188</td>\n",
       "      <td>0.0</td>\n",
       "      <td>0.104309</td>\n",
       "      <td>-0.963867</td>\n",
       "      <td>-0.250977</td>\n",
       "      <td>-0.201538</td>\n",
       "      <td>...</td>\n",
       "      <td>0</td>\n",
       "      <td>-1.0</td>\n",
       "      <td>-1.0</td>\n",
       "      <td>-1.0</td>\n",
       "      <td>-1.0</td>\n",
       "      <td>-1.0</td>\n",
       "      <td>-1.0</td>\n",
       "      <td>2</td>\n",
       "      <td>1</td>\n",
       "      <td>5.907794</td>\n",
       "    </tr>\n",
       "    <tr>\n",
       "      <th>2</th>\n",
       "      <td>5</td>\n",
       "      <td>-0.619141</td>\n",
       "      <td>0.000000</td>\n",
       "      <td>-0.665527</td>\n",
       "      <td>3.732422</td>\n",
       "      <td>0.0</td>\n",
       "      <td>0.201538</td>\n",
       "      <td>-0.937988</td>\n",
       "      <td>-0.332520</td>\n",
       "      <td>-0.278320</td>\n",
       "      <td>...</td>\n",
       "      <td>0</td>\n",
       "      <td>-1.0</td>\n",
       "      <td>-1.0</td>\n",
       "      <td>-1.0</td>\n",
       "      <td>-1.0</td>\n",
       "      <td>-1.0</td>\n",
       "      <td>-1.0</td>\n",
       "      <td>3</td>\n",
       "      <td>1</td>\n",
       "      <td>7.876254</td>\n",
       "    </tr>\n",
       "    <tr>\n",
       "      <th>3</th>\n",
       "      <td>5</td>\n",
       "      <td>-0.554688</td>\n",
       "      <td>0.000000</td>\n",
       "      <td>-0.665527</td>\n",
       "      <td>3.816406</td>\n",
       "      <td>0.0</td>\n",
       "      <td>0.278320</td>\n",
       "      <td>-0.912109</td>\n",
       "      <td>-0.312744</td>\n",
       "      <td>-0.364258</td>\n",
       "      <td>...</td>\n",
       "      <td>0</td>\n",
       "      <td>-1.0</td>\n",
       "      <td>-1.0</td>\n",
       "      <td>-1.0</td>\n",
       "      <td>-1.0</td>\n",
       "      <td>-1.0</td>\n",
       "      <td>-1.0</td>\n",
       "      <td>4</td>\n",
       "      <td>1</td>\n",
       "      <td>11.742872</td>\n",
       "    </tr>\n",
       "    <tr>\n",
       "      <th>4</th>\n",
       "      <td>5</td>\n",
       "      <td>-0.482666</td>\n",
       "      <td>0.000000</td>\n",
       "      <td>-0.665527</td>\n",
       "      <td>4.367188</td>\n",
       "      <td>0.0</td>\n",
       "      <td>0.364258</td>\n",
       "      <td>-0.886230</td>\n",
       "      <td>-0.265381</td>\n",
       "      <td>-0.238647</td>\n",
       "      <td>...</td>\n",
       "      <td>0</td>\n",
       "      <td>-1.0</td>\n",
       "      <td>-1.0</td>\n",
       "      <td>-1.0</td>\n",
       "      <td>-1.0</td>\n",
       "      <td>-1.0</td>\n",
       "      <td>-1.0</td>\n",
       "      <td>5</td>\n",
       "      <td>1</td>\n",
       "      <td>12.234987</td>\n",
       "    </tr>\n",
       "    <tr>\n",
       "      <th>...</th>\n",
       "      <td>...</td>\n",
       "      <td>...</td>\n",
       "      <td>...</td>\n",
       "      <td>...</td>\n",
       "      <td>...</td>\n",
       "      <td>...</td>\n",
       "      <td>...</td>\n",
       "      <td>...</td>\n",
       "      <td>...</td>\n",
       "      <td>...</td>\n",
       "      <td>...</td>\n",
       "      <td>...</td>\n",
       "      <td>...</td>\n",
       "      <td>...</td>\n",
       "      <td>...</td>\n",
       "      <td>...</td>\n",
       "      <td>...</td>\n",
       "      <td>...</td>\n",
       "      <td>...</td>\n",
       "      <td>...</td>\n",
       "      <td>...</td>\n",
       "    </tr>\n",
       "    <tr>\n",
       "      <th>6035995</th>\n",
       "      <td>6</td>\n",
       "      <td>0.322998</td>\n",
       "      <td>0.333008</td>\n",
       "      <td>0.608887</td>\n",
       "      <td>-0.561523</td>\n",
       "      <td>0.0</td>\n",
       "      <td>-0.007175</td>\n",
       "      <td>0.904785</td>\n",
       "      <td>0.001553</td>\n",
       "      <td>0.032135</td>\n",
       "      <td>...</td>\n",
       "      <td>1</td>\n",
       "      <td>0.0</td>\n",
       "      <td>0.0</td>\n",
       "      <td>0.0</td>\n",
       "      <td>0.0</td>\n",
       "      <td>0.0</td>\n",
       "      <td>0.0</td>\n",
       "      <td>6035996</td>\n",
       "      <td>125749</td>\n",
       "      <td>3.869032</td>\n",
       "    </tr>\n",
       "    <tr>\n",
       "      <th>6035996</th>\n",
       "      <td>6</td>\n",
       "      <td>0.327148</td>\n",
       "      <td>0.332764</td>\n",
       "      <td>0.625977</td>\n",
       "      <td>-0.562012</td>\n",
       "      <td>2.0</td>\n",
       "      <td>-0.032135</td>\n",
       "      <td>0.930176</td>\n",
       "      <td>0.006378</td>\n",
       "      <td>-0.009163</td>\n",
       "      <td>...</td>\n",
       "      <td>1</td>\n",
       "      <td>0.0</td>\n",
       "      <td>0.0</td>\n",
       "      <td>0.0</td>\n",
       "      <td>0.0</td>\n",
       "      <td>0.0</td>\n",
       "      <td>0.0</td>\n",
       "      <td>6035997</td>\n",
       "      <td>125749</td>\n",
       "      <td>3.869032</td>\n",
       "    </tr>\n",
       "    <tr>\n",
       "      <th>6035997</th>\n",
       "      <td>6</td>\n",
       "      <td>0.331543</td>\n",
       "      <td>0.348389</td>\n",
       "      <td>0.642578</td>\n",
       "      <td>-0.546875</td>\n",
       "      <td>2.0</td>\n",
       "      <td>0.009163</td>\n",
       "      <td>0.955078</td>\n",
       "      <td>0.046814</td>\n",
       "      <td>0.041748</td>\n",
       "      <td>...</td>\n",
       "      <td>1</td>\n",
       "      <td>0.0</td>\n",
       "      <td>0.0</td>\n",
       "      <td>0.0</td>\n",
       "      <td>0.0</td>\n",
       "      <td>0.0</td>\n",
       "      <td>0.0</td>\n",
       "      <td>6035998</td>\n",
       "      <td>125749</td>\n",
       "      <td>3.798729</td>\n",
       "    </tr>\n",
       "    <tr>\n",
       "      <th>6035998</th>\n",
       "      <td>6</td>\n",
       "      <td>0.334961</td>\n",
       "      <td>0.284424</td>\n",
       "      <td>0.659668</td>\n",
       "      <td>-0.605469</td>\n",
       "      <td>2.0</td>\n",
       "      <td>-0.041748</td>\n",
       "      <td>0.980469</td>\n",
       "      <td>621.500000</td>\n",
       "      <td>0.071350</td>\n",
       "      <td>...</td>\n",
       "      <td>1</td>\n",
       "      <td>-1.0</td>\n",
       "      <td>0.0</td>\n",
       "      <td>0.0</td>\n",
       "      <td>0.0</td>\n",
       "      <td>0.0</td>\n",
       "      <td>0.0</td>\n",
       "      <td>6035999</td>\n",
       "      <td>125749</td>\n",
       "      <td>4.079938</td>\n",
       "    </tr>\n",
       "    <tr>\n",
       "      <th>6035999</th>\n",
       "      <td>6</td>\n",
       "      <td>0.339111</td>\n",
       "      <td>0.331543</td>\n",
       "      <td>0.676758</td>\n",
       "      <td>-0.563965</td>\n",
       "      <td>2.0</td>\n",
       "      <td>-0.071350</td>\n",
       "      <td>1.005859</td>\n",
       "      <td>629.000000</td>\n",
       "      <td>1237.000000</td>\n",
       "      <td>...</td>\n",
       "      <td>1</td>\n",
       "      <td>-1.0</td>\n",
       "      <td>-1.0</td>\n",
       "      <td>0.0</td>\n",
       "      <td>0.0</td>\n",
       "      <td>0.0</td>\n",
       "      <td>0.0</td>\n",
       "      <td>6036000</td>\n",
       "      <td>125749</td>\n",
       "      <td>3.869032</td>\n",
       "    </tr>\n",
       "  </tbody>\n",
       "</table>\n",
       "<p>6036000 rows × 83 columns</p>\n",
       "</div>"
      ],
      "text/plain": [
       "         R_C      area     cross    cross2     delta  sign_diff  time_delta  \\\n",
       "0          5 -0.734375  0.000000 -0.665527 -0.861328        0.0  -15.476562   \n",
       "1          5 -0.682617  0.000000 -0.665527  2.867188        0.0    0.104309   \n",
       "2          5 -0.619141  0.000000 -0.665527  3.732422        0.0    0.201538   \n",
       "3          5 -0.554688  0.000000 -0.665527  3.816406        0.0    0.278320   \n",
       "4          5 -0.482666  0.000000 -0.665527  4.367188        0.0    0.364258   \n",
       "...      ...       ...       ...       ...       ...        ...         ...   \n",
       "6035995    6  0.322998  0.333008  0.608887 -0.561523        0.0   -0.007175   \n",
       "6035996    6  0.327148  0.332764  0.625977 -0.562012        2.0   -0.032135   \n",
       "6035997    6  0.331543  0.348389  0.642578 -0.546875        2.0    0.009163   \n",
       "6035998    6  0.334961  0.284424  0.659668 -0.605469        2.0   -0.041748   \n",
       "6035999    6  0.339111  0.331543  0.676758 -0.563965        2.0   -0.071350   \n",
       "\n",
       "         time_step  time_step_diff_1  time_step_diff_2  ...  u_out  \\\n",
       "0        -0.989258         -0.163574         -0.104309  ...      0   \n",
       "1        -0.963867         -0.250977         -0.201538  ...      0   \n",
       "2        -0.937988         -0.332520         -0.278320  ...      0   \n",
       "3        -0.912109         -0.312744         -0.364258  ...      0   \n",
       "4        -0.886230         -0.265381         -0.238647  ...      0   \n",
       "...            ...               ...               ...  ...    ...   \n",
       "6035995   0.904785          0.001553          0.032135  ...      1   \n",
       "6035996   0.930176          0.006378         -0.009163  ...      1   \n",
       "6035997   0.955078          0.046814          0.041748  ...      1   \n",
       "6035998   0.980469        621.500000          0.071350  ...      1   \n",
       "6035999   1.005859        629.000000       1237.000000  ...      1   \n",
       "\n",
       "         u_out_lag_1  u_out_lag_2  u_out_lag_3  u_out_lag_4  u_out_lag_5  \\\n",
       "0               -1.0         -1.0         -1.0         -1.0         -1.0   \n",
       "1               -1.0         -1.0         -1.0         -1.0         -1.0   \n",
       "2               -1.0         -1.0         -1.0         -1.0         -1.0   \n",
       "3               -1.0         -1.0         -1.0         -1.0         -1.0   \n",
       "4               -1.0         -1.0         -1.0         -1.0         -1.0   \n",
       "...              ...          ...          ...          ...          ...   \n",
       "6035995          0.0          0.0          0.0          0.0          0.0   \n",
       "6035996          0.0          0.0          0.0          0.0          0.0   \n",
       "6035997          0.0          0.0          0.0          0.0          0.0   \n",
       "6035998         -1.0          0.0          0.0          0.0          0.0   \n",
       "6035999         -1.0         -1.0          0.0          0.0          0.0   \n",
       "\n",
       "         u_out_lag_6       id  breath_id   pressure  \n",
       "0               -1.0        1          1   5.837492  \n",
       "1               -1.0        2          1   5.907794  \n",
       "2               -1.0        3          1   7.876254  \n",
       "3               -1.0        4          1  11.742872  \n",
       "4               -1.0        5          1  12.234987  \n",
       "...              ...      ...        ...        ...  \n",
       "6035995          0.0  6035996     125749   3.869032  \n",
       "6035996          0.0  6035997     125749   3.869032  \n",
       "6035997          0.0  6035998     125749   3.798729  \n",
       "6035998          0.0  6035999     125749   4.079938  \n",
       "6035999          0.0  6036000     125749   3.869032  \n",
       "\n",
       "[6036000 rows x 83 columns]"
      ]
     },
     "metadata": {},
     "output_type": "display_data"
    },
    {
     "data": {
      "text/html": [
       "<div>\n",
       "<style scoped>\n",
       "    .dataframe tbody tr th:only-of-type {\n",
       "        vertical-align: middle;\n",
       "    }\n",
       "\n",
       "    .dataframe tbody tr th {\n",
       "        vertical-align: top;\n",
       "    }\n",
       "\n",
       "    .dataframe thead th {\n",
       "        text-align: right;\n",
       "    }\n",
       "</style>\n",
       "<table border=\"1\" class=\"dataframe\">\n",
       "  <thead>\n",
       "    <tr style=\"text-align: right;\">\n",
       "      <th></th>\n",
       "      <th>R_C</th>\n",
       "      <th>area</th>\n",
       "      <th>cross</th>\n",
       "      <th>cross2</th>\n",
       "      <th>delta</th>\n",
       "      <th>sign_diff</th>\n",
       "      <th>time_delta</th>\n",
       "      <th>time_step</th>\n",
       "      <th>time_step_diff_1</th>\n",
       "      <th>time_step_diff_2</th>\n",
       "      <th>...</th>\n",
       "      <th>u_out</th>\n",
       "      <th>u_out_lag_1</th>\n",
       "      <th>u_out_lag_2</th>\n",
       "      <th>u_out_lag_3</th>\n",
       "      <th>u_out_lag_4</th>\n",
       "      <th>u_out_lag_5</th>\n",
       "      <th>u_out_lag_6</th>\n",
       "      <th>id</th>\n",
       "      <th>breath_id</th>\n",
       "      <th>pressure</th>\n",
       "    </tr>\n",
       "  </thead>\n",
       "  <tbody>\n",
       "    <tr>\n",
       "      <th>0</th>\n",
       "      <td>1</td>\n",
       "      <td>-0.734375</td>\n",
       "      <td>0.000000</td>\n",
       "      <td>-0.665527</td>\n",
       "      <td>-0.861328</td>\n",
       "      <td>0.0</td>\n",
       "      <td>-15.476562</td>\n",
       "      <td>-0.989258</td>\n",
       "      <td>0.693848</td>\n",
       "      <td>0.705566</td>\n",
       "      <td>...</td>\n",
       "      <td>0</td>\n",
       "      <td>-1.0</td>\n",
       "      <td>-1.0</td>\n",
       "      <td>-1.0</td>\n",
       "      <td>-1.0</td>\n",
       "      <td>-1.0</td>\n",
       "      <td>-1.0</td>\n",
       "      <td>1</td>\n",
       "      <td>0</td>\n",
       "      <td>3.869032</td>\n",
       "    </tr>\n",
       "    <tr>\n",
       "      <th>1</th>\n",
       "      <td>1</td>\n",
       "      <td>-0.714355</td>\n",
       "      <td>0.000000</td>\n",
       "      <td>-0.665527</td>\n",
       "      <td>0.583984</td>\n",
       "      <td>0.0</td>\n",
       "      <td>-0.705566</td>\n",
       "      <td>-0.964844</td>\n",
       "      <td>0.689453</td>\n",
       "      <td>0.696289</td>\n",
       "      <td>...</td>\n",
       "      <td>0</td>\n",
       "      <td>-1.0</td>\n",
       "      <td>-1.0</td>\n",
       "      <td>-1.0</td>\n",
       "      <td>-1.0</td>\n",
       "      <td>-1.0</td>\n",
       "      <td>-1.0</td>\n",
       "      <td>2</td>\n",
       "      <td>0</td>\n",
       "      <td>3.869032</td>\n",
       "    </tr>\n",
       "    <tr>\n",
       "      <th>2</th>\n",
       "      <td>1</td>\n",
       "      <td>-0.675293</td>\n",
       "      <td>0.000000</td>\n",
       "      <td>-0.665527</td>\n",
       "      <td>1.958008</td>\n",
       "      <td>0.0</td>\n",
       "      <td>-0.696289</td>\n",
       "      <td>-0.940918</td>\n",
       "      <td>0.696777</td>\n",
       "      <td>0.696289</td>\n",
       "      <td>...</td>\n",
       "      <td>0</td>\n",
       "      <td>-1.0</td>\n",
       "      <td>-1.0</td>\n",
       "      <td>-1.0</td>\n",
       "      <td>-1.0</td>\n",
       "      <td>-1.0</td>\n",
       "      <td>-1.0</td>\n",
       "      <td>3</td>\n",
       "      <td>0</td>\n",
       "      <td>3.869032</td>\n",
       "    </tr>\n",
       "    <tr>\n",
       "      <th>3</th>\n",
       "      <td>1</td>\n",
       "      <td>-0.619141</td>\n",
       "      <td>0.000000</td>\n",
       "      <td>-0.665527</td>\n",
       "      <td>3.224609</td>\n",
       "      <td>0.0</td>\n",
       "      <td>-0.696289</td>\n",
       "      <td>-0.916504</td>\n",
       "      <td>0.698730</td>\n",
       "      <td>0.710449</td>\n",
       "      <td>...</td>\n",
       "      <td>0</td>\n",
       "      <td>-1.0</td>\n",
       "      <td>-1.0</td>\n",
       "      <td>-1.0</td>\n",
       "      <td>-1.0</td>\n",
       "      <td>-1.0</td>\n",
       "      <td>-1.0</td>\n",
       "      <td>4</td>\n",
       "      <td>0</td>\n",
       "      <td>3.869032</td>\n",
       "    </tr>\n",
       "    <tr>\n",
       "      <th>4</th>\n",
       "      <td>1</td>\n",
       "      <td>-0.549316</td>\n",
       "      <td>0.000000</td>\n",
       "      <td>-0.665527</td>\n",
       "      <td>4.199219</td>\n",
       "      <td>0.0</td>\n",
       "      <td>-0.710449</td>\n",
       "      <td>-0.892578</td>\n",
       "      <td>0.693848</td>\n",
       "      <td>0.700684</td>\n",
       "      <td>...</td>\n",
       "      <td>0</td>\n",
       "      <td>-1.0</td>\n",
       "      <td>-1.0</td>\n",
       "      <td>-1.0</td>\n",
       "      <td>-1.0</td>\n",
       "      <td>-1.0</td>\n",
       "      <td>-1.0</td>\n",
       "      <td>5</td>\n",
       "      <td>0</td>\n",
       "      <td>3.869032</td>\n",
       "    </tr>\n",
       "    <tr>\n",
       "      <th>...</th>\n",
       "      <td>...</td>\n",
       "      <td>...</td>\n",
       "      <td>...</td>\n",
       "      <td>...</td>\n",
       "      <td>...</td>\n",
       "      <td>...</td>\n",
       "      <td>...</td>\n",
       "      <td>...</td>\n",
       "      <td>...</td>\n",
       "      <td>...</td>\n",
       "      <td>...</td>\n",
       "      <td>...</td>\n",
       "      <td>...</td>\n",
       "      <td>...</td>\n",
       "      <td>...</td>\n",
       "      <td>...</td>\n",
       "      <td>...</td>\n",
       "      <td>...</td>\n",
       "      <td>...</td>\n",
       "      <td>...</td>\n",
       "      <td>...</td>\n",
       "    </tr>\n",
       "    <tr>\n",
       "      <th>4023995</th>\n",
       "      <td>3</td>\n",
       "      <td>-0.216797</td>\n",
       "      <td>1.111328</td>\n",
       "      <td>0.621582</td>\n",
       "      <td>0.150024</td>\n",
       "      <td>0.0</td>\n",
       "      <td>0.151123</td>\n",
       "      <td>0.923828</td>\n",
       "      <td>-0.127319</td>\n",
       "      <td>-0.143188</td>\n",
       "      <td>...</td>\n",
       "      <td>1</td>\n",
       "      <td>0.0</td>\n",
       "      <td>0.0</td>\n",
       "      <td>0.0</td>\n",
       "      <td>0.0</td>\n",
       "      <td>0.0</td>\n",
       "      <td>0.0</td>\n",
       "      <td>4023996</td>\n",
       "      <td>125748</td>\n",
       "      <td>3.869032</td>\n",
       "    </tr>\n",
       "    <tr>\n",
       "      <th>4023996</th>\n",
       "      <td>3</td>\n",
       "      <td>-0.202881</td>\n",
       "      <td>1.112305</td>\n",
       "      <td>0.639160</td>\n",
       "      <td>0.150513</td>\n",
       "      <td>0.0</td>\n",
       "      <td>0.143188</td>\n",
       "      <td>0.949707</td>\n",
       "      <td>-0.109253</td>\n",
       "      <td>-0.090332</td>\n",
       "      <td>...</td>\n",
       "      <td>1</td>\n",
       "      <td>0.0</td>\n",
       "      <td>0.0</td>\n",
       "      <td>0.0</td>\n",
       "      <td>0.0</td>\n",
       "      <td>0.0</td>\n",
       "      <td>0.0</td>\n",
       "      <td>4023997</td>\n",
       "      <td>125748</td>\n",
       "      <td>3.869032</td>\n",
       "    </tr>\n",
       "    <tr>\n",
       "      <th>4023997</th>\n",
       "      <td>3</td>\n",
       "      <td>-0.188843</td>\n",
       "      <td>1.113281</td>\n",
       "      <td>0.656250</td>\n",
       "      <td>0.147827</td>\n",
       "      <td>0.0</td>\n",
       "      <td>0.090332</td>\n",
       "      <td>0.975098</td>\n",
       "      <td>-0.236084</td>\n",
       "      <td>-0.107300</td>\n",
       "      <td>...</td>\n",
       "      <td>1</td>\n",
       "      <td>0.0</td>\n",
       "      <td>0.0</td>\n",
       "      <td>0.0</td>\n",
       "      <td>0.0</td>\n",
       "      <td>0.0</td>\n",
       "      <td>0.0</td>\n",
       "      <td>4023998</td>\n",
       "      <td>125748</td>\n",
       "      <td>3.869032</td>\n",
       "    </tr>\n",
       "    <tr>\n",
       "      <th>4023998</th>\n",
       "      <td>3</td>\n",
       "      <td>-0.174927</td>\n",
       "      <td>1.114258</td>\n",
       "      <td>0.673340</td>\n",
       "      <td>0.149536</td>\n",
       "      <td>0.0</td>\n",
       "      <td>0.107300</td>\n",
       "      <td>1.000000</td>\n",
       "      <td>627.500000</td>\n",
       "      <td>-0.342773</td>\n",
       "      <td>...</td>\n",
       "      <td>1</td>\n",
       "      <td>-1.0</td>\n",
       "      <td>0.0</td>\n",
       "      <td>0.0</td>\n",
       "      <td>0.0</td>\n",
       "      <td>0.0</td>\n",
       "      <td>0.0</td>\n",
       "      <td>4023999</td>\n",
       "      <td>125748</td>\n",
       "      <td>3.869032</td>\n",
       "    </tr>\n",
       "    <tr>\n",
       "      <th>4023999</th>\n",
       "      <td>3</td>\n",
       "      <td>-0.160767</td>\n",
       "      <td>1.114258</td>\n",
       "      <td>0.690430</td>\n",
       "      <td>0.165405</td>\n",
       "      <td>0.0</td>\n",
       "      <td>0.342773</td>\n",
       "      <td>1.026367</td>\n",
       "      <td>635.500000</td>\n",
       "      <td>1250.000000</td>\n",
       "      <td>...</td>\n",
       "      <td>1</td>\n",
       "      <td>-1.0</td>\n",
       "      <td>-1.0</td>\n",
       "      <td>0.0</td>\n",
       "      <td>0.0</td>\n",
       "      <td>0.0</td>\n",
       "      <td>0.0</td>\n",
       "      <td>4024000</td>\n",
       "      <td>125748</td>\n",
       "      <td>3.869032</td>\n",
       "    </tr>\n",
       "  </tbody>\n",
       "</table>\n",
       "<p>4024000 rows × 83 columns</p>\n",
       "</div>"
      ],
      "text/plain": [
       "         R_C      area     cross    cross2     delta  sign_diff  time_delta  \\\n",
       "0          1 -0.734375  0.000000 -0.665527 -0.861328        0.0  -15.476562   \n",
       "1          1 -0.714355  0.000000 -0.665527  0.583984        0.0   -0.705566   \n",
       "2          1 -0.675293  0.000000 -0.665527  1.958008        0.0   -0.696289   \n",
       "3          1 -0.619141  0.000000 -0.665527  3.224609        0.0   -0.696289   \n",
       "4          1 -0.549316  0.000000 -0.665527  4.199219        0.0   -0.710449   \n",
       "...      ...       ...       ...       ...       ...        ...         ...   \n",
       "4023995    3 -0.216797  1.111328  0.621582  0.150024        0.0    0.151123   \n",
       "4023996    3 -0.202881  1.112305  0.639160  0.150513        0.0    0.143188   \n",
       "4023997    3 -0.188843  1.113281  0.656250  0.147827        0.0    0.090332   \n",
       "4023998    3 -0.174927  1.114258  0.673340  0.149536        0.0    0.107300   \n",
       "4023999    3 -0.160767  1.114258  0.690430  0.165405        0.0    0.342773   \n",
       "\n",
       "         time_step  time_step_diff_1  time_step_diff_2  ...  u_out  \\\n",
       "0        -0.989258          0.693848          0.705566  ...      0   \n",
       "1        -0.964844          0.689453          0.696289  ...      0   \n",
       "2        -0.940918          0.696777          0.696289  ...      0   \n",
       "3        -0.916504          0.698730          0.710449  ...      0   \n",
       "4        -0.892578          0.693848          0.700684  ...      0   \n",
       "...            ...               ...               ...  ...    ...   \n",
       "4023995   0.923828         -0.127319         -0.143188  ...      1   \n",
       "4023996   0.949707         -0.109253         -0.090332  ...      1   \n",
       "4023997   0.975098         -0.236084         -0.107300  ...      1   \n",
       "4023998   1.000000        627.500000         -0.342773  ...      1   \n",
       "4023999   1.026367        635.500000       1250.000000  ...      1   \n",
       "\n",
       "         u_out_lag_1  u_out_lag_2  u_out_lag_3  u_out_lag_4  u_out_lag_5  \\\n",
       "0               -1.0         -1.0         -1.0         -1.0         -1.0   \n",
       "1               -1.0         -1.0         -1.0         -1.0         -1.0   \n",
       "2               -1.0         -1.0         -1.0         -1.0         -1.0   \n",
       "3               -1.0         -1.0         -1.0         -1.0         -1.0   \n",
       "4               -1.0         -1.0         -1.0         -1.0         -1.0   \n",
       "...              ...          ...          ...          ...          ...   \n",
       "4023995          0.0          0.0          0.0          0.0          0.0   \n",
       "4023996          0.0          0.0          0.0          0.0          0.0   \n",
       "4023997          0.0          0.0          0.0          0.0          0.0   \n",
       "4023998         -1.0          0.0          0.0          0.0          0.0   \n",
       "4023999         -1.0         -1.0          0.0          0.0          0.0   \n",
       "\n",
       "         u_out_lag_6       id  breath_id  pressure  \n",
       "0               -1.0        1          0  3.869032  \n",
       "1               -1.0        2          0  3.869032  \n",
       "2               -1.0        3          0  3.869032  \n",
       "3               -1.0        4          0  3.869032  \n",
       "4               -1.0        5          0  3.869032  \n",
       "...              ...      ...        ...       ...  \n",
       "4023995          0.0  4023996     125748  3.869032  \n",
       "4023996          0.0  4023997     125748  3.869032  \n",
       "4023997          0.0  4023998     125748  3.869032  \n",
       "4023998          0.0  4023999     125748  3.869032  \n",
       "4023999          0.0  4024000     125748  3.869032  \n",
       "\n",
       "[4024000 rows x 83 columns]"
      ]
     },
     "metadata": {},
     "output_type": "display_data"
    },
    {
     "data": {
      "text/plain": [
       "(None, None)"
      ]
     },
     "execution_count": 31,
     "metadata": {},
     "output_type": "execute_result"
    }
   ],
   "source": [
    "display(train_df), display(test_df)"
   ]
  },
  {
   "cell_type": "code",
   "execution_count": 32,
   "metadata": {},
   "outputs": [
    {
     "name": "stdout",
     "output_type": "stream",
     "text": [
      "Fold-0\n"
     ]
    },
    {
     "name": "stderr",
     "output_type": "stream",
     "text": [
      "/home/user/.local/lib/python3.8/site-packages/torch/nn/modules/rnn.py:62: UserWarning: dropout option adds dropout after all but last recurrent layer, so non-zero dropout expects num_layers greater than 1, but got dropout=0.1 and num_layers=1\n",
      "  warnings.warn(\"dropout option adds dropout after all but last \"\n"
     ]
    },
    {
     "name": "stdout",
     "output_type": "stream",
     "text": [
      "init LSTM(64, 400, batch_first=True, dropout=0.1, bidirectional=True)\n",
      "init LSTM(800, 300, batch_first=True, dropout=0.1, bidirectional=True)\n",
      "init LSTM(600, 200, batch_first=True, dropout=0.1, bidirectional=True)\n",
      "init LSTM(400, 256, batch_first=True, dropout=0.1, bidirectional=True)\n"
     ]
    },
    {
     "name": "stderr",
     "output_type": "stream",
     "text": [
      "\u001b[34m\u001b[1mwandb\u001b[0m: Currently logged in as: \u001b[33msqrt4kaido\u001b[0m (use `wandb login --relogin` to force relogin)\n",
      "\u001b[34m\u001b[1mwandb\u001b[0m: wandb version 0.12.5 is available!  To upgrade, please run:\n",
      "\u001b[34m\u001b[1mwandb\u001b[0m:  $ pip install wandb --upgrade\n"
     ]
    },
    {
     "data": {
      "text/html": [
       "\n",
       "                    Syncing run <strong><a href=\"https://wandb.ai/sqrt4kaido/Ventilator-Pressure-Prediction/runs/1ocge7lt\" target=\"_blank\">swept-bush-465</a></strong> to <a href=\"https://wandb.ai/sqrt4kaido/Ventilator-Pressure-Prediction\" target=\"_blank\">Weights & Biases</a> (<a href=\"https://docs.wandb.com/integrations/jupyter.html\" target=\"_blank\">docs</a>).<br/>\n",
       "\n",
       "                "
      ],
      "text/plain": [
       "<IPython.core.display.HTML object>"
      ]
     },
     "metadata": {},
     "output_type": "display_data"
    },
    {
     "name": "stderr",
     "output_type": "stream",
     "text": [
      "GPU available: True, used: True\n",
      "TPU available: False, using: 0 TPU cores\n",
      "LOCAL_RANK: 0 - CUDA_VISIBLE_DEVICES: [0]\n",
      "\n",
      "  | Name      | Type            | Params\n",
      "----------------------------------------------\n",
      "0 | model     | VentilatorModel | 7.5 M \n",
      "1 | criterion | CustomLoss      | 0     \n",
      "----------------------------------------------\n",
      "7.5 M     Trainable params\n",
      "0         Non-trainable params\n",
      "7.5 M     Total params\n",
      "30.098    Total estimated model params size (MB)\n"
     ]
    },
    {
     "data": {
      "application/vnd.jupyter.widget-view+json": {
       "model_id": "",
       "version_major": 2,
       "version_minor": 0
      },
      "text/plain": [
       "Validation sanity check: 0it [00:00, ?it/s]"
      ]
     },
     "metadata": {},
     "output_type": "display_data"
    },
    {
     "name": "stdout",
     "output_type": "stream",
     "text": [
      "epoch = 0, custom_mae = 13.988754365335422\n"
     ]
    },
    {
     "data": {
      "application/vnd.jupyter.widget-view+json": {
       "model_id": "3639c838d2e741c6aa4df52e35ec3a48",
       "version_major": 2,
       "version_minor": 0
      },
      "text/plain": [
       "Training: 0it [00:00, ?it/s]"
      ]
     },
     "metadata": {},
     "output_type": "display_data"
    },
    {
     "data": {
      "application/vnd.jupyter.widget-view+json": {
       "model_id": "",
       "version_major": 2,
       "version_minor": 0
      },
      "text/plain": [
       "Validating: 0it [00:00, ?it/s]"
      ]
     },
     "metadata": {},
     "output_type": "display_data"
    },
    {
     "name": "stdout",
     "output_type": "stream",
     "text": [
      "epoch = 0, custom_mae = 2.8446064036137995\n"
     ]
    },
    {
     "data": {
      "application/vnd.jupyter.widget-view+json": {
       "model_id": "",
       "version_major": 2,
       "version_minor": 0
      },
      "text/plain": [
       "Validating: 0it [00:00, ?it/s]"
      ]
     },
     "metadata": {},
     "output_type": "display_data"
    },
    {
     "name": "stdout",
     "output_type": "stream",
     "text": [
      "epoch = 1, custom_mae = 1.428929167401684\n"
     ]
    },
    {
     "data": {
      "application/vnd.jupyter.widget-view+json": {
       "model_id": "",
       "version_major": 2,
       "version_minor": 0
      },
      "text/plain": [
       "Validating: 0it [00:00, ?it/s]"
      ]
     },
     "metadata": {},
     "output_type": "display_data"
    },
    {
     "name": "stdout",
     "output_type": "stream",
     "text": [
      "epoch = 2, custom_mae = 1.0050108619591316\n"
     ]
    },
    {
     "data": {
      "application/vnd.jupyter.widget-view+json": {
       "model_id": "",
       "version_major": 2,
       "version_minor": 0
      },
      "text/plain": [
       "Validating: 0it [00:00, ?it/s]"
      ]
     },
     "metadata": {},
     "output_type": "display_data"
    },
    {
     "name": "stdout",
     "output_type": "stream",
     "text": [
      "epoch = 3, custom_mae = 0.7198922100273265\n"
     ]
    },
    {
     "data": {
      "application/vnd.jupyter.widget-view+json": {
       "model_id": "",
       "version_major": 2,
       "version_minor": 0
      },
      "text/plain": [
       "Validating: 0it [00:00, ?it/s]"
      ]
     },
     "metadata": {},
     "output_type": "display_data"
    },
    {
     "name": "stdout",
     "output_type": "stream",
     "text": [
      "epoch = 4, custom_mae = 0.6443731007052091\n"
     ]
    },
    {
     "data": {
      "application/vnd.jupyter.widget-view+json": {
       "model_id": "",
       "version_major": 2,
       "version_minor": 0
      },
      "text/plain": [
       "Validating: 0it [00:00, ?it/s]"
      ]
     },
     "metadata": {},
     "output_type": "display_data"
    },
    {
     "name": "stdout",
     "output_type": "stream",
     "text": [
      "epoch = 5, custom_mae = 0.5904171145998559\n"
     ]
    },
    {
     "data": {
      "application/vnd.jupyter.widget-view+json": {
       "model_id": "",
       "version_major": 2,
       "version_minor": 0
      },
      "text/plain": [
       "Validating: 0it [00:00, ?it/s]"
      ]
     },
     "metadata": {},
     "output_type": "display_data"
    },
    {
     "name": "stdout",
     "output_type": "stream",
     "text": [
      "epoch = 6, custom_mae = 0.5036548055543505\n"
     ]
    },
    {
     "data": {
      "application/vnd.jupyter.widget-view+json": {
       "model_id": "",
       "version_major": 2,
       "version_minor": 0
      },
      "text/plain": [
       "Validating: 0it [00:00, ?it/s]"
      ]
     },
     "metadata": {},
     "output_type": "display_data"
    },
    {
     "name": "stdout",
     "output_type": "stream",
     "text": [
      "epoch = 7, custom_mae = 0.59587912098666\n"
     ]
    },
    {
     "data": {
      "application/vnd.jupyter.widget-view+json": {
       "model_id": "",
       "version_major": 2,
       "version_minor": 0
      },
      "text/plain": [
       "Validating: 0it [00:00, ?it/s]"
      ]
     },
     "metadata": {},
     "output_type": "display_data"
    },
    {
     "name": "stdout",
     "output_type": "stream",
     "text": [
      "epoch = 8, custom_mae = 0.9772238591298336\n"
     ]
    },
    {
     "data": {
      "application/vnd.jupyter.widget-view+json": {
       "model_id": "",
       "version_major": 2,
       "version_minor": 0
      },
      "text/plain": [
       "Validating: 0it [00:00, ?it/s]"
      ]
     },
     "metadata": {},
     "output_type": "display_data"
    },
    {
     "name": "stdout",
     "output_type": "stream",
     "text": [
      "epoch = 9, custom_mae = 0.523086208668565\n"
     ]
    },
    {
     "data": {
      "application/vnd.jupyter.widget-view+json": {
       "model_id": "",
       "version_major": 2,
       "version_minor": 0
      },
      "text/plain": [
       "Validating: 0it [00:00, ?it/s]"
      ]
     },
     "metadata": {},
     "output_type": "display_data"
    },
    {
     "name": "stdout",
     "output_type": "stream",
     "text": [
      "epoch = 10, custom_mae = 0.4721720756538351\n"
     ]
    },
    {
     "data": {
      "application/vnd.jupyter.widget-view+json": {
       "model_id": "",
       "version_major": 2,
       "version_minor": 0
      },
      "text/plain": [
       "Validating: 0it [00:00, ?it/s]"
      ]
     },
     "metadata": {},
     "output_type": "display_data"
    },
    {
     "name": "stdout",
     "output_type": "stream",
     "text": [
      "epoch = 11, custom_mae = 0.4006055895204802\n"
     ]
    },
    {
     "data": {
      "application/vnd.jupyter.widget-view+json": {
       "model_id": "",
       "version_major": 2,
       "version_minor": 0
      },
      "text/plain": [
       "Validating: 0it [00:00, ?it/s]"
      ]
     },
     "metadata": {},
     "output_type": "display_data"
    },
    {
     "name": "stdout",
     "output_type": "stream",
     "text": [
      "epoch = 12, custom_mae = 0.40380349285677536\n"
     ]
    },
    {
     "data": {
      "application/vnd.jupyter.widget-view+json": {
       "model_id": "",
       "version_major": 2,
       "version_minor": 0
      },
      "text/plain": [
       "Validating: 0it [00:00, ?it/s]"
      ]
     },
     "metadata": {},
     "output_type": "display_data"
    },
    {
     "name": "stdout",
     "output_type": "stream",
     "text": [
      "epoch = 13, custom_mae = 0.46007649697710457\n"
     ]
    },
    {
     "data": {
      "application/vnd.jupyter.widget-view+json": {
       "model_id": "",
       "version_major": 2,
       "version_minor": 0
      },
      "text/plain": [
       "Validating: 0it [00:00, ?it/s]"
      ]
     },
     "metadata": {},
     "output_type": "display_data"
    },
    {
     "name": "stdout",
     "output_type": "stream",
     "text": [
      "epoch = 14, custom_mae = 0.34335196673871515\n"
     ]
    },
    {
     "data": {
      "application/vnd.jupyter.widget-view+json": {
       "model_id": "",
       "version_major": 2,
       "version_minor": 0
      },
      "text/plain": [
       "Validating: 0it [00:00, ?it/s]"
      ]
     },
     "metadata": {},
     "output_type": "display_data"
    },
    {
     "name": "stdout",
     "output_type": "stream",
     "text": [
      "epoch = 15, custom_mae = 0.33561673018213983\n"
     ]
    },
    {
     "data": {
      "application/vnd.jupyter.widget-view+json": {
       "model_id": "",
       "version_major": 2,
       "version_minor": 0
      },
      "text/plain": [
       "Validating: 0it [00:00, ?it/s]"
      ]
     },
     "metadata": {},
     "output_type": "display_data"
    },
    {
     "name": "stdout",
     "output_type": "stream",
     "text": [
      "epoch = 16, custom_mae = 0.3365372219629253\n"
     ]
    },
    {
     "data": {
      "application/vnd.jupyter.widget-view+json": {
       "model_id": "",
       "version_major": 2,
       "version_minor": 0
      },
      "text/plain": [
       "Validating: 0it [00:00, ?it/s]"
      ]
     },
     "metadata": {},
     "output_type": "display_data"
    },
    {
     "name": "stdout",
     "output_type": "stream",
     "text": [
      "epoch = 17, custom_mae = 0.3154969329703977\n"
     ]
    },
    {
     "data": {
      "application/vnd.jupyter.widget-view+json": {
       "model_id": "",
       "version_major": 2,
       "version_minor": 0
      },
      "text/plain": [
       "Validating: 0it [00:00, ?it/s]"
      ]
     },
     "metadata": {},
     "output_type": "display_data"
    },
    {
     "name": "stdout",
     "output_type": "stream",
     "text": [
      "epoch = 18, custom_mae = 0.3091576837820902\n"
     ]
    },
    {
     "data": {
      "application/vnd.jupyter.widget-view+json": {
       "model_id": "",
       "version_major": 2,
       "version_minor": 0
      },
      "text/plain": [
       "Validating: 0it [00:00, ?it/s]"
      ]
     },
     "metadata": {},
     "output_type": "display_data"
    },
    {
     "name": "stdout",
     "output_type": "stream",
     "text": [
      "epoch = 19, custom_mae = 0.2899677126481858\n"
     ]
    },
    {
     "data": {
      "application/vnd.jupyter.widget-view+json": {
       "model_id": "",
       "version_major": 2,
       "version_minor": 0
      },
      "text/plain": [
       "Validating: 0it [00:00, ?it/s]"
      ]
     },
     "metadata": {},
     "output_type": "display_data"
    },
    {
     "name": "stdout",
     "output_type": "stream",
     "text": [
      "epoch = 20, custom_mae = 0.3118597206649862\n"
     ]
    },
    {
     "data": {
      "application/vnd.jupyter.widget-view+json": {
       "model_id": "",
       "version_major": 2,
       "version_minor": 0
      },
      "text/plain": [
       "Validating: 0it [00:00, ?it/s]"
      ]
     },
     "metadata": {},
     "output_type": "display_data"
    },
    {
     "name": "stdout",
     "output_type": "stream",
     "text": [
      "epoch = 21, custom_mae = 0.3258731347433196\n"
     ]
    },
    {
     "data": {
      "application/vnd.jupyter.widget-view+json": {
       "model_id": "",
       "version_major": 2,
       "version_minor": 0
      },
      "text/plain": [
       "Validating: 0it [00:00, ?it/s]"
      ]
     },
     "metadata": {},
     "output_type": "display_data"
    },
    {
     "name": "stdout",
     "output_type": "stream",
     "text": [
      "epoch = 22, custom_mae = 0.2897790678606251\n"
     ]
    },
    {
     "data": {
      "application/vnd.jupyter.widget-view+json": {
       "model_id": "",
       "version_major": 2,
       "version_minor": 0
      },
      "text/plain": [
       "Validating: 0it [00:00, ?it/s]"
      ]
     },
     "metadata": {},
     "output_type": "display_data"
    },
    {
     "name": "stdout",
     "output_type": "stream",
     "text": [
      "epoch = 23, custom_mae = 0.36410227126864275\n"
     ]
    },
    {
     "data": {
      "application/vnd.jupyter.widget-view+json": {
       "model_id": "",
       "version_major": 2,
       "version_minor": 0
      },
      "text/plain": [
       "Validating: 0it [00:00, ?it/s]"
      ]
     },
     "metadata": {},
     "output_type": "display_data"
    },
    {
     "name": "stdout",
     "output_type": "stream",
     "text": [
      "epoch = 24, custom_mae = 0.26421497541051997\n"
     ]
    },
    {
     "data": {
      "application/vnd.jupyter.widget-view+json": {
       "model_id": "",
       "version_major": 2,
       "version_minor": 0
      },
      "text/plain": [
       "Validating: 0it [00:00, ?it/s]"
      ]
     },
     "metadata": {},
     "output_type": "display_data"
    },
    {
     "name": "stdout",
     "output_type": "stream",
     "text": [
      "epoch = 25, custom_mae = 0.29743750097396765\n"
     ]
    },
    {
     "data": {
      "application/vnd.jupyter.widget-view+json": {
       "model_id": "",
       "version_major": 2,
       "version_minor": 0
      },
      "text/plain": [
       "Validating: 0it [00:00, ?it/s]"
      ]
     },
     "metadata": {},
     "output_type": "display_data"
    },
    {
     "name": "stdout",
     "output_type": "stream",
     "text": [
      "epoch = 26, custom_mae = 0.7806814078913751\n"
     ]
    },
    {
     "data": {
      "application/vnd.jupyter.widget-view+json": {
       "model_id": "",
       "version_major": 2,
       "version_minor": 0
      },
      "text/plain": [
       "Validating: 0it [00:00, ?it/s]"
      ]
     },
     "metadata": {},
     "output_type": "display_data"
    },
    {
     "name": "stdout",
     "output_type": "stream",
     "text": [
      "epoch = 27, custom_mae = 0.27709350664044413\n"
     ]
    },
    {
     "data": {
      "application/vnd.jupyter.widget-view+json": {
       "model_id": "",
       "version_major": 2,
       "version_minor": 0
      },
      "text/plain": [
       "Validating: 0it [00:00, ?it/s]"
      ]
     },
     "metadata": {},
     "output_type": "display_data"
    },
    {
     "name": "stdout",
     "output_type": "stream",
     "text": [
      "epoch = 28, custom_mae = 0.2726399262556482\n"
     ]
    },
    {
     "data": {
      "application/vnd.jupyter.widget-view+json": {
       "model_id": "",
       "version_major": 2,
       "version_minor": 0
      },
      "text/plain": [
       "Validating: 0it [00:00, ?it/s]"
      ]
     },
     "metadata": {},
     "output_type": "display_data"
    },
    {
     "name": "stdout",
     "output_type": "stream",
     "text": [
      "epoch = 29, custom_mae = 0.3347983564815633\n"
     ]
    },
    {
     "data": {
      "application/vnd.jupyter.widget-view+json": {
       "model_id": "",
       "version_major": 2,
       "version_minor": 0
      },
      "text/plain": [
       "Validating: 0it [00:00, ?it/s]"
      ]
     },
     "metadata": {},
     "output_type": "display_data"
    },
    {
     "name": "stdout",
     "output_type": "stream",
     "text": [
      "epoch = 30, custom_mae = 0.26310204931807246\n"
     ]
    },
    {
     "data": {
      "application/vnd.jupyter.widget-view+json": {
       "model_id": "",
       "version_major": 2,
       "version_minor": 0
      },
      "text/plain": [
       "Validating: 0it [00:00, ?it/s]"
      ]
     },
     "metadata": {},
     "output_type": "display_data"
    },
    {
     "name": "stdout",
     "output_type": "stream",
     "text": [
      "epoch = 31, custom_mae = 0.2827732227795455\n"
     ]
    },
    {
     "data": {
      "application/vnd.jupyter.widget-view+json": {
       "model_id": "",
       "version_major": 2,
       "version_minor": 0
      },
      "text/plain": [
       "Validating: 0it [00:00, ?it/s]"
      ]
     },
     "metadata": {},
     "output_type": "display_data"
    },
    {
     "name": "stdout",
     "output_type": "stream",
     "text": [
      "epoch = 32, custom_mae = 0.22923458951262496\n"
     ]
    },
    {
     "data": {
      "application/vnd.jupyter.widget-view+json": {
       "model_id": "",
       "version_major": 2,
       "version_minor": 0
      },
      "text/plain": [
       "Validating: 0it [00:00, ?it/s]"
      ]
     },
     "metadata": {},
     "output_type": "display_data"
    },
    {
     "name": "stdout",
     "output_type": "stream",
     "text": [
      "epoch = 33, custom_mae = 0.2586137482648632\n"
     ]
    },
    {
     "data": {
      "application/vnd.jupyter.widget-view+json": {
       "model_id": "",
       "version_major": 2,
       "version_minor": 0
      },
      "text/plain": [
       "Validating: 0it [00:00, ?it/s]"
      ]
     },
     "metadata": {},
     "output_type": "display_data"
    },
    {
     "name": "stdout",
     "output_type": "stream",
     "text": [
      "epoch = 34, custom_mae = 0.24855013661373052\n"
     ]
    },
    {
     "data": {
      "application/vnd.jupyter.widget-view+json": {
       "model_id": "",
       "version_major": 2,
       "version_minor": 0
      },
      "text/plain": [
       "Validating: 0it [00:00, ?it/s]"
      ]
     },
     "metadata": {},
     "output_type": "display_data"
    },
    {
     "name": "stdout",
     "output_type": "stream",
     "text": [
      "epoch = 35, custom_mae = 0.2875783949707314\n"
     ]
    },
    {
     "data": {
      "application/vnd.jupyter.widget-view+json": {
       "model_id": "",
       "version_major": 2,
       "version_minor": 0
      },
      "text/plain": [
       "Validating: 0it [00:00, ?it/s]"
      ]
     },
     "metadata": {},
     "output_type": "display_data"
    },
    {
     "name": "stdout",
     "output_type": "stream",
     "text": [
      "epoch = 36, custom_mae = 0.22915330923963645\n"
     ]
    },
    {
     "data": {
      "application/vnd.jupyter.widget-view+json": {
       "model_id": "",
       "version_major": 2,
       "version_minor": 0
      },
      "text/plain": [
       "Validating: 0it [00:00, ?it/s]"
      ]
     },
     "metadata": {},
     "output_type": "display_data"
    },
    {
     "name": "stdout",
     "output_type": "stream",
     "text": [
      "epoch = 37, custom_mae = 0.23422381729568448\n"
     ]
    },
    {
     "data": {
      "application/vnd.jupyter.widget-view+json": {
       "model_id": "",
       "version_major": 2,
       "version_minor": 0
      },
      "text/plain": [
       "Validating: 0it [00:00, ?it/s]"
      ]
     },
     "metadata": {},
     "output_type": "display_data"
    },
    {
     "name": "stdout",
     "output_type": "stream",
     "text": [
      "epoch = 38, custom_mae = 0.22565348810378935\n"
     ]
    },
    {
     "data": {
      "application/vnd.jupyter.widget-view+json": {
       "model_id": "",
       "version_major": 2,
       "version_minor": 0
      },
      "text/plain": [
       "Validating: 0it [00:00, ?it/s]"
      ]
     },
     "metadata": {},
     "output_type": "display_data"
    },
    {
     "name": "stdout",
     "output_type": "stream",
     "text": [
      "epoch = 39, custom_mae = 0.24308472788230584\n"
     ]
    },
    {
     "data": {
      "application/vnd.jupyter.widget-view+json": {
       "model_id": "",
       "version_major": 2,
       "version_minor": 0
      },
      "text/plain": [
       "Validating: 0it [00:00, ?it/s]"
      ]
     },
     "metadata": {},
     "output_type": "display_data"
    },
    {
     "name": "stdout",
     "output_type": "stream",
     "text": [
      "epoch = 40, custom_mae = 0.2289271620234865\n"
     ]
    },
    {
     "data": {
      "application/vnd.jupyter.widget-view+json": {
       "model_id": "",
       "version_major": 2,
       "version_minor": 0
      },
      "text/plain": [
       "Validating: 0it [00:00, ?it/s]"
      ]
     },
     "metadata": {},
     "output_type": "display_data"
    },
    {
     "name": "stdout",
     "output_type": "stream",
     "text": [
      "epoch = 41, custom_mae = 0.20994995327176144\n"
     ]
    },
    {
     "data": {
      "application/vnd.jupyter.widget-view+json": {
       "model_id": "",
       "version_major": 2,
       "version_minor": 0
      },
      "text/plain": [
       "Validating: 0it [00:00, ?it/s]"
      ]
     },
     "metadata": {},
     "output_type": "display_data"
    },
    {
     "name": "stdout",
     "output_type": "stream",
     "text": [
      "epoch = 42, custom_mae = 0.28525423324330457\n"
     ]
    },
    {
     "data": {
      "application/vnd.jupyter.widget-view+json": {
       "model_id": "",
       "version_major": 2,
       "version_minor": 0
      },
      "text/plain": [
       "Validating: 0it [00:00, ?it/s]"
      ]
     },
     "metadata": {},
     "output_type": "display_data"
    },
    {
     "name": "stdout",
     "output_type": "stream",
     "text": [
      "epoch = 43, custom_mae = 0.24140393440762598\n"
     ]
    },
    {
     "data": {
      "application/vnd.jupyter.widget-view+json": {
       "model_id": "",
       "version_major": 2,
       "version_minor": 0
      },
      "text/plain": [
       "Validating: 0it [00:00, ?it/s]"
      ]
     },
     "metadata": {},
     "output_type": "display_data"
    },
    {
     "name": "stdout",
     "output_type": "stream",
     "text": [
      "epoch = 44, custom_mae = 0.2224861064717094\n"
     ]
    },
    {
     "data": {
      "application/vnd.jupyter.widget-view+json": {
       "model_id": "",
       "version_major": 2,
       "version_minor": 0
      },
      "text/plain": [
       "Validating: 0it [00:00, ?it/s]"
      ]
     },
     "metadata": {},
     "output_type": "display_data"
    },
    {
     "name": "stdout",
     "output_type": "stream",
     "text": [
      "epoch = 45, custom_mae = 0.19833365518686502\n"
     ]
    },
    {
     "data": {
      "application/vnd.jupyter.widget-view+json": {
       "model_id": "",
       "version_major": 2,
       "version_minor": 0
      },
      "text/plain": [
       "Validating: 0it [00:00, ?it/s]"
      ]
     },
     "metadata": {},
     "output_type": "display_data"
    },
    {
     "name": "stdout",
     "output_type": "stream",
     "text": [
      "epoch = 46, custom_mae = 0.20204769543462275\n"
     ]
    },
    {
     "data": {
      "application/vnd.jupyter.widget-view+json": {
       "model_id": "",
       "version_major": 2,
       "version_minor": 0
      },
      "text/plain": [
       "Validating: 0it [00:00, ?it/s]"
      ]
     },
     "metadata": {},
     "output_type": "display_data"
    },
    {
     "name": "stdout",
     "output_type": "stream",
     "text": [
      "epoch = 47, custom_mae = 0.19432595322829743\n"
     ]
    },
    {
     "data": {
      "application/vnd.jupyter.widget-view+json": {
       "model_id": "",
       "version_major": 2,
       "version_minor": 0
      },
      "text/plain": [
       "Validating: 0it [00:00, ?it/s]"
      ]
     },
     "metadata": {},
     "output_type": "display_data"
    },
    {
     "name": "stdout",
     "output_type": "stream",
     "text": [
      "epoch = 48, custom_mae = 0.20854044915479017\n"
     ]
    },
    {
     "data": {
      "application/vnd.jupyter.widget-view+json": {
       "model_id": "",
       "version_major": 2,
       "version_minor": 0
      },
      "text/plain": [
       "Validating: 0it [00:00, ?it/s]"
      ]
     },
     "metadata": {},
     "output_type": "display_data"
    },
    {
     "name": "stdout",
     "output_type": "stream",
     "text": [
      "epoch = 49, custom_mae = 0.1956748712464057\n"
     ]
    },
    {
     "data": {
      "application/vnd.jupyter.widget-view+json": {
       "model_id": "",
       "version_major": 2,
       "version_minor": 0
      },
      "text/plain": [
       "Validating: 0it [00:00, ?it/s]"
      ]
     },
     "metadata": {},
     "output_type": "display_data"
    },
    {
     "name": "stdout",
     "output_type": "stream",
     "text": [
      "epoch = 50, custom_mae = 0.1928221860702602\n"
     ]
    },
    {
     "data": {
      "application/vnd.jupyter.widget-view+json": {
       "model_id": "",
       "version_major": 2,
       "version_minor": 0
      },
      "text/plain": [
       "Validating: 0it [00:00, ?it/s]"
      ]
     },
     "metadata": {},
     "output_type": "display_data"
    },
    {
     "name": "stdout",
     "output_type": "stream",
     "text": [
      "epoch = 51, custom_mae = 0.18582498623636587\n"
     ]
    },
    {
     "data": {
      "application/vnd.jupyter.widget-view+json": {
       "model_id": "",
       "version_major": 2,
       "version_minor": 0
      },
      "text/plain": [
       "Validating: 0it [00:00, ?it/s]"
      ]
     },
     "metadata": {},
     "output_type": "display_data"
    },
    {
     "name": "stdout",
     "output_type": "stream",
     "text": [
      "epoch = 52, custom_mae = 0.18373918184764787\n"
     ]
    },
    {
     "data": {
      "application/vnd.jupyter.widget-view+json": {
       "model_id": "",
       "version_major": 2,
       "version_minor": 0
      },
      "text/plain": [
       "Validating: 0it [00:00, ?it/s]"
      ]
     },
     "metadata": {},
     "output_type": "display_data"
    },
    {
     "name": "stdout",
     "output_type": "stream",
     "text": [
      "epoch = 53, custom_mae = 0.17925312564244225\n"
     ]
    },
    {
     "data": {
      "application/vnd.jupyter.widget-view+json": {
       "model_id": "",
       "version_major": 2,
       "version_minor": 0
      },
      "text/plain": [
       "Validating: 0it [00:00, ?it/s]"
      ]
     },
     "metadata": {},
     "output_type": "display_data"
    },
    {
     "name": "stdout",
     "output_type": "stream",
     "text": [
      "epoch = 54, custom_mae = 0.18102098659052657\n"
     ]
    },
    {
     "data": {
      "application/vnd.jupyter.widget-view+json": {
       "model_id": "",
       "version_major": 2,
       "version_minor": 0
      },
      "text/plain": [
       "Validating: 0it [00:00, ?it/s]"
      ]
     },
     "metadata": {},
     "output_type": "display_data"
    },
    {
     "name": "stdout",
     "output_type": "stream",
     "text": [
      "epoch = 55, custom_mae = 0.17339029768407282\n"
     ]
    },
    {
     "data": {
      "application/vnd.jupyter.widget-view+json": {
       "model_id": "",
       "version_major": 2,
       "version_minor": 0
      },
      "text/plain": [
       "Validating: 0it [00:00, ?it/s]"
      ]
     },
     "metadata": {},
     "output_type": "display_data"
    },
    {
     "name": "stdout",
     "output_type": "stream",
     "text": [
      "epoch = 56, custom_mae = 0.17895164355053\n"
     ]
    },
    {
     "data": {
      "application/vnd.jupyter.widget-view+json": {
       "model_id": "",
       "version_major": 2,
       "version_minor": 0
      },
      "text/plain": [
       "Validating: 0it [00:00, ?it/s]"
      ]
     },
     "metadata": {},
     "output_type": "display_data"
    },
    {
     "name": "stdout",
     "output_type": "stream",
     "text": [
      "epoch = 57, custom_mae = 0.16669702075827467\n"
     ]
    },
    {
     "data": {
      "application/vnd.jupyter.widget-view+json": {
       "model_id": "",
       "version_major": 2,
       "version_minor": 0
      },
      "text/plain": [
       "Validating: 0it [00:00, ?it/s]"
      ]
     },
     "metadata": {},
     "output_type": "display_data"
    },
    {
     "name": "stdout",
     "output_type": "stream",
     "text": [
      "epoch = 58, custom_mae = 0.1676517639562322\n"
     ]
    },
    {
     "data": {
      "application/vnd.jupyter.widget-view+json": {
       "model_id": "",
       "version_major": 2,
       "version_minor": 0
      },
      "text/plain": [
       "Validating: 0it [00:00, ?it/s]"
      ]
     },
     "metadata": {},
     "output_type": "display_data"
    },
    {
     "name": "stdout",
     "output_type": "stream",
     "text": [
      "epoch = 59, custom_mae = 0.16326222843054503\n"
     ]
    },
    {
     "data": {
      "application/vnd.jupyter.widget-view+json": {
       "model_id": "",
       "version_major": 2,
       "version_minor": 0
      },
      "text/plain": [
       "Validating: 0it [00:00, ?it/s]"
      ]
     },
     "metadata": {},
     "output_type": "display_data"
    },
    {
     "name": "stdout",
     "output_type": "stream",
     "text": [
      "epoch = 60, custom_mae = 0.1623338117810585\n"
     ]
    },
    {
     "data": {
      "application/vnd.jupyter.widget-view+json": {
       "model_id": "",
       "version_major": 2,
       "version_minor": 0
      },
      "text/plain": [
       "Validating: 0it [00:00, ?it/s]"
      ]
     },
     "metadata": {},
     "output_type": "display_data"
    },
    {
     "name": "stdout",
     "output_type": "stream",
     "text": [
      "epoch = 61, custom_mae = 0.16346827755192772\n"
     ]
    },
    {
     "data": {
      "application/vnd.jupyter.widget-view+json": {
       "model_id": "",
       "version_major": 2,
       "version_minor": 0
      },
      "text/plain": [
       "Validating: 0it [00:00, ?it/s]"
      ]
     },
     "metadata": {},
     "output_type": "display_data"
    },
    {
     "name": "stdout",
     "output_type": "stream",
     "text": [
      "epoch = 62, custom_mae = 0.15788918678696126\n"
     ]
    },
    {
     "data": {
      "application/vnd.jupyter.widget-view+json": {
       "model_id": "",
       "version_major": 2,
       "version_minor": 0
      },
      "text/plain": [
       "Validating: 0it [00:00, ?it/s]"
      ]
     },
     "metadata": {},
     "output_type": "display_data"
    },
    {
     "name": "stdout",
     "output_type": "stream",
     "text": [
      "epoch = 63, custom_mae = 0.15841717486389284\n"
     ]
    },
    {
     "data": {
      "application/vnd.jupyter.widget-view+json": {
       "model_id": "",
       "version_major": 2,
       "version_minor": 0
      },
      "text/plain": [
       "Validating: 0it [00:00, ?it/s]"
      ]
     },
     "metadata": {},
     "output_type": "display_data"
    },
    {
     "name": "stdout",
     "output_type": "stream",
     "text": [
      "epoch = 64, custom_mae = 0.15908164778411532\n"
     ]
    },
    {
     "data": {
      "application/vnd.jupyter.widget-view+json": {
       "model_id": "",
       "version_major": 2,
       "version_minor": 0
      },
      "text/plain": [
       "Validating: 0it [00:00, ?it/s]"
      ]
     },
     "metadata": {},
     "output_type": "display_data"
    },
    {
     "name": "stdout",
     "output_type": "stream",
     "text": [
      "epoch = 65, custom_mae = 0.15531288428335496\n"
     ]
    },
    {
     "data": {
      "application/vnd.jupyter.widget-view+json": {
       "model_id": "",
       "version_major": 2,
       "version_minor": 0
      },
      "text/plain": [
       "Validating: 0it [00:00, ?it/s]"
      ]
     },
     "metadata": {},
     "output_type": "display_data"
    },
    {
     "name": "stdout",
     "output_type": "stream",
     "text": [
      "epoch = 66, custom_mae = 0.1517778210672665\n"
     ]
    },
    {
     "data": {
      "application/vnd.jupyter.widget-view+json": {
       "model_id": "",
       "version_major": 2,
       "version_minor": 0
      },
      "text/plain": [
       "Validating: 0it [00:00, ?it/s]"
      ]
     },
     "metadata": {},
     "output_type": "display_data"
    },
    {
     "name": "stdout",
     "output_type": "stream",
     "text": [
      "epoch = 67, custom_mae = 0.1502469189986059\n"
     ]
    },
    {
     "data": {
      "application/vnd.jupyter.widget-view+json": {
       "model_id": "",
       "version_major": 2,
       "version_minor": 0
      },
      "text/plain": [
       "Validating: 0it [00:00, ?it/s]"
      ]
     },
     "metadata": {},
     "output_type": "display_data"
    },
    {
     "name": "stdout",
     "output_type": "stream",
     "text": [
      "epoch = 68, custom_mae = 0.1515682297990232\n"
     ]
    },
    {
     "data": {
      "application/vnd.jupyter.widget-view+json": {
       "model_id": "",
       "version_major": 2,
       "version_minor": 0
      },
      "text/plain": [
       "Validating: 0it [00:00, ?it/s]"
      ]
     },
     "metadata": {},
     "output_type": "display_data"
    },
    {
     "name": "stdout",
     "output_type": "stream",
     "text": [
      "epoch = 69, custom_mae = 0.14969497562172132\n"
     ]
    },
    {
     "data": {
      "application/vnd.jupyter.widget-view+json": {
       "model_id": "",
       "version_major": 2,
       "version_minor": 0
      },
      "text/plain": [
       "Validating: 0it [00:00, ?it/s]"
      ]
     },
     "metadata": {},
     "output_type": "display_data"
    },
    {
     "name": "stdout",
     "output_type": "stream",
     "text": [
      "epoch = 70, custom_mae = 0.14868276747471612\n"
     ]
    },
    {
     "data": {
      "application/vnd.jupyter.widget-view+json": {
       "model_id": "",
       "version_major": 2,
       "version_minor": 0
      },
      "text/plain": [
       "Validating: 0it [00:00, ?it/s]"
      ]
     },
     "metadata": {},
     "output_type": "display_data"
    },
    {
     "name": "stdout",
     "output_type": "stream",
     "text": [
      "epoch = 71, custom_mae = 0.14797622113946926\n"
     ]
    },
    {
     "data": {
      "application/vnd.jupyter.widget-view+json": {
       "model_id": "",
       "version_major": 2,
       "version_minor": 0
      },
      "text/plain": [
       "Validating: 0it [00:00, ?it/s]"
      ]
     },
     "metadata": {},
     "output_type": "display_data"
    },
    {
     "name": "stdout",
     "output_type": "stream",
     "text": [
      "epoch = 72, custom_mae = 0.14825465971868665\n"
     ]
    },
    {
     "data": {
      "application/vnd.jupyter.widget-view+json": {
       "model_id": "",
       "version_major": 2,
       "version_minor": 0
      },
      "text/plain": [
       "Validating: 0it [00:00, ?it/s]"
      ]
     },
     "metadata": {},
     "output_type": "display_data"
    },
    {
     "name": "stdout",
     "output_type": "stream",
     "text": [
      "epoch = 73, custom_mae = 0.1470194731854297\n"
     ]
    },
    {
     "data": {
      "application/vnd.jupyter.widget-view+json": {
       "model_id": "",
       "version_major": 2,
       "version_minor": 0
      },
      "text/plain": [
       "Validating: 0it [00:00, ?it/s]"
      ]
     },
     "metadata": {},
     "output_type": "display_data"
    },
    {
     "name": "stdout",
     "output_type": "stream",
     "text": [
      "epoch = 74, custom_mae = 0.14700242617227455\n"
     ]
    },
    {
     "data": {
      "application/vnd.jupyter.widget-view+json": {
       "model_id": "",
       "version_major": 2,
       "version_minor": 0
      },
      "text/plain": [
       "Validating: 0it [00:00, ?it/s]"
      ]
     },
     "metadata": {},
     "output_type": "display_data"
    },
    {
     "name": "stdout",
     "output_type": "stream",
     "text": [
      "epoch = 75, custom_mae = 0.14681286430673937\n"
     ]
    },
    {
     "data": {
      "application/vnd.jupyter.widget-view+json": {
       "model_id": "",
       "version_major": 2,
       "version_minor": 0
      },
      "text/plain": [
       "Validating: 0it [00:00, ?it/s]"
      ]
     },
     "metadata": {},
     "output_type": "display_data"
    },
    {
     "name": "stdout",
     "output_type": "stream",
     "text": [
      "epoch = 76, custom_mae = 0.14676722195877936\n"
     ]
    },
    {
     "data": {
      "application/vnd.jupyter.widget-view+json": {
       "model_id": "",
       "version_major": 2,
       "version_minor": 0
      },
      "text/plain": [
       "Validating: 0it [00:00, ?it/s]"
      ]
     },
     "metadata": {},
     "output_type": "display_data"
    },
    {
     "name": "stdout",
     "output_type": "stream",
     "text": [
      "epoch = 77, custom_mae = 0.14659947678763466\n"
     ]
    },
    {
     "data": {
      "application/vnd.jupyter.widget-view+json": {
       "model_id": "",
       "version_major": 2,
       "version_minor": 0
      },
      "text/plain": [
       "Validating: 0it [00:00, ?it/s]"
      ]
     },
     "metadata": {},
     "output_type": "display_data"
    },
    {
     "name": "stdout",
     "output_type": "stream",
     "text": [
      "epoch = 78, custom_mae = 0.14657280642824022\n"
     ]
    },
    {
     "data": {
      "application/vnd.jupyter.widget-view+json": {
       "model_id": "",
       "version_major": 2,
       "version_minor": 0
      },
      "text/plain": [
       "Validating: 0it [00:00, ?it/s]"
      ]
     },
     "metadata": {},
     "output_type": "display_data"
    },
    {
     "name": "stdout",
     "output_type": "stream",
     "text": [
      "epoch = 79, custom_mae = 0.14657117169589748\n",
      "train done.\n",
      "fold = 0, valid mask score = 0.1465711679951144:\n"
     ]
    },
    {
     "data": {
      "text/html": [
       "<br/>Waiting for W&B process to finish, PID 8716... <strong style=\"color:green\">(success).</strong>"
      ],
      "text/plain": [
       "<IPython.core.display.HTML object>"
      ]
     },
     "metadata": {},
     "output_type": "display_data"
    },
    {
     "data": {
      "application/vnd.jupyter.widget-view+json": {
       "model_id": "",
       "version_major": 2,
       "version_minor": 0
      },
      "text/plain": [
       "VBox(children=(Label(value=' 0.00MB of 0.00MB uploaded (0.00MB deduped)\\r'), FloatProgress(value=1.0, max=1.0)…"
      ]
     },
     "metadata": {},
     "output_type": "display_data"
    },
    {
     "data": {
      "text/html": [
       "<style>\n",
       "    table.wandb td:nth-child(1) { padding: 0 10px; text-align: right }\n",
       "    .wandb-row { display: flex; flex-direction: row; flex-wrap: wrap; width: 100% }\n",
       "    .wandb-col { display: flex; flex-direction: column; flex-basis: 100%; flex: 1; padding: 10px; }\n",
       "    </style>\n",
       "<div class=\"wandb-row\"><div class=\"wandb-col\">\n",
       "<h3>Run history:</h3><br/><table class=\"wandb\"><tr><td>Loss/train</td><td>█▅▅▄▄▄▄▄▄▄▄▄▄▄▄▄▄▄▄▄▄▄▄▃▃▃▃▃▃▃▃▃▃▃▃▃▃▃▃▁</td></tr><tr><td>Loss/val</td><td>█▆▆▅▆▅▅▅▅▅▅▅▅▅▄▄▄▄▄▄▄▅▄▄▄▄▄▄▄▄▄▄▄▄▄▄▄▄▄▁</td></tr><tr><td>custom_mae/val</td><td>█▃▂▂▃▂▂▂▁▁▁▁▁▃▁▁▁▁▁▁▁▁▁▁▁▁▁▁▁▁▁▁▁▁▁▁▁▁▁▁</td></tr><tr><td>epoch</td><td>▁▁▁▂▂▂▂▂▂▃▃▃▃▃▃▄▄▄▄▄▅▅▅▅▅▅▆▆▆▆▆▆▇▇▇▇▇███</td></tr><tr><td>trainer/global_step</td><td>▁▁▁▂▂▂▂▂▂▃▃▃▃▃▃▄▄▄▄▄▅▅▅▅▅▅▆▆▆▆▆▆▇▇▇▇▇███</td></tr></table><br/></div><div class=\"wandb-col\">\n",
       "<h3>Run summary:</h3><br/><table class=\"wandb\"><tr><td>Loss/train</td><td>0.01837</td></tr><tr><td>Loss/val</td><td>0.05493</td></tr><tr><td>custom_mae/val</td><td>0.14657</td></tr><tr><td>epoch</td><td>79</td></tr><tr><td>trainer/global_step</td><td>37679</td></tr></table>\n",
       "</div></div>\n",
       "Synced 5 W&B file(s), 0 media file(s), 0 artifact file(s) and 0 other file(s)\n",
       "<br/>Synced <strong style=\"color:#cdcd00\">swept-bush-465</strong>: <a href=\"https://wandb.ai/sqrt4kaido/Ventilator-Pressure-Prediction/runs/1ocge7lt\" target=\"_blank\">https://wandb.ai/sqrt4kaido/Ventilator-Pressure-Prediction/runs/1ocge7lt</a><br/>\n",
       "Find logs at: <code>./wandb/run-20211023_161526-1ocge7lt/logs</code><br/>\n"
      ],
      "text/plain": [
       "<IPython.core.display.HTML object>"
      ]
     },
     "metadata": {},
     "output_type": "display_data"
    }
   ],
   "source": [
    "oof = np.zeros(len(train_df))\n",
    "test_preds_lst = []\n",
    "input_dim = len(train_value_col)\n",
    "train_df['pred'] = 0\n",
    "train_gby = train_df.groupby('breath_id')['R_C'].agg('first').reset_index()\n",
    "skf = StratifiedKFold(n_splits=CFG.n_folds, shuffle=True, random_state=CFG.seed)\n",
    "    \n",
    "for fold, (_, valid_idx) in enumerate(skf.split(train_gby, train_gby['R_C'])):        \n",
    "    valid_b_ids = train_gby.iloc[valid_idx]['breath_id'].values\n",
    "    valid_df_idx = train_df[train_df['breath_id'].isin(valid_b_ids)].index.to_list()\n",
    "    train_df.loc[valid_df_idx, 'fold'] = fold\n",
    "\n",
    "for i, fold in enumerate(range(CFG.n_folds)):\n",
    "    if i not in CFG.folds:\n",
    "        continue\n",
    "    print(f'Fold-{fold}')\n",
    "    \n",
    "    trn_df = train_df.query(f\"fold!={fold}\").reset_index(drop=True)\n",
    "    val_df = train_df.query(f\"fold=={fold}\").reset_index(drop=True)\n",
    "    \n",
    "    loaders = {\n",
    "        phase: DataLoader(\n",
    "            VentilatorDataset(\n",
    "                df_, train_value_col, train_category_col, target_dic\n",
    "            ),\n",
    "            **CFG.loader_params[phase])  # type: ignore\n",
    "        for phase, df_ in zip([\"train\", \"valid\", \"test\"], [trn_df, val_df, test_df])\n",
    "    }\n",
    "    \n",
    "\n",
    "    model = VentilatorModel(input_dim)\n",
    "    model_name = model.__class__.__name__\n",
    "    \n",
    "\n",
    "    num_train_steps = int(len(loaders['train']) * CFG.epochs)\n",
    "    num_warmup_steps = int(num_train_steps / 10)\n",
    "    learner = Learner(model, num_train_steps, num_warmup_steps, target_dic_inv, unique_targets)\n",
    "    \n",
    "    # loggers\n",
    "    RUN_NAME = f'exp{str(CFG.exp_num)}'\n",
    "    wandb.init(project='Ventilator-Pressure-Prediction', entity='sqrt4kaido', group=RUN_NAME, job_type=RUN_NAME + f'-fold-{i}')\n",
    "    wandb.run.name = RUN_NAME + f'-fold-{i}'\n",
    "    wandb_config = wandb.config\n",
    "    wandb_config.model_name = model_name\n",
    "    wandb.watch(model)\n",
    "    \n",
    "    # callbacks\n",
    "    callbacks = []\n",
    "    checkpoint_callback = ModelCheckpoint(\n",
    "        monitor=f'custom_mae/val',\n",
    "        mode='min',\n",
    "        dirpath=OUTPUT_DIR,\n",
    "        verbose=False,\n",
    "        save_weights_only=True,\n",
    "        filename=f'{model_name}-{CFG.exp_num}-{learner.current_epoch}-{i}')\n",
    "    callbacks.append(checkpoint_callback)\n",
    "    \n",
    "    loggers = []\n",
    "    loggers.append(WandbLogger())\n",
    "    \n",
    "    trainer = pl.Trainer(\n",
    "        logger=loggers,\n",
    "        callbacks=callbacks,\n",
    "        max_epochs=CFG.epochs,\n",
    "        default_root_dir=OUTPUT_DIR,\n",
    "        gpus=1,\n",
    "#         fast_dev_run=DEBUG,\n",
    "        deterministic=True,\n",
    "        benchmark=False,\n",
    "        )\n",
    "    \n",
    "    trainer.fit(learner, train_dataloader=loaders['train'], val_dataloaders=loaders['valid'])\n",
    "#     trainer.save_checkpoint(OUTPUT_DIR / \"last.ckpt\")\n",
    "    print('train done.')\n",
    "\n",
    "    ############\n",
    "    # validation (to make oof)\n",
    "    #############\n",
    "    checkpoint = torch.load(checkpoint_callback.best_model_path)\n",
    "    learner.load_state_dict(checkpoint['state_dict'])\n",
    "    model = model.to(device)\n",
    "    \n",
    "    valid_predict = valid_loop(model, loaders['valid'], target_dic_inv)\n",
    "    valid_score_mask = compute_metric(valid_predict, val_df['pressure'].values, val_df['u_out'].values)\n",
    "    print(f\"fold = {fold}, valid mask score = {valid_score_mask}:\")\n",
    "    train_df.loc[train_df['fold'] == fold, 'pred'] = valid_predict\n",
    "    train_df.loc[train_df['fold'] == fold, ['id', 'pred']].to_csv(OUTPUT_DIR / f\"oof_f{fold}_{CFG.exp_num}.csv\", index=None)\n",
    "    \n",
    "    #############\n",
    "    # inference\n",
    "    #############\n",
    "\n",
    "    test_preds = test_loop(model, loaders['test'], target_dic_inv)\n",
    "    test_preds_lst.append(test_preds)\n",
    "    \n",
    "    sub_df['pressure'] = test_preds\n",
    "    sub_df.to_csv(OUTPUT_DIR / f\"sub_f{fold}_{CFG.exp_num}.csv\", index=None)\n",
    "    \n",
    "wandb.finish()"
   ]
  },
  {
   "cell_type": "code",
   "execution_count": 36,
   "metadata": {},
   "outputs": [
    {
     "name": "stdout",
     "output_type": "stream",
     "text": [
      "CV: 0.14746999978255415\n"
     ]
    }
   ],
   "source": [
    "valid_score_mask = compute_metric(train_df['pred'].values, train_df['pressure'].values, train_df['u_out'].values)\n",
    "print(\"CV:\", valid_score_mask)"
   ]
  },
  {
   "cell_type": "code",
   "execution_count": null,
   "metadata": {},
   "outputs": [],
   "source": [
    "oof_df = train_df.loc[:, ['id', 'pred']]\n",
    "oof_df.to_csv(OUTPUT_DIR / f\"oof_total_{CFG.exp_num}.csv\", index=None)"
   ]
  },
  {
   "cell_type": "code",
   "execution_count": null,
   "metadata": {
    "tags": []
   },
   "outputs": [],
   "source": [
    "sub_df['pressure'] = np.stack(test_preds_lst).mean(0)\n",
    "sub_df.to_csv(OUTPUT_DIR / f\"submission_mean_{CFG.exp_num}.csv\", index=None)\n",
    "\n",
    "sub_df['pressure'] = np.median(np.stack(test_preds_lst), axis=0)\n",
    "sub_df.to_csv(OUTPUT_DIR / f\"submission_median_{CFG.exp_num}.csv\", index=None)\n",
    "\n",
    "# Post Processing: https://www.kaggle.com/snnclsr/a-dummy-approach-to-improve-your-score-postprocess\n",
    "unique_pressures = train_df[\"pressure\"].unique()\n",
    "sorted_pressures = np.sort(unique_pressures)\n",
    "total_pressures_len = len(sorted_pressures)\n",
    "\n",
    "def find_nearest(prediction):\n",
    "    insert_idx = np.searchsorted(sorted_pressures, prediction)\n",
    "    if insert_idx == total_pressures_len:\n",
    "        # If the predicted value is bigger than the highest pressure in the train dataset,\n",
    "        # return the max value.\n",
    "        return sorted_pressures[-1]\n",
    "    elif insert_idx == 0:\n",
    "        # Same control but for the lower bound.\n",
    "        return sorted_pressures[0]\n",
    "    lower_val = sorted_pressures[insert_idx - 1]\n",
    "    upper_val = sorted_pressures[insert_idx]\n",
    "    return lower_val if abs(lower_val - prediction) < abs(upper_val - prediction) else upper_val\n",
    "\n",
    "sub_df = pd.read_csv(OUTPUT_DIR / f\"submission_mean_{CFG.exp_num}.csv\")\n",
    "sub_df[\"pressure\"] = sub_df[\"pressure\"].apply(find_nearest)\n",
    "sub_df.to_csv(OUTPUT_DIR / f\"submission_mean_pp_{CFG.exp_num}.csv\", index=None)\n",
    "\n",
    "sub_df = pd.read_csv(OUTPUT_DIR / f\"submission_median_{CFG.exp_num}.csv\")\n",
    "sub_df[\"pressure\"] = sub_df[\"pressure\"].apply(find_nearest)\n",
    "sub_df.to_csv(OUTPUT_DIR / f\"submission_median_pp_{CFG.exp_num}.csv\", index=None)"
   ]
  },
  {
   "cell_type": "code",
   "execution_count": null,
   "metadata": {
    "tags": []
   },
   "outputs": [],
   "source": []
  }
 ],
 "metadata": {
  "kernelspec": {
   "display_name": "Python 3",
   "language": "python",
   "name": "python3"
  },
  "language_info": {
   "codemirror_mode": {
    "name": "ipython",
    "version": 3
   },
   "file_extension": ".py",
   "mimetype": "text/x-python",
   "name": "python",
   "nbconvert_exporter": "python",
   "pygments_lexer": "ipython3",
   "version": "3.8.11"
  }
 },
 "nbformat": 4,
 "nbformat_minor": 4
}
